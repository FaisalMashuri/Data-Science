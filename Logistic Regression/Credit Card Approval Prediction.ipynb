{
 "cells": [
  {
   "cell_type": "markdown",
   "id": "0e24ffcc",
   "metadata": {},
   "source": [
    "# Credit Card Approval Prediction\n",
    "\n",
    "## Import Package yang Dibutuhkan"
   ]
  },
  {
   "cell_type": "code",
   "execution_count": 220,
   "id": "9cf3041c",
   "metadata": {},
   "outputs": [],
   "source": [
    "import numpy as np\n",
    "import pandas as pd\n",
    "from scipy import stats\n",
    "from zipfile import ZipFile\n",
    "import seaborn as sns\n",
    "# !pip install imbalanced_learn\n",
    "from imblearn.over_sampling import SMOTE\n",
    "from collections import Counter\n",
    "import matplotlib.pyplot as plt\n",
    "from sklearn.linear_model import LogisticRegression\n",
    "from sklearn.model_selection import train_test_split\n",
    "from sklearn.preprocessing import MinMaxScaler, StandardScaler\n",
    "from sklearn.metrics import confusion_matrix, roc_curve, auc,classification_report, accuracy_score"
   ]
  },
  {
   "cell_type": "markdown",
   "id": "367061ca",
   "metadata": {},
   "source": [
    "## Load Dataset"
   ]
  },
  {
   "cell_type": "code",
   "execution_count": 6,
   "id": "148303fc",
   "metadata": {},
   "outputs": [
    {
     "data": {
      "text/plain": [
       "<zipfile.ZipFile filename='./Data/archive.zip' mode='r'>"
      ]
     },
     "execution_count": 6,
     "metadata": {},
     "output_type": "execute_result"
    }
   ],
   "source": [
    "zip_dir = \"./Data/archive.zip\"\n",
    "zip_ref = ZipFile(zip_dir, 'r')\n",
    "zip_ref\n",
    "zip_ref.extractall()\n",
    "zip_ref.close()"
   ]
  },
  {
   "cell_type": "code",
   "execution_count": 49,
   "id": "4817c654",
   "metadata": {},
   "outputs": [],
   "source": [
    "app_df = pd.read_csv('./Data/application_record.csv')\n",
    "credit_df = pd.read_csv('./Data/credit_record.csv')"
   ]
  },
  {
   "cell_type": "code",
   "execution_count": 50,
   "id": "cdcb88d2",
   "metadata": {},
   "outputs": [
    {
     "data": {
      "text/html": [
       "<div>\n",
       "<style scoped>\n",
       "    .dataframe tbody tr th:only-of-type {\n",
       "        vertical-align: middle;\n",
       "    }\n",
       "\n",
       "    .dataframe tbody tr th {\n",
       "        vertical-align: top;\n",
       "    }\n",
       "\n",
       "    .dataframe thead th {\n",
       "        text-align: right;\n",
       "    }\n",
       "</style>\n",
       "<table border=\"1\" class=\"dataframe\">\n",
       "  <thead>\n",
       "    <tr style=\"text-align: right;\">\n",
       "      <th></th>\n",
       "      <th>ID</th>\n",
       "      <th>CODE_GENDER</th>\n",
       "      <th>FLAG_OWN_CAR</th>\n",
       "      <th>FLAG_OWN_REALTY</th>\n",
       "      <th>CNT_CHILDREN</th>\n",
       "      <th>AMT_INCOME_TOTAL</th>\n",
       "      <th>NAME_INCOME_TYPE</th>\n",
       "      <th>NAME_EDUCATION_TYPE</th>\n",
       "      <th>NAME_FAMILY_STATUS</th>\n",
       "      <th>NAME_HOUSING_TYPE</th>\n",
       "      <th>DAYS_BIRTH</th>\n",
       "      <th>DAYS_EMPLOYED</th>\n",
       "      <th>FLAG_MOBIL</th>\n",
       "      <th>FLAG_WORK_PHONE</th>\n",
       "      <th>FLAG_PHONE</th>\n",
       "      <th>FLAG_EMAIL</th>\n",
       "      <th>OCCUPATION_TYPE</th>\n",
       "      <th>CNT_FAM_MEMBERS</th>\n",
       "    </tr>\n",
       "  </thead>\n",
       "  <tbody>\n",
       "    <tr>\n",
       "      <th>0</th>\n",
       "      <td>5008804</td>\n",
       "      <td>M</td>\n",
       "      <td>Y</td>\n",
       "      <td>Y</td>\n",
       "      <td>0</td>\n",
       "      <td>427500.0</td>\n",
       "      <td>Working</td>\n",
       "      <td>Higher education</td>\n",
       "      <td>Civil marriage</td>\n",
       "      <td>Rented apartment</td>\n",
       "      <td>-12005</td>\n",
       "      <td>-4542</td>\n",
       "      <td>1</td>\n",
       "      <td>1</td>\n",
       "      <td>0</td>\n",
       "      <td>0</td>\n",
       "      <td>NaN</td>\n",
       "      <td>2.0</td>\n",
       "    </tr>\n",
       "    <tr>\n",
       "      <th>1</th>\n",
       "      <td>5008805</td>\n",
       "      <td>M</td>\n",
       "      <td>Y</td>\n",
       "      <td>Y</td>\n",
       "      <td>0</td>\n",
       "      <td>427500.0</td>\n",
       "      <td>Working</td>\n",
       "      <td>Higher education</td>\n",
       "      <td>Civil marriage</td>\n",
       "      <td>Rented apartment</td>\n",
       "      <td>-12005</td>\n",
       "      <td>-4542</td>\n",
       "      <td>1</td>\n",
       "      <td>1</td>\n",
       "      <td>0</td>\n",
       "      <td>0</td>\n",
       "      <td>NaN</td>\n",
       "      <td>2.0</td>\n",
       "    </tr>\n",
       "    <tr>\n",
       "      <th>2</th>\n",
       "      <td>5008806</td>\n",
       "      <td>M</td>\n",
       "      <td>Y</td>\n",
       "      <td>Y</td>\n",
       "      <td>0</td>\n",
       "      <td>112500.0</td>\n",
       "      <td>Working</td>\n",
       "      <td>Secondary / secondary special</td>\n",
       "      <td>Married</td>\n",
       "      <td>House / apartment</td>\n",
       "      <td>-21474</td>\n",
       "      <td>-1134</td>\n",
       "      <td>1</td>\n",
       "      <td>0</td>\n",
       "      <td>0</td>\n",
       "      <td>0</td>\n",
       "      <td>Security staff</td>\n",
       "      <td>2.0</td>\n",
       "    </tr>\n",
       "    <tr>\n",
       "      <th>3</th>\n",
       "      <td>5008808</td>\n",
       "      <td>F</td>\n",
       "      <td>N</td>\n",
       "      <td>Y</td>\n",
       "      <td>0</td>\n",
       "      <td>270000.0</td>\n",
       "      <td>Commercial associate</td>\n",
       "      <td>Secondary / secondary special</td>\n",
       "      <td>Single / not married</td>\n",
       "      <td>House / apartment</td>\n",
       "      <td>-19110</td>\n",
       "      <td>-3051</td>\n",
       "      <td>1</td>\n",
       "      <td>0</td>\n",
       "      <td>1</td>\n",
       "      <td>1</td>\n",
       "      <td>Sales staff</td>\n",
       "      <td>1.0</td>\n",
       "    </tr>\n",
       "    <tr>\n",
       "      <th>4</th>\n",
       "      <td>5008809</td>\n",
       "      <td>F</td>\n",
       "      <td>N</td>\n",
       "      <td>Y</td>\n",
       "      <td>0</td>\n",
       "      <td>270000.0</td>\n",
       "      <td>Commercial associate</td>\n",
       "      <td>Secondary / secondary special</td>\n",
       "      <td>Single / not married</td>\n",
       "      <td>House / apartment</td>\n",
       "      <td>-19110</td>\n",
       "      <td>-3051</td>\n",
       "      <td>1</td>\n",
       "      <td>0</td>\n",
       "      <td>1</td>\n",
       "      <td>1</td>\n",
       "      <td>Sales staff</td>\n",
       "      <td>1.0</td>\n",
       "    </tr>\n",
       "  </tbody>\n",
       "</table>\n",
       "</div>"
      ],
      "text/plain": [
       "        ID CODE_GENDER FLAG_OWN_CAR FLAG_OWN_REALTY  CNT_CHILDREN  \\\n",
       "0  5008804           M            Y               Y             0   \n",
       "1  5008805           M            Y               Y             0   \n",
       "2  5008806           M            Y               Y             0   \n",
       "3  5008808           F            N               Y             0   \n",
       "4  5008809           F            N               Y             0   \n",
       "\n",
       "   AMT_INCOME_TOTAL      NAME_INCOME_TYPE            NAME_EDUCATION_TYPE  \\\n",
       "0          427500.0               Working               Higher education   \n",
       "1          427500.0               Working               Higher education   \n",
       "2          112500.0               Working  Secondary / secondary special   \n",
       "3          270000.0  Commercial associate  Secondary / secondary special   \n",
       "4          270000.0  Commercial associate  Secondary / secondary special   \n",
       "\n",
       "     NAME_FAMILY_STATUS  NAME_HOUSING_TYPE  DAYS_BIRTH  DAYS_EMPLOYED  \\\n",
       "0        Civil marriage   Rented apartment      -12005          -4542   \n",
       "1        Civil marriage   Rented apartment      -12005          -4542   \n",
       "2               Married  House / apartment      -21474          -1134   \n",
       "3  Single / not married  House / apartment      -19110          -3051   \n",
       "4  Single / not married  House / apartment      -19110          -3051   \n",
       "\n",
       "   FLAG_MOBIL  FLAG_WORK_PHONE  FLAG_PHONE  FLAG_EMAIL OCCUPATION_TYPE  \\\n",
       "0           1                1           0           0             NaN   \n",
       "1           1                1           0           0             NaN   \n",
       "2           1                0           0           0  Security staff   \n",
       "3           1                0           1           1     Sales staff   \n",
       "4           1                0           1           1     Sales staff   \n",
       "\n",
       "   CNT_FAM_MEMBERS  \n",
       "0              2.0  \n",
       "1              2.0  \n",
       "2              2.0  \n",
       "3              1.0  \n",
       "4              1.0  "
      ]
     },
     "execution_count": 50,
     "metadata": {},
     "output_type": "execute_result"
    }
   ],
   "source": [
    "app_df.head()"
   ]
  },
  {
   "cell_type": "markdown",
   "id": "43aef917",
   "metadata": {},
   "source": [
    "## EDA ( Exploratory Data Analysis )"
   ]
  },
  {
   "cell_type": "markdown",
   "id": "07a68a95",
   "metadata": {},
   "source": [
    "### Data Understanding"
   ]
  },
  {
   "cell_type": "code",
   "execution_count": 51,
   "id": "c8508e08",
   "metadata": {},
   "outputs": [
    {
     "name": "stdout",
     "output_type": "stream",
     "text": [
      "<class 'pandas.core.frame.DataFrame'>\n",
      "RangeIndex: 438557 entries, 0 to 438556\n",
      "Data columns (total 18 columns):\n",
      " #   Column               Non-Null Count   Dtype  \n",
      "---  ------               --------------   -----  \n",
      " 0   ID                   438557 non-null  int64  \n",
      " 1   CODE_GENDER          438557 non-null  object \n",
      " 2   FLAG_OWN_CAR         438557 non-null  object \n",
      " 3   FLAG_OWN_REALTY      438557 non-null  object \n",
      " 4   CNT_CHILDREN         438557 non-null  int64  \n",
      " 5   AMT_INCOME_TOTAL     438557 non-null  float64\n",
      " 6   NAME_INCOME_TYPE     438557 non-null  object \n",
      " 7   NAME_EDUCATION_TYPE  438557 non-null  object \n",
      " 8   NAME_FAMILY_STATUS   438557 non-null  object \n",
      " 9   NAME_HOUSING_TYPE    438557 non-null  object \n",
      " 10  DAYS_BIRTH           438557 non-null  int64  \n",
      " 11  DAYS_EMPLOYED        438557 non-null  int64  \n",
      " 12  FLAG_MOBIL           438557 non-null  int64  \n",
      " 13  FLAG_WORK_PHONE      438557 non-null  int64  \n",
      " 14  FLAG_PHONE           438557 non-null  int64  \n",
      " 15  FLAG_EMAIL           438557 non-null  int64  \n",
      " 16  OCCUPATION_TYPE      304354 non-null  object \n",
      " 17  CNT_FAM_MEMBERS      438557 non-null  float64\n",
      "dtypes: float64(2), int64(8), object(8)\n",
      "memory usage: 60.2+ MB\n"
     ]
    }
   ],
   "source": [
    "app_df.info()"
   ]
  },
  {
   "cell_type": "code",
   "execution_count": 52,
   "id": "3792e6ea",
   "metadata": {},
   "outputs": [
    {
     "data": {
      "text/html": [
       "<div>\n",
       "<style scoped>\n",
       "    .dataframe tbody tr th:only-of-type {\n",
       "        vertical-align: middle;\n",
       "    }\n",
       "\n",
       "    .dataframe tbody tr th {\n",
       "        vertical-align: top;\n",
       "    }\n",
       "\n",
       "    .dataframe thead th {\n",
       "        text-align: right;\n",
       "    }\n",
       "</style>\n",
       "<table border=\"1\" class=\"dataframe\">\n",
       "  <thead>\n",
       "    <tr style=\"text-align: right;\">\n",
       "      <th></th>\n",
       "      <th>ID</th>\n",
       "      <th>CNT_CHILDREN</th>\n",
       "      <th>AMT_INCOME_TOTAL</th>\n",
       "      <th>DAYS_BIRTH</th>\n",
       "      <th>DAYS_EMPLOYED</th>\n",
       "      <th>FLAG_MOBIL</th>\n",
       "      <th>FLAG_WORK_PHONE</th>\n",
       "      <th>FLAG_PHONE</th>\n",
       "      <th>FLAG_EMAIL</th>\n",
       "      <th>CNT_FAM_MEMBERS</th>\n",
       "    </tr>\n",
       "  </thead>\n",
       "  <tbody>\n",
       "    <tr>\n",
       "      <th>count</th>\n",
       "      <td>4.385570e+05</td>\n",
       "      <td>438557.000000</td>\n",
       "      <td>4.385570e+05</td>\n",
       "      <td>438557.000000</td>\n",
       "      <td>438557.000000</td>\n",
       "      <td>438557.0</td>\n",
       "      <td>438557.000000</td>\n",
       "      <td>438557.000000</td>\n",
       "      <td>438557.000000</td>\n",
       "      <td>438557.000000</td>\n",
       "    </tr>\n",
       "    <tr>\n",
       "      <th>mean</th>\n",
       "      <td>6.022176e+06</td>\n",
       "      <td>0.427390</td>\n",
       "      <td>1.875243e+05</td>\n",
       "      <td>-15997.904649</td>\n",
       "      <td>60563.675328</td>\n",
       "      <td>1.0</td>\n",
       "      <td>0.206133</td>\n",
       "      <td>0.287771</td>\n",
       "      <td>0.108207</td>\n",
       "      <td>2.194465</td>\n",
       "    </tr>\n",
       "    <tr>\n",
       "      <th>std</th>\n",
       "      <td>5.716370e+05</td>\n",
       "      <td>0.724882</td>\n",
       "      <td>1.100869e+05</td>\n",
       "      <td>4185.030007</td>\n",
       "      <td>138767.799647</td>\n",
       "      <td>0.0</td>\n",
       "      <td>0.404527</td>\n",
       "      <td>0.452724</td>\n",
       "      <td>0.310642</td>\n",
       "      <td>0.897207</td>\n",
       "    </tr>\n",
       "    <tr>\n",
       "      <th>min</th>\n",
       "      <td>5.008804e+06</td>\n",
       "      <td>0.000000</td>\n",
       "      <td>2.610000e+04</td>\n",
       "      <td>-25201.000000</td>\n",
       "      <td>-17531.000000</td>\n",
       "      <td>1.0</td>\n",
       "      <td>0.000000</td>\n",
       "      <td>0.000000</td>\n",
       "      <td>0.000000</td>\n",
       "      <td>1.000000</td>\n",
       "    </tr>\n",
       "    <tr>\n",
       "      <th>25%</th>\n",
       "      <td>5.609375e+06</td>\n",
       "      <td>0.000000</td>\n",
       "      <td>1.215000e+05</td>\n",
       "      <td>-19483.000000</td>\n",
       "      <td>-3103.000000</td>\n",
       "      <td>1.0</td>\n",
       "      <td>0.000000</td>\n",
       "      <td>0.000000</td>\n",
       "      <td>0.000000</td>\n",
       "      <td>2.000000</td>\n",
       "    </tr>\n",
       "    <tr>\n",
       "      <th>50%</th>\n",
       "      <td>6.047745e+06</td>\n",
       "      <td>0.000000</td>\n",
       "      <td>1.607805e+05</td>\n",
       "      <td>-15630.000000</td>\n",
       "      <td>-1467.000000</td>\n",
       "      <td>1.0</td>\n",
       "      <td>0.000000</td>\n",
       "      <td>0.000000</td>\n",
       "      <td>0.000000</td>\n",
       "      <td>2.000000</td>\n",
       "    </tr>\n",
       "    <tr>\n",
       "      <th>75%</th>\n",
       "      <td>6.456971e+06</td>\n",
       "      <td>1.000000</td>\n",
       "      <td>2.250000e+05</td>\n",
       "      <td>-12514.000000</td>\n",
       "      <td>-371.000000</td>\n",
       "      <td>1.0</td>\n",
       "      <td>0.000000</td>\n",
       "      <td>1.000000</td>\n",
       "      <td>0.000000</td>\n",
       "      <td>3.000000</td>\n",
       "    </tr>\n",
       "    <tr>\n",
       "      <th>max</th>\n",
       "      <td>7.999952e+06</td>\n",
       "      <td>19.000000</td>\n",
       "      <td>6.750000e+06</td>\n",
       "      <td>-7489.000000</td>\n",
       "      <td>365243.000000</td>\n",
       "      <td>1.0</td>\n",
       "      <td>1.000000</td>\n",
       "      <td>1.000000</td>\n",
       "      <td>1.000000</td>\n",
       "      <td>20.000000</td>\n",
       "    </tr>\n",
       "  </tbody>\n",
       "</table>\n",
       "</div>"
      ],
      "text/plain": [
       "                 ID   CNT_CHILDREN  AMT_INCOME_TOTAL     DAYS_BIRTH  \\\n",
       "count  4.385570e+05  438557.000000      4.385570e+05  438557.000000   \n",
       "mean   6.022176e+06       0.427390      1.875243e+05  -15997.904649   \n",
       "std    5.716370e+05       0.724882      1.100869e+05    4185.030007   \n",
       "min    5.008804e+06       0.000000      2.610000e+04  -25201.000000   \n",
       "25%    5.609375e+06       0.000000      1.215000e+05  -19483.000000   \n",
       "50%    6.047745e+06       0.000000      1.607805e+05  -15630.000000   \n",
       "75%    6.456971e+06       1.000000      2.250000e+05  -12514.000000   \n",
       "max    7.999952e+06      19.000000      6.750000e+06   -7489.000000   \n",
       "\n",
       "       DAYS_EMPLOYED  FLAG_MOBIL  FLAG_WORK_PHONE     FLAG_PHONE  \\\n",
       "count  438557.000000    438557.0    438557.000000  438557.000000   \n",
       "mean    60563.675328         1.0         0.206133       0.287771   \n",
       "std    138767.799647         0.0         0.404527       0.452724   \n",
       "min    -17531.000000         1.0         0.000000       0.000000   \n",
       "25%     -3103.000000         1.0         0.000000       0.000000   \n",
       "50%     -1467.000000         1.0         0.000000       0.000000   \n",
       "75%      -371.000000         1.0         0.000000       1.000000   \n",
       "max    365243.000000         1.0         1.000000       1.000000   \n",
       "\n",
       "          FLAG_EMAIL  CNT_FAM_MEMBERS  \n",
       "count  438557.000000    438557.000000  \n",
       "mean        0.108207         2.194465  \n",
       "std         0.310642         0.897207  \n",
       "min         0.000000         1.000000  \n",
       "25%         0.000000         2.000000  \n",
       "50%         0.000000         2.000000  \n",
       "75%         0.000000         3.000000  \n",
       "max         1.000000        20.000000  "
      ]
     },
     "execution_count": 52,
     "metadata": {},
     "output_type": "execute_result"
    }
   ],
   "source": [
    "app_df.describe()"
   ]
  },
  {
   "cell_type": "code",
   "execution_count": 53,
   "id": "ad59bea7",
   "metadata": {},
   "outputs": [
    {
     "data": {
      "text/plain": [
       "ID                          0\n",
       "CODE_GENDER                 0\n",
       "FLAG_OWN_CAR                0\n",
       "FLAG_OWN_REALTY             0\n",
       "CNT_CHILDREN                0\n",
       "AMT_INCOME_TOTAL            0\n",
       "NAME_INCOME_TYPE            0\n",
       "NAME_EDUCATION_TYPE         0\n",
       "NAME_FAMILY_STATUS          0\n",
       "NAME_HOUSING_TYPE           0\n",
       "DAYS_BIRTH                  0\n",
       "DAYS_EMPLOYED               0\n",
       "FLAG_MOBIL                  0\n",
       "FLAG_WORK_PHONE             0\n",
       "FLAG_PHONE                  0\n",
       "FLAG_EMAIL                  0\n",
       "OCCUPATION_TYPE        134203\n",
       "CNT_FAM_MEMBERS             0\n",
       "dtype: int64"
      ]
     },
     "execution_count": 53,
     "metadata": {},
     "output_type": "execute_result"
    }
   ],
   "source": [
    "app_df.isnull().sum()"
   ]
  },
  {
   "cell_type": "code",
   "execution_count": 54,
   "id": "968f0de3",
   "metadata": {},
   "outputs": [
    {
     "data": {
      "text/plain": [
       "['CODE_GENDER',\n",
       " 'FLAG_OWN_CAR',\n",
       " 'FLAG_OWN_REALTY',\n",
       " 'NAME_INCOME_TYPE',\n",
       " 'NAME_EDUCATION_TYPE',\n",
       " 'NAME_FAMILY_STATUS',\n",
       " 'NAME_HOUSING_TYPE',\n",
       " 'OCCUPATION_TYPE']"
      ]
     },
     "execution_count": 54,
     "metadata": {},
     "output_type": "execute_result"
    }
   ],
   "source": [
    "# Checking Non-Numerical Columns\n",
    "cat_columns = app_df.columns[(app_df.dtypes =='object').values].tolist()\n",
    "cat_columns"
   ]
  },
  {
   "cell_type": "code",
   "execution_count": 55,
   "id": "6307f3c6",
   "metadata": {},
   "outputs": [
    {
     "data": {
      "text/plain": [
       "['ID',\n",
       " 'CNT_CHILDREN',\n",
       " 'AMT_INCOME_TOTAL',\n",
       " 'DAYS_BIRTH',\n",
       " 'DAYS_EMPLOYED',\n",
       " 'FLAG_MOBIL',\n",
       " 'FLAG_WORK_PHONE',\n",
       " 'FLAG_PHONE',\n",
       " 'FLAG_EMAIL',\n",
       " 'CNT_FAM_MEMBERS']"
      ]
     },
     "execution_count": 55,
     "metadata": {},
     "output_type": "execute_result"
    }
   ],
   "source": [
    "# Checking Numerical Columns\n",
    "app_df.columns[(app_df.dtypes !='object').values].tolist()"
   ]
  },
  {
   "cell_type": "code",
   "execution_count": 56,
   "id": "1ac131a6",
   "metadata": {},
   "outputs": [
    {
     "name": "stdout",
     "output_type": "stream",
     "text": [
      "CODE_GENDER \n",
      "\n",
      "F    294440\n",
      "M    144117\n",
      "Name: CODE_GENDER, dtype: int64\n",
      "-----------------------------------------------\n",
      "FLAG_OWN_CAR \n",
      "\n",
      "N    275459\n",
      "Y    163098\n",
      "Name: FLAG_OWN_CAR, dtype: int64\n",
      "-----------------------------------------------\n",
      "FLAG_OWN_REALTY \n",
      "\n",
      "Y    304074\n",
      "N    134483\n",
      "Name: FLAG_OWN_REALTY, dtype: int64\n",
      "-----------------------------------------------\n",
      "NAME_INCOME_TYPE \n",
      "\n",
      "Working                 226104\n",
      "Commercial associate    100757\n",
      "Pensioner                75493\n",
      "State servant            36186\n",
      "Student                     17\n",
      "Name: NAME_INCOME_TYPE, dtype: int64\n",
      "-----------------------------------------------\n",
      "NAME_EDUCATION_TYPE \n",
      "\n",
      "Secondary / secondary special    301821\n",
      "Higher education                 117522\n",
      "Incomplete higher                 14851\n",
      "Lower secondary                    4051\n",
      "Academic degree                     312\n",
      "Name: NAME_EDUCATION_TYPE, dtype: int64\n",
      "-----------------------------------------------\n",
      "NAME_FAMILY_STATUS \n",
      "\n",
      "Married                 299828\n",
      "Single / not married     55271\n",
      "Civil marriage           36532\n",
      "Separated                27251\n",
      "Widow                    19675\n",
      "Name: NAME_FAMILY_STATUS, dtype: int64\n",
      "-----------------------------------------------\n",
      "NAME_HOUSING_TYPE \n",
      "\n",
      "House / apartment      393831\n",
      "With parents            19077\n",
      "Municipal apartment     14214\n",
      "Rented apartment         5974\n",
      "Office apartment         3922\n",
      "Co-op apartment          1539\n",
      "Name: NAME_HOUSING_TYPE, dtype: int64\n",
      "-----------------------------------------------\n",
      "OCCUPATION_TYPE \n",
      "\n",
      "Laborers                 78240\n",
      "Core staff               43007\n",
      "Sales staff              41098\n",
      "Managers                 35487\n",
      "Drivers                  26090\n",
      "High skill tech staff    17289\n",
      "Accountants              15985\n",
      "Medicine staff           13520\n",
      "Cooking staff             8076\n",
      "Security staff            7993\n",
      "Cleaning staff            5845\n",
      "Private service staff     3456\n",
      "Low-skill Laborers        2140\n",
      "Secretaries               2044\n",
      "Waiters/barmen staff      1665\n",
      "Realty agents             1041\n",
      "HR staff                   774\n",
      "IT staff                   604\n",
      "Name: OCCUPATION_TYPE, dtype: int64\n",
      "-----------------------------------------------\n"
     ]
    }
   ],
   "source": [
    "# Checking unique values from Categorical Columns\n",
    "\n",
    "for i in app_df.columns[(app_df.dtypes =='object').values].tolist():\n",
    "    print(i,'\\n')\n",
    "    print(app_df[i].value_counts())\n",
    "    print('-----------------------------------------------')"
   ]
  },
  {
   "cell_type": "code",
   "execution_count": 57,
   "id": "f40459cd",
   "metadata": {},
   "outputs": [
    {
     "data": {
      "text/plain": [
       "0     304071\n",
       "1      88527\n",
       "2      39884\n",
       "3       5430\n",
       "4        486\n",
       "5        133\n",
       "7          9\n",
       "9          5\n",
       "6          4\n",
       "12         4\n",
       "14         3\n",
       "19         1\n",
       "Name: CNT_CHILDREN, dtype: int64"
      ]
     },
     "execution_count": 57,
     "metadata": {},
     "output_type": "execute_result"
    }
   ],
   "source": [
    "# Checking unique values from Numerical Columns\n",
    "app_df['CNT_CHILDREN'].value_counts()"
   ]
  },
  {
   "cell_type": "code",
   "execution_count": 58,
   "id": "4a9f520d",
   "metadata": {},
   "outputs": [
    {
     "name": "stdout",
     "output_type": "stream",
     "text": [
      "Min DAYS_BIRTH : -25201 \n",
      "Max DAYS_BIRTH : -7489\n"
     ]
    }
   ],
   "source": [
    "# Checking Min , Max values from 'DAYS_BIRTH' column\n",
    "print('Min DAYS_BIRTH :', app_df['DAYS_BIRTH'].min(),'\\nMax DAYS_BIRTH :', app_df['DAYS_BIRTH'].max())"
   ]
  },
  {
   "cell_type": "code",
   "execution_count": 59,
   "id": "21b0e987",
   "metadata": {},
   "outputs": [],
   "source": [
    "# Converting 'DAYS_BIRTH' values from Day to Years\n",
    "app_df['DAYS_BIRTH'] = round(app_df['DAYS_BIRTH']/-365,0)\n",
    "app_df.rename(columns={'DAYS_BIRTH':'AGE_YEARS'}, inplace=True)"
   ]
  },
  {
   "cell_type": "code",
   "execution_count": 60,
   "id": "04c319e4",
   "metadata": {},
   "outputs": [
    {
     "data": {
      "text/plain": [
       "array([365243], dtype=int64)"
      ]
     },
     "execution_count": 60,
     "metadata": {},
     "output_type": "execute_result"
    }
   ],
   "source": [
    "# Checking unique values greater than 0\n",
    "app_df[app_df['DAYS_EMPLOYED']>0]['DAYS_EMPLOYED'].unique()"
   ]
  },
  {
   "cell_type": "code",
   "execution_count": 61,
   "id": "b5e031f1",
   "metadata": {},
   "outputs": [],
   "source": [
    "# As mentioned in document, if 'DAYS_EMPLOYED' is positive no, it means person currently unemployed, hence replacing it with 0\n",
    "app_df['DAYS_EMPLOYED'].replace(365243, 0, inplace=True)"
   ]
  },
  {
   "cell_type": "code",
   "execution_count": 62,
   "id": "f859d16a",
   "metadata": {},
   "outputs": [],
   "source": [
    "# Converting 'DAYS_EMPLOYED' values from Day to Years\n",
    "app_df['DAYS_EMPLOYED'] = abs(round(app_df['DAYS_EMPLOYED']/-365,0))\n",
    "app_df.rename(columns={'DAYS_EMPLOYED':'YEARS_EMPLOYED'}, inplace=True)  "
   ]
  },
  {
   "cell_type": "code",
   "execution_count": 63,
   "id": "048fce42",
   "metadata": {},
   "outputs": [
    {
     "data": {
      "text/plain": [
       "1    438557\n",
       "Name: FLAG_MOBIL, dtype: int64"
      ]
     },
     "execution_count": 63,
     "metadata": {},
     "output_type": "execute_result"
    }
   ],
   "source": [
    "app_df['FLAG_MOBIL'].value_counts()"
   ]
  },
  {
   "cell_type": "code",
   "execution_count": 64,
   "id": "1b63e1e3",
   "metadata": {},
   "outputs": [
    {
     "data": {
      "text/plain": [
       "0    348156\n",
       "1     90401\n",
       "Name: FLAG_WORK_PHONE, dtype: int64"
      ]
     },
     "execution_count": 64,
     "metadata": {},
     "output_type": "execute_result"
    }
   ],
   "source": [
    "app_df['FLAG_WORK_PHONE'].value_counts()"
   ]
  },
  {
   "cell_type": "code",
   "execution_count": 65,
   "id": "28be5993",
   "metadata": {},
   "outputs": [
    {
     "data": {
      "text/plain": [
       "0    312353\n",
       "1    126204\n",
       "Name: FLAG_PHONE, dtype: int64"
      ]
     },
     "execution_count": 65,
     "metadata": {},
     "output_type": "execute_result"
    }
   ],
   "source": [
    "app_df['FLAG_PHONE'].value_counts()"
   ]
  },
  {
   "cell_type": "code",
   "execution_count": 66,
   "id": "c2be93aa",
   "metadata": {},
   "outputs": [
    {
     "data": {
      "text/plain": [
       "0    391102\n",
       "1     47455\n",
       "Name: FLAG_EMAIL, dtype: int64"
      ]
     },
     "execution_count": 66,
     "metadata": {},
     "output_type": "execute_result"
    }
   ],
   "source": [
    "app_df['FLAG_EMAIL'].value_counts()"
   ]
  },
  {
   "cell_type": "code",
   "execution_count": 67,
   "id": "bbdcdb32",
   "metadata": {},
   "outputs": [
    {
     "data": {
      "text/plain": [
       "2.0     233891\n",
       "1.0      84492\n",
       "3.0      77128\n",
       "4.0      37356\n",
       "5.0       5081\n",
       "6.0        459\n",
       "7.0        124\n",
       "9.0          9\n",
       "11.0         5\n",
       "8.0          4\n",
       "14.0         4\n",
       "15.0         3\n",
       "20.0         1\n",
       "Name: CNT_FAM_MEMBERS, dtype: int64"
      ]
     },
     "execution_count": 67,
     "metadata": {},
     "output_type": "execute_result"
    }
   ],
   "source": [
    "app_df['CNT_FAM_MEMBERS'].value_counts()"
   ]
  },
  {
   "cell_type": "code",
   "execution_count": 68,
   "id": "7e63de3f",
   "metadata": {},
   "outputs": [
    {
     "data": {
      "text/html": [
       "<div>\n",
       "<style scoped>\n",
       "    .dataframe tbody tr th:only-of-type {\n",
       "        vertical-align: middle;\n",
       "    }\n",
       "\n",
       "    .dataframe tbody tr th {\n",
       "        vertical-align: top;\n",
       "    }\n",
       "\n",
       "    .dataframe thead th {\n",
       "        text-align: right;\n",
       "    }\n",
       "</style>\n",
       "<table border=\"1\" class=\"dataframe\">\n",
       "  <thead>\n",
       "    <tr style=\"text-align: right;\">\n",
       "      <th></th>\n",
       "      <th>ID</th>\n",
       "      <th>CODE_GENDER</th>\n",
       "      <th>FLAG_OWN_CAR</th>\n",
       "      <th>FLAG_OWN_REALTY</th>\n",
       "      <th>CNT_CHILDREN</th>\n",
       "      <th>AMT_INCOME_TOTAL</th>\n",
       "      <th>NAME_INCOME_TYPE</th>\n",
       "      <th>NAME_EDUCATION_TYPE</th>\n",
       "      <th>NAME_FAMILY_STATUS</th>\n",
       "      <th>NAME_HOUSING_TYPE</th>\n",
       "      <th>AGE_YEARS</th>\n",
       "      <th>YEARS_EMPLOYED</th>\n",
       "      <th>FLAG_MOBIL</th>\n",
       "      <th>FLAG_WORK_PHONE</th>\n",
       "      <th>FLAG_PHONE</th>\n",
       "      <th>FLAG_EMAIL</th>\n",
       "      <th>OCCUPATION_TYPE</th>\n",
       "      <th>CNT_FAM_MEMBERS</th>\n",
       "    </tr>\n",
       "  </thead>\n",
       "  <tbody>\n",
       "    <tr>\n",
       "      <th>0</th>\n",
       "      <td>5008804</td>\n",
       "      <td>M</td>\n",
       "      <td>Y</td>\n",
       "      <td>Y</td>\n",
       "      <td>0</td>\n",
       "      <td>427500.0</td>\n",
       "      <td>Working</td>\n",
       "      <td>Higher education</td>\n",
       "      <td>Civil marriage</td>\n",
       "      <td>Rented apartment</td>\n",
       "      <td>33.0</td>\n",
       "      <td>12.0</td>\n",
       "      <td>1</td>\n",
       "      <td>1</td>\n",
       "      <td>0</td>\n",
       "      <td>0</td>\n",
       "      <td>NaN</td>\n",
       "      <td>2.0</td>\n",
       "    </tr>\n",
       "    <tr>\n",
       "      <th>1</th>\n",
       "      <td>5008805</td>\n",
       "      <td>M</td>\n",
       "      <td>Y</td>\n",
       "      <td>Y</td>\n",
       "      <td>0</td>\n",
       "      <td>427500.0</td>\n",
       "      <td>Working</td>\n",
       "      <td>Higher education</td>\n",
       "      <td>Civil marriage</td>\n",
       "      <td>Rented apartment</td>\n",
       "      <td>33.0</td>\n",
       "      <td>12.0</td>\n",
       "      <td>1</td>\n",
       "      <td>1</td>\n",
       "      <td>0</td>\n",
       "      <td>0</td>\n",
       "      <td>NaN</td>\n",
       "      <td>2.0</td>\n",
       "    </tr>\n",
       "    <tr>\n",
       "      <th>2</th>\n",
       "      <td>5008806</td>\n",
       "      <td>M</td>\n",
       "      <td>Y</td>\n",
       "      <td>Y</td>\n",
       "      <td>0</td>\n",
       "      <td>112500.0</td>\n",
       "      <td>Working</td>\n",
       "      <td>Secondary / secondary special</td>\n",
       "      <td>Married</td>\n",
       "      <td>House / apartment</td>\n",
       "      <td>59.0</td>\n",
       "      <td>3.0</td>\n",
       "      <td>1</td>\n",
       "      <td>0</td>\n",
       "      <td>0</td>\n",
       "      <td>0</td>\n",
       "      <td>Security staff</td>\n",
       "      <td>2.0</td>\n",
       "    </tr>\n",
       "    <tr>\n",
       "      <th>3</th>\n",
       "      <td>5008808</td>\n",
       "      <td>F</td>\n",
       "      <td>N</td>\n",
       "      <td>Y</td>\n",
       "      <td>0</td>\n",
       "      <td>270000.0</td>\n",
       "      <td>Commercial associate</td>\n",
       "      <td>Secondary / secondary special</td>\n",
       "      <td>Single / not married</td>\n",
       "      <td>House / apartment</td>\n",
       "      <td>52.0</td>\n",
       "      <td>8.0</td>\n",
       "      <td>1</td>\n",
       "      <td>0</td>\n",
       "      <td>1</td>\n",
       "      <td>1</td>\n",
       "      <td>Sales staff</td>\n",
       "      <td>1.0</td>\n",
       "    </tr>\n",
       "    <tr>\n",
       "      <th>4</th>\n",
       "      <td>5008809</td>\n",
       "      <td>F</td>\n",
       "      <td>N</td>\n",
       "      <td>Y</td>\n",
       "      <td>0</td>\n",
       "      <td>270000.0</td>\n",
       "      <td>Commercial associate</td>\n",
       "      <td>Secondary / secondary special</td>\n",
       "      <td>Single / not married</td>\n",
       "      <td>House / apartment</td>\n",
       "      <td>52.0</td>\n",
       "      <td>8.0</td>\n",
       "      <td>1</td>\n",
       "      <td>0</td>\n",
       "      <td>1</td>\n",
       "      <td>1</td>\n",
       "      <td>Sales staff</td>\n",
       "      <td>1.0</td>\n",
       "    </tr>\n",
       "  </tbody>\n",
       "</table>\n",
       "</div>"
      ],
      "text/plain": [
       "        ID CODE_GENDER FLAG_OWN_CAR FLAG_OWN_REALTY  CNT_CHILDREN  \\\n",
       "0  5008804           M            Y               Y             0   \n",
       "1  5008805           M            Y               Y             0   \n",
       "2  5008806           M            Y               Y             0   \n",
       "3  5008808           F            N               Y             0   \n",
       "4  5008809           F            N               Y             0   \n",
       "\n",
       "   AMT_INCOME_TOTAL      NAME_INCOME_TYPE            NAME_EDUCATION_TYPE  \\\n",
       "0          427500.0               Working               Higher education   \n",
       "1          427500.0               Working               Higher education   \n",
       "2          112500.0               Working  Secondary / secondary special   \n",
       "3          270000.0  Commercial associate  Secondary / secondary special   \n",
       "4          270000.0  Commercial associate  Secondary / secondary special   \n",
       "\n",
       "     NAME_FAMILY_STATUS  NAME_HOUSING_TYPE  AGE_YEARS  YEARS_EMPLOYED  \\\n",
       "0        Civil marriage   Rented apartment       33.0            12.0   \n",
       "1        Civil marriage   Rented apartment       33.0            12.0   \n",
       "2               Married  House / apartment       59.0             3.0   \n",
       "3  Single / not married  House / apartment       52.0             8.0   \n",
       "4  Single / not married  House / apartment       52.0             8.0   \n",
       "\n",
       "   FLAG_MOBIL  FLAG_WORK_PHONE  FLAG_PHONE  FLAG_EMAIL OCCUPATION_TYPE  \\\n",
       "0           1                1           0           0             NaN   \n",
       "1           1                1           0           0             NaN   \n",
       "2           1                0           0           0  Security staff   \n",
       "3           1                0           1           1     Sales staff   \n",
       "4           1                0           1           1     Sales staff   \n",
       "\n",
       "   CNT_FAM_MEMBERS  \n",
       "0              2.0  \n",
       "1              2.0  \n",
       "2              2.0  \n",
       "3              1.0  \n",
       "4              1.0  "
      ]
     },
     "execution_count": 68,
     "metadata": {},
     "output_type": "execute_result"
    }
   ],
   "source": [
    "app_df.head()"
   ]
  },
  {
   "cell_type": "markdown",
   "id": "e6291231",
   "metadata": {},
   "source": [
    "### Data Cleaning\n",
    "\n",
    "#### Handling Missing Value"
   ]
  },
  {
   "cell_type": "code",
   "execution_count": 69,
   "id": "26eece1b",
   "metadata": {},
   "outputs": [],
   "source": [
    "app_df.drop('OCCUPATION_TYPE', axis=1, inplace=True)"
   ]
  },
  {
   "cell_type": "code",
   "execution_count": 70,
   "id": "af7f9818",
   "metadata": {},
   "outputs": [],
   "source": [
    "# As all the values in column are 1, hence dropping column\n",
    "app_df.drop('FLAG_MOBIL', axis=1, inplace=True)"
   ]
  },
  {
   "cell_type": "code",
   "execution_count": 71,
   "id": "934fd88a",
   "metadata": {},
   "outputs": [],
   "source": [
    "# This column only contains 0 & 1 values for Mobile no submitted, hence dropping column\n",
    "app_df.drop('FLAG_WORK_PHONE', axis=1, inplace=True)"
   ]
  },
  {
   "cell_type": "code",
   "execution_count": 72,
   "id": "0625d4f5",
   "metadata": {},
   "outputs": [],
   "source": [
    "# This column only contains 0 & 1 values for Phone no submitted, hence dropping column\n",
    "app_df.drop('FLAG_PHONE', axis=1, inplace=True)"
   ]
  },
  {
   "cell_type": "code",
   "execution_count": 73,
   "id": "da126722",
   "metadata": {},
   "outputs": [],
   "source": [
    "# This column only contains 0 & 1 values for Email submitted, hence dropping column\n",
    "app_df.drop('FLAG_EMAIL', axis=1, inplace=True)"
   ]
  },
  {
   "cell_type": "markdown",
   "id": "9aeb8988",
   "metadata": {},
   "source": [
    "#### Handling Outliers"
   ]
  },
  {
   "cell_type": "code",
   "execution_count": 74,
   "id": "c2a95afe",
   "metadata": {},
   "outputs": [
    {
     "data": {
      "text/plain": [
       "['ID',\n",
       " 'CNT_CHILDREN',\n",
       " 'AMT_INCOME_TOTAL',\n",
       " 'AGE_YEARS',\n",
       " 'YEARS_EMPLOYED',\n",
       " 'CNT_FAM_MEMBERS']"
      ]
     },
     "execution_count": 74,
     "metadata": {},
     "output_type": "execute_result"
    }
   ],
   "source": [
    "# Checking Numerical Columns\n",
    "app_df.columns[(app_df.dtypes !='object').values].tolist()"
   ]
  },
  {
   "cell_type": "code",
   "execution_count": 75,
   "id": "559ef8e6",
   "metadata": {},
   "outputs": [
    {
     "data": {
      "image/png": "[encoded data removed]",
      "text/plain": [
       "<Figure size 1368x648 with 1 Axes>"
      ]
     },
     "metadata": {
      "needs_background": "light"
     },
     "output_type": "display_data"
    }
   ],
   "source": [
    "num_cols = ['CNT_CHILDREN',\n",
    " 'AMT_INCOME_TOTAL',\n",
    " 'AGE_YEARS',\n",
    " 'YEARS_EMPLOYED',\n",
    " 'CNT_FAM_MEMBERS']\n",
    "\n",
    "plt.figure(figsize=(19,9))\n",
    "app_df[num_cols].boxplot()\n",
    "plt.title(\"Numerical variables in the data\", fontsize=20)\n",
    "plt.show()"
   ]
  },
  {
   "cell_type": "code",
   "execution_count": 76,
   "id": "97ee9714",
   "metadata": {},
   "outputs": [],
   "source": [
    "def detect_outlier(data_1):\n",
    "    outliers=[]\n",
    "    threshold=3\n",
    "    mean_1 = np.mean(data_1)\n",
    "    std_1 =np.std(data_1)\n",
    "    \n",
    "    \n",
    "    for y in data_1:\n",
    "        z_score= (y - mean_1)/std_1 \n",
    "        if np.abs(z_score) > threshold:\n",
    "            outliers.append(y)\n",
    "    return outliers"
   ]
  },
  {
   "cell_type": "code",
   "execution_count": 154,
   "id": "0addaa14",
   "metadata": {},
   "outputs": [
    {
     "name": "stdout",
     "output_type": "stream",
     "text": [
      "outliers\n",
      "AMT_INCOME_TOTAL : 5276\n",
      "CNT_CHILDREN: 6075\n",
      "YEARS_EMPLOYED : 9531\n",
      "CNT_FAM_MEMBERS : 5690\n"
     ]
    }
   ],
   "source": [
    "AMT_outliers = detect_outlier(app_df['AMT_INCOME_TOTAL'])\n",
    "CNTCh_outliers = detect_outlier(app_df['CNT_CHILDREN'])\n",
    "YE_outliers = detect_outlier(app_df['YEARS_EMPLOYED'])\n",
    "CFM_outliers = detect_outlier(app_df['CNT_FAM_MEMBERS'])\n",
    "print(\"outliers\")\n",
    "print(f\"AMT_INCOME_TOTAL : {len(AMT_outliers)}\")\n",
    "print(f\"CNT_CHILDREN: {len(CNTCh_outliers)}\")\n",
    "print(f\"YEARS_EMPLOYED : {len(YE_outliers)}\")\n",
    "print(f\"CNT_FAM_MEMBERS : {len(CFM_outliers)}\")"
   ]
  },
  {
   "cell_type": "code",
   "execution_count": 163,
   "id": "d27a868d",
   "metadata": {},
   "outputs": [],
   "source": [
    "def remove_outlier(data):\n",
    "    z = np.abs(stats.zscore(data))\n",
    "    threshold = 3\n",
    "    Q1 = np.percentile(data, 25,\n",
    "                   interpolation = 'midpoint')\n",
    "    Q3 = np.percentile(data, 75,\n",
    "                   interpolation = 'midpoint')\n",
    "    IQR = Q3 - Q1\n",
    "    upper = data >= (Q3+1.5*IQR)\n",
    "     # Below Lower bound\n",
    "    lower = data <= (Q1-1.5*IQR)\n",
    "    return data.index[upper]"
   ]
  },
  {
   "cell_type": "code",
   "execution_count": 164,
   "id": "b1254f2c",
   "metadata": {},
   "outputs": [
    {
     "data": {
      "text/html": [
       "<div>\n",
       "<style scoped>\n",
       "    .dataframe tbody tr th:only-of-type {\n",
       "        vertical-align: middle;\n",
       "    }\n",
       "\n",
       "    .dataframe tbody tr th {\n",
       "        vertical-align: top;\n",
       "    }\n",
       "\n",
       "    .dataframe thead th {\n",
       "        text-align: right;\n",
       "    }\n",
       "</style>\n",
       "<table border=\"1\" class=\"dataframe\">\n",
       "  <thead>\n",
       "    <tr style=\"text-align: right;\">\n",
       "      <th></th>\n",
       "      <th>ID</th>\n",
       "      <th>CODE_GENDER</th>\n",
       "      <th>FLAG_OWN_CAR</th>\n",
       "      <th>FLAG_OWN_REALTY</th>\n",
       "      <th>CNT_CHILDREN</th>\n",
       "      <th>AMT_INCOME_TOTAL</th>\n",
       "      <th>NAME_INCOME_TYPE</th>\n",
       "      <th>NAME_EDUCATION_TYPE</th>\n",
       "      <th>NAME_FAMILY_STATUS</th>\n",
       "      <th>NAME_HOUSING_TYPE</th>\n",
       "      <th>AGE_YEARS</th>\n",
       "      <th>YEARS_EMPLOYED</th>\n",
       "      <th>CNT_FAM_MEMBERS</th>\n",
       "    </tr>\n",
       "  </thead>\n",
       "  <tbody>\n",
       "    <tr>\n",
       "      <th>0</th>\n",
       "      <td>5008804</td>\n",
       "      <td>M</td>\n",
       "      <td>Y</td>\n",
       "      <td>Y</td>\n",
       "      <td>0</td>\n",
       "      <td>427500.0</td>\n",
       "      <td>Working</td>\n",
       "      <td>Higher education</td>\n",
       "      <td>Civil marriage</td>\n",
       "      <td>Rented apartment</td>\n",
       "      <td>33.0</td>\n",
       "      <td>12.0</td>\n",
       "      <td>2.0</td>\n",
       "    </tr>\n",
       "    <tr>\n",
       "      <th>1</th>\n",
       "      <td>5008805</td>\n",
       "      <td>M</td>\n",
       "      <td>Y</td>\n",
       "      <td>Y</td>\n",
       "      <td>0</td>\n",
       "      <td>427500.0</td>\n",
       "      <td>Working</td>\n",
       "      <td>Higher education</td>\n",
       "      <td>Civil marriage</td>\n",
       "      <td>Rented apartment</td>\n",
       "      <td>33.0</td>\n",
       "      <td>12.0</td>\n",
       "      <td>2.0</td>\n",
       "    </tr>\n",
       "    <tr>\n",
       "      <th>2</th>\n",
       "      <td>5008806</td>\n",
       "      <td>M</td>\n",
       "      <td>Y</td>\n",
       "      <td>Y</td>\n",
       "      <td>0</td>\n",
       "      <td>112500.0</td>\n",
       "      <td>Working</td>\n",
       "      <td>Secondary / secondary special</td>\n",
       "      <td>Married</td>\n",
       "      <td>House / apartment</td>\n",
       "      <td>59.0</td>\n",
       "      <td>3.0</td>\n",
       "      <td>2.0</td>\n",
       "    </tr>\n",
       "    <tr>\n",
       "      <th>3</th>\n",
       "      <td>5008808</td>\n",
       "      <td>F</td>\n",
       "      <td>N</td>\n",
       "      <td>Y</td>\n",
       "      <td>0</td>\n",
       "      <td>270000.0</td>\n",
       "      <td>Commercial associate</td>\n",
       "      <td>Secondary / secondary special</td>\n",
       "      <td>Single / not married</td>\n",
       "      <td>House / apartment</td>\n",
       "      <td>52.0</td>\n",
       "      <td>8.0</td>\n",
       "      <td>1.0</td>\n",
       "    </tr>\n",
       "    <tr>\n",
       "      <th>4</th>\n",
       "      <td>5008809</td>\n",
       "      <td>F</td>\n",
       "      <td>N</td>\n",
       "      <td>Y</td>\n",
       "      <td>0</td>\n",
       "      <td>270000.0</td>\n",
       "      <td>Commercial associate</td>\n",
       "      <td>Secondary / secondary special</td>\n",
       "      <td>Single / not married</td>\n",
       "      <td>House / apartment</td>\n",
       "      <td>52.0</td>\n",
       "      <td>8.0</td>\n",
       "      <td>1.0</td>\n",
       "    </tr>\n",
       "  </tbody>\n",
       "</table>\n",
       "</div>"
      ],
      "text/plain": [
       "        ID CODE_GENDER FLAG_OWN_CAR FLAG_OWN_REALTY  CNT_CHILDREN  \\\n",
       "0  5008804           M            Y               Y             0   \n",
       "1  5008805           M            Y               Y             0   \n",
       "2  5008806           M            Y               Y             0   \n",
       "3  5008808           F            N               Y             0   \n",
       "4  5008809           F            N               Y             0   \n",
       "\n",
       "   AMT_INCOME_TOTAL      NAME_INCOME_TYPE            NAME_EDUCATION_TYPE  \\\n",
       "0          427500.0               Working               Higher education   \n",
       "1          427500.0               Working               Higher education   \n",
       "2          112500.0               Working  Secondary / secondary special   \n",
       "3          270000.0  Commercial associate  Secondary / secondary special   \n",
       "4          270000.0  Commercial associate  Secondary / secondary special   \n",
       "\n",
       "     NAME_FAMILY_STATUS  NAME_HOUSING_TYPE  AGE_YEARS  YEARS_EMPLOYED  \\\n",
       "0        Civil marriage   Rented apartment       33.0            12.0   \n",
       "1        Civil marriage   Rented apartment       33.0            12.0   \n",
       "2               Married  House / apartment       59.0             3.0   \n",
       "3  Single / not married  House / apartment       52.0             8.0   \n",
       "4  Single / not married  House / apartment       52.0             8.0   \n",
       "\n",
       "   CNT_FAM_MEMBERS  \n",
       "0              2.0  \n",
       "1              2.0  \n",
       "2              2.0  \n",
       "3              1.0  \n",
       "4              1.0  "
      ]
     },
     "execution_count": 164,
     "metadata": {},
     "output_type": "execute_result"
    }
   ],
   "source": [
    "application_df = app_df.copy()\n",
    "application_df.head()"
   ]
  },
  {
   "cell_type": "code",
   "execution_count": null,
   "id": "6dbdc8f0",
   "metadata": {},
   "outputs": [],
   "source": []
  },
  {
   "cell_type": "code",
   "execution_count": 165,
   "id": "dc3f649a",
   "metadata": {},
   "outputs": [],
   "source": [
    "application_df.drop(remove_outlier(application_df[\"CNT_CHILDREN\"]), inplace=True)\n",
    "application_df.drop(remove_outlier(application_df[\"AMT_INCOME_TOTAL\"]), inplace=True)\n",
    "application_df.drop(remove_outlier(application_df[\"YEARS_EMPLOYED\"]), inplace=True)\n",
    "application_df.drop(remove_outlier(application_df[\"CNT_FAM_MEMBERS\"]), inplace=True)"
   ]
  },
  {
   "cell_type": "code",
   "execution_count": 166,
   "id": "5a51b436",
   "metadata": {},
   "outputs": [
    {
     "data": {
      "text/plain": [
       "135000.00    43525\n",
       "157500.00    36871\n",
       "180000.00    35367\n",
       "112500.00    34372\n",
       "225000.00    31726\n",
       "             ...  \n",
       "165735.00        1\n",
       "109603.35        1\n",
       "133461.00        1\n",
       "129060.00        1\n",
       "167692.50        1\n",
       "Name: AMT_INCOME_TOTAL, Length: 725, dtype: int64"
      ]
     },
     "execution_count": 166,
     "metadata": {},
     "output_type": "execute_result"
    }
   ],
   "source": [
    "application_df[\"AMT_INCOME_TOTAL\"].value_counts()"
   ]
  },
  {
   "cell_type": "code",
   "execution_count": 167,
   "id": "1dd3261b",
   "metadata": {},
   "outputs": [
    {
     "data": {
      "image/png": "[encoded data removed]",
      "text/plain": [
       "<Figure size 1368x648 with 1 Axes>"
      ]
     },
     "metadata": {
      "needs_background": "light"
     },
     "output_type": "display_data"
    }
   ],
   "source": [
    "num_cols = ['CNT_CHILDREN',\n",
    " 'AMT_INCOME_TOTAL',\n",
    " 'AGE_YEARS',\n",
    " 'YEARS_EMPLOYED',\n",
    " 'CNT_FAM_MEMBERS']\n",
    "\n",
    "plt.figure(figsize=(19,9))\n",
    "application_df[num_cols].boxplot()\n",
    "plt.title(\"Numerical variables in the data\", fontsize=20)\n",
    "plt.show()"
   ]
  },
  {
   "cell_type": "code",
   "execution_count": 168,
   "id": "865aa26c",
   "metadata": {},
   "outputs": [
    {
     "data": {
      "text/html": [
       "<div>\n",
       "<style scoped>\n",
       "    .dataframe tbody tr th:only-of-type {\n",
       "        vertical-align: middle;\n",
       "    }\n",
       "\n",
       "    .dataframe tbody tr th {\n",
       "        vertical-align: top;\n",
       "    }\n",
       "\n",
       "    .dataframe thead th {\n",
       "        text-align: right;\n",
       "    }\n",
       "</style>\n",
       "<table border=\"1\" class=\"dataframe\">\n",
       "  <thead>\n",
       "    <tr style=\"text-align: right;\">\n",
       "      <th></th>\n",
       "      <th>ID</th>\n",
       "      <th>CODE_GENDER</th>\n",
       "      <th>FLAG_OWN_CAR</th>\n",
       "      <th>FLAG_OWN_REALTY</th>\n",
       "      <th>CNT_CHILDREN</th>\n",
       "      <th>AMT_INCOME_TOTAL</th>\n",
       "      <th>NAME_INCOME_TYPE</th>\n",
       "      <th>NAME_EDUCATION_TYPE</th>\n",
       "      <th>NAME_FAMILY_STATUS</th>\n",
       "      <th>NAME_HOUSING_TYPE</th>\n",
       "      <th>AGE_YEARS</th>\n",
       "      <th>YEARS_EMPLOYED</th>\n",
       "      <th>CNT_FAM_MEMBERS</th>\n",
       "    </tr>\n",
       "  </thead>\n",
       "  <tbody>\n",
       "    <tr>\n",
       "      <th>2</th>\n",
       "      <td>5008806</td>\n",
       "      <td>M</td>\n",
       "      <td>Y</td>\n",
       "      <td>Y</td>\n",
       "      <td>0</td>\n",
       "      <td>112500.0</td>\n",
       "      <td>Working</td>\n",
       "      <td>Secondary / secondary special</td>\n",
       "      <td>Married</td>\n",
       "      <td>House / apartment</td>\n",
       "      <td>59.0</td>\n",
       "      <td>3.0</td>\n",
       "      <td>2.0</td>\n",
       "    </tr>\n",
       "    <tr>\n",
       "      <th>3</th>\n",
       "      <td>5008808</td>\n",
       "      <td>F</td>\n",
       "      <td>N</td>\n",
       "      <td>Y</td>\n",
       "      <td>0</td>\n",
       "      <td>270000.0</td>\n",
       "      <td>Commercial associate</td>\n",
       "      <td>Secondary / secondary special</td>\n",
       "      <td>Single / not married</td>\n",
       "      <td>House / apartment</td>\n",
       "      <td>52.0</td>\n",
       "      <td>8.0</td>\n",
       "      <td>1.0</td>\n",
       "    </tr>\n",
       "    <tr>\n",
       "      <th>4</th>\n",
       "      <td>5008809</td>\n",
       "      <td>F</td>\n",
       "      <td>N</td>\n",
       "      <td>Y</td>\n",
       "      <td>0</td>\n",
       "      <td>270000.0</td>\n",
       "      <td>Commercial associate</td>\n",
       "      <td>Secondary / secondary special</td>\n",
       "      <td>Single / not married</td>\n",
       "      <td>House / apartment</td>\n",
       "      <td>52.0</td>\n",
       "      <td>8.0</td>\n",
       "      <td>1.0</td>\n",
       "    </tr>\n",
       "    <tr>\n",
       "      <th>5</th>\n",
       "      <td>5008810</td>\n",
       "      <td>F</td>\n",
       "      <td>N</td>\n",
       "      <td>Y</td>\n",
       "      <td>0</td>\n",
       "      <td>270000.0</td>\n",
       "      <td>Commercial associate</td>\n",
       "      <td>Secondary / secondary special</td>\n",
       "      <td>Single / not married</td>\n",
       "      <td>House / apartment</td>\n",
       "      <td>52.0</td>\n",
       "      <td>8.0</td>\n",
       "      <td>1.0</td>\n",
       "    </tr>\n",
       "    <tr>\n",
       "      <th>6</th>\n",
       "      <td>5008811</td>\n",
       "      <td>F</td>\n",
       "      <td>N</td>\n",
       "      <td>Y</td>\n",
       "      <td>0</td>\n",
       "      <td>270000.0</td>\n",
       "      <td>Commercial associate</td>\n",
       "      <td>Secondary / secondary special</td>\n",
       "      <td>Single / not married</td>\n",
       "      <td>House / apartment</td>\n",
       "      <td>52.0</td>\n",
       "      <td>8.0</td>\n",
       "      <td>1.0</td>\n",
       "    </tr>\n",
       "  </tbody>\n",
       "</table>\n",
       "</div>"
      ],
      "text/plain": [
       "        ID CODE_GENDER FLAG_OWN_CAR FLAG_OWN_REALTY  CNT_CHILDREN  \\\n",
       "2  5008806           M            Y               Y             0   \n",
       "3  5008808           F            N               Y             0   \n",
       "4  5008809           F            N               Y             0   \n",
       "5  5008810           F            N               Y             0   \n",
       "6  5008811           F            N               Y             0   \n",
       "\n",
       "   AMT_INCOME_TOTAL      NAME_INCOME_TYPE            NAME_EDUCATION_TYPE  \\\n",
       "2          112500.0               Working  Secondary / secondary special   \n",
       "3          270000.0  Commercial associate  Secondary / secondary special   \n",
       "4          270000.0  Commercial associate  Secondary / secondary special   \n",
       "5          270000.0  Commercial associate  Secondary / secondary special   \n",
       "6          270000.0  Commercial associate  Secondary / secondary special   \n",
       "\n",
       "     NAME_FAMILY_STATUS  NAME_HOUSING_TYPE  AGE_YEARS  YEARS_EMPLOYED  \\\n",
       "2               Married  House / apartment       59.0             3.0   \n",
       "3  Single / not married  House / apartment       52.0             8.0   \n",
       "4  Single / not married  House / apartment       52.0             8.0   \n",
       "5  Single / not married  House / apartment       52.0             8.0   \n",
       "6  Single / not married  House / apartment       52.0             8.0   \n",
       "\n",
       "   CNT_FAM_MEMBERS  \n",
       "2              2.0  \n",
       "3              1.0  \n",
       "4              1.0  \n",
       "5              1.0  \n",
       "6              1.0  "
      ]
     },
     "execution_count": 168,
     "metadata": {},
     "output_type": "execute_result"
    }
   ],
   "source": [
    "application_df.head()"
   ]
  },
  {
   "cell_type": "code",
   "execution_count": 169,
   "id": "1a562b9b",
   "metadata": {},
   "outputs": [
    {
     "name": "stdout",
     "output_type": "stream",
     "text": [
      "outliers\n",
      "AMT_INCOME_TOTAL : 0\n",
      "CNT_CHILDREN: 0\n",
      "YEARS_EMPLOYED : 0\n",
      "CNT_FAM_MEMBERS : 0\n"
     ]
    }
   ],
   "source": [
    "AMT_outliers = detect_outlier(application_df['AMT_INCOME_TOTAL'])\n",
    "CNTCh_outliers = detect_outlier(application_df['CNT_CHILDREN'])\n",
    "YE_outliers = detect_outlier(application_df['YEARS_EMPLOYED'])\n",
    "CFM_outliers = detect_outlier(application_df['CNT_FAM_MEMBERS'])\n",
    "print(\"outliers\")\n",
    "print(f\"AMT_INCOME_TOTAL : {len(AMT_outliers)}\")\n",
    "print(f\"CNT_CHILDREN: {len(CNTCh_outliers)}\")\n",
    "print(f\"YEARS_EMPLOYED : {len(YE_outliers)}\")\n",
    "print(f\"CNT_FAM_MEMBERS : {len(CFM_outliers)}\")"
   ]
  },
  {
   "cell_type": "code",
   "execution_count": 170,
   "id": "185c37b5",
   "metadata": {},
   "outputs": [
    {
     "data": {
      "text/plain": [
       "ID                     0\n",
       "CODE_GENDER            0\n",
       "FLAG_OWN_CAR           0\n",
       "FLAG_OWN_REALTY        0\n",
       "CNT_CHILDREN           0\n",
       "AMT_INCOME_TOTAL       0\n",
       "NAME_INCOME_TYPE       0\n",
       "NAME_EDUCATION_TYPE    0\n",
       "NAME_FAMILY_STATUS     0\n",
       "NAME_HOUSING_TYPE      0\n",
       "AGE_YEARS              0\n",
       "YEARS_EMPLOYED         0\n",
       "CNT_FAM_MEMBERS        0\n",
       "dtype: int64"
      ]
     },
     "execution_count": 170,
     "metadata": {},
     "output_type": "execute_result"
    }
   ],
   "source": [
    "application_df.isnull().sum()"
   ]
  },
  {
   "cell_type": "markdown",
   "id": "e0fccb0d",
   "metadata": {},
   "source": [
    "#### Data Transforming"
   ]
  },
  {
   "cell_type": "markdown",
   "id": "b1079dcc",
   "metadata": {},
   "source": [
    "Transforming Data credit_record.csv"
   ]
  },
  {
   "cell_type": "code",
   "execution_count": 171,
   "id": "5f7b17d3",
   "metadata": {},
   "outputs": [
    {
     "data": {
      "text/html": [
       "<div>\n",
       "<style scoped>\n",
       "    .dataframe tbody tr th:only-of-type {\n",
       "        vertical-align: middle;\n",
       "    }\n",
       "\n",
       "    .dataframe tbody tr th {\n",
       "        vertical-align: top;\n",
       "    }\n",
       "\n",
       "    .dataframe thead th {\n",
       "        text-align: right;\n",
       "    }\n",
       "</style>\n",
       "<table border=\"1\" class=\"dataframe\">\n",
       "  <thead>\n",
       "    <tr style=\"text-align: right;\">\n",
       "      <th></th>\n",
       "      <th>ID</th>\n",
       "      <th>MONTHS_BALANCE</th>\n",
       "      <th>STATUS</th>\n",
       "    </tr>\n",
       "  </thead>\n",
       "  <tbody>\n",
       "    <tr>\n",
       "      <th>0</th>\n",
       "      <td>5001711</td>\n",
       "      <td>0</td>\n",
       "      <td>X</td>\n",
       "    </tr>\n",
       "    <tr>\n",
       "      <th>1</th>\n",
       "      <td>5001711</td>\n",
       "      <td>-1</td>\n",
       "      <td>0</td>\n",
       "    </tr>\n",
       "    <tr>\n",
       "      <th>2</th>\n",
       "      <td>5001711</td>\n",
       "      <td>-2</td>\n",
       "      <td>0</td>\n",
       "    </tr>\n",
       "    <tr>\n",
       "      <th>3</th>\n",
       "      <td>5001711</td>\n",
       "      <td>-3</td>\n",
       "      <td>0</td>\n",
       "    </tr>\n",
       "    <tr>\n",
       "      <th>4</th>\n",
       "      <td>5001712</td>\n",
       "      <td>0</td>\n",
       "      <td>C</td>\n",
       "    </tr>\n",
       "  </tbody>\n",
       "</table>\n",
       "</div>"
      ],
      "text/plain": [
       "        ID  MONTHS_BALANCE STATUS\n",
       "0  5001711               0      X\n",
       "1  5001711              -1      0\n",
       "2  5001711              -2      0\n",
       "3  5001711              -3      0\n",
       "4  5001712               0      C"
      ]
     },
     "execution_count": 171,
     "metadata": {},
     "output_type": "execute_result"
    }
   ],
   "source": [
    "credit_df.head()"
   ]
  },
  {
   "cell_type": "code",
   "execution_count": 172,
   "id": "dc9fca61",
   "metadata": {},
   "outputs": [
    {
     "data": {
      "text/plain": [
       "C    442031\n",
       "0    383120\n",
       "X    209230\n",
       "1     11090\n",
       "5      1693\n",
       "2       868\n",
       "3       320\n",
       "4       223\n",
       "Name: STATUS, dtype: int64"
      ]
     },
     "execution_count": 172,
     "metadata": {},
     "output_type": "execute_result"
    }
   ],
   "source": [
    "credit_df['STATUS'].value_counts()"
   ]
  },
  {
   "cell_type": "code",
   "execution_count": 174,
   "id": "564774dc",
   "metadata": {},
   "outputs": [],
   "source": [
    "# categorizing 'STATUS' column to binary classification   0 : Good Client and 1 : bad client\n",
    "credit_df['STATUS'].replace(['C', 'X'],0, inplace=True)\n",
    "credit_df['STATUS'].replace(['2','3','4','5'],1, inplace=True)\n",
    "credit_df['STATUS'] = credit_df['STATUS'].astype('int')"
   ]
  },
  {
   "cell_type": "code",
   "execution_count": 175,
   "id": "d6972ffb",
   "metadata": {},
   "outputs": [
    {
     "name": "stdout",
     "output_type": "stream",
     "text": [
      "<class 'pandas.core.frame.DataFrame'>\n",
      "RangeIndex: 1048575 entries, 0 to 1048574\n",
      "Data columns (total 3 columns):\n",
      " #   Column          Non-Null Count    Dtype\n",
      "---  ------          --------------    -----\n",
      " 0   ID              1048575 non-null  int64\n",
      " 1   MONTHS_BALANCE  1048575 non-null  int64\n",
      " 2   STATUS          1048575 non-null  int32\n",
      "dtypes: int32(1), int64(2)\n",
      "memory usage: 20.0 MB\n"
     ]
    }
   ],
   "source": [
    "credit_df.info()"
   ]
  },
  {
   "cell_type": "code",
   "execution_count": 176,
   "id": "7a65f582",
   "metadata": {},
   "outputs": [
    {
     "data": {
      "text/plain": [
       "0    98.646353\n",
       "1     1.353647\n",
       "Name: STATUS, dtype: float64"
      ]
     },
     "execution_count": 176,
     "metadata": {},
     "output_type": "execute_result"
    }
   ],
   "source": [
    "credit_df['STATUS'].value_counts(normalize=True)*100"
   ]
  },
  {
   "cell_type": "code",
   "execution_count": 177,
   "id": "59c4286e",
   "metadata": {},
   "outputs": [],
   "source": [
    "credit_df_trans = credit_df.groupby('ID').agg(max).reset_index()"
   ]
  },
  {
   "cell_type": "code",
   "execution_count": 178,
   "id": "fd94633f",
   "metadata": {},
   "outputs": [
    {
     "data": {
      "text/html": [
       "<div>\n",
       "<style scoped>\n",
       "    .dataframe tbody tr th:only-of-type {\n",
       "        vertical-align: middle;\n",
       "    }\n",
       "\n",
       "    .dataframe tbody tr th {\n",
       "        vertical-align: top;\n",
       "    }\n",
       "\n",
       "    .dataframe thead th {\n",
       "        text-align: right;\n",
       "    }\n",
       "</style>\n",
       "<table border=\"1\" class=\"dataframe\">\n",
       "  <thead>\n",
       "    <tr style=\"text-align: right;\">\n",
       "      <th></th>\n",
       "      <th>ID</th>\n",
       "      <th>STATUS</th>\n",
       "    </tr>\n",
       "  </thead>\n",
       "  <tbody>\n",
       "    <tr>\n",
       "      <th>0</th>\n",
       "      <td>5001711</td>\n",
       "      <td>0</td>\n",
       "    </tr>\n",
       "    <tr>\n",
       "      <th>1</th>\n",
       "      <td>5001712</td>\n",
       "      <td>0</td>\n",
       "    </tr>\n",
       "    <tr>\n",
       "      <th>2</th>\n",
       "      <td>5001713</td>\n",
       "      <td>0</td>\n",
       "    </tr>\n",
       "    <tr>\n",
       "      <th>3</th>\n",
       "      <td>5001714</td>\n",
       "      <td>0</td>\n",
       "    </tr>\n",
       "    <tr>\n",
       "      <th>4</th>\n",
       "      <td>5001715</td>\n",
       "      <td>0</td>\n",
       "    </tr>\n",
       "  </tbody>\n",
       "</table>\n",
       "</div>"
      ],
      "text/plain": [
       "        ID  STATUS\n",
       "0  5001711       0\n",
       "1  5001712       0\n",
       "2  5001713       0\n",
       "3  5001714       0\n",
       "4  5001715       0"
      ]
     },
     "execution_count": 178,
     "metadata": {},
     "output_type": "execute_result"
    }
   ],
   "source": [
    "credit_df_trans.drop('MONTHS_BALANCE', axis=1, inplace=True)\n",
    "credit_df_trans.head()"
   ]
  },
  {
   "cell_type": "code",
   "execution_count": 179,
   "id": "fd69075a",
   "metadata": {},
   "outputs": [
    {
     "data": {
      "text/plain": [
       "0    88.365771\n",
       "1    11.634229\n",
       "Name: STATUS, dtype: float64"
      ]
     },
     "execution_count": 179,
     "metadata": {},
     "output_type": "execute_result"
    }
   ],
   "source": [
    "credit_df_trans['STATUS'].value_counts(normalize=True)*100"
   ]
  },
  {
   "cell_type": "markdown",
   "id": "1e1d41fb",
   "metadata": {},
   "source": [
    "##### Merging Dataframe"
   ]
  },
  {
   "cell_type": "code",
   "execution_count": 180,
   "id": "5b14b1ce",
   "metadata": {},
   "outputs": [
    {
     "data": {
      "text/html": [
       "<div>\n",
       "<style scoped>\n",
       "    .dataframe tbody tr th:only-of-type {\n",
       "        vertical-align: middle;\n",
       "    }\n",
       "\n",
       "    .dataframe tbody tr th {\n",
       "        vertical-align: top;\n",
       "    }\n",
       "\n",
       "    .dataframe thead th {\n",
       "        text-align: right;\n",
       "    }\n",
       "</style>\n",
       "<table border=\"1\" class=\"dataframe\">\n",
       "  <thead>\n",
       "    <tr style=\"text-align: right;\">\n",
       "      <th></th>\n",
       "      <th>ID</th>\n",
       "      <th>CODE_GENDER</th>\n",
       "      <th>FLAG_OWN_CAR</th>\n",
       "      <th>FLAG_OWN_REALTY</th>\n",
       "      <th>CNT_CHILDREN</th>\n",
       "      <th>AMT_INCOME_TOTAL</th>\n",
       "      <th>NAME_INCOME_TYPE</th>\n",
       "      <th>NAME_EDUCATION_TYPE</th>\n",
       "      <th>NAME_FAMILY_STATUS</th>\n",
       "      <th>NAME_HOUSING_TYPE</th>\n",
       "      <th>AGE_YEARS</th>\n",
       "      <th>YEARS_EMPLOYED</th>\n",
       "      <th>CNT_FAM_MEMBERS</th>\n",
       "      <th>STATUS</th>\n",
       "    </tr>\n",
       "  </thead>\n",
       "  <tbody>\n",
       "    <tr>\n",
       "      <th>0</th>\n",
       "      <td>5008804</td>\n",
       "      <td>M</td>\n",
       "      <td>Y</td>\n",
       "      <td>Y</td>\n",
       "      <td>0</td>\n",
       "      <td>427500.0</td>\n",
       "      <td>Working</td>\n",
       "      <td>Higher education</td>\n",
       "      <td>Civil marriage</td>\n",
       "      <td>Rented apartment</td>\n",
       "      <td>33.0</td>\n",
       "      <td>12.0</td>\n",
       "      <td>2.0</td>\n",
       "      <td>1</td>\n",
       "    </tr>\n",
       "    <tr>\n",
       "      <th>1</th>\n",
       "      <td>5008805</td>\n",
       "      <td>M</td>\n",
       "      <td>Y</td>\n",
       "      <td>Y</td>\n",
       "      <td>0</td>\n",
       "      <td>427500.0</td>\n",
       "      <td>Working</td>\n",
       "      <td>Higher education</td>\n",
       "      <td>Civil marriage</td>\n",
       "      <td>Rented apartment</td>\n",
       "      <td>33.0</td>\n",
       "      <td>12.0</td>\n",
       "      <td>2.0</td>\n",
       "      <td>1</td>\n",
       "    </tr>\n",
       "    <tr>\n",
       "      <th>2</th>\n",
       "      <td>5008806</td>\n",
       "      <td>M</td>\n",
       "      <td>Y</td>\n",
       "      <td>Y</td>\n",
       "      <td>0</td>\n",
       "      <td>112500.0</td>\n",
       "      <td>Working</td>\n",
       "      <td>Secondary / secondary special</td>\n",
       "      <td>Married</td>\n",
       "      <td>House / apartment</td>\n",
       "      <td>59.0</td>\n",
       "      <td>3.0</td>\n",
       "      <td>2.0</td>\n",
       "      <td>0</td>\n",
       "    </tr>\n",
       "    <tr>\n",
       "      <th>3</th>\n",
       "      <td>5008808</td>\n",
       "      <td>F</td>\n",
       "      <td>N</td>\n",
       "      <td>Y</td>\n",
       "      <td>0</td>\n",
       "      <td>270000.0</td>\n",
       "      <td>Commercial associate</td>\n",
       "      <td>Secondary / secondary special</td>\n",
       "      <td>Single / not married</td>\n",
       "      <td>House / apartment</td>\n",
       "      <td>52.0</td>\n",
       "      <td>8.0</td>\n",
       "      <td>1.0</td>\n",
       "      <td>0</td>\n",
       "    </tr>\n",
       "    <tr>\n",
       "      <th>4</th>\n",
       "      <td>5008809</td>\n",
       "      <td>F</td>\n",
       "      <td>N</td>\n",
       "      <td>Y</td>\n",
       "      <td>0</td>\n",
       "      <td>270000.0</td>\n",
       "      <td>Commercial associate</td>\n",
       "      <td>Secondary / secondary special</td>\n",
       "      <td>Single / not married</td>\n",
       "      <td>House / apartment</td>\n",
       "      <td>52.0</td>\n",
       "      <td>8.0</td>\n",
       "      <td>1.0</td>\n",
       "      <td>0</td>\n",
       "    </tr>\n",
       "  </tbody>\n",
       "</table>\n",
       "</div>"
      ],
      "text/plain": [
       "        ID CODE_GENDER FLAG_OWN_CAR FLAG_OWN_REALTY  CNT_CHILDREN  \\\n",
       "0  5008804           M            Y               Y             0   \n",
       "1  5008805           M            Y               Y             0   \n",
       "2  5008806           M            Y               Y             0   \n",
       "3  5008808           F            N               Y             0   \n",
       "4  5008809           F            N               Y             0   \n",
       "\n",
       "   AMT_INCOME_TOTAL      NAME_INCOME_TYPE            NAME_EDUCATION_TYPE  \\\n",
       "0          427500.0               Working               Higher education   \n",
       "1          427500.0               Working               Higher education   \n",
       "2          112500.0               Working  Secondary / secondary special   \n",
       "3          270000.0  Commercial associate  Secondary / secondary special   \n",
       "4          270000.0  Commercial associate  Secondary / secondary special   \n",
       "\n",
       "     NAME_FAMILY_STATUS  NAME_HOUSING_TYPE  AGE_YEARS  YEARS_EMPLOYED  \\\n",
       "0        Civil marriage   Rented apartment       33.0            12.0   \n",
       "1        Civil marriage   Rented apartment       33.0            12.0   \n",
       "2               Married  House / apartment       59.0             3.0   \n",
       "3  Single / not married  House / apartment       52.0             8.0   \n",
       "4  Single / not married  House / apartment       52.0             8.0   \n",
       "\n",
       "   CNT_FAM_MEMBERS  STATUS  \n",
       "0              2.0       1  \n",
       "1              2.0       1  \n",
       "2              2.0       0  \n",
       "3              1.0       0  \n",
       "4              1.0       0  "
      ]
     },
     "execution_count": 180,
     "metadata": {},
     "output_type": "execute_result"
    }
   ],
   "source": [
    "# merging the two datasets based on 'ID'\n",
    "final_df = pd.merge(app_df, credit_df_trans, on='ID', how='inner')\n",
    "final_df.head()"
   ]
  },
  {
   "cell_type": "code",
   "execution_count": 181,
   "id": "affdd6d6",
   "metadata": {},
   "outputs": [
    {
     "data": {
      "text/plain": [
       "(36457, 14)"
      ]
     },
     "execution_count": 181,
     "metadata": {},
     "output_type": "execute_result"
    }
   ],
   "source": [
    "final_df.shape"
   ]
  },
  {
   "cell_type": "code",
   "execution_count": 182,
   "id": "08f05077",
   "metadata": {},
   "outputs": [],
   "source": [
    "# dropping 'ID' column as it is having only unique values (not required for ML Model)\n",
    "final_df.drop('ID', axis=1, inplace=True)"
   ]
  },
  {
   "cell_type": "code",
   "execution_count": 183,
   "id": "ef75b66e",
   "metadata": {},
   "outputs": [],
   "source": [
    "# Dropping duplicate records\n",
    "final_df = final_df.drop_duplicates()\n",
    "final_df.reset_index(drop=True ,inplace=True)"
   ]
  },
  {
   "cell_type": "code",
   "execution_count": 184,
   "id": "8ea7d665",
   "metadata": {},
   "outputs": [
    {
     "data": {
      "text/plain": [
       "(11096, 13)"
      ]
     },
     "execution_count": 184,
     "metadata": {},
     "output_type": "execute_result"
    }
   ],
   "source": [
    "final_df.shape"
   ]
  },
  {
   "cell_type": "code",
   "execution_count": 185,
   "id": "f9601059",
   "metadata": {},
   "outputs": [
    {
     "data": {
      "text/plain": [
       "CODE_GENDER            0\n",
       "FLAG_OWN_CAR           0\n",
       "FLAG_OWN_REALTY        0\n",
       "CNT_CHILDREN           0\n",
       "AMT_INCOME_TOTAL       0\n",
       "NAME_INCOME_TYPE       0\n",
       "NAME_EDUCATION_TYPE    0\n",
       "NAME_FAMILY_STATUS     0\n",
       "NAME_HOUSING_TYPE      0\n",
       "AGE_YEARS              0\n",
       "YEARS_EMPLOYED         0\n",
       "CNT_FAM_MEMBERS        0\n",
       "STATUS                 0\n",
       "dtype: int64"
      ]
     },
     "execution_count": 185,
     "metadata": {},
     "output_type": "execute_result"
    }
   ],
   "source": [
    "final_df.isnull().sum()"
   ]
  },
  {
   "cell_type": "code",
   "execution_count": 186,
   "id": "dd242fd4",
   "metadata": {},
   "outputs": [
    {
     "data": {
      "text/plain": [
       "0    78.505768\n",
       "1    21.494232\n",
       "Name: STATUS, dtype: float64"
      ]
     },
     "execution_count": 186,
     "metadata": {},
     "output_type": "execute_result"
    }
   ],
   "source": [
    "final_df['STATUS'].value_counts(normalize=True)*100"
   ]
  },
  {
   "cell_type": "code",
   "execution_count": 207,
   "id": "8e3c0999",
   "metadata": {},
   "outputs": [
    {
     "data": {
      "text/html": [
       "<div>\n",
       "<style scoped>\n",
       "    .dataframe tbody tr th:only-of-type {\n",
       "        vertical-align: middle;\n",
       "    }\n",
       "\n",
       "    .dataframe tbody tr th {\n",
       "        vertical-align: top;\n",
       "    }\n",
       "\n",
       "    .dataframe thead th {\n",
       "        text-align: right;\n",
       "    }\n",
       "</style>\n",
       "<table border=\"1\" class=\"dataframe\">\n",
       "  <thead>\n",
       "    <tr style=\"text-align: right;\">\n",
       "      <th></th>\n",
       "      <th>CODE_GENDER</th>\n",
       "      <th>FLAG_OWN_CAR</th>\n",
       "      <th>FLAG_OWN_REALTY</th>\n",
       "      <th>CNT_CHILDREN</th>\n",
       "      <th>AMT_INCOME_TOTAL</th>\n",
       "      <th>NAME_INCOME_TYPE</th>\n",
       "      <th>NAME_EDUCATION_TYPE</th>\n",
       "      <th>NAME_FAMILY_STATUS</th>\n",
       "      <th>NAME_HOUSING_TYPE</th>\n",
       "      <th>AGE_YEARS</th>\n",
       "      <th>YEARS_EMPLOYED</th>\n",
       "      <th>CNT_FAM_MEMBERS</th>\n",
       "      <th>STATUS</th>\n",
       "    </tr>\n",
       "  </thead>\n",
       "  <tbody>\n",
       "    <tr>\n",
       "      <th>0</th>\n",
       "      <td>1</td>\n",
       "      <td>1</td>\n",
       "      <td>1</td>\n",
       "      <td>0</td>\n",
       "      <td>427500.0</td>\n",
       "      <td>4</td>\n",
       "      <td>1</td>\n",
       "      <td>0</td>\n",
       "      <td>4</td>\n",
       "      <td>33.0</td>\n",
       "      <td>12.0</td>\n",
       "      <td>2.0</td>\n",
       "      <td>1</td>\n",
       "    </tr>\n",
       "    <tr>\n",
       "      <th>1</th>\n",
       "      <td>1</td>\n",
       "      <td>1</td>\n",
       "      <td>1</td>\n",
       "      <td>0</td>\n",
       "      <td>112500.0</td>\n",
       "      <td>4</td>\n",
       "      <td>4</td>\n",
       "      <td>1</td>\n",
       "      <td>1</td>\n",
       "      <td>59.0</td>\n",
       "      <td>3.0</td>\n",
       "      <td>2.0</td>\n",
       "      <td>0</td>\n",
       "    </tr>\n",
       "    <tr>\n",
       "      <th>2</th>\n",
       "      <td>0</td>\n",
       "      <td>0</td>\n",
       "      <td>1</td>\n",
       "      <td>0</td>\n",
       "      <td>270000.0</td>\n",
       "      <td>0</td>\n",
       "      <td>4</td>\n",
       "      <td>3</td>\n",
       "      <td>1</td>\n",
       "      <td>52.0</td>\n",
       "      <td>8.0</td>\n",
       "      <td>1.0</td>\n",
       "      <td>0</td>\n",
       "    </tr>\n",
       "    <tr>\n",
       "      <th>3</th>\n",
       "      <td>0</td>\n",
       "      <td>0</td>\n",
       "      <td>1</td>\n",
       "      <td>0</td>\n",
       "      <td>283500.0</td>\n",
       "      <td>1</td>\n",
       "      <td>1</td>\n",
       "      <td>2</td>\n",
       "      <td>1</td>\n",
       "      <td>62.0</td>\n",
       "      <td>0.0</td>\n",
       "      <td>1.0</td>\n",
       "      <td>0</td>\n",
       "    </tr>\n",
       "    <tr>\n",
       "      <th>4</th>\n",
       "      <td>1</td>\n",
       "      <td>1</td>\n",
       "      <td>1</td>\n",
       "      <td>0</td>\n",
       "      <td>270000.0</td>\n",
       "      <td>4</td>\n",
       "      <td>1</td>\n",
       "      <td>1</td>\n",
       "      <td>1</td>\n",
       "      <td>46.0</td>\n",
       "      <td>2.0</td>\n",
       "      <td>2.0</td>\n",
       "      <td>0</td>\n",
       "    </tr>\n",
       "  </tbody>\n",
       "</table>\n",
       "</div>"
      ],
      "text/plain": [
       "   CODE_GENDER  FLAG_OWN_CAR  FLAG_OWN_REALTY  CNT_CHILDREN  AMT_INCOME_TOTAL  \\\n",
       "0            1             1                1             0          427500.0   \n",
       "1            1             1                1             0          112500.0   \n",
       "2            0             0                1             0          270000.0   \n",
       "3            0             0                1             0          283500.0   \n",
       "4            1             1                1             0          270000.0   \n",
       "\n",
       "   NAME_INCOME_TYPE  NAME_EDUCATION_TYPE  NAME_FAMILY_STATUS  \\\n",
       "0                 4                    1                   0   \n",
       "1                 4                    4                   1   \n",
       "2                 0                    4                   3   \n",
       "3                 1                    1                   2   \n",
       "4                 4                    1                   1   \n",
       "\n",
       "   NAME_HOUSING_TYPE  AGE_YEARS  YEARS_EMPLOYED  CNT_FAM_MEMBERS  STATUS  \n",
       "0                  4       33.0            12.0              2.0       1  \n",
       "1                  1       59.0             3.0              2.0       0  \n",
       "2                  1       52.0             8.0              1.0       0  \n",
       "3                  1       62.0             0.0              1.0       0  \n",
       "4                  1       46.0             2.0              2.0       0  "
      ]
     },
     "execution_count": 207,
     "metadata": {},
     "output_type": "execute_result"
    }
   ],
   "source": [
    "#Converting all Non-Numerical Columns to Numerical\n",
    "from sklearn.preprocessing import LabelEncoder\n",
    "\n",
    "for col in cat_columns:\n",
    "        globals()['LE_{}'.format(col)] = LabelEncoder()\n",
    "        final_df[col] = globals()['LE_{}'.format(col)].fit_transform(final_df[col])\n",
    "final_df.head()  "
   ]
  },
  {
   "cell_type": "markdown",
   "id": "75dea50d",
   "metadata": {},
   "source": [
    "#### Data Visualization"
   ]
  },
  {
   "cell_type": "code",
   "execution_count": 187,
   "id": "9f5e5d4e",
   "metadata": {},
   "outputs": [
    {
     "data": {
      "text/html": [
       "<div>\n",
       "<style scoped>\n",
       "    .dataframe tbody tr th:only-of-type {\n",
       "        vertical-align: middle;\n",
       "    }\n",
       "\n",
       "    .dataframe tbody tr th {\n",
       "        vertical-align: top;\n",
       "    }\n",
       "\n",
       "    .dataframe thead th {\n",
       "        text-align: right;\n",
       "    }\n",
       "</style>\n",
       "<table border=\"1\" class=\"dataframe\">\n",
       "  <thead>\n",
       "    <tr style=\"text-align: right;\">\n",
       "      <th></th>\n",
       "      <th>CODE_GENDER</th>\n",
       "      <th>FLAG_OWN_CAR</th>\n",
       "      <th>FLAG_OWN_REALTY</th>\n",
       "      <th>CNT_CHILDREN</th>\n",
       "      <th>AMT_INCOME_TOTAL</th>\n",
       "      <th>NAME_INCOME_TYPE</th>\n",
       "      <th>NAME_EDUCATION_TYPE</th>\n",
       "      <th>NAME_FAMILY_STATUS</th>\n",
       "      <th>NAME_HOUSING_TYPE</th>\n",
       "      <th>AGE_YEARS</th>\n",
       "      <th>YEARS_EMPLOYED</th>\n",
       "      <th>CNT_FAM_MEMBERS</th>\n",
       "      <th>STATUS</th>\n",
       "    </tr>\n",
       "  </thead>\n",
       "  <tbody>\n",
       "    <tr>\n",
       "      <th>0</th>\n",
       "      <td>M</td>\n",
       "      <td>Y</td>\n",
       "      <td>Y</td>\n",
       "      <td>0</td>\n",
       "      <td>427500.0</td>\n",
       "      <td>Working</td>\n",
       "      <td>Higher education</td>\n",
       "      <td>Civil marriage</td>\n",
       "      <td>Rented apartment</td>\n",
       "      <td>33.0</td>\n",
       "      <td>12.0</td>\n",
       "      <td>2.0</td>\n",
       "      <td>1</td>\n",
       "    </tr>\n",
       "    <tr>\n",
       "      <th>1</th>\n",
       "      <td>M</td>\n",
       "      <td>Y</td>\n",
       "      <td>Y</td>\n",
       "      <td>0</td>\n",
       "      <td>112500.0</td>\n",
       "      <td>Working</td>\n",
       "      <td>Secondary / secondary special</td>\n",
       "      <td>Married</td>\n",
       "      <td>House / apartment</td>\n",
       "      <td>59.0</td>\n",
       "      <td>3.0</td>\n",
       "      <td>2.0</td>\n",
       "      <td>0</td>\n",
       "    </tr>\n",
       "    <tr>\n",
       "      <th>2</th>\n",
       "      <td>F</td>\n",
       "      <td>N</td>\n",
       "      <td>Y</td>\n",
       "      <td>0</td>\n",
       "      <td>270000.0</td>\n",
       "      <td>Commercial associate</td>\n",
       "      <td>Secondary / secondary special</td>\n",
       "      <td>Single / not married</td>\n",
       "      <td>House / apartment</td>\n",
       "      <td>52.0</td>\n",
       "      <td>8.0</td>\n",
       "      <td>1.0</td>\n",
       "      <td>0</td>\n",
       "    </tr>\n",
       "    <tr>\n",
       "      <th>3</th>\n",
       "      <td>F</td>\n",
       "      <td>N</td>\n",
       "      <td>Y</td>\n",
       "      <td>0</td>\n",
       "      <td>283500.0</td>\n",
       "      <td>Pensioner</td>\n",
       "      <td>Higher education</td>\n",
       "      <td>Separated</td>\n",
       "      <td>House / apartment</td>\n",
       "      <td>62.0</td>\n",
       "      <td>0.0</td>\n",
       "      <td>1.0</td>\n",
       "      <td>0</td>\n",
       "    </tr>\n",
       "    <tr>\n",
       "      <th>4</th>\n",
       "      <td>M</td>\n",
       "      <td>Y</td>\n",
       "      <td>Y</td>\n",
       "      <td>0</td>\n",
       "      <td>270000.0</td>\n",
       "      <td>Working</td>\n",
       "      <td>Higher education</td>\n",
       "      <td>Married</td>\n",
       "      <td>House / apartment</td>\n",
       "      <td>46.0</td>\n",
       "      <td>2.0</td>\n",
       "      <td>2.0</td>\n",
       "      <td>0</td>\n",
       "    </tr>\n",
       "  </tbody>\n",
       "</table>\n",
       "</div>"
      ],
      "text/plain": [
       "  CODE_GENDER FLAG_OWN_CAR FLAG_OWN_REALTY  CNT_CHILDREN  AMT_INCOME_TOTAL  \\\n",
       "0           M            Y               Y             0          427500.0   \n",
       "1           M            Y               Y             0          112500.0   \n",
       "2           F            N               Y             0          270000.0   \n",
       "3           F            N               Y             0          283500.0   \n",
       "4           M            Y               Y             0          270000.0   \n",
       "\n",
       "       NAME_INCOME_TYPE            NAME_EDUCATION_TYPE    NAME_FAMILY_STATUS  \\\n",
       "0               Working               Higher education        Civil marriage   \n",
       "1               Working  Secondary / secondary special               Married   \n",
       "2  Commercial associate  Secondary / secondary special  Single / not married   \n",
       "3             Pensioner               Higher education             Separated   \n",
       "4               Working               Higher education               Married   \n",
       "\n",
       "   NAME_HOUSING_TYPE  AGE_YEARS  YEARS_EMPLOYED  CNT_FAM_MEMBERS  STATUS  \n",
       "0   Rented apartment       33.0            12.0              2.0       1  \n",
       "1  House / apartment       59.0             3.0              2.0       0  \n",
       "2  House / apartment       52.0             8.0              1.0       0  \n",
       "3  House / apartment       62.0             0.0              1.0       0  \n",
       "4  House / apartment       46.0             2.0              2.0       0  "
      ]
     },
     "execution_count": 187,
     "metadata": {},
     "output_type": "execute_result"
    }
   ],
   "source": [
    "final_df.head()"
   ]
  },
  {
   "cell_type": "code",
   "execution_count": 190,
   "id": "df6bf029",
   "metadata": {},
   "outputs": [
    {
     "data": {
      "image/png": "[encoded data removed]",
      "text/plain": [
       "<Figure size 576x576 with 2 Axes>"
      ]
     },
     "metadata": {
      "needs_background": "light"
     },
     "output_type": "display_data"
    }
   ],
   "source": [
    "# This graph shows that, there is no column (Feature) which is highly co-related with 'Status'\n",
    "plt.figure(figsize = (8,8))\n",
    "sns.heatmap(final_df.corr(), annot=True)\n",
    "plt.show()"
   ]
  },
  {
   "cell_type": "code",
   "execution_count": 191,
   "id": "b660d521",
   "metadata": {},
   "outputs": [
    {
     "data": {
      "image/png": "[encoded data removed]",
      "text/plain": [
       "<Figure size 432x288 with 1 Axes>"
      ]
     },
     "metadata": {},
     "output_type": "display_data"
    }
   ],
   "source": [
    "# This graph shows that, majority of application are submitted by Female's\n",
    "plt.pie(final_df['CODE_GENDER'].value_counts(), labels=['Female', 'Male'], autopct='%1.2f%%')\n",
    "plt.title('% of Applications submitted based on Gender')\n",
    "plt.show()"
   ]
  },
  {
   "cell_type": "code",
   "execution_count": 192,
   "id": "83f8f51b",
   "metadata": {},
   "outputs": [
    {
     "data": {
      "image/png": "[encoded data removed]",
      "text/plain": [
       "<Figure size 432x288 with 1 Axes>"
      ]
     },
     "metadata": {},
     "output_type": "display_data"
    }
   ],
   "source": [
    "# This graph shows that, majority of application are approved for Female's\n",
    "plt.pie(final_df[final_df['STATUS']==0]['CODE_GENDER'].value_counts(), labels=['Female', 'Male'], autopct='%1.2f%%')\n",
    "plt.title('% of Applications Approved based on Gender')\n",
    "plt.show()"
   ]
  },
  {
   "cell_type": "code",
   "execution_count": 193,
   "id": "25a6328b",
   "metadata": {},
   "outputs": [
    {
     "data": {
      "image/png": "[encoded data removed]",
      "text/plain": [
       "<Figure size 432x288 with 1 Axes>"
      ]
     },
     "metadata": {},
     "output_type": "display_data"
    }
   ],
   "source": [
    "# This graph shows that, majority of applicatant's dont own a car\n",
    "plt.pie(final_df['FLAG_OWN_CAR'].value_counts(), labels=['No', 'Yes'], autopct='%1.2f%%')\n",
    "plt.title('% of Applications submitted based on owning a Car')\n",
    "plt.show()"
   ]
  },
  {
   "cell_type": "code",
   "execution_count": 194,
   "id": "8482e6c7",
   "metadata": {},
   "outputs": [
    {
     "data": {
      "image/png": "[encoded data removed]",
      "text/plain": [
       "<Figure size 432x288 with 1 Axes>"
      ]
     },
     "metadata": {},
     "output_type": "display_data"
    }
   ],
   "source": [
    "# This graph shows that, majority of applicatant's own a Real Estate property / House\n",
    "plt.pie(final_df['FLAG_OWN_REALTY'].value_counts(), labels=['Yes','No'], autopct='%1.2f%%')\n",
    "plt.title('% of Applications submitted based on owning a Real estate property')\n",
    "plt.show()"
   ]
  },
  {
   "cell_type": "code",
   "execution_count": 195,
   "id": "eaef68c9",
   "metadata": {},
   "outputs": [
    {
     "data": {
      "image/png": "[encoded data removed]",
      "text/plain": [
       "<Figure size 576x576 with 1 Axes>"
      ]
     },
     "metadata": {},
     "output_type": "display_data"
    }
   ],
   "source": [
    "# This graph shows that, majority of applicatant's don't have any children\n",
    "plt.figure(figsize = (8,8))\n",
    "plt.pie(final_df['CNT_CHILDREN'].value_counts(), labels=final_df['CNT_CHILDREN'].value_counts().index, autopct='%1.2f%%')\n",
    "plt.title('% of Applications submitted based on Children count')\n",
    "plt.legend()\n",
    "plt.show()"
   ]
  },
  {
   "cell_type": "code",
   "execution_count": 196,
   "id": "ccca4166",
   "metadata": {},
   "outputs": [
    {
     "data": {
      "image/png": "[encoded data removed]",
      "text/plain": [
       "<Figure size 432x288 with 1 Axes>"
      ]
     },
     "metadata": {
      "needs_background": "light"
     },
     "output_type": "display_data"
    }
   ],
   "source": [
    "# This graph shows that, majority of applicatant's income lies between 1 to 3 lakh\n",
    "plt.hist(final_df['AMT_INCOME_TOTAL'], bins=20)\n",
    "plt.xlabel('Total Annual Income')\n",
    "plt.title('Histogram')\n",
    "plt.show()"
   ]
  },
  {
   "cell_type": "code",
   "execution_count": 197,
   "id": "99b9ffb3",
   "metadata": {},
   "outputs": [
    {
     "data": {
      "image/png": "[encoded data removed]",
      "text/plain": [
       "<Figure size 576x576 with 1 Axes>"
      ]
     },
     "metadata": {},
     "output_type": "display_data"
    }
   ],
   "source": [
    "# This graph shows that, majority of applicatant's are working professional\n",
    "plt.figure(figsize = (8,8))\n",
    "plt.pie(final_df['NAME_INCOME_TYPE'].value_counts(), labels=final_df['NAME_INCOME_TYPE'].value_counts().index, autopct='%1.2f%%')\n",
    "plt.title('% of Applications submitted based on Income Type')\n",
    "plt.legend()\n",
    "plt.show()"
   ]
  },
  {
   "cell_type": "code",
   "execution_count": 198,
   "id": "16130517",
   "metadata": {},
   "outputs": [
    {
     "data": {
      "image/png": "[encoded data removed]",
      "text/plain": [
       "<Figure size 576x576 with 1 Axes>"
      ]
     },
     "metadata": {},
     "output_type": "display_data"
    }
   ],
   "source": [
    "# This graph shows that, majority of applicatant's completed the Secondary Education\n",
    "plt.figure(figsize=(8,8))\n",
    "plt.pie(final_df['NAME_EDUCATION_TYPE'].value_counts(), labels=final_df['NAME_EDUCATION_TYPE'].value_counts().index, autopct='%1.2f%%')\n",
    "plt.title('% of Applications submitted based on Education')\n",
    "plt.legend()\n",
    "plt.show()"
   ]
  },
  {
   "cell_type": "code",
   "execution_count": 199,
   "id": "2aea105f",
   "metadata": {},
   "outputs": [
    {
     "name": "stderr",
     "output_type": "stream",
     "text": [
      "C:\\Users\\faisa\\anaconda3\\envs\\mldl\\lib\\site-packages\\seaborn\\_decorators.py:36: FutureWarning: Pass the following variables as keyword args: x, y. From version 0.12, the only valid positional argument will be `data`, and passing other arguments without an explicit keyword will result in an error or misinterpretation.\n",
      "  warnings.warn(\n"
     ]
    },
    {
     "data": {
      "image/png": "[encoded data removed]",
      "text/plain": [
       "<Figure size 576x576 with 1 Axes>"
      ]
     },
     "metadata": {
      "needs_background": "light"
     },
     "output_type": "display_data"
    }
   ],
   "source": [
    "# This graph shows that, majority of applicatant's are married\n",
    "plt.figure(figsize=(8,8))\n",
    "sns.barplot(final_df['NAME_FAMILY_STATUS'].value_counts().index, final_df['NAME_FAMILY_STATUS'].value_counts().values)\n",
    "plt.title('% of Applications submitted based on Family Status')\n",
    "plt.show()"
   ]
  },
  {
   "cell_type": "code",
   "execution_count": 200,
   "id": "a1e77c07",
   "metadata": {},
   "outputs": [
    {
     "name": "stderr",
     "output_type": "stream",
     "text": [
      "C:\\Users\\faisa\\anaconda3\\envs\\mldl\\lib\\site-packages\\seaborn\\_decorators.py:36: FutureWarning: Pass the following variables as keyword args: x, y. From version 0.12, the only valid positional argument will be `data`, and passing other arguments without an explicit keyword will result in an error or misinterpretation.\n",
      "  warnings.warn(\n"
     ]
    },
    {
     "data": {
      "image/png": "[encoded data removed]",
      "text/plain": [
       "<Figure size 864x360 with 1 Axes>"
      ]
     },
     "metadata": {
      "needs_background": "light"
     },
     "output_type": "display_data"
    }
   ],
   "source": [
    "# This graph shows that, majority of applicatant's lives in House / Apartment\n",
    "plt.figure(figsize=(12,5))\n",
    "sns.barplot(final_df['NAME_HOUSING_TYPE'].value_counts().index, final_df['NAME_HOUSING_TYPE'].value_counts().values)\n",
    "plt.title('% of Applications submitted based on Housing Type')\n",
    "plt.show()"
   ]
  },
  {
   "cell_type": "code",
   "execution_count": 201,
   "id": "4c512541",
   "metadata": {},
   "outputs": [
    {
     "data": {
      "image/png": "[encoded data removed]",
      "text/plain": [
       "<Figure size 432x288 with 1 Axes>"
      ]
     },
     "metadata": {
      "needs_background": "light"
     },
     "output_type": "display_data"
    }
   ],
   "source": [
    "# This graph shows that, majority of applicatant's are 25 to 65 years old\n",
    "plt.hist(final_df['AGE_YEARS'], bins=20)\n",
    "plt.xlabel('Age')\n",
    "plt.title('Histogram')\n",
    "plt.show()"
   ]
  },
  {
   "cell_type": "code",
   "execution_count": 202,
   "id": "eef7ef0c",
   "metadata": {},
   "outputs": [
    {
     "data": {
      "image/png": "[encoded data removed]",
      "text/plain": [
       "<Figure size 432x288 with 1 Axes>"
      ]
     },
     "metadata": {
      "needs_background": "light"
     },
     "output_type": "display_data"
    }
   ],
   "source": [
    "# This graph shows that, majority of applicatant's are Employed for 0 to 7 years\n",
    "plt.hist(final_df['YEARS_EMPLOYED'], bins=20)\n",
    "plt.xlabel('No of Years Employed')\n",
    "plt.title('Histogram')\n",
    "plt.show()"
   ]
  },
  {
   "cell_type": "code",
   "execution_count": 203,
   "id": "3c49ea1c",
   "metadata": {},
   "outputs": [
    {
     "name": "stderr",
     "output_type": "stream",
     "text": [
      "C:\\Users\\faisa\\anaconda3\\envs\\mldl\\lib\\site-packages\\seaborn\\_decorators.py:36: FutureWarning: Pass the following variables as keyword args: x, y. From version 0.12, the only valid positional argument will be `data`, and passing other arguments without an explicit keyword will result in an error or misinterpretation.\n",
      "  warnings.warn(\n"
     ]
    },
    {
     "data": {
      "image/png": "[encoded data removed]",
      "text/plain": [
       "<Figure size 432x288 with 1 Axes>"
      ]
     },
     "metadata": {
      "needs_background": "light"
     },
     "output_type": "display_data"
    }
   ],
   "source": [
    "# This graph shows that, majority of applications are rejected if Total income & years of Employment is less\n",
    "sns.scatterplot(final_df['YEARS_EMPLOYED'], final_df['AMT_INCOME_TOTAL'], hue=final_df['STATUS'])\n",
    "plt.title('Scatter Plot')\n",
    "plt.show()"
   ]
  },
  {
   "cell_type": "markdown",
   "id": "97f23d9d",
   "metadata": {},
   "source": [
    "### Data Preprocessing"
   ]
  },
  {
   "cell_type": "code",
   "execution_count": 204,
   "id": "cba24683",
   "metadata": {},
   "outputs": [
    {
     "data": {
      "text/html": [
       "<div>\n",
       "<style scoped>\n",
       "    .dataframe tbody tr th:only-of-type {\n",
       "        vertical-align: middle;\n",
       "    }\n",
       "\n",
       "    .dataframe tbody tr th {\n",
       "        vertical-align: top;\n",
       "    }\n",
       "\n",
       "    .dataframe thead th {\n",
       "        text-align: right;\n",
       "    }\n",
       "</style>\n",
       "<table border=\"1\" class=\"dataframe\">\n",
       "  <thead>\n",
       "    <tr style=\"text-align: right;\">\n",
       "      <th></th>\n",
       "      <th>CODE_GENDER</th>\n",
       "      <th>FLAG_OWN_CAR</th>\n",
       "      <th>FLAG_OWN_REALTY</th>\n",
       "      <th>CNT_CHILDREN</th>\n",
       "      <th>AMT_INCOME_TOTAL</th>\n",
       "      <th>NAME_INCOME_TYPE</th>\n",
       "      <th>NAME_EDUCATION_TYPE</th>\n",
       "      <th>NAME_FAMILY_STATUS</th>\n",
       "      <th>NAME_HOUSING_TYPE</th>\n",
       "      <th>AGE_YEARS</th>\n",
       "      <th>YEARS_EMPLOYED</th>\n",
       "      <th>CNT_FAM_MEMBERS</th>\n",
       "      <th>STATUS</th>\n",
       "    </tr>\n",
       "  </thead>\n",
       "  <tbody>\n",
       "    <tr>\n",
       "      <th>0</th>\n",
       "      <td>M</td>\n",
       "      <td>Y</td>\n",
       "      <td>Y</td>\n",
       "      <td>0</td>\n",
       "      <td>427500.0</td>\n",
       "      <td>Working</td>\n",
       "      <td>Higher education</td>\n",
       "      <td>Civil marriage</td>\n",
       "      <td>Rented apartment</td>\n",
       "      <td>33.0</td>\n",
       "      <td>12.0</td>\n",
       "      <td>2.0</td>\n",
       "      <td>1</td>\n",
       "    </tr>\n",
       "    <tr>\n",
       "      <th>1</th>\n",
       "      <td>M</td>\n",
       "      <td>Y</td>\n",
       "      <td>Y</td>\n",
       "      <td>0</td>\n",
       "      <td>112500.0</td>\n",
       "      <td>Working</td>\n",
       "      <td>Secondary / secondary special</td>\n",
       "      <td>Married</td>\n",
       "      <td>House / apartment</td>\n",
       "      <td>59.0</td>\n",
       "      <td>3.0</td>\n",
       "      <td>2.0</td>\n",
       "      <td>0</td>\n",
       "    </tr>\n",
       "    <tr>\n",
       "      <th>2</th>\n",
       "      <td>F</td>\n",
       "      <td>N</td>\n",
       "      <td>Y</td>\n",
       "      <td>0</td>\n",
       "      <td>270000.0</td>\n",
       "      <td>Commercial associate</td>\n",
       "      <td>Secondary / secondary special</td>\n",
       "      <td>Single / not married</td>\n",
       "      <td>House / apartment</td>\n",
       "      <td>52.0</td>\n",
       "      <td>8.0</td>\n",
       "      <td>1.0</td>\n",
       "      <td>0</td>\n",
       "    </tr>\n",
       "    <tr>\n",
       "      <th>3</th>\n",
       "      <td>F</td>\n",
       "      <td>N</td>\n",
       "      <td>Y</td>\n",
       "      <td>0</td>\n",
       "      <td>283500.0</td>\n",
       "      <td>Pensioner</td>\n",
       "      <td>Higher education</td>\n",
       "      <td>Separated</td>\n",
       "      <td>House / apartment</td>\n",
       "      <td>62.0</td>\n",
       "      <td>0.0</td>\n",
       "      <td>1.0</td>\n",
       "      <td>0</td>\n",
       "    </tr>\n",
       "    <tr>\n",
       "      <th>4</th>\n",
       "      <td>M</td>\n",
       "      <td>Y</td>\n",
       "      <td>Y</td>\n",
       "      <td>0</td>\n",
       "      <td>270000.0</td>\n",
       "      <td>Working</td>\n",
       "      <td>Higher education</td>\n",
       "      <td>Married</td>\n",
       "      <td>House / apartment</td>\n",
       "      <td>46.0</td>\n",
       "      <td>2.0</td>\n",
       "      <td>2.0</td>\n",
       "      <td>0</td>\n",
       "    </tr>\n",
       "  </tbody>\n",
       "</table>\n",
       "</div>"
      ],
      "text/plain": [
       "  CODE_GENDER FLAG_OWN_CAR FLAG_OWN_REALTY  CNT_CHILDREN  AMT_INCOME_TOTAL  \\\n",
       "0           M            Y               Y             0          427500.0   \n",
       "1           M            Y               Y             0          112500.0   \n",
       "2           F            N               Y             0          270000.0   \n",
       "3           F            N               Y             0          283500.0   \n",
       "4           M            Y               Y             0          270000.0   \n",
       "\n",
       "       NAME_INCOME_TYPE            NAME_EDUCATION_TYPE    NAME_FAMILY_STATUS  \\\n",
       "0               Working               Higher education        Civil marriage   \n",
       "1               Working  Secondary / secondary special               Married   \n",
       "2  Commercial associate  Secondary / secondary special  Single / not married   \n",
       "3             Pensioner               Higher education             Separated   \n",
       "4               Working               Higher education               Married   \n",
       "\n",
       "   NAME_HOUSING_TYPE  AGE_YEARS  YEARS_EMPLOYED  CNT_FAM_MEMBERS  STATUS  \n",
       "0   Rented apartment       33.0            12.0              2.0       1  \n",
       "1  House / apartment       59.0             3.0              2.0       0  \n",
       "2  House / apartment       52.0             8.0              1.0       0  \n",
       "3  House / apartment       62.0             0.0              1.0       0  \n",
       "4  House / apartment       46.0             2.0              2.0       0  "
      ]
     },
     "execution_count": 204,
     "metadata": {},
     "output_type": "execute_result"
    }
   ],
   "source": [
    "final_df.head()"
   ]
  },
  {
   "cell_type": "markdown",
   "id": "8fad9c36",
   "metadata": {},
   "source": [
    "#### Separated Data to Feature and Label"
   ]
  },
  {
   "cell_type": "code",
   "execution_count": 206,
   "id": "16928154",
   "metadata": {},
   "outputs": [
    {
     "data": {
      "text/plain": [
       "['CODE_GENDER',\n",
       " 'FLAG_OWN_CAR',\n",
       " 'FLAG_OWN_REALTY',\n",
       " 'NAME_INCOME_TYPE',\n",
       " 'NAME_EDUCATION_TYPE',\n",
       " 'NAME_FAMILY_STATUS',\n",
       " 'NAME_HOUSING_TYPE']"
      ]
     },
     "execution_count": 206,
     "metadata": {},
     "output_type": "execute_result"
    }
   ],
   "source": [
    "cat_columns = final_df.columns[(final_df.dtypes =='object').values].tolist()\n",
    "cat_columns"
   ]
  },
  {
   "cell_type": "code",
   "execution_count": 208,
   "id": "499310f0",
   "metadata": {},
   "outputs": [
    {
     "name": "stdout",
     "output_type": "stream",
     "text": [
      "CODE_GENDER   :  ['F' 'M']\n",
      "FLAG_OWN_CAR   :  ['N' 'Y']\n",
      "FLAG_OWN_REALTY   :  ['N' 'Y']\n",
      "NAME_INCOME_TYPE   :  ['Commercial associate' 'Pensioner' 'State servant' 'Student' 'Working']\n",
      "NAME_EDUCATION_TYPE   :  ['Academic degree' 'Higher education' 'Incomplete higher'\n",
      " 'Lower secondary' 'Secondary / secondary special']\n",
      "NAME_FAMILY_STATUS   :  ['Civil marriage' 'Married' 'Separated' 'Single / not married' 'Widow']\n",
      "NAME_HOUSING_TYPE   :  ['Co-op apartment' 'House / apartment' 'Municipal apartment'\n",
      " 'Office apartment' 'Rented apartment' 'With parents']\n"
     ]
    }
   ],
   "source": [
    "for col in cat_columns:\n",
    "    print(col , \"  : \", globals()['LE_{}'.format(col)].classes_)"
   ]
  },
  {
   "cell_type": "code",
   "execution_count": 209,
   "id": "07af7c13",
   "metadata": {},
   "outputs": [
    {
     "data": {
      "text/html": [
       "<div>\n",
       "<style scoped>\n",
       "    .dataframe tbody tr th:only-of-type {\n",
       "        vertical-align: middle;\n",
       "    }\n",
       "\n",
       "    .dataframe tbody tr th {\n",
       "        vertical-align: top;\n",
       "    }\n",
       "\n",
       "    .dataframe thead th {\n",
       "        text-align: right;\n",
       "    }\n",
       "</style>\n",
       "<table border=\"1\" class=\"dataframe\">\n",
       "  <thead>\n",
       "    <tr style=\"text-align: right;\">\n",
       "      <th></th>\n",
       "      <th>CODE_GENDER</th>\n",
       "      <th>FLAG_OWN_CAR</th>\n",
       "      <th>FLAG_OWN_REALTY</th>\n",
       "      <th>CNT_CHILDREN</th>\n",
       "      <th>AMT_INCOME_TOTAL</th>\n",
       "      <th>NAME_INCOME_TYPE</th>\n",
       "      <th>NAME_EDUCATION_TYPE</th>\n",
       "      <th>NAME_FAMILY_STATUS</th>\n",
       "      <th>NAME_HOUSING_TYPE</th>\n",
       "      <th>AGE_YEARS</th>\n",
       "      <th>YEARS_EMPLOYED</th>\n",
       "      <th>CNT_FAM_MEMBERS</th>\n",
       "      <th>STATUS</th>\n",
       "    </tr>\n",
       "  </thead>\n",
       "  <tbody>\n",
       "    <tr>\n",
       "      <th>CODE_GENDER</th>\n",
       "      <td>1.000000</td>\n",
       "      <td>0.348258</td>\n",
       "      <td>-0.052846</td>\n",
       "      <td>0.051202</td>\n",
       "      <td>0.194073</td>\n",
       "      <td>0.073146</td>\n",
       "      <td>0.013074</td>\n",
       "      <td>-0.075379</td>\n",
       "      <td>0.052509</td>\n",
       "      <td>-0.157520</td>\n",
       "      <td>-0.045253</td>\n",
       "      <td>0.077519</td>\n",
       "      <td>0.002287</td>\n",
       "    </tr>\n",
       "    <tr>\n",
       "      <th>FLAG_OWN_CAR</th>\n",
       "      <td>0.348258</td>\n",
       "      <td>1.000000</td>\n",
       "      <td>-0.000610</td>\n",
       "      <td>0.084779</td>\n",
       "      <td>0.218197</td>\n",
       "      <td>0.029586</td>\n",
       "      <td>-0.086370</td>\n",
       "      <td>-0.124633</td>\n",
       "      <td>-0.011162</td>\n",
       "      <td>-0.106839</td>\n",
       "      <td>0.007727</td>\n",
       "      <td>0.135368</td>\n",
       "      <td>-0.003441</td>\n",
       "    </tr>\n",
       "    <tr>\n",
       "      <th>FLAG_OWN_REALTY</th>\n",
       "      <td>-0.052846</td>\n",
       "      <td>-0.000610</td>\n",
       "      <td>1.000000</td>\n",
       "      <td>0.004486</td>\n",
       "      <td>0.035862</td>\n",
       "      <td>-0.034453</td>\n",
       "      <td>0.003750</td>\n",
       "      <td>-0.010842</td>\n",
       "      <td>-0.178554</td>\n",
       "      <td>0.121482</td>\n",
       "      <td>-0.009743</td>\n",
       "      <td>0.011068</td>\n",
       "      <td>-0.023335</td>\n",
       "    </tr>\n",
       "    <tr>\n",
       "      <th>CNT_CHILDREN</th>\n",
       "      <td>0.051202</td>\n",
       "      <td>0.084779</td>\n",
       "      <td>0.004486</td>\n",
       "      <td>1.000000</td>\n",
       "      <td>0.028182</td>\n",
       "      <td>0.088801</td>\n",
       "      <td>-0.018257</td>\n",
       "      <td>-0.150328</td>\n",
       "      <td>0.006105</td>\n",
       "      <td>-0.308425</td>\n",
       "      <td>0.027988</td>\n",
       "      <td>0.893466</td>\n",
       "      <td>0.005660</td>\n",
       "    </tr>\n",
       "    <tr>\n",
       "      <th>AMT_INCOME_TOTAL</th>\n",
       "      <td>0.194073</td>\n",
       "      <td>0.218197</td>\n",
       "      <td>0.035862</td>\n",
       "      <td>0.028182</td>\n",
       "      <td>1.000000</td>\n",
       "      <td>-0.085819</td>\n",
       "      <td>-0.231292</td>\n",
       "      <td>-0.011367</td>\n",
       "      <td>-0.011896</td>\n",
       "      <td>-0.049158</td>\n",
       "      <td>0.075775</td>\n",
       "      <td>0.024369</td>\n",
       "      <td>0.024117</td>\n",
       "    </tr>\n",
       "    <tr>\n",
       "      <th>NAME_INCOME_TYPE</th>\n",
       "      <td>0.073146</td>\n",
       "      <td>0.029586</td>\n",
       "      <td>-0.034453</td>\n",
       "      <td>0.088801</td>\n",
       "      <td>-0.085819</td>\n",
       "      <td>1.000000</td>\n",
       "      <td>0.078123</td>\n",
       "      <td>-0.029218</td>\n",
       "      <td>0.035912</td>\n",
       "      <td>-0.192125</td>\n",
       "      <td>0.160882</td>\n",
       "      <td>0.082886</td>\n",
       "      <td>-0.002845</td>\n",
       "    </tr>\n",
       "    <tr>\n",
       "      <th>NAME_EDUCATION_TYPE</th>\n",
       "      <td>0.013074</td>\n",
       "      <td>-0.086370</td>\n",
       "      <td>0.003750</td>\n",
       "      <td>-0.018257</td>\n",
       "      <td>-0.231292</td>\n",
       "      <td>0.078123</td>\n",
       "      <td>1.000000</td>\n",
       "      <td>0.003987</td>\n",
       "      <td>-0.032279</td>\n",
       "      <td>0.146140</td>\n",
       "      <td>-0.015747</td>\n",
       "      <td>-0.015563</td>\n",
       "      <td>-0.007191</td>\n",
       "    </tr>\n",
       "    <tr>\n",
       "      <th>NAME_FAMILY_STATUS</th>\n",
       "      <td>-0.075379</td>\n",
       "      <td>-0.124633</td>\n",
       "      <td>-0.010842</td>\n",
       "      <td>-0.150328</td>\n",
       "      <td>-0.011367</td>\n",
       "      <td>-0.029218</td>\n",
       "      <td>0.003987</td>\n",
       "      <td>1.000000</td>\n",
       "      <td>0.039331</td>\n",
       "      <td>0.076252</td>\n",
       "      <td>-0.053509</td>\n",
       "      <td>-0.527135</td>\n",
       "      <td>0.003678</td>\n",
       "    </tr>\n",
       "    <tr>\n",
       "      <th>NAME_HOUSING_TYPE</th>\n",
       "      <td>0.052509</td>\n",
       "      <td>-0.011162</td>\n",
       "      <td>-0.178554</td>\n",
       "      <td>0.006105</td>\n",
       "      <td>-0.011896</td>\n",
       "      <td>0.035912</td>\n",
       "      <td>-0.032279</td>\n",
       "      <td>0.039331</td>\n",
       "      <td>1.000000</td>\n",
       "      <td>-0.219183</td>\n",
       "      <td>-0.042634</td>\n",
       "      <td>-0.024094</td>\n",
       "      <td>0.016737</td>\n",
       "    </tr>\n",
       "    <tr>\n",
       "      <th>AGE_YEARS</th>\n",
       "      <td>-0.157520</td>\n",
       "      <td>-0.106839</td>\n",
       "      <td>0.121482</td>\n",
       "      <td>-0.308425</td>\n",
       "      <td>-0.049158</td>\n",
       "      <td>-0.192125</td>\n",
       "      <td>0.146140</td>\n",
       "      <td>0.076252</td>\n",
       "      <td>-0.219183</td>\n",
       "      <td>1.000000</td>\n",
       "      <td>0.021876</td>\n",
       "      <td>-0.267035</td>\n",
       "      <td>-0.023447</td>\n",
       "    </tr>\n",
       "    <tr>\n",
       "      <th>YEARS_EMPLOYED</th>\n",
       "      <td>-0.045253</td>\n",
       "      <td>0.007727</td>\n",
       "      <td>-0.009743</td>\n",
       "      <td>0.027988</td>\n",
       "      <td>0.075775</td>\n",
       "      <td>0.160882</td>\n",
       "      <td>-0.015747</td>\n",
       "      <td>-0.053509</td>\n",
       "      <td>-0.042634</td>\n",
       "      <td>0.021876</td>\n",
       "      <td>1.000000</td>\n",
       "      <td>0.049221</td>\n",
       "      <td>-0.000508</td>\n",
       "    </tr>\n",
       "    <tr>\n",
       "      <th>CNT_FAM_MEMBERS</th>\n",
       "      <td>0.077519</td>\n",
       "      <td>0.135368</td>\n",
       "      <td>0.011068</td>\n",
       "      <td>0.893466</td>\n",
       "      <td>0.024369</td>\n",
       "      <td>0.082886</td>\n",
       "      <td>-0.015563</td>\n",
       "      <td>-0.527135</td>\n",
       "      <td>-0.024094</td>\n",
       "      <td>-0.267035</td>\n",
       "      <td>0.049221</td>\n",
       "      <td>1.000000</td>\n",
       "      <td>0.005236</td>\n",
       "    </tr>\n",
       "    <tr>\n",
       "      <th>STATUS</th>\n",
       "      <td>0.002287</td>\n",
       "      <td>-0.003441</td>\n",
       "      <td>-0.023335</td>\n",
       "      <td>0.005660</td>\n",
       "      <td>0.024117</td>\n",
       "      <td>-0.002845</td>\n",
       "      <td>-0.007191</td>\n",
       "      <td>0.003678</td>\n",
       "      <td>0.016737</td>\n",
       "      <td>-0.023447</td>\n",
       "      <td>-0.000508</td>\n",
       "      <td>0.005236</td>\n",
       "      <td>1.000000</td>\n",
       "    </tr>\n",
       "  </tbody>\n",
       "</table>\n",
       "</div>"
      ],
      "text/plain": [
       "                     CODE_GENDER  FLAG_OWN_CAR  FLAG_OWN_REALTY  CNT_CHILDREN  \\\n",
       "CODE_GENDER             1.000000      0.348258        -0.052846      0.051202   \n",
       "FLAG_OWN_CAR            0.348258      1.000000        -0.000610      0.084779   \n",
       "FLAG_OWN_REALTY        -0.052846     -0.000610         1.000000      0.004486   \n",
       "CNT_CHILDREN            0.051202      0.084779         0.004486      1.000000   \n",
       "AMT_INCOME_TOTAL        0.194073      0.218197         0.035862      0.028182   \n",
       "NAME_INCOME_TYPE        0.073146      0.029586        -0.034453      0.088801   \n",
       "NAME_EDUCATION_TYPE     0.013074     -0.086370         0.003750     -0.018257   \n",
       "NAME_FAMILY_STATUS     -0.075379     -0.124633        -0.010842     -0.150328   \n",
       "NAME_HOUSING_TYPE       0.052509     -0.011162        -0.178554      0.006105   \n",
       "AGE_YEARS              -0.157520     -0.106839         0.121482     -0.308425   \n",
       "YEARS_EMPLOYED         -0.045253      0.007727        -0.009743      0.027988   \n",
       "CNT_FAM_MEMBERS         0.077519      0.135368         0.011068      0.893466   \n",
       "STATUS                  0.002287     -0.003441        -0.023335      0.005660   \n",
       "\n",
       "                     AMT_INCOME_TOTAL  NAME_INCOME_TYPE  NAME_EDUCATION_TYPE  \\\n",
       "CODE_GENDER                  0.194073          0.073146             0.013074   \n",
       "FLAG_OWN_CAR                 0.218197          0.029586            -0.086370   \n",
       "FLAG_OWN_REALTY              0.035862         -0.034453             0.003750   \n",
       "CNT_CHILDREN                 0.028182          0.088801            -0.018257   \n",
       "AMT_INCOME_TOTAL             1.000000         -0.085819            -0.231292   \n",
       "NAME_INCOME_TYPE            -0.085819          1.000000             0.078123   \n",
       "NAME_EDUCATION_TYPE         -0.231292          0.078123             1.000000   \n",
       "NAME_FAMILY_STATUS          -0.011367         -0.029218             0.003987   \n",
       "NAME_HOUSING_TYPE           -0.011896          0.035912            -0.032279   \n",
       "AGE_YEARS                   -0.049158         -0.192125             0.146140   \n",
       "YEARS_EMPLOYED               0.075775          0.160882            -0.015747   \n",
       "CNT_FAM_MEMBERS              0.024369          0.082886            -0.015563   \n",
       "STATUS                       0.024117         -0.002845            -0.007191   \n",
       "\n",
       "                     NAME_FAMILY_STATUS  NAME_HOUSING_TYPE  AGE_YEARS  \\\n",
       "CODE_GENDER                   -0.075379           0.052509  -0.157520   \n",
       "FLAG_OWN_CAR                  -0.124633          -0.011162  -0.106839   \n",
       "FLAG_OWN_REALTY               -0.010842          -0.178554   0.121482   \n",
       "CNT_CHILDREN                  -0.150328           0.006105  -0.308425   \n",
       "AMT_INCOME_TOTAL              -0.011367          -0.011896  -0.049158   \n",
       "NAME_INCOME_TYPE              -0.029218           0.035912  -0.192125   \n",
       "NAME_EDUCATION_TYPE            0.003987          -0.032279   0.146140   \n",
       "NAME_FAMILY_STATUS             1.000000           0.039331   0.076252   \n",
       "NAME_HOUSING_TYPE              0.039331           1.000000  -0.219183   \n",
       "AGE_YEARS                      0.076252          -0.219183   1.000000   \n",
       "YEARS_EMPLOYED                -0.053509          -0.042634   0.021876   \n",
       "CNT_FAM_MEMBERS               -0.527135          -0.024094  -0.267035   \n",
       "STATUS                         0.003678           0.016737  -0.023447   \n",
       "\n",
       "                     YEARS_EMPLOYED  CNT_FAM_MEMBERS    STATUS  \n",
       "CODE_GENDER               -0.045253         0.077519  0.002287  \n",
       "FLAG_OWN_CAR               0.007727         0.135368 -0.003441  \n",
       "FLAG_OWN_REALTY           -0.009743         0.011068 -0.023335  \n",
       "CNT_CHILDREN               0.027988         0.893466  0.005660  \n",
       "AMT_INCOME_TOTAL           0.075775         0.024369  0.024117  \n",
       "NAME_INCOME_TYPE           0.160882         0.082886 -0.002845  \n",
       "NAME_EDUCATION_TYPE       -0.015747        -0.015563 -0.007191  \n",
       "NAME_FAMILY_STATUS        -0.053509        -0.527135  0.003678  \n",
       "NAME_HOUSING_TYPE         -0.042634        -0.024094  0.016737  \n",
       "AGE_YEARS                  0.021876        -0.267035 -0.023447  \n",
       "YEARS_EMPLOYED             1.000000         0.049221 -0.000508  \n",
       "CNT_FAM_MEMBERS            0.049221         1.000000  0.005236  \n",
       "STATUS                    -0.000508         0.005236  1.000000  "
      ]
     },
     "execution_count": 209,
     "metadata": {},
     "output_type": "execute_result"
    }
   ],
   "source": [
    "final_df.corr()"
   ]
  },
  {
   "cell_type": "code",
   "execution_count": 210,
   "id": "d5c2b0ff",
   "metadata": {},
   "outputs": [],
   "source": [
    "features = final_df.drop(['STATUS'], axis=1)\n",
    "label = final_df['STATUS']"
   ]
  },
  {
   "cell_type": "code",
   "execution_count": 211,
   "id": "b89c60ed",
   "metadata": {},
   "outputs": [
    {
     "data": {
      "text/html": [
       "<div>\n",
       "<style scoped>\n",
       "    .dataframe tbody tr th:only-of-type {\n",
       "        vertical-align: middle;\n",
       "    }\n",
       "\n",
       "    .dataframe tbody tr th {\n",
       "        vertical-align: top;\n",
       "    }\n",
       "\n",
       "    .dataframe thead th {\n",
       "        text-align: right;\n",
       "    }\n",
       "</style>\n",
       "<table border=\"1\" class=\"dataframe\">\n",
       "  <thead>\n",
       "    <tr style=\"text-align: right;\">\n",
       "      <th></th>\n",
       "      <th>CODE_GENDER</th>\n",
       "      <th>FLAG_OWN_CAR</th>\n",
       "      <th>FLAG_OWN_REALTY</th>\n",
       "      <th>CNT_CHILDREN</th>\n",
       "      <th>AMT_INCOME_TOTAL</th>\n",
       "      <th>NAME_INCOME_TYPE</th>\n",
       "      <th>NAME_EDUCATION_TYPE</th>\n",
       "      <th>NAME_FAMILY_STATUS</th>\n",
       "      <th>NAME_HOUSING_TYPE</th>\n",
       "      <th>AGE_YEARS</th>\n",
       "      <th>YEARS_EMPLOYED</th>\n",
       "      <th>CNT_FAM_MEMBERS</th>\n",
       "    </tr>\n",
       "  </thead>\n",
       "  <tbody>\n",
       "    <tr>\n",
       "      <th>0</th>\n",
       "      <td>1</td>\n",
       "      <td>1</td>\n",
       "      <td>1</td>\n",
       "      <td>0</td>\n",
       "      <td>427500.0</td>\n",
       "      <td>4</td>\n",
       "      <td>1</td>\n",
       "      <td>0</td>\n",
       "      <td>4</td>\n",
       "      <td>33.0</td>\n",
       "      <td>12.0</td>\n",
       "      <td>2.0</td>\n",
       "    </tr>\n",
       "    <tr>\n",
       "      <th>1</th>\n",
       "      <td>1</td>\n",
       "      <td>1</td>\n",
       "      <td>1</td>\n",
       "      <td>0</td>\n",
       "      <td>112500.0</td>\n",
       "      <td>4</td>\n",
       "      <td>4</td>\n",
       "      <td>1</td>\n",
       "      <td>1</td>\n",
       "      <td>59.0</td>\n",
       "      <td>3.0</td>\n",
       "      <td>2.0</td>\n",
       "    </tr>\n",
       "    <tr>\n",
       "      <th>2</th>\n",
       "      <td>0</td>\n",
       "      <td>0</td>\n",
       "      <td>1</td>\n",
       "      <td>0</td>\n",
       "      <td>270000.0</td>\n",
       "      <td>0</td>\n",
       "      <td>4</td>\n",
       "      <td>3</td>\n",
       "      <td>1</td>\n",
       "      <td>52.0</td>\n",
       "      <td>8.0</td>\n",
       "      <td>1.0</td>\n",
       "    </tr>\n",
       "    <tr>\n",
       "      <th>3</th>\n",
       "      <td>0</td>\n",
       "      <td>0</td>\n",
       "      <td>1</td>\n",
       "      <td>0</td>\n",
       "      <td>283500.0</td>\n",
       "      <td>1</td>\n",
       "      <td>1</td>\n",
       "      <td>2</td>\n",
       "      <td>1</td>\n",
       "      <td>62.0</td>\n",
       "      <td>0.0</td>\n",
       "      <td>1.0</td>\n",
       "    </tr>\n",
       "    <tr>\n",
       "      <th>4</th>\n",
       "      <td>1</td>\n",
       "      <td>1</td>\n",
       "      <td>1</td>\n",
       "      <td>0</td>\n",
       "      <td>270000.0</td>\n",
       "      <td>4</td>\n",
       "      <td>1</td>\n",
       "      <td>1</td>\n",
       "      <td>1</td>\n",
       "      <td>46.0</td>\n",
       "      <td>2.0</td>\n",
       "      <td>2.0</td>\n",
       "    </tr>\n",
       "  </tbody>\n",
       "</table>\n",
       "</div>"
      ],
      "text/plain": [
       "   CODE_GENDER  FLAG_OWN_CAR  FLAG_OWN_REALTY  CNT_CHILDREN  AMT_INCOME_TOTAL  \\\n",
       "0            1             1                1             0          427500.0   \n",
       "1            1             1                1             0          112500.0   \n",
       "2            0             0                1             0          270000.0   \n",
       "3            0             0                1             0          283500.0   \n",
       "4            1             1                1             0          270000.0   \n",
       "\n",
       "   NAME_INCOME_TYPE  NAME_EDUCATION_TYPE  NAME_FAMILY_STATUS  \\\n",
       "0                 4                    1                   0   \n",
       "1                 4                    4                   1   \n",
       "2                 0                    4                   3   \n",
       "3                 1                    1                   2   \n",
       "4                 4                    1                   1   \n",
       "\n",
       "   NAME_HOUSING_TYPE  AGE_YEARS  YEARS_EMPLOYED  CNT_FAM_MEMBERS  \n",
       "0                  4       33.0            12.0              2.0  \n",
       "1                  1       59.0             3.0              2.0  \n",
       "2                  1       52.0             8.0              1.0  \n",
       "3                  1       62.0             0.0              1.0  \n",
       "4                  1       46.0             2.0              2.0  "
      ]
     },
     "execution_count": 211,
     "metadata": {},
     "output_type": "execute_result"
    }
   ],
   "source": [
    "features.head()"
   ]
  },
  {
   "cell_type": "code",
   "execution_count": 212,
   "id": "d67df6d9",
   "metadata": {},
   "outputs": [
    {
     "data": {
      "text/plain": [
       "0    1\n",
       "1    0\n",
       "2    0\n",
       "3    0\n",
       "4    0\n",
       "Name: STATUS, dtype: int32"
      ]
     },
     "execution_count": 212,
     "metadata": {},
     "output_type": "execute_result"
    }
   ],
   "source": [
    "label.head()"
   ]
  },
  {
   "cell_type": "markdown",
   "id": "1601082e",
   "metadata": {},
   "source": [
    "#### Check Imbalanced Data"
   ]
  },
  {
   "cell_type": "code",
   "execution_count": 213,
   "id": "40123bc0",
   "metadata": {},
   "outputs": [],
   "source": [
    "oversample = SMOTE(k_neighbors=5)\n",
    "X_smote, Y_smote = oversample.fit_resample(features, label)"
   ]
  },
  {
   "cell_type": "code",
   "execution_count": 216,
   "id": "f2ea4b81",
   "metadata": {},
   "outputs": [
    {
     "name": "stdout",
     "output_type": "stream",
     "text": [
      "Counter({1: 8711, 0: 8711})\n"
     ]
    }
   ],
   "source": [
    "counter = Counter(Y_smote)\n",
    "print(counter)"
   ]
  },
  {
   "cell_type": "markdown",
   "id": "6887889b",
   "metadata": {},
   "source": [
    "#### Normalization Data"
   ]
  },
  {
   "cell_type": "code",
   "execution_count": 218,
   "id": "2ba0d3ff",
   "metadata": {},
   "outputs": [
    {
     "name": "stdout",
     "output_type": "stream",
     "text": [
      "[[1.         1.         1.         ... 0.25       0.27906977 0.05263158]\n",
      " [1.         1.         1.         ... 0.79166667 0.06976744 0.05263158]\n",
      " [0.         0.         1.         ... 0.64583333 0.18604651 0.        ]\n",
      " ...\n",
      " [0.         0.         0.         ... 0.37057125 0.42281697 0.07335316]\n",
      " [0.         0.         1.         ... 0.46499523 0.30232558 0.01683005]\n",
      " [0.         0.         1.         ... 0.4275966  0.30232558 0.07765068]]\n"
     ]
    }
   ],
   "source": [
    "scaler_minmax =  MinMaxScaler()\n",
    "# transform data\n",
    "X_scaled = scaler_minmax.fit_transform(X_smote)\n",
    "print(X_scaled)"
   ]
  },
  {
   "cell_type": "markdown",
   "id": "460146d8",
   "metadata": {},
   "source": [
    "#### Split Data to Train and Test"
   ]
  },
  {
   "cell_type": "code",
   "execution_count": 221,
   "id": "ebb47f22",
   "metadata": {},
   "outputs": [],
   "source": [
    "X_train,X_test,Y_train,Y_test = train_test_split(X_scaled, Y_smote, test_size = 0.2, random_state = 42)"
   ]
  },
  {
   "cell_type": "code",
   "execution_count": 222,
   "id": "318d5746",
   "metadata": {},
   "outputs": [
    {
     "name": "stdout",
     "output_type": "stream",
     "text": [
      "(13937, 12)\n",
      "(3485, 12)\n"
     ]
    }
   ],
   "source": [
    "print(X_train.shape)\n",
    "print(X_test.shape)"
   ]
  },
  {
   "cell_type": "markdown",
   "id": "c88b46e2",
   "metadata": {},
   "source": [
    "## Modeling"
   ]
  },
  {
   "cell_type": "code",
   "execution_count": 223,
   "id": "38814067",
   "metadata": {},
   "outputs": [],
   "source": [
    "model = LogisticRegression(solver='liblinear', random_state=4)"
   ]
  },
  {
   "cell_type": "code",
   "execution_count": 224,
   "id": "581085c5",
   "metadata": {},
   "outputs": [
    {
     "data": {
      "text/plain": [
       "LogisticRegression(random_state=4, solver='liblinear')"
      ]
     },
     "execution_count": 224,
     "metadata": {},
     "output_type": "execute_result"
    }
   ],
   "source": [
    "model.fit(X_train, Y_train)"
   ]
  },
  {
   "cell_type": "code",
   "execution_count": null,
   "id": "b9fb243f",
   "metadata": {},
   "outputs": [],
   "source": []
  },
  {
   "cell_type": "markdown",
   "id": "4c760752",
   "metadata": {},
   "source": [
    "### Evaluating Model"
   ]
  },
  {
   "cell_type": "code",
   "execution_count": 226,
   "id": "dfccfad3",
   "metadata": {},
   "outputs": [],
   "source": [
    "y_pred = model.predict(X_test)"
   ]
  },
  {
   "cell_type": "code",
   "execution_count": 229,
   "id": "c323401d",
   "metadata": {},
   "outputs": [
    {
     "name": "stdout",
     "output_type": "stream",
     "text": [
      "Logistic Model Accuracy :  63.90243902439025 %\n"
     ]
    }
   ],
   "source": [
    "print('Logistic Model Accuracy : ', model.score(X_test, Y_test)*100, '%')"
   ]
  },
  {
   "cell_type": "code",
   "execution_count": 232,
   "id": "6c6a76c1",
   "metadata": {},
   "outputs": [
    {
     "name": "stdout",
     "output_type": "stream",
     "text": [
      "[[1113  687]\n",
      " [ 571 1114]]\n",
      "              precision    recall  f1-score   support\n",
      "\n",
      "           0       0.66      0.62      0.64      1800\n",
      "           1       0.62      0.66      0.64      1685\n",
      "\n",
      "    accuracy                           0.64      3485\n",
      "   macro avg       0.64      0.64      0.64      3485\n",
      "weighted avg       0.64      0.64      0.64      3485\n",
      "\n"
     ]
    }
   ],
   "source": [
    "print(confusion_matrix(Y_test, y_pred))\n",
    "print(classification_report(Y_test, y_pred))"
   ]
  },
  {
   "cell_type": "code",
   "execution_count": 234,
   "id": "fba5639d",
   "metadata": {},
   "outputs": [
    {
     "data": {
      "image/png": "[encoded data removed]",
      "text/plain": [
       "<Figure size 432x288 with 1 Axes>"
      ]
     },
     "metadata": {
      "needs_background": "light"
     },
     "output_type": "display_data"
    }
   ],
   "source": [
    "prob_estimates = model.predict_proba(X_test)\n",
    "\n",
    "fpr, tpr, threshold = roc_curve(Y_test, prob_estimates[:,1])\n",
    "nilai_auc = auc(fpr,tpr)\n",
    "\n",
    "plt.plot(fpr, tpr, 'b', label=f'AUC={nilai_auc}')\n",
    "plt.plot([0,1], [0,1], 'r--', label='Random Classifier')\n",
    "\n",
    "plt.title('ROC: Reciever OPerating Characteristic')\n",
    "plt.xlabel('Fallout or False Positive Rate')\n",
    "plt.ylabel('REcal or True Positive Rate')\n",
    "plt.legend()\n",
    "plt.show()"
   ]
  },
  {
   "cell_type": "code",
   "execution_count": null,
   "id": "d9d8f7d5",
   "metadata": {},
   "outputs": [],
   "source": []
  }
 ],
 "metadata": {
  "kernelspec": {
   "display_name": "Python 3",
   "language": "python",
   "name": "python3"
  },
  "language_info": {
   "codemirror_mode": {
    "name": "ipython",
    "version": 3
   },
   "file_extension": ".py",
   "mimetype": "text/x-python",
   "name": "python",
   "nbconvert_exporter": "python",
   "pygments_lexer": "ipython3",
   "version": "3.8.8"
  }
 },
 "nbformat": 4,
 "nbformat_minor": 5
}
