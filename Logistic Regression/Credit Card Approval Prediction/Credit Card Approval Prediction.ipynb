{
 "cells": [
  {
   "cell_type": "markdown",
   "id": "0e24ffcc",
   "metadata": {},
   "source": [
    "# Credit Card Approval Prediction\n",
    "\n",
    "Kredit bagi masyarakat bukanlah masalah yang asing, Kredit merupakan salah satu pembiayaan sebagian besar dari kegiatan ekonomi dan sumber dana yang penting untuk setiap jenis usaha. Sebelum dimulainya pemberian kredit kepada nasabah diperlukan suatumengidentifikasi dan memprediksi\n",
    " \n",
    "yang baik \n",
    " \n",
    "dan seksesama terhadap semua aspek  perkreditan yang dapat menunjang proses pemberian kredit, guna mencegah timbulnyamasalah resiko kredit.Setiap tahunnya industri perbankan mengalami peningkatan nasabah untuk kredit.Maka dari itu dalam menghadapi masalah resiko kredit yang dialami oleh Industri perbankansaat ini salah satunya dapat diatasi dengan mengidentifikasi dan memprediksi nasabahdengan baik sebelum memberikan pinjaman dengan cara memperhatikan data historis pinjaman. Oleh karena itu klasifikasi resiko kredit dalam perbankan memiliki peran yang penting. Apabila pengklasifikasian resiko kredit mengalami kesalahan, maka salah satudampak yang ditimbulkan adalah kredit macet. Kredit macet dapat menyebabkankebangkrutan pada bank\n",
    "\n",
    "## Import Package yang Dibutuhkan"
   ]
  },
  {
   "cell_type": "code",
   "execution_count": 92,
   "id": "a3b9704c",
   "metadata": {
    "ExecuteTime": {
     "end_time": "2021-12-10T14:53:31.277215Z",
     "start_time": "2021-12-10T14:53:25.944713Z"
    }
   },
   "outputs": [
    {
     "name": "stdout",
     "output_type": "stream",
     "text": [
      "Collecting imblearn\n",
      "  Downloading imblearn-0.0-py2.py3-none-any.whl (1.9 kB)\n",
      "Collecting imbalanced-learn\n",
      "  Using cached imbalanced_learn-0.8.1-py3-none-any.whl (189 kB)\n",
      "Requirement already satisfied: scipy>=0.19.1 in c:\\users\\faisa\\anaconda3\\lib\\site-packages (from imbalanced-learn->imblearn) (1.7.1)\n",
      "Requirement already satisfied: joblib>=0.11 in c:\\users\\faisa\\anaconda3\\lib\\site-packages (from imbalanced-learn->imblearn) (1.1.0)\n",
      "Requirement already satisfied: numpy>=1.13.3 in c:\\users\\faisa\\anaconda3\\lib\\site-packages (from imbalanced-learn->imblearn) (1.20.3)\n",
      "Requirement already satisfied: scikit-learn>=0.24 in c:\\users\\faisa\\anaconda3\\lib\\site-packages (from imbalanced-learn->imblearn) (0.24.2)\n",
      "Requirement already satisfied: threadpoolctl>=2.0.0 in c:\\users\\faisa\\anaconda3\\lib\\site-packages (from scikit-learn>=0.24->imbalanced-learn->imblearn) (2.2.0)\n",
      "Installing collected packages: imbalanced-learn, imblearn\n",
      "Successfully installed imbalanced-learn-0.8.1 imblearn-0.0\n"
     ]
    }
   ],
   "source": [
    "!pip install imblearn"
   ]
  },
  {
   "cell_type": "code",
   "execution_count": 93,
   "id": "9cf3041c",
   "metadata": {
    "ExecuteTime": {
     "end_time": "2021-12-10T14:53:35.396850Z",
     "start_time": "2021-12-10T14:53:33.791932Z"
    }
   },
   "outputs": [],
   "source": [
    "import numpy as np\n",
    "import pandas as pd\n",
    "from scipy import stats\n",
    "from zipfile import ZipFile\n",
    "import seaborn as sns\n",
    "# !pip install imbalanced_learn\n",
    "from imblearn.over_sampling import SMOTE\n",
    "from collections import Counter\n",
    "import matplotlib.pyplot as plt\n",
    "from sklearn import svm\n",
    "from sklearn.linear_model import LogisticRegression\n",
    "from sklearn.model_selection import train_test_split, GridSearchCV\n",
    "from sklearn.preprocessing import MinMaxScaler, StandardScaler\n",
    "from sklearn.metrics import confusion_matrix, roc_curve, auc,classification_report, accuracy_score"
   ]
  },
  {
   "cell_type": "markdown",
   "id": "367061ca",
   "metadata": {},
   "source": [
    "## Load Dataset\n",
    "Informasi Dataset:\n"
   ]
  },
  {
   "cell_type": "markdown",
   "id": "24382dd2",
   "metadata": {},
   "source": [
    "| Jenis | Keterangan | \n",
    "| ----------- | :---------: | \n",
    "| Sumber | https://www.kaggle.com/rikdifos/credit-card-approval-prediction | \n",
    "| Kategori | Layak (0) dan Tidak Layak(1)| "
   ]
  },
  {
   "cell_type": "code",
   "execution_count": 13,
   "id": "148303fc",
   "metadata": {
    "ExecuteTime": {
     "end_time": "2021-12-10T14:52:06.944513Z",
     "start_time": "2021-12-10T14:52:06.177569Z"
    }
   },
   "outputs": [],
   "source": [
    "zip_dir = \"../Data/archive.zip\"\n",
    "zip_ref = ZipFile(zip_dir, 'r')\n",
    "zip_ref\n",
    "zip_ref.extractall()\n",
    "zip_ref.close()"
   ]
  },
  {
   "cell_type": "code",
   "execution_count": 14,
   "id": "4817c654",
   "metadata": {
    "ExecuteTime": {
     "end_time": "2021-12-10T14:52:11.044541Z",
     "start_time": "2021-12-10T14:52:08.358682Z"
    }
   },
   "outputs": [],
   "source": [
    "app_df = pd.read_csv('../Data/application_record.csv')\n",
    "credit_df = pd.read_csv('../Data/credit_record.csv')"
   ]
  },
  {
   "cell_type": "code",
   "execution_count": 15,
   "id": "cdcb88d2",
   "metadata": {
    "ExecuteTime": {
     "end_time": "2021-12-10T14:52:11.954938Z",
     "start_time": "2021-12-10T14:52:11.861337Z"
    }
   },
   "outputs": [
    {
     "data": {
      "text/html": [
       "<div>\n",
       "<style scoped>\n",
       "    .dataframe tbody tr th:only-of-type {\n",
       "        vertical-align: middle;\n",
       "    }\n",
       "\n",
       "    .dataframe tbody tr th {\n",
       "        vertical-align: top;\n",
       "    }\n",
       "\n",
       "    .dataframe thead th {\n",
       "        text-align: right;\n",
       "    }\n",
       "</style>\n",
       "<table border=\"1\" class=\"dataframe\">\n",
       "  <thead>\n",
       "    <tr style=\"text-align: right;\">\n",
       "      <th></th>\n",
       "      <th>ID</th>\n",
       "      <th>CODE_GENDER</th>\n",
       "      <th>FLAG_OWN_CAR</th>\n",
       "      <th>FLAG_OWN_REALTY</th>\n",
       "      <th>CNT_CHILDREN</th>\n",
       "      <th>AMT_INCOME_TOTAL</th>\n",
       "      <th>NAME_INCOME_TYPE</th>\n",
       "      <th>NAME_EDUCATION_TYPE</th>\n",
       "      <th>NAME_FAMILY_STATUS</th>\n",
       "      <th>NAME_HOUSING_TYPE</th>\n",
       "      <th>DAYS_BIRTH</th>\n",
       "      <th>DAYS_EMPLOYED</th>\n",
       "      <th>FLAG_MOBIL</th>\n",
       "      <th>FLAG_WORK_PHONE</th>\n",
       "      <th>FLAG_PHONE</th>\n",
       "      <th>FLAG_EMAIL</th>\n",
       "      <th>OCCUPATION_TYPE</th>\n",
       "      <th>CNT_FAM_MEMBERS</th>\n",
       "    </tr>\n",
       "  </thead>\n",
       "  <tbody>\n",
       "    <tr>\n",
       "      <th>0</th>\n",
       "      <td>5008804</td>\n",
       "      <td>M</td>\n",
       "      <td>Y</td>\n",
       "      <td>Y</td>\n",
       "      <td>0</td>\n",
       "      <td>427500.0</td>\n",
       "      <td>Working</td>\n",
       "      <td>Higher education</td>\n",
       "      <td>Civil marriage</td>\n",
       "      <td>Rented apartment</td>\n",
       "      <td>-12005</td>\n",
       "      <td>-4542</td>\n",
       "      <td>1</td>\n",
       "      <td>1</td>\n",
       "      <td>0</td>\n",
       "      <td>0</td>\n",
       "      <td>NaN</td>\n",
       "      <td>2.0</td>\n",
       "    </tr>\n",
       "    <tr>\n",
       "      <th>1</th>\n",
       "      <td>5008805</td>\n",
       "      <td>M</td>\n",
       "      <td>Y</td>\n",
       "      <td>Y</td>\n",
       "      <td>0</td>\n",
       "      <td>427500.0</td>\n",
       "      <td>Working</td>\n",
       "      <td>Higher education</td>\n",
       "      <td>Civil marriage</td>\n",
       "      <td>Rented apartment</td>\n",
       "      <td>-12005</td>\n",
       "      <td>-4542</td>\n",
       "      <td>1</td>\n",
       "      <td>1</td>\n",
       "      <td>0</td>\n",
       "      <td>0</td>\n",
       "      <td>NaN</td>\n",
       "      <td>2.0</td>\n",
       "    </tr>\n",
       "    <tr>\n",
       "      <th>2</th>\n",
       "      <td>5008806</td>\n",
       "      <td>M</td>\n",
       "      <td>Y</td>\n",
       "      <td>Y</td>\n",
       "      <td>0</td>\n",
       "      <td>112500.0</td>\n",
       "      <td>Working</td>\n",
       "      <td>Secondary / secondary special</td>\n",
       "      <td>Married</td>\n",
       "      <td>House / apartment</td>\n",
       "      <td>-21474</td>\n",
       "      <td>-1134</td>\n",
       "      <td>1</td>\n",
       "      <td>0</td>\n",
       "      <td>0</td>\n",
       "      <td>0</td>\n",
       "      <td>Security staff</td>\n",
       "      <td>2.0</td>\n",
       "    </tr>\n",
       "    <tr>\n",
       "      <th>3</th>\n",
       "      <td>5008808</td>\n",
       "      <td>F</td>\n",
       "      <td>N</td>\n",
       "      <td>Y</td>\n",
       "      <td>0</td>\n",
       "      <td>270000.0</td>\n",
       "      <td>Commercial associate</td>\n",
       "      <td>Secondary / secondary special</td>\n",
       "      <td>Single / not married</td>\n",
       "      <td>House / apartment</td>\n",
       "      <td>-19110</td>\n",
       "      <td>-3051</td>\n",
       "      <td>1</td>\n",
       "      <td>0</td>\n",
       "      <td>1</td>\n",
       "      <td>1</td>\n",
       "      <td>Sales staff</td>\n",
       "      <td>1.0</td>\n",
       "    </tr>\n",
       "    <tr>\n",
       "      <th>4</th>\n",
       "      <td>5008809</td>\n",
       "      <td>F</td>\n",
       "      <td>N</td>\n",
       "      <td>Y</td>\n",
       "      <td>0</td>\n",
       "      <td>270000.0</td>\n",
       "      <td>Commercial associate</td>\n",
       "      <td>Secondary / secondary special</td>\n",
       "      <td>Single / not married</td>\n",
       "      <td>House / apartment</td>\n",
       "      <td>-19110</td>\n",
       "      <td>-3051</td>\n",
       "      <td>1</td>\n",
       "      <td>0</td>\n",
       "      <td>1</td>\n",
       "      <td>1</td>\n",
       "      <td>Sales staff</td>\n",
       "      <td>1.0</td>\n",
       "    </tr>\n",
       "  </tbody>\n",
       "</table>\n",
       "</div>"
      ],
      "text/plain": [
       "        ID CODE_GENDER FLAG_OWN_CAR FLAG_OWN_REALTY  CNT_CHILDREN  \\\n",
       "0  5008804           M            Y               Y             0   \n",
       "1  5008805           M            Y               Y             0   \n",
       "2  5008806           M            Y               Y             0   \n",
       "3  5008808           F            N               Y             0   \n",
       "4  5008809           F            N               Y             0   \n",
       "\n",
       "   AMT_INCOME_TOTAL      NAME_INCOME_TYPE            NAME_EDUCATION_TYPE  \\\n",
       "0          427500.0               Working               Higher education   \n",
       "1          427500.0               Working               Higher education   \n",
       "2          112500.0               Working  Secondary / secondary special   \n",
       "3          270000.0  Commercial associate  Secondary / secondary special   \n",
       "4          270000.0  Commercial associate  Secondary / secondary special   \n",
       "\n",
       "     NAME_FAMILY_STATUS  NAME_HOUSING_TYPE  DAYS_BIRTH  DAYS_EMPLOYED  \\\n",
       "0        Civil marriage   Rented apartment      -12005          -4542   \n",
       "1        Civil marriage   Rented apartment      -12005          -4542   \n",
       "2               Married  House / apartment      -21474          -1134   \n",
       "3  Single / not married  House / apartment      -19110          -3051   \n",
       "4  Single / not married  House / apartment      -19110          -3051   \n",
       "\n",
       "   FLAG_MOBIL  FLAG_WORK_PHONE  FLAG_PHONE  FLAG_EMAIL OCCUPATION_TYPE  \\\n",
       "0           1                1           0           0             NaN   \n",
       "1           1                1           0           0             NaN   \n",
       "2           1                0           0           0  Security staff   \n",
       "3           1                0           1           1     Sales staff   \n",
       "4           1                0           1           1     Sales staff   \n",
       "\n",
       "   CNT_FAM_MEMBERS  \n",
       "0              2.0  \n",
       "1              2.0  \n",
       "2              2.0  \n",
       "3              1.0  \n",
       "4              1.0  "
      ]
     },
     "execution_count": 15,
     "metadata": {},
     "output_type": "execute_result"
    }
   ],
   "source": [
    "app_df.head()"
   ]
  },
  {
   "cell_type": "markdown",
   "id": "43aef917",
   "metadata": {},
   "source": [
    "## EDA ( Exploratory Data Analysis )"
   ]
  },
  {
   "cell_type": "markdown",
   "id": "07a68a95",
   "metadata": {},
   "source": [
    "### Data Understanding"
   ]
  },
  {
   "cell_type": "code",
   "execution_count": 16,
   "id": "c8508e08",
   "metadata": {
    "ExecuteTime": {
     "end_time": "2021-12-10T14:52:16.372961Z",
     "start_time": "2021-12-10T14:52:15.938936Z"
    }
   },
   "outputs": [
    {
     "name": "stdout",
     "output_type": "stream",
     "text": [
      "<class 'pandas.core.frame.DataFrame'>\n",
      "RangeIndex: 438557 entries, 0 to 438556\n",
      "Data columns (total 18 columns):\n",
      " #   Column               Non-Null Count   Dtype  \n",
      "---  ------               --------------   -----  \n",
      " 0   ID                   438557 non-null  int64  \n",
      " 1   CODE_GENDER          438557 non-null  object \n",
      " 2   FLAG_OWN_CAR         438557 non-null  object \n",
      " 3   FLAG_OWN_REALTY      438557 non-null  object \n",
      " 4   CNT_CHILDREN         438557 non-null  int64  \n",
      " 5   AMT_INCOME_TOTAL     438557 non-null  float64\n",
      " 6   NAME_INCOME_TYPE     438557 non-null  object \n",
      " 7   NAME_EDUCATION_TYPE  438557 non-null  object \n",
      " 8   NAME_FAMILY_STATUS   438557 non-null  object \n",
      " 9   NAME_HOUSING_TYPE    438557 non-null  object \n",
      " 10  DAYS_BIRTH           438557 non-null  int64  \n",
      " 11  DAYS_EMPLOYED        438557 non-null  int64  \n",
      " 12  FLAG_MOBIL           438557 non-null  int64  \n",
      " 13  FLAG_WORK_PHONE      438557 non-null  int64  \n",
      " 14  FLAG_PHONE           438557 non-null  int64  \n",
      " 15  FLAG_EMAIL           438557 non-null  int64  \n",
      " 16  OCCUPATION_TYPE      304354 non-null  object \n",
      " 17  CNT_FAM_MEMBERS      438557 non-null  float64\n",
      "dtypes: float64(2), int64(8), object(8)\n",
      "memory usage: 60.2+ MB\n"
     ]
    }
   ],
   "source": [
    "# Memuat informasi dari dataset\n",
    "app_df.info()"
   ]
  },
  {
   "cell_type": "code",
   "execution_count": 17,
   "id": "3792e6ea",
   "metadata": {
    "ExecuteTime": {
     "end_time": "2021-12-10T14:52:16.645462Z",
     "start_time": "2021-12-10T14:52:16.378380Z"
    }
   },
   "outputs": [
    {
     "data": {
      "text/html": [
       "<div>\n",
       "<style scoped>\n",
       "    .dataframe tbody tr th:only-of-type {\n",
       "        vertical-align: middle;\n",
       "    }\n",
       "\n",
       "    .dataframe tbody tr th {\n",
       "        vertical-align: top;\n",
       "    }\n",
       "\n",
       "    .dataframe thead th {\n",
       "        text-align: right;\n",
       "    }\n",
       "</style>\n",
       "<table border=\"1\" class=\"dataframe\">\n",
       "  <thead>\n",
       "    <tr style=\"text-align: right;\">\n",
       "      <th></th>\n",
       "      <th>ID</th>\n",
       "      <th>CNT_CHILDREN</th>\n",
       "      <th>AMT_INCOME_TOTAL</th>\n",
       "      <th>DAYS_BIRTH</th>\n",
       "      <th>DAYS_EMPLOYED</th>\n",
       "      <th>FLAG_MOBIL</th>\n",
       "      <th>FLAG_WORK_PHONE</th>\n",
       "      <th>FLAG_PHONE</th>\n",
       "      <th>FLAG_EMAIL</th>\n",
       "      <th>CNT_FAM_MEMBERS</th>\n",
       "    </tr>\n",
       "  </thead>\n",
       "  <tbody>\n",
       "    <tr>\n",
       "      <th>count</th>\n",
       "      <td>4.385570e+05</td>\n",
       "      <td>438557.000000</td>\n",
       "      <td>4.385570e+05</td>\n",
       "      <td>438557.000000</td>\n",
       "      <td>438557.000000</td>\n",
       "      <td>438557.0</td>\n",
       "      <td>438557.000000</td>\n",
       "      <td>438557.000000</td>\n",
       "      <td>438557.000000</td>\n",
       "      <td>438557.000000</td>\n",
       "    </tr>\n",
       "    <tr>\n",
       "      <th>mean</th>\n",
       "      <td>6.022176e+06</td>\n",
       "      <td>0.427390</td>\n",
       "      <td>1.875243e+05</td>\n",
       "      <td>-15997.904649</td>\n",
       "      <td>60563.675328</td>\n",
       "      <td>1.0</td>\n",
       "      <td>0.206133</td>\n",
       "      <td>0.287771</td>\n",
       "      <td>0.108207</td>\n",
       "      <td>2.194465</td>\n",
       "    </tr>\n",
       "    <tr>\n",
       "      <th>std</th>\n",
       "      <td>5.716370e+05</td>\n",
       "      <td>0.724882</td>\n",
       "      <td>1.100869e+05</td>\n",
       "      <td>4185.030007</td>\n",
       "      <td>138767.799647</td>\n",
       "      <td>0.0</td>\n",
       "      <td>0.404527</td>\n",
       "      <td>0.452724</td>\n",
       "      <td>0.310642</td>\n",
       "      <td>0.897207</td>\n",
       "    </tr>\n",
       "    <tr>\n",
       "      <th>min</th>\n",
       "      <td>5.008804e+06</td>\n",
       "      <td>0.000000</td>\n",
       "      <td>2.610000e+04</td>\n",
       "      <td>-25201.000000</td>\n",
       "      <td>-17531.000000</td>\n",
       "      <td>1.0</td>\n",
       "      <td>0.000000</td>\n",
       "      <td>0.000000</td>\n",
       "      <td>0.000000</td>\n",
       "      <td>1.000000</td>\n",
       "    </tr>\n",
       "    <tr>\n",
       "      <th>25%</th>\n",
       "      <td>5.609375e+06</td>\n",
       "      <td>0.000000</td>\n",
       "      <td>1.215000e+05</td>\n",
       "      <td>-19483.000000</td>\n",
       "      <td>-3103.000000</td>\n",
       "      <td>1.0</td>\n",
       "      <td>0.000000</td>\n",
       "      <td>0.000000</td>\n",
       "      <td>0.000000</td>\n",
       "      <td>2.000000</td>\n",
       "    </tr>\n",
       "    <tr>\n",
       "      <th>50%</th>\n",
       "      <td>6.047745e+06</td>\n",
       "      <td>0.000000</td>\n",
       "      <td>1.607805e+05</td>\n",
       "      <td>-15630.000000</td>\n",
       "      <td>-1467.000000</td>\n",
       "      <td>1.0</td>\n",
       "      <td>0.000000</td>\n",
       "      <td>0.000000</td>\n",
       "      <td>0.000000</td>\n",
       "      <td>2.000000</td>\n",
       "    </tr>\n",
       "    <tr>\n",
       "      <th>75%</th>\n",
       "      <td>6.456971e+06</td>\n",
       "      <td>1.000000</td>\n",
       "      <td>2.250000e+05</td>\n",
       "      <td>-12514.000000</td>\n",
       "      <td>-371.000000</td>\n",
       "      <td>1.0</td>\n",
       "      <td>0.000000</td>\n",
       "      <td>1.000000</td>\n",
       "      <td>0.000000</td>\n",
       "      <td>3.000000</td>\n",
       "    </tr>\n",
       "    <tr>\n",
       "      <th>max</th>\n",
       "      <td>7.999952e+06</td>\n",
       "      <td>19.000000</td>\n",
       "      <td>6.750000e+06</td>\n",
       "      <td>-7489.000000</td>\n",
       "      <td>365243.000000</td>\n",
       "      <td>1.0</td>\n",
       "      <td>1.000000</td>\n",
       "      <td>1.000000</td>\n",
       "      <td>1.000000</td>\n",
       "      <td>20.000000</td>\n",
       "    </tr>\n",
       "  </tbody>\n",
       "</table>\n",
       "</div>"
      ],
      "text/plain": [
       "                 ID   CNT_CHILDREN  AMT_INCOME_TOTAL     DAYS_BIRTH  \\\n",
       "count  4.385570e+05  438557.000000      4.385570e+05  438557.000000   \n",
       "mean   6.022176e+06       0.427390      1.875243e+05  -15997.904649   \n",
       "std    5.716370e+05       0.724882      1.100869e+05    4185.030007   \n",
       "min    5.008804e+06       0.000000      2.610000e+04  -25201.000000   \n",
       "25%    5.609375e+06       0.000000      1.215000e+05  -19483.000000   \n",
       "50%    6.047745e+06       0.000000      1.607805e+05  -15630.000000   \n",
       "75%    6.456971e+06       1.000000      2.250000e+05  -12514.000000   \n",
       "max    7.999952e+06      19.000000      6.750000e+06   -7489.000000   \n",
       "\n",
       "       DAYS_EMPLOYED  FLAG_MOBIL  FLAG_WORK_PHONE     FLAG_PHONE  \\\n",
       "count  438557.000000    438557.0    438557.000000  438557.000000   \n",
       "mean    60563.675328         1.0         0.206133       0.287771   \n",
       "std    138767.799647         0.0         0.404527       0.452724   \n",
       "min    -17531.000000         1.0         0.000000       0.000000   \n",
       "25%     -3103.000000         1.0         0.000000       0.000000   \n",
       "50%     -1467.000000         1.0         0.000000       0.000000   \n",
       "75%      -371.000000         1.0         0.000000       1.000000   \n",
       "max    365243.000000         1.0         1.000000       1.000000   \n",
       "\n",
       "          FLAG_EMAIL  CNT_FAM_MEMBERS  \n",
       "count  438557.000000    438557.000000  \n",
       "mean        0.108207         2.194465  \n",
       "std         0.310642         0.897207  \n",
       "min         0.000000         1.000000  \n",
       "25%         0.000000         2.000000  \n",
       "50%         0.000000         2.000000  \n",
       "75%         0.000000         3.000000  \n",
       "max         1.000000        20.000000  "
      ]
     },
     "execution_count": 17,
     "metadata": {},
     "output_type": "execute_result"
    }
   ],
   "source": [
    "# Melihat Statistik dataset\n",
    "app_df.describe()"
   ]
  },
  {
   "cell_type": "code",
   "execution_count": 18,
   "id": "ad59bea7",
   "metadata": {
    "ExecuteTime": {
     "end_time": "2021-12-10T14:52:17.054642Z",
     "start_time": "2021-12-10T14:52:16.649458Z"
    }
   },
   "outputs": [
    {
     "data": {
      "text/plain": [
       "ID                          0\n",
       "CODE_GENDER                 0\n",
       "FLAG_OWN_CAR                0\n",
       "FLAG_OWN_REALTY             0\n",
       "CNT_CHILDREN                0\n",
       "AMT_INCOME_TOTAL            0\n",
       "NAME_INCOME_TYPE            0\n",
       "NAME_EDUCATION_TYPE         0\n",
       "NAME_FAMILY_STATUS          0\n",
       "NAME_HOUSING_TYPE           0\n",
       "DAYS_BIRTH                  0\n",
       "DAYS_EMPLOYED               0\n",
       "FLAG_MOBIL                  0\n",
       "FLAG_WORK_PHONE             0\n",
       "FLAG_PHONE                  0\n",
       "FLAG_EMAIL                  0\n",
       "OCCUPATION_TYPE        134203\n",
       "CNT_FAM_MEMBERS             0\n",
       "dtype: int64"
      ]
     },
     "execution_count": 18,
     "metadata": {},
     "output_type": "execute_result"
    }
   ],
   "source": [
    "# melihat jumlah nilai null pada dataset\n",
    "app_df.isnull().sum()"
   ]
  },
  {
   "cell_type": "code",
   "execution_count": 19,
   "id": "968f0de3",
   "metadata": {
    "ExecuteTime": {
     "end_time": "2021-12-10T14:52:17.082741Z",
     "start_time": "2021-12-10T14:52:17.059217Z"
    }
   },
   "outputs": [
    {
     "data": {
      "text/plain": [
       "['CODE_GENDER',\n",
       " 'FLAG_OWN_CAR',\n",
       " 'FLAG_OWN_REALTY',\n",
       " 'NAME_INCOME_TYPE',\n",
       " 'NAME_EDUCATION_TYPE',\n",
       " 'NAME_FAMILY_STATUS',\n",
       " 'NAME_HOUSING_TYPE',\n",
       " 'OCCUPATION_TYPE']"
      ]
     },
     "execution_count": 19,
     "metadata": {},
     "output_type": "execute_result"
    }
   ],
   "source": [
    "# Mengecek colom apa saja yang tidak mengandung nilai numerik\n",
    "cat_columns = app_df.columns[(app_df.dtypes =='object').values].tolist()\n",
    "cat_columns"
   ]
  },
  {
   "cell_type": "code",
   "execution_count": 20,
   "id": "6307f3c6",
   "metadata": {
    "ExecuteTime": {
     "end_time": "2021-12-10T14:52:17.099518Z",
     "start_time": "2021-12-10T14:52:17.086133Z"
    }
   },
   "outputs": [
    {
     "data": {
      "text/plain": [
       "['ID',\n",
       " 'CNT_CHILDREN',\n",
       " 'AMT_INCOME_TOTAL',\n",
       " 'DAYS_BIRTH',\n",
       " 'DAYS_EMPLOYED',\n",
       " 'FLAG_MOBIL',\n",
       " 'FLAG_WORK_PHONE',\n",
       " 'FLAG_PHONE',\n",
       " 'FLAG_EMAIL',\n",
       " 'CNT_FAM_MEMBERS']"
      ]
     },
     "execution_count": 20,
     "metadata": {},
     "output_type": "execute_result"
    }
   ],
   "source": [
    "# Mengecek kolom apa saya yang mengandung nilai numerik\n",
    "app_df.columns[(app_df.dtypes !='object').values].tolist()"
   ]
  },
  {
   "cell_type": "code",
   "execution_count": 21,
   "id": "1ac131a6",
   "metadata": {
    "ExecuteTime": {
     "end_time": "2021-12-10T14:52:17.618548Z",
     "start_time": "2021-12-10T14:52:17.103519Z"
    }
   },
   "outputs": [
    {
     "name": "stdout",
     "output_type": "stream",
     "text": [
      "CODE_GENDER \n",
      "\n",
      "F    294440\n",
      "M    144117\n",
      "Name: CODE_GENDER, dtype: int64\n",
      "-----------------------------------------------\n",
      "FLAG_OWN_CAR \n",
      "\n",
      "N    275459\n",
      "Y    163098\n",
      "Name: FLAG_OWN_CAR, dtype: int64\n",
      "-----------------------------------------------\n",
      "FLAG_OWN_REALTY \n",
      "\n",
      "Y    304074\n",
      "N    134483\n",
      "Name: FLAG_OWN_REALTY, dtype: int64\n",
      "-----------------------------------------------\n",
      "NAME_INCOME_TYPE \n",
      "\n",
      "Working                 226104\n",
      "Commercial associate    100757\n",
      "Pensioner                75493\n",
      "State servant            36186\n",
      "Student                     17\n",
      "Name: NAME_INCOME_TYPE, dtype: int64\n",
      "-----------------------------------------------\n",
      "NAME_EDUCATION_TYPE \n",
      "\n",
      "Secondary / secondary special    301821\n",
      "Higher education                 117522\n",
      "Incomplete higher                 14851\n",
      "Lower secondary                    4051\n",
      "Academic degree                     312\n",
      "Name: NAME_EDUCATION_TYPE, dtype: int64\n",
      "-----------------------------------------------\n",
      "NAME_FAMILY_STATUS \n",
      "\n",
      "Married                 299828\n",
      "Single / not married     55271\n",
      "Civil marriage           36532\n",
      "Separated                27251\n",
      "Widow                    19675\n",
      "Name: NAME_FAMILY_STATUS, dtype: int64\n",
      "-----------------------------------------------\n",
      "NAME_HOUSING_TYPE \n",
      "\n",
      "House / apartment      393831\n",
      "With parents            19077\n",
      "Municipal apartment     14214\n",
      "Rented apartment         5974\n",
      "Office apartment         3922\n",
      "Co-op apartment          1539\n",
      "Name: NAME_HOUSING_TYPE, dtype: int64\n",
      "-----------------------------------------------\n",
      "OCCUPATION_TYPE \n",
      "\n",
      "Laborers                 78240\n",
      "Core staff               43007\n",
      "Sales staff              41098\n",
      "Managers                 35487\n",
      "Drivers                  26090\n",
      "High skill tech staff    17289\n",
      "Accountants              15985\n",
      "Medicine staff           13520\n",
      "Cooking staff             8076\n",
      "Security staff            7993\n",
      "Cleaning staff            5845\n",
      "Private service staff     3456\n",
      "Low-skill Laborers        2140\n",
      "Secretaries               2044\n",
      "Waiters/barmen staff      1665\n",
      "Realty agents             1041\n",
      "HR staff                   774\n",
      "IT staff                   604\n",
      "Name: OCCUPATION_TYPE, dtype: int64\n",
      "-----------------------------------------------\n"
     ]
    }
   ],
   "source": [
    "# mengecek nilai unik pada kolom non numerik\n",
    "\n",
    "for i in app_df.columns[(app_df.dtypes =='object').values].tolist():\n",
    "    print(i,'\\n')\n",
    "    print(app_df[i].value_counts())\n",
    "    print('-----------------------------------------------')"
   ]
  },
  {
   "cell_type": "code",
   "execution_count": 22,
   "id": "f40459cd",
   "metadata": {
    "ExecuteTime": {
     "end_time": "2021-12-10T14:52:17.664768Z",
     "start_time": "2021-12-10T14:52:17.622548Z"
    }
   },
   "outputs": [
    {
     "data": {
      "text/plain": [
       "0     304071\n",
       "1      88527\n",
       "2      39884\n",
       "3       5430\n",
       "4        486\n",
       "5        133\n",
       "7          9\n",
       "9          5\n",
       "12         4\n",
       "6          4\n",
       "14         3\n",
       "19         1\n",
       "Name: CNT_CHILDREN, dtype: int64"
      ]
     },
     "execution_count": 22,
     "metadata": {},
     "output_type": "execute_result"
    }
   ],
   "source": [
    "# mengecek nilai unik pada kolom numerik\n",
    "app_df['CNT_CHILDREN'].value_counts()"
   ]
  },
  {
   "cell_type": "code",
   "execution_count": 23,
   "id": "4a9f520d",
   "metadata": {
    "ExecuteTime": {
     "end_time": "2021-12-10T14:52:17.692511Z",
     "start_time": "2021-12-10T14:52:17.669342Z"
    }
   },
   "outputs": [
    {
     "name": "stdout",
     "output_type": "stream",
     "text": [
      "Min DAYS_BIRTH : -25201 \n",
      "Max DAYS_BIRTH : -7489\n"
     ]
    }
   ],
   "source": [
    "# Melihat nilai max dan min pada kolom \"Days_Birth\"\n",
    "print('Min DAYS_BIRTH :', app_df['DAYS_BIRTH'].min(),'\\nMax DAYS_BIRTH :', app_df['DAYS_BIRTH'].max())"
   ]
  },
  {
   "cell_type": "code",
   "execution_count": 24,
   "id": "21b0e987",
   "metadata": {
    "ExecuteTime": {
     "end_time": "2021-12-10T14:52:17.812959Z",
     "start_time": "2021-12-10T14:52:17.696454Z"
    }
   },
   "outputs": [],
   "source": [
    "# Mengubah nilai kolom \"Days_Birth\" dari hari ke tahun\n",
    "app_df['DAYS_BIRTH'] = round(app_df['DAYS_BIRTH']/-365,0)\n",
    "app_df.rename(columns={'DAYS_BIRTH':'AGE_YEARS'}, inplace=True)"
   ]
  },
  {
   "cell_type": "code",
   "execution_count": 25,
   "id": "04c319e4",
   "metadata": {
    "ExecuteTime": {
     "end_time": "2021-12-10T14:52:17.901591Z",
     "start_time": "2021-12-10T14:52:17.816900Z"
    }
   },
   "outputs": [
    {
     "data": {
      "text/plain": [
       "array([365243], dtype=int64)"
      ]
     },
     "execution_count": 25,
     "metadata": {},
     "output_type": "execute_result"
    }
   ],
   "source": [
    "# mengecek nilai unik pada kolom \"Days_Employed\" yang lebih besar dari 0\n",
    "app_df[app_df['DAYS_EMPLOYED']>0]['DAYS_EMPLOYED'].unique()"
   ]
  },
  {
   "cell_type": "code",
   "execution_count": 26,
   "id": "b5e031f1",
   "metadata": {
    "ExecuteTime": {
     "end_time": "2021-12-10T14:52:17.926317Z",
     "start_time": "2021-12-10T14:52:17.909530Z"
    }
   },
   "outputs": [],
   "source": [
    "# Seperti disebutkan dalam dokumen, jika 'DAYS_EMPLOYED' positif tidak, berarti orang tersebut sedang menganggur, maka diganti dengan 0\n",
    "app_df['DAYS_EMPLOYED'].replace(365243, 0, inplace=True)"
   ]
  },
  {
   "cell_type": "code",
   "execution_count": 27,
   "id": "f859d16a",
   "metadata": {
    "ExecuteTime": {
     "end_time": "2021-12-10T14:52:18.043763Z",
     "start_time": "2021-12-10T14:52:17.930264Z"
    }
   },
   "outputs": [],
   "source": [
    "# Mengonversi nilai 'DAYS_EMPLOYED' dari Hari ke Tahun\n",
    "app_df['DAYS_EMPLOYED'] = abs(round(app_df['DAYS_EMPLOYED']/-365,0))\n",
    "app_df.rename(columns={'DAYS_EMPLOYED':'YEARS_EMPLOYED'}, inplace=True)  "
   ]
  },
  {
   "cell_type": "code",
   "execution_count": 28,
   "id": "048fce42",
   "metadata": {
    "ExecuteTime": {
     "end_time": "2021-12-10T14:52:18.074177Z",
     "start_time": "2021-12-10T14:52:18.048355Z"
    }
   },
   "outputs": [
    {
     "data": {
      "text/plain": [
       "1    438557\n",
       "Name: FLAG_MOBIL, dtype: int64"
      ]
     },
     "execution_count": 28,
     "metadata": {},
     "output_type": "execute_result"
    }
   ],
   "source": [
    "# Mengecek terdapat nilai apa saja pada kolom \"Flag_Mobil\"\n",
    "app_df['FLAG_MOBIL'].value_counts()"
   ]
  },
  {
   "cell_type": "code",
   "execution_count": 29,
   "id": "1b63e1e3",
   "metadata": {
    "ExecuteTime": {
     "end_time": "2021-12-10T14:52:18.254287Z",
     "start_time": "2021-12-10T14:52:18.222574Z"
    }
   },
   "outputs": [
    {
     "data": {
      "text/plain": [
       "0    348156\n",
       "1     90401\n",
       "Name: FLAG_WORK_PHONE, dtype: int64"
      ]
     },
     "execution_count": 29,
     "metadata": {},
     "output_type": "execute_result"
    }
   ],
   "source": [
    "# Mengecek terdapat nilai apa saja pada kolom \"FLAG_WORK_PHONE\"\n",
    "app_df['FLAG_WORK_PHONE'].value_counts()"
   ]
  },
  {
   "cell_type": "code",
   "execution_count": 30,
   "id": "28be5993",
   "metadata": {
    "ExecuteTime": {
     "end_time": "2021-12-10T14:52:18.451065Z",
     "start_time": "2021-12-10T14:52:18.412519Z"
    }
   },
   "outputs": [
    {
     "data": {
      "text/plain": [
       "0    312353\n",
       "1    126204\n",
       "Name: FLAG_PHONE, dtype: int64"
      ]
     },
     "execution_count": 30,
     "metadata": {},
     "output_type": "execute_result"
    }
   ],
   "source": [
    "# Mengecek terdapat nilai apa saja pada kolom \"FLAG_PHONE\"\n",
    "app_df['FLAG_PHONE'].value_counts()"
   ]
  },
  {
   "cell_type": "code",
   "execution_count": 31,
   "id": "c2be93aa",
   "metadata": {
    "ExecuteTime": {
     "end_time": "2021-12-10T14:52:18.582704Z",
     "start_time": "2021-12-10T14:52:18.553012Z"
    }
   },
   "outputs": [
    {
     "data": {
      "text/plain": [
       "0    391102\n",
       "1     47455\n",
       "Name: FLAG_EMAIL, dtype: int64"
      ]
     },
     "execution_count": 31,
     "metadata": {},
     "output_type": "execute_result"
    }
   ],
   "source": [
    "# Mengecek terdapat nilai apa saja pada kolom \"FLAG_EMAIL\"\n",
    "app_df['FLAG_EMAIL'].value_counts()"
   ]
  },
  {
   "cell_type": "code",
   "execution_count": 32,
   "id": "bbdcdb32",
   "metadata": {
    "ExecuteTime": {
     "end_time": "2021-12-10T14:52:18.864540Z",
     "start_time": "2021-12-10T14:52:18.820137Z"
    }
   },
   "outputs": [
    {
     "data": {
      "text/plain": [
       "2.0     233891\n",
       "1.0      84492\n",
       "3.0      77128\n",
       "4.0      37356\n",
       "5.0       5081\n",
       "6.0        459\n",
       "7.0        124\n",
       "9.0          9\n",
       "11.0         5\n",
       "14.0         4\n",
       "8.0          4\n",
       "15.0         3\n",
       "20.0         1\n",
       "Name: CNT_FAM_MEMBERS, dtype: int64"
      ]
     },
     "execution_count": 32,
     "metadata": {},
     "output_type": "execute_result"
    }
   ],
   "source": [
    "# Mengecek terdapat nilai apa saja pada kolom \"CNT_FAM_MEMBERS\"\n",
    "app_df['CNT_FAM_MEMBERS'].value_counts()"
   ]
  },
  {
   "cell_type": "code",
   "execution_count": 33,
   "id": "7e63de3f",
   "metadata": {
    "ExecuteTime": {
     "end_time": "2021-12-10T14:52:18.987555Z",
     "start_time": "2021-12-10T14:52:18.941587Z"
    }
   },
   "outputs": [
    {
     "data": {
      "text/html": [
       "<div>\n",
       "<style scoped>\n",
       "    .dataframe tbody tr th:only-of-type {\n",
       "        vertical-align: middle;\n",
       "    }\n",
       "\n",
       "    .dataframe tbody tr th {\n",
       "        vertical-align: top;\n",
       "    }\n",
       "\n",
       "    .dataframe thead th {\n",
       "        text-align: right;\n",
       "    }\n",
       "</style>\n",
       "<table border=\"1\" class=\"dataframe\">\n",
       "  <thead>\n",
       "    <tr style=\"text-align: right;\">\n",
       "      <th></th>\n",
       "      <th>ID</th>\n",
       "      <th>CODE_GENDER</th>\n",
       "      <th>FLAG_OWN_CAR</th>\n",
       "      <th>FLAG_OWN_REALTY</th>\n",
       "      <th>CNT_CHILDREN</th>\n",
       "      <th>AMT_INCOME_TOTAL</th>\n",
       "      <th>NAME_INCOME_TYPE</th>\n",
       "      <th>NAME_EDUCATION_TYPE</th>\n",
       "      <th>NAME_FAMILY_STATUS</th>\n",
       "      <th>NAME_HOUSING_TYPE</th>\n",
       "      <th>AGE_YEARS</th>\n",
       "      <th>YEARS_EMPLOYED</th>\n",
       "      <th>FLAG_MOBIL</th>\n",
       "      <th>FLAG_WORK_PHONE</th>\n",
       "      <th>FLAG_PHONE</th>\n",
       "      <th>FLAG_EMAIL</th>\n",
       "      <th>OCCUPATION_TYPE</th>\n",
       "      <th>CNT_FAM_MEMBERS</th>\n",
       "    </tr>\n",
       "  </thead>\n",
       "  <tbody>\n",
       "    <tr>\n",
       "      <th>0</th>\n",
       "      <td>5008804</td>\n",
       "      <td>M</td>\n",
       "      <td>Y</td>\n",
       "      <td>Y</td>\n",
       "      <td>0</td>\n",
       "      <td>427500.0</td>\n",
       "      <td>Working</td>\n",
       "      <td>Higher education</td>\n",
       "      <td>Civil marriage</td>\n",
       "      <td>Rented apartment</td>\n",
       "      <td>33.0</td>\n",
       "      <td>12.0</td>\n",
       "      <td>1</td>\n",
       "      <td>1</td>\n",
       "      <td>0</td>\n",
       "      <td>0</td>\n",
       "      <td>NaN</td>\n",
       "      <td>2.0</td>\n",
       "    </tr>\n",
       "    <tr>\n",
       "      <th>1</th>\n",
       "      <td>5008805</td>\n",
       "      <td>M</td>\n",
       "      <td>Y</td>\n",
       "      <td>Y</td>\n",
       "      <td>0</td>\n",
       "      <td>427500.0</td>\n",
       "      <td>Working</td>\n",
       "      <td>Higher education</td>\n",
       "      <td>Civil marriage</td>\n",
       "      <td>Rented apartment</td>\n",
       "      <td>33.0</td>\n",
       "      <td>12.0</td>\n",
       "      <td>1</td>\n",
       "      <td>1</td>\n",
       "      <td>0</td>\n",
       "      <td>0</td>\n",
       "      <td>NaN</td>\n",
       "      <td>2.0</td>\n",
       "    </tr>\n",
       "    <tr>\n",
       "      <th>2</th>\n",
       "      <td>5008806</td>\n",
       "      <td>M</td>\n",
       "      <td>Y</td>\n",
       "      <td>Y</td>\n",
       "      <td>0</td>\n",
       "      <td>112500.0</td>\n",
       "      <td>Working</td>\n",
       "      <td>Secondary / secondary special</td>\n",
       "      <td>Married</td>\n",
       "      <td>House / apartment</td>\n",
       "      <td>59.0</td>\n",
       "      <td>3.0</td>\n",
       "      <td>1</td>\n",
       "      <td>0</td>\n",
       "      <td>0</td>\n",
       "      <td>0</td>\n",
       "      <td>Security staff</td>\n",
       "      <td>2.0</td>\n",
       "    </tr>\n",
       "    <tr>\n",
       "      <th>3</th>\n",
       "      <td>5008808</td>\n",
       "      <td>F</td>\n",
       "      <td>N</td>\n",
       "      <td>Y</td>\n",
       "      <td>0</td>\n",
       "      <td>270000.0</td>\n",
       "      <td>Commercial associate</td>\n",
       "      <td>Secondary / secondary special</td>\n",
       "      <td>Single / not married</td>\n",
       "      <td>House / apartment</td>\n",
       "      <td>52.0</td>\n",
       "      <td>8.0</td>\n",
       "      <td>1</td>\n",
       "      <td>0</td>\n",
       "      <td>1</td>\n",
       "      <td>1</td>\n",
       "      <td>Sales staff</td>\n",
       "      <td>1.0</td>\n",
       "    </tr>\n",
       "    <tr>\n",
       "      <th>4</th>\n",
       "      <td>5008809</td>\n",
       "      <td>F</td>\n",
       "      <td>N</td>\n",
       "      <td>Y</td>\n",
       "      <td>0</td>\n",
       "      <td>270000.0</td>\n",
       "      <td>Commercial associate</td>\n",
       "      <td>Secondary / secondary special</td>\n",
       "      <td>Single / not married</td>\n",
       "      <td>House / apartment</td>\n",
       "      <td>52.0</td>\n",
       "      <td>8.0</td>\n",
       "      <td>1</td>\n",
       "      <td>0</td>\n",
       "      <td>1</td>\n",
       "      <td>1</td>\n",
       "      <td>Sales staff</td>\n",
       "      <td>1.0</td>\n",
       "    </tr>\n",
       "  </tbody>\n",
       "</table>\n",
       "</div>"
      ],
      "text/plain": [
       "        ID CODE_GENDER FLAG_OWN_CAR FLAG_OWN_REALTY  CNT_CHILDREN  \\\n",
       "0  5008804           M            Y               Y             0   \n",
       "1  5008805           M            Y               Y             0   \n",
       "2  5008806           M            Y               Y             0   \n",
       "3  5008808           F            N               Y             0   \n",
       "4  5008809           F            N               Y             0   \n",
       "\n",
       "   AMT_INCOME_TOTAL      NAME_INCOME_TYPE            NAME_EDUCATION_TYPE  \\\n",
       "0          427500.0               Working               Higher education   \n",
       "1          427500.0               Working               Higher education   \n",
       "2          112500.0               Working  Secondary / secondary special   \n",
       "3          270000.0  Commercial associate  Secondary / secondary special   \n",
       "4          270000.0  Commercial associate  Secondary / secondary special   \n",
       "\n",
       "     NAME_FAMILY_STATUS  NAME_HOUSING_TYPE  AGE_YEARS  YEARS_EMPLOYED  \\\n",
       "0        Civil marriage   Rented apartment       33.0            12.0   \n",
       "1        Civil marriage   Rented apartment       33.0            12.0   \n",
       "2               Married  House / apartment       59.0             3.0   \n",
       "3  Single / not married  House / apartment       52.0             8.0   \n",
       "4  Single / not married  House / apartment       52.0             8.0   \n",
       "\n",
       "   FLAG_MOBIL  FLAG_WORK_PHONE  FLAG_PHONE  FLAG_EMAIL OCCUPATION_TYPE  \\\n",
       "0           1                1           0           0             NaN   \n",
       "1           1                1           0           0             NaN   \n",
       "2           1                0           0           0  Security staff   \n",
       "3           1                0           1           1     Sales staff   \n",
       "4           1                0           1           1     Sales staff   \n",
       "\n",
       "   CNT_FAM_MEMBERS  \n",
       "0              2.0  \n",
       "1              2.0  \n",
       "2              2.0  \n",
       "3              1.0  \n",
       "4              1.0  "
      ]
     },
     "execution_count": 33,
     "metadata": {},
     "output_type": "execute_result"
    }
   ],
   "source": [
    "app_df.head()"
   ]
  },
  {
   "cell_type": "markdown",
   "id": "e6291231",
   "metadata": {},
   "source": [
    "### Data Cleaning\n",
    "\n",
    "#### Menangani Missing Value\n",
    "Kolom yang akan kita hapus adalah :\n",
    "- occupation type : kolom ini dihapus karena banyak sekari terdapat missing value, jadi bisa dibilang kolom ini tidak memiliki peran penting terhadap prediksi yang akan dilakukan\n",
    "- Flag_mobil : Kolom ini dihapus karena hanya terdapat satu nilai saja\n",
    "- Flag_work_phone : Kolom ini hanya berisi nilai 0 & 1 untuk Seluler yang tidak dikirimkan, oleh karena itu hapus kolom dan tidak memiliki relasi terhadap kasus, karena hanya hanya menyatakan punya nomer telpon ds\n",
    "- flag_phone : Kolom ini hanya berisi nilai 0 & 1 untuk Seluler yang tidak dikirimkan, oleh karena itu hapus kolom\n",
    "- flag_email : Kolom ini hanya berisi nilai 0 & 1 untuk email yang tidak dikirimkan, oleh karena itu hapus kolom"
   ]
  },
  {
   "cell_type": "code",
   "execution_count": 34,
   "id": "26eece1b",
   "metadata": {
    "ExecuteTime": {
     "end_time": "2021-12-10T14:52:19.532659Z",
     "start_time": "2021-12-10T14:52:19.387850Z"
    }
   },
   "outputs": [],
   "source": [
    "app_df.drop('OCCUPATION_TYPE', axis=1, inplace=True)"
   ]
  },
  {
   "cell_type": "code",
   "execution_count": 35,
   "id": "af7f9818",
   "metadata": {
    "ExecuteTime": {
     "end_time": "2021-12-10T14:52:19.692079Z",
     "start_time": "2021-12-10T14:52:19.556601Z"
    }
   },
   "outputs": [],
   "source": [
    "app_df.drop('FLAG_MOBIL', axis=1, inplace=True)"
   ]
  },
  {
   "cell_type": "code",
   "execution_count": 36,
   "id": "934fd88a",
   "metadata": {
    "ExecuteTime": {
     "end_time": "2021-12-10T14:52:20.092476Z",
     "start_time": "2021-12-10T14:52:19.940586Z"
    }
   },
   "outputs": [],
   "source": [
    "app_df.drop('FLAG_WORK_PHONE', axis=1, inplace=True)"
   ]
  },
  {
   "cell_type": "code",
   "execution_count": 37,
   "id": "0625d4f5",
   "metadata": {
    "ExecuteTime": {
     "end_time": "2021-12-10T14:52:20.236405Z",
     "start_time": "2021-12-10T14:52:20.099051Z"
    }
   },
   "outputs": [],
   "source": [
    "app_df.drop('FLAG_PHONE', axis=1, inplace=True)"
   ]
  },
  {
   "cell_type": "code",
   "execution_count": 38,
   "id": "da126722",
   "metadata": {
    "ExecuteTime": {
     "end_time": "2021-12-10T14:52:20.369836Z",
     "start_time": "2021-12-10T14:52:20.242977Z"
    }
   },
   "outputs": [],
   "source": [
    "app_df.drop('FLAG_EMAIL', axis=1, inplace=True)"
   ]
  },
  {
   "cell_type": "markdown",
   "id": "9aeb8988",
   "metadata": {},
   "source": [
    "#### Menangani Outliers\n",
    "Outliers hanya terjadi pada data numerikal saja"
   ]
  },
  {
   "cell_type": "code",
   "execution_count": 39,
   "id": "c2a95afe",
   "metadata": {
    "ExecuteTime": {
     "end_time": "2021-12-10T14:52:20.748871Z",
     "start_time": "2021-12-10T14:52:20.721446Z"
    }
   },
   "outputs": [
    {
     "data": {
      "text/plain": [
       "['ID',\n",
       " 'CNT_CHILDREN',\n",
       " 'AMT_INCOME_TOTAL',\n",
       " 'AGE_YEARS',\n",
       " 'YEARS_EMPLOYED',\n",
       " 'CNT_FAM_MEMBERS']"
      ]
     },
     "execution_count": 39,
     "metadata": {},
     "output_type": "execute_result"
    }
   ],
   "source": [
    "# Mengecek kolom yang berisi nilai numerik\n",
    "app_df.columns[(app_df.dtypes !='object').values].tolist()"
   ]
  },
  {
   "cell_type": "code",
   "execution_count": 40,
   "id": "559ef8e6",
   "metadata": {
    "ExecuteTime": {
     "end_time": "2021-12-10T14:52:20.854134Z",
     "start_time": "2021-12-10T14:52:20.816989Z"
    }
   },
   "outputs": [
    {
     "ename": "NameError",
     "evalue": "name 'plt' is not defined",
     "output_type": "error",
     "traceback": [
      "\u001b[1;31m---------------------------------------------------------------------------\u001b[0m",
      "\u001b[1;31mNameError\u001b[0m                                 Traceback (most recent call last)",
      "\u001b[1;32m~\\AppData\\Local\\Temp/ipykernel_5044/3255822503.py\u001b[0m in \u001b[0;36m<module>\u001b[1;34m\u001b[0m\n\u001b[0;32m      5\u001b[0m  'CNT_FAM_MEMBERS']\n\u001b[0;32m      6\u001b[0m \u001b[1;33m\u001b[0m\u001b[0m\n\u001b[1;32m----> 7\u001b[1;33m \u001b[0mplt\u001b[0m\u001b[1;33m.\u001b[0m\u001b[0mfigure\u001b[0m\u001b[1;33m(\u001b[0m\u001b[0mfigsize\u001b[0m\u001b[1;33m=\u001b[0m\u001b[1;33m(\u001b[0m\u001b[1;36m19\u001b[0m\u001b[1;33m,\u001b[0m\u001b[1;36m9\u001b[0m\u001b[1;33m)\u001b[0m\u001b[1;33m)\u001b[0m\u001b[1;33m\u001b[0m\u001b[1;33m\u001b[0m\u001b[0m\n\u001b[0m\u001b[0;32m      8\u001b[0m \u001b[0mapp_df\u001b[0m\u001b[1;33m[\u001b[0m\u001b[0mnum_cols\u001b[0m\u001b[1;33m]\u001b[0m\u001b[1;33m.\u001b[0m\u001b[0mboxplot\u001b[0m\u001b[1;33m(\u001b[0m\u001b[1;33m)\u001b[0m\u001b[1;33m\u001b[0m\u001b[1;33m\u001b[0m\u001b[0m\n\u001b[0;32m      9\u001b[0m \u001b[0mplt\u001b[0m\u001b[1;33m.\u001b[0m\u001b[0mtitle\u001b[0m\u001b[1;33m(\u001b[0m\u001b[1;34m\"Numerical variables in the data\"\u001b[0m\u001b[1;33m,\u001b[0m \u001b[0mfontsize\u001b[0m\u001b[1;33m=\u001b[0m\u001b[1;36m20\u001b[0m\u001b[1;33m)\u001b[0m\u001b[1;33m\u001b[0m\u001b[1;33m\u001b[0m\u001b[0m\n",
      "\u001b[1;31mNameError\u001b[0m: name 'plt' is not defined"
     ]
    }
   ],
   "source": [
    "num_cols = ['CNT_CHILDREN',\n",
    " 'AMT_INCOME_TOTAL',\n",
    " 'AGE_YEARS',\n",
    " 'YEARS_EMPLOYED',\n",
    " 'CNT_FAM_MEMBERS']\n",
    "\n",
    "plt.figure(figsize=(19,9))\n",
    "app_df[num_cols].boxplot()\n",
    "plt.title(\"Numerical variables in the data\", fontsize=20)\n",
    "plt.show()"
   ]
  },
  {
   "cell_type": "code",
   "execution_count": 41,
   "id": "97ee9714",
   "metadata": {
    "ExecuteTime": {
     "end_time": "2021-12-10T14:52:20.964978Z",
     "start_time": "2021-12-10T14:52:20.950370Z"
    }
   },
   "outputs": [],
   "source": [
    "# Fungsi Untuk Mendeteksi Outliers\n",
    "def detect_outlier(data_1):\n",
    "    outliers=[]\n",
    "    threshold=3\n",
    "    mean_1 = np.mean(data_1)\n",
    "    std_1 =np.std(data_1)\n",
    "    \n",
    "    \n",
    "    for y in data_1:\n",
    "        z_score= (y - mean_1)/std_1 \n",
    "        if np.abs(z_score) > threshold:\n",
    "            outliers.append(y)\n",
    "    return outliers"
   ]
  },
  {
   "cell_type": "code",
   "execution_count": 42,
   "id": "0addaa14",
   "metadata": {
    "ExecuteTime": {
     "end_time": "2021-12-10T14:52:27.358518Z",
     "start_time": "2021-12-10T14:52:21.230913Z"
    }
   },
   "outputs": [
    {
     "name": "stdout",
     "output_type": "stream",
     "text": [
      "outliers\n",
      "AMT_INCOME_TOTAL : 5276\n",
      "CNT_CHILDREN: 6075\n",
      "YEARS_EMPLOYED : 9531\n",
      "CNT_FAM_MEMBERS : 5690\n"
     ]
    }
   ],
   "source": [
    "AMT_outliers = detect_outlier(app_df['AMT_INCOME_TOTAL'])\n",
    "CNTCh_outliers = detect_outlier(app_df['CNT_CHILDREN'])\n",
    "YE_outliers = detect_outlier(app_df['YEARS_EMPLOYED'])\n",
    "CFM_outliers = detect_outlier(app_df['CNT_FAM_MEMBERS'])\n",
    "print(\"outliers\")\n",
    "print(f\"AMT_INCOME_TOTAL : {len(AMT_outliers)}\")\n",
    "print(f\"CNT_CHILDREN: {len(CNTCh_outliers)}\")\n",
    "print(f\"YEARS_EMPLOYED : {len(YE_outliers)}\")\n",
    "print(f\"CNT_FAM_MEMBERS : {len(CFM_outliers)}\")"
   ]
  },
  {
   "cell_type": "code",
   "execution_count": 43,
   "id": "d27a868d",
   "metadata": {
    "ExecuteTime": {
     "end_time": "2021-12-10T14:52:27.374521Z",
     "start_time": "2021-12-10T14:52:27.364334Z"
    }
   },
   "outputs": [],
   "source": [
    "# Fungsi untuk menghapus outliers\n",
    "def remove_outlier(data):\n",
    "    z = np.abs(stats.zscore(data))\n",
    "    threshold = 3\n",
    "    Q1 = np.percentile(data, 25,\n",
    "                   interpolation = 'midpoint')\n",
    "    Q3 = np.percentile(data, 75,\n",
    "                   interpolation = 'midpoint')\n",
    "    IQR = Q3 - Q1\n",
    "    upper = data >= (Q3+1.5*IQR)\n",
    "     # Below Lower bound\n",
    "    lower = data <= (Q1-1.5*IQR)\n",
    "    return data.index[upper]"
   ]
  },
  {
   "cell_type": "code",
   "execution_count": 44,
   "id": "b1254f2c",
   "metadata": {
    "ExecuteTime": {
     "end_time": "2021-12-10T14:52:27.486553Z",
     "start_time": "2021-12-10T14:52:27.376172Z"
    }
   },
   "outputs": [
    {
     "data": {
      "text/html": [
       "<div>\n",
       "<style scoped>\n",
       "    .dataframe tbody tr th:only-of-type {\n",
       "        vertical-align: middle;\n",
       "    }\n",
       "\n",
       "    .dataframe tbody tr th {\n",
       "        vertical-align: top;\n",
       "    }\n",
       "\n",
       "    .dataframe thead th {\n",
       "        text-align: right;\n",
       "    }\n",
       "</style>\n",
       "<table border=\"1\" class=\"dataframe\">\n",
       "  <thead>\n",
       "    <tr style=\"text-align: right;\">\n",
       "      <th></th>\n",
       "      <th>ID</th>\n",
       "      <th>CODE_GENDER</th>\n",
       "      <th>FLAG_OWN_CAR</th>\n",
       "      <th>FLAG_OWN_REALTY</th>\n",
       "      <th>CNT_CHILDREN</th>\n",
       "      <th>AMT_INCOME_TOTAL</th>\n",
       "      <th>NAME_INCOME_TYPE</th>\n",
       "      <th>NAME_EDUCATION_TYPE</th>\n",
       "      <th>NAME_FAMILY_STATUS</th>\n",
       "      <th>NAME_HOUSING_TYPE</th>\n",
       "      <th>AGE_YEARS</th>\n",
       "      <th>YEARS_EMPLOYED</th>\n",
       "      <th>CNT_FAM_MEMBERS</th>\n",
       "    </tr>\n",
       "  </thead>\n",
       "  <tbody>\n",
       "    <tr>\n",
       "      <th>0</th>\n",
       "      <td>5008804</td>\n",
       "      <td>M</td>\n",
       "      <td>Y</td>\n",
       "      <td>Y</td>\n",
       "      <td>0</td>\n",
       "      <td>427500.0</td>\n",
       "      <td>Working</td>\n",
       "      <td>Higher education</td>\n",
       "      <td>Civil marriage</td>\n",
       "      <td>Rented apartment</td>\n",
       "      <td>33.0</td>\n",
       "      <td>12.0</td>\n",
       "      <td>2.0</td>\n",
       "    </tr>\n",
       "    <tr>\n",
       "      <th>1</th>\n",
       "      <td>5008805</td>\n",
       "      <td>M</td>\n",
       "      <td>Y</td>\n",
       "      <td>Y</td>\n",
       "      <td>0</td>\n",
       "      <td>427500.0</td>\n",
       "      <td>Working</td>\n",
       "      <td>Higher education</td>\n",
       "      <td>Civil marriage</td>\n",
       "      <td>Rented apartment</td>\n",
       "      <td>33.0</td>\n",
       "      <td>12.0</td>\n",
       "      <td>2.0</td>\n",
       "    </tr>\n",
       "    <tr>\n",
       "      <th>2</th>\n",
       "      <td>5008806</td>\n",
       "      <td>M</td>\n",
       "      <td>Y</td>\n",
       "      <td>Y</td>\n",
       "      <td>0</td>\n",
       "      <td>112500.0</td>\n",
       "      <td>Working</td>\n",
       "      <td>Secondary / secondary special</td>\n",
       "      <td>Married</td>\n",
       "      <td>House / apartment</td>\n",
       "      <td>59.0</td>\n",
       "      <td>3.0</td>\n",
       "      <td>2.0</td>\n",
       "    </tr>\n",
       "    <tr>\n",
       "      <th>3</th>\n",
       "      <td>5008808</td>\n",
       "      <td>F</td>\n",
       "      <td>N</td>\n",
       "      <td>Y</td>\n",
       "      <td>0</td>\n",
       "      <td>270000.0</td>\n",
       "      <td>Commercial associate</td>\n",
       "      <td>Secondary / secondary special</td>\n",
       "      <td>Single / not married</td>\n",
       "      <td>House / apartment</td>\n",
       "      <td>52.0</td>\n",
       "      <td>8.0</td>\n",
       "      <td>1.0</td>\n",
       "    </tr>\n",
       "    <tr>\n",
       "      <th>4</th>\n",
       "      <td>5008809</td>\n",
       "      <td>F</td>\n",
       "      <td>N</td>\n",
       "      <td>Y</td>\n",
       "      <td>0</td>\n",
       "      <td>270000.0</td>\n",
       "      <td>Commercial associate</td>\n",
       "      <td>Secondary / secondary special</td>\n",
       "      <td>Single / not married</td>\n",
       "      <td>House / apartment</td>\n",
       "      <td>52.0</td>\n",
       "      <td>8.0</td>\n",
       "      <td>1.0</td>\n",
       "    </tr>\n",
       "  </tbody>\n",
       "</table>\n",
       "</div>"
      ],
      "text/plain": [
       "        ID CODE_GENDER FLAG_OWN_CAR FLAG_OWN_REALTY  CNT_CHILDREN  \\\n",
       "0  5008804           M            Y               Y             0   \n",
       "1  5008805           M            Y               Y             0   \n",
       "2  5008806           M            Y               Y             0   \n",
       "3  5008808           F            N               Y             0   \n",
       "4  5008809           F            N               Y             0   \n",
       "\n",
       "   AMT_INCOME_TOTAL      NAME_INCOME_TYPE            NAME_EDUCATION_TYPE  \\\n",
       "0          427500.0               Working               Higher education   \n",
       "1          427500.0               Working               Higher education   \n",
       "2          112500.0               Working  Secondary / secondary special   \n",
       "3          270000.0  Commercial associate  Secondary / secondary special   \n",
       "4          270000.0  Commercial associate  Secondary / secondary special   \n",
       "\n",
       "     NAME_FAMILY_STATUS  NAME_HOUSING_TYPE  AGE_YEARS  YEARS_EMPLOYED  \\\n",
       "0        Civil marriage   Rented apartment       33.0            12.0   \n",
       "1        Civil marriage   Rented apartment       33.0            12.0   \n",
       "2               Married  House / apartment       59.0             3.0   \n",
       "3  Single / not married  House / apartment       52.0             8.0   \n",
       "4  Single / not married  House / apartment       52.0             8.0   \n",
       "\n",
       "   CNT_FAM_MEMBERS  \n",
       "0              2.0  \n",
       "1              2.0  \n",
       "2              2.0  \n",
       "3              1.0  \n",
       "4              1.0  "
      ]
     },
     "execution_count": 44,
     "metadata": {},
     "output_type": "execute_result"
    }
   ],
   "source": [
    "application_df = app_df.copy()\n",
    "application_df.head()"
   ]
  },
  {
   "cell_type": "code",
   "execution_count": null,
   "id": "6dbdc8f0",
   "metadata": {},
   "outputs": [],
   "source": []
  },
  {
   "cell_type": "code",
   "execution_count": 45,
   "id": "dc3f649a",
   "metadata": {
    "ExecuteTime": {
     "end_time": "2021-12-10T14:52:28.398374Z",
     "start_time": "2021-12-10T14:52:27.490480Z"
    }
   },
   "outputs": [],
   "source": [
    "application_df.drop(remove_outlier(application_df[\"CNT_CHILDREN\"]), inplace=True)\n",
    "application_df.drop(remove_outlier(application_df[\"AMT_INCOME_TOTAL\"]), inplace=True)\n",
    "application_df.drop(remove_outlier(application_df[\"YEARS_EMPLOYED\"]), inplace=True)\n",
    "application_df.drop(remove_outlier(application_df[\"CNT_FAM_MEMBERS\"]), inplace=True)"
   ]
  },
  {
   "cell_type": "code",
   "execution_count": 46,
   "id": "5a51b436",
   "metadata": {
    "ExecuteTime": {
     "end_time": "2021-12-10T14:52:28.460908Z",
     "start_time": "2021-12-10T14:52:28.402115Z"
    }
   },
   "outputs": [
    {
     "data": {
      "text/plain": [
       "135000.0    43525\n",
       "157500.0    36871\n",
       "180000.0    35367\n",
       "112500.0    34372\n",
       "225000.0    31726\n",
       "            ...  \n",
       "191475.0        1\n",
       "90288.0         1\n",
       "283185.0        1\n",
       "217300.5        1\n",
       "120784.5        1\n",
       "Name: AMT_INCOME_TOTAL, Length: 725, dtype: int64"
      ]
     },
     "execution_count": 46,
     "metadata": {},
     "output_type": "execute_result"
    }
   ],
   "source": [
    "application_df[\"AMT_INCOME_TOTAL\"].value_counts()"
   ]
  },
  {
   "cell_type": "code",
   "execution_count": 94,
   "id": "1dd3261b",
   "metadata": {
    "ExecuteTime": {
     "end_time": "2021-12-10T14:53:56.295282Z",
     "start_time": "2021-12-10T14:53:54.779611Z"
    }
   },
   "outputs": [
    {
     "data": {
      "image/png": "[encoded data removed]",
      "text/plain": [
       "<Figure size 1368x648 with 1 Axes>"
      ]
     },
     "metadata": {
      "needs_background": "light"
     },
     "output_type": "display_data"
    }
   ],
   "source": [
    "num_cols = ['CNT_CHILDREN',\n",
    " 'AMT_INCOME_TOTAL',\n",
    " 'AGE_YEARS',\n",
    " 'YEARS_EMPLOYED',\n",
    " 'CNT_FAM_MEMBERS']\n",
    "\n",
    "plt.figure(figsize=(19,9))\n",
    "application_df[num_cols].boxplot()\n",
    "plt.title(\"Numerical variables in the data\", fontsize=20)\n",
    "plt.show()"
   ]
  },
  {
   "cell_type": "code",
   "execution_count": 95,
   "id": "865aa26c",
   "metadata": {
    "ExecuteTime": {
     "end_time": "2021-12-10T14:53:59.786372Z",
     "start_time": "2021-12-10T14:53:59.758487Z"
    }
   },
   "outputs": [
    {
     "data": {
      "text/html": [
       "<div>\n",
       "<style scoped>\n",
       "    .dataframe tbody tr th:only-of-type {\n",
       "        vertical-align: middle;\n",
       "    }\n",
       "\n",
       "    .dataframe tbody tr th {\n",
       "        vertical-align: top;\n",
       "    }\n",
       "\n",
       "    .dataframe thead th {\n",
       "        text-align: right;\n",
       "    }\n",
       "</style>\n",
       "<table border=\"1\" class=\"dataframe\">\n",
       "  <thead>\n",
       "    <tr style=\"text-align: right;\">\n",
       "      <th></th>\n",
       "      <th>ID</th>\n",
       "      <th>CODE_GENDER</th>\n",
       "      <th>FLAG_OWN_CAR</th>\n",
       "      <th>FLAG_OWN_REALTY</th>\n",
       "      <th>CNT_CHILDREN</th>\n",
       "      <th>AMT_INCOME_TOTAL</th>\n",
       "      <th>NAME_INCOME_TYPE</th>\n",
       "      <th>NAME_EDUCATION_TYPE</th>\n",
       "      <th>NAME_FAMILY_STATUS</th>\n",
       "      <th>NAME_HOUSING_TYPE</th>\n",
       "      <th>AGE_YEARS</th>\n",
       "      <th>YEARS_EMPLOYED</th>\n",
       "      <th>CNT_FAM_MEMBERS</th>\n",
       "    </tr>\n",
       "  </thead>\n",
       "  <tbody>\n",
       "    <tr>\n",
       "      <th>2</th>\n",
       "      <td>5008806</td>\n",
       "      <td>M</td>\n",
       "      <td>Y</td>\n",
       "      <td>Y</td>\n",
       "      <td>0</td>\n",
       "      <td>112500.0</td>\n",
       "      <td>Working</td>\n",
       "      <td>Secondary / secondary special</td>\n",
       "      <td>Married</td>\n",
       "      <td>House / apartment</td>\n",
       "      <td>59.0</td>\n",
       "      <td>3.0</td>\n",
       "      <td>2.0</td>\n",
       "    </tr>\n",
       "    <tr>\n",
       "      <th>3</th>\n",
       "      <td>5008808</td>\n",
       "      <td>F</td>\n",
       "      <td>N</td>\n",
       "      <td>Y</td>\n",
       "      <td>0</td>\n",
       "      <td>270000.0</td>\n",
       "      <td>Commercial associate</td>\n",
       "      <td>Secondary / secondary special</td>\n",
       "      <td>Single / not married</td>\n",
       "      <td>House / apartment</td>\n",
       "      <td>52.0</td>\n",
       "      <td>8.0</td>\n",
       "      <td>1.0</td>\n",
       "    </tr>\n",
       "    <tr>\n",
       "      <th>4</th>\n",
       "      <td>5008809</td>\n",
       "      <td>F</td>\n",
       "      <td>N</td>\n",
       "      <td>Y</td>\n",
       "      <td>0</td>\n",
       "      <td>270000.0</td>\n",
       "      <td>Commercial associate</td>\n",
       "      <td>Secondary / secondary special</td>\n",
       "      <td>Single / not married</td>\n",
       "      <td>House / apartment</td>\n",
       "      <td>52.0</td>\n",
       "      <td>8.0</td>\n",
       "      <td>1.0</td>\n",
       "    </tr>\n",
       "    <tr>\n",
       "      <th>5</th>\n",
       "      <td>5008810</td>\n",
       "      <td>F</td>\n",
       "      <td>N</td>\n",
       "      <td>Y</td>\n",
       "      <td>0</td>\n",
       "      <td>270000.0</td>\n",
       "      <td>Commercial associate</td>\n",
       "      <td>Secondary / secondary special</td>\n",
       "      <td>Single / not married</td>\n",
       "      <td>House / apartment</td>\n",
       "      <td>52.0</td>\n",
       "      <td>8.0</td>\n",
       "      <td>1.0</td>\n",
       "    </tr>\n",
       "    <tr>\n",
       "      <th>6</th>\n",
       "      <td>5008811</td>\n",
       "      <td>F</td>\n",
       "      <td>N</td>\n",
       "      <td>Y</td>\n",
       "      <td>0</td>\n",
       "      <td>270000.0</td>\n",
       "      <td>Commercial associate</td>\n",
       "      <td>Secondary / secondary special</td>\n",
       "      <td>Single / not married</td>\n",
       "      <td>House / apartment</td>\n",
       "      <td>52.0</td>\n",
       "      <td>8.0</td>\n",
       "      <td>1.0</td>\n",
       "    </tr>\n",
       "  </tbody>\n",
       "</table>\n",
       "</div>"
      ],
      "text/plain": [
       "        ID CODE_GENDER FLAG_OWN_CAR FLAG_OWN_REALTY  CNT_CHILDREN  \\\n",
       "2  5008806           M            Y               Y             0   \n",
       "3  5008808           F            N               Y             0   \n",
       "4  5008809           F            N               Y             0   \n",
       "5  5008810           F            N               Y             0   \n",
       "6  5008811           F            N               Y             0   \n",
       "\n",
       "   AMT_INCOME_TOTAL      NAME_INCOME_TYPE            NAME_EDUCATION_TYPE  \\\n",
       "2          112500.0               Working  Secondary / secondary special   \n",
       "3          270000.0  Commercial associate  Secondary / secondary special   \n",
       "4          270000.0  Commercial associate  Secondary / secondary special   \n",
       "5          270000.0  Commercial associate  Secondary / secondary special   \n",
       "6          270000.0  Commercial associate  Secondary / secondary special   \n",
       "\n",
       "     NAME_FAMILY_STATUS  NAME_HOUSING_TYPE  AGE_YEARS  YEARS_EMPLOYED  \\\n",
       "2               Married  House / apartment       59.0             3.0   \n",
       "3  Single / not married  House / apartment       52.0             8.0   \n",
       "4  Single / not married  House / apartment       52.0             8.0   \n",
       "5  Single / not married  House / apartment       52.0             8.0   \n",
       "6  Single / not married  House / apartment       52.0             8.0   \n",
       "\n",
       "   CNT_FAM_MEMBERS  \n",
       "2              2.0  \n",
       "3              1.0  \n",
       "4              1.0  \n",
       "5              1.0  \n",
       "6              1.0  "
      ]
     },
     "execution_count": 95,
     "metadata": {},
     "output_type": "execute_result"
    }
   ],
   "source": [
    "application_df.head()"
   ]
  },
  {
   "cell_type": "code",
   "execution_count": 96,
   "id": "1a562b9b",
   "metadata": {
    "ExecuteTime": {
     "end_time": "2021-12-10T14:54:01.884648Z",
     "start_time": "2021-12-10T14:54:00.555278Z"
    }
   },
   "outputs": [
    {
     "name": "stdout",
     "output_type": "stream",
     "text": [
      "outliers\n",
      "AMT_INCOME_TOTAL : 0\n",
      "CNT_CHILDREN: 0\n",
      "YEARS_EMPLOYED : 0\n",
      "CNT_FAM_MEMBERS : 0\n"
     ]
    }
   ],
   "source": [
    "AMT_outliers = detect_outlier(application_df['AMT_INCOME_TOTAL'])\n",
    "CNTCh_outliers = detect_outlier(application_df['CNT_CHILDREN'])\n",
    "YE_outliers = detect_outlier(application_df['YEARS_EMPLOYED'])\n",
    "CFM_outliers = detect_outlier(application_df['CNT_FAM_MEMBERS'])\n",
    "print(\"outliers\")\n",
    "print(f\"AMT_INCOME_TOTAL : {len(AMT_outliers)}\")\n",
    "print(f\"CNT_CHILDREN: {len(CNTCh_outliers)}\")\n",
    "print(f\"YEARS_EMPLOYED : {len(YE_outliers)}\")\n",
    "print(f\"CNT_FAM_MEMBERS : {len(CFM_outliers)}\")"
   ]
  },
  {
   "cell_type": "code",
   "execution_count": 97,
   "id": "185c37b5",
   "metadata": {
    "ExecuteTime": {
     "end_time": "2021-12-10T14:54:03.349043Z",
     "start_time": "2021-12-10T14:54:03.210627Z"
    }
   },
   "outputs": [
    {
     "data": {
      "text/plain": [
       "ID                     0\n",
       "CODE_GENDER            0\n",
       "FLAG_OWN_CAR           0\n",
       "FLAG_OWN_REALTY        0\n",
       "CNT_CHILDREN           0\n",
       "AMT_INCOME_TOTAL       0\n",
       "NAME_INCOME_TYPE       0\n",
       "NAME_EDUCATION_TYPE    0\n",
       "NAME_FAMILY_STATUS     0\n",
       "NAME_HOUSING_TYPE      0\n",
       "AGE_YEARS              0\n",
       "YEARS_EMPLOYED         0\n",
       "CNT_FAM_MEMBERS        0\n",
       "dtype: int64"
      ]
     },
     "execution_count": 97,
     "metadata": {},
     "output_type": "execute_result"
    }
   ],
   "source": [
    "application_df.isnull().sum()"
   ]
  },
  {
   "cell_type": "markdown",
   "id": "e0fccb0d",
   "metadata": {},
   "source": [
    "#### Data Transforming"
   ]
  },
  {
   "cell_type": "markdown",
   "id": "b1079dcc",
   "metadata": {},
   "source": [
    "Transforming Data credit_record.csv"
   ]
  },
  {
   "cell_type": "code",
   "execution_count": 98,
   "id": "5f7b17d3",
   "metadata": {
    "ExecuteTime": {
     "end_time": "2021-12-10T14:54:07.773812Z",
     "start_time": "2021-12-10T14:54:07.756884Z"
    }
   },
   "outputs": [
    {
     "data": {
      "text/html": [
       "<div>\n",
       "<style scoped>\n",
       "    .dataframe tbody tr th:only-of-type {\n",
       "        vertical-align: middle;\n",
       "    }\n",
       "\n",
       "    .dataframe tbody tr th {\n",
       "        vertical-align: top;\n",
       "    }\n",
       "\n",
       "    .dataframe thead th {\n",
       "        text-align: right;\n",
       "    }\n",
       "</style>\n",
       "<table border=\"1\" class=\"dataframe\">\n",
       "  <thead>\n",
       "    <tr style=\"text-align: right;\">\n",
       "      <th></th>\n",
       "      <th>ID</th>\n",
       "      <th>MONTHS_BALANCE</th>\n",
       "      <th>STATUS</th>\n",
       "    </tr>\n",
       "  </thead>\n",
       "  <tbody>\n",
       "    <tr>\n",
       "      <th>0</th>\n",
       "      <td>5001711</td>\n",
       "      <td>0</td>\n",
       "      <td>X</td>\n",
       "    </tr>\n",
       "    <tr>\n",
       "      <th>1</th>\n",
       "      <td>5001711</td>\n",
       "      <td>-1</td>\n",
       "      <td>0</td>\n",
       "    </tr>\n",
       "    <tr>\n",
       "      <th>2</th>\n",
       "      <td>5001711</td>\n",
       "      <td>-2</td>\n",
       "      <td>0</td>\n",
       "    </tr>\n",
       "    <tr>\n",
       "      <th>3</th>\n",
       "      <td>5001711</td>\n",
       "      <td>-3</td>\n",
       "      <td>0</td>\n",
       "    </tr>\n",
       "    <tr>\n",
       "      <th>4</th>\n",
       "      <td>5001712</td>\n",
       "      <td>0</td>\n",
       "      <td>C</td>\n",
       "    </tr>\n",
       "  </tbody>\n",
       "</table>\n",
       "</div>"
      ],
      "text/plain": [
       "        ID  MONTHS_BALANCE STATUS\n",
       "0  5001711               0      X\n",
       "1  5001711              -1      0\n",
       "2  5001711              -2      0\n",
       "3  5001711              -3      0\n",
       "4  5001712               0      C"
      ]
     },
     "execution_count": 98,
     "metadata": {},
     "output_type": "execute_result"
    }
   ],
   "source": [
    "credit_df.head()"
   ]
  },
  {
   "cell_type": "code",
   "execution_count": 99,
   "id": "dc9fca61",
   "metadata": {
    "ExecuteTime": {
     "end_time": "2021-12-10T14:54:08.546215Z",
     "start_time": "2021-12-10T14:54:08.481174Z"
    }
   },
   "outputs": [
    {
     "data": {
      "text/plain": [
       "C    442031\n",
       "0    383120\n",
       "X    209230\n",
       "1     11090\n",
       "5      1693\n",
       "2       868\n",
       "3       320\n",
       "4       223\n",
       "Name: STATUS, dtype: int64"
      ]
     },
     "execution_count": 99,
     "metadata": {},
     "output_type": "execute_result"
    }
   ],
   "source": [
    "credit_df['STATUS'].value_counts()"
   ]
  },
  {
   "cell_type": "code",
   "execution_count": 100,
   "id": "564774dc",
   "metadata": {
    "ExecuteTime": {
     "end_time": "2021-12-10T14:54:10.033022Z",
     "start_time": "2021-12-10T14:54:09.677648Z"
    }
   },
   "outputs": [],
   "source": [
    "# Mengkategorikan kolom 'STATUS' ke klasifikasi biner 0 : Klien Baik dan 1 : klien buruk\n",
    "credit_df['STATUS'].replace(['C', 'X'],0, inplace=True)\n",
    "credit_df['STATUS'].replace(['2','3','4','5'],1, inplace=True)\n",
    "credit_df['STATUS'] = credit_df['STATUS'].astype('int')"
   ]
  },
  {
   "cell_type": "code",
   "execution_count": 101,
   "id": "d6972ffb",
   "metadata": {
    "ExecuteTime": {
     "end_time": "2021-12-10T14:54:11.060667Z",
     "start_time": "2021-12-10T14:54:11.032656Z"
    }
   },
   "outputs": [
    {
     "name": "stdout",
     "output_type": "stream",
     "text": [
      "<class 'pandas.core.frame.DataFrame'>\n",
      "RangeIndex: 1048575 entries, 0 to 1048574\n",
      "Data columns (total 3 columns):\n",
      " #   Column          Non-Null Count    Dtype\n",
      "---  ------          --------------    -----\n",
      " 0   ID              1048575 non-null  int64\n",
      " 1   MONTHS_BALANCE  1048575 non-null  int64\n",
      " 2   STATUS          1048575 non-null  int32\n",
      "dtypes: int32(1), int64(2)\n",
      "memory usage: 20.0 MB\n"
     ]
    }
   ],
   "source": [
    "credit_df.info()"
   ]
  },
  {
   "cell_type": "code",
   "execution_count": 102,
   "id": "7a65f582",
   "metadata": {
    "ExecuteTime": {
     "end_time": "2021-12-10T14:54:11.691345Z",
     "start_time": "2021-12-10T14:54:11.675658Z"
    }
   },
   "outputs": [
    {
     "data": {
      "text/plain": [
       "0    98.646353\n",
       "1     1.353647\n",
       "Name: STATUS, dtype: float64"
      ]
     },
     "execution_count": 102,
     "metadata": {},
     "output_type": "execute_result"
    }
   ],
   "source": [
    "credit_df['STATUS'].value_counts(normalize=True)*100"
   ]
  },
  {
   "cell_type": "code",
   "execution_count": 103,
   "id": "59c4286e",
   "metadata": {
    "ExecuteTime": {
     "end_time": "2021-12-10T14:54:12.388861Z",
     "start_time": "2021-12-10T14:54:12.300937Z"
    }
   },
   "outputs": [],
   "source": [
    "credit_df_trans = credit_df.groupby('ID').agg(max).reset_index()"
   ]
  },
  {
   "cell_type": "code",
   "execution_count": 104,
   "id": "fd94633f",
   "metadata": {
    "ExecuteTime": {
     "end_time": "2021-12-10T14:54:13.113566Z",
     "start_time": "2021-12-10T14:54:13.089465Z"
    }
   },
   "outputs": [
    {
     "data": {
      "text/html": [
       "<div>\n",
       "<style scoped>\n",
       "    .dataframe tbody tr th:only-of-type {\n",
       "        vertical-align: middle;\n",
       "    }\n",
       "\n",
       "    .dataframe tbody tr th {\n",
       "        vertical-align: top;\n",
       "    }\n",
       "\n",
       "    .dataframe thead th {\n",
       "        text-align: right;\n",
       "    }\n",
       "</style>\n",
       "<table border=\"1\" class=\"dataframe\">\n",
       "  <thead>\n",
       "    <tr style=\"text-align: right;\">\n",
       "      <th></th>\n",
       "      <th>ID</th>\n",
       "      <th>STATUS</th>\n",
       "    </tr>\n",
       "  </thead>\n",
       "  <tbody>\n",
       "    <tr>\n",
       "      <th>0</th>\n",
       "      <td>5001711</td>\n",
       "      <td>0</td>\n",
       "    </tr>\n",
       "    <tr>\n",
       "      <th>1</th>\n",
       "      <td>5001712</td>\n",
       "      <td>0</td>\n",
       "    </tr>\n",
       "    <tr>\n",
       "      <th>2</th>\n",
       "      <td>5001713</td>\n",
       "      <td>0</td>\n",
       "    </tr>\n",
       "    <tr>\n",
       "      <th>3</th>\n",
       "      <td>5001714</td>\n",
       "      <td>0</td>\n",
       "    </tr>\n",
       "    <tr>\n",
       "      <th>4</th>\n",
       "      <td>5001715</td>\n",
       "      <td>0</td>\n",
       "    </tr>\n",
       "  </tbody>\n",
       "</table>\n",
       "</div>"
      ],
      "text/plain": [
       "        ID  STATUS\n",
       "0  5001711       0\n",
       "1  5001712       0\n",
       "2  5001713       0\n",
       "3  5001714       0\n",
       "4  5001715       0"
      ]
     },
     "execution_count": 104,
     "metadata": {},
     "output_type": "execute_result"
    }
   ],
   "source": [
    "credit_df_trans.drop('MONTHS_BALANCE', axis=1, inplace=True)\n",
    "credit_df_trans.head()"
   ]
  },
  {
   "cell_type": "code",
   "execution_count": 105,
   "id": "fd69075a",
   "metadata": {
    "ExecuteTime": {
     "end_time": "2021-12-10T14:54:14.134670Z",
     "start_time": "2021-12-10T14:54:14.121743Z"
    }
   },
   "outputs": [
    {
     "data": {
      "text/plain": [
       "0    88.365771\n",
       "1    11.634229\n",
       "Name: STATUS, dtype: float64"
      ]
     },
     "execution_count": 105,
     "metadata": {},
     "output_type": "execute_result"
    }
   ],
   "source": [
    "credit_df_trans['STATUS'].value_counts(normalize=True)*100"
   ]
  },
  {
   "cell_type": "markdown",
   "id": "1e1d41fb",
   "metadata": {},
   "source": [
    "##### Merging Dataframe"
   ]
  },
  {
   "cell_type": "code",
   "execution_count": 106,
   "id": "5b14b1ce",
   "metadata": {
    "ExecuteTime": {
     "end_time": "2021-12-10T14:54:16.120247Z",
     "start_time": "2021-12-10T14:54:16.007626Z"
    }
   },
   "outputs": [
    {
     "data": {
      "text/html": [
       "<div>\n",
       "<style scoped>\n",
       "    .dataframe tbody tr th:only-of-type {\n",
       "        vertical-align: middle;\n",
       "    }\n",
       "\n",
       "    .dataframe tbody tr th {\n",
       "        vertical-align: top;\n",
       "    }\n",
       "\n",
       "    .dataframe thead th {\n",
       "        text-align: right;\n",
       "    }\n",
       "</style>\n",
       "<table border=\"1\" class=\"dataframe\">\n",
       "  <thead>\n",
       "    <tr style=\"text-align: right;\">\n",
       "      <th></th>\n",
       "      <th>ID</th>\n",
       "      <th>CODE_GENDER</th>\n",
       "      <th>FLAG_OWN_CAR</th>\n",
       "      <th>FLAG_OWN_REALTY</th>\n",
       "      <th>CNT_CHILDREN</th>\n",
       "      <th>AMT_INCOME_TOTAL</th>\n",
       "      <th>NAME_INCOME_TYPE</th>\n",
       "      <th>NAME_EDUCATION_TYPE</th>\n",
       "      <th>NAME_FAMILY_STATUS</th>\n",
       "      <th>NAME_HOUSING_TYPE</th>\n",
       "      <th>AGE_YEARS</th>\n",
       "      <th>YEARS_EMPLOYED</th>\n",
       "      <th>CNT_FAM_MEMBERS</th>\n",
       "      <th>STATUS</th>\n",
       "    </tr>\n",
       "  </thead>\n",
       "  <tbody>\n",
       "    <tr>\n",
       "      <th>0</th>\n",
       "      <td>5008806</td>\n",
       "      <td>M</td>\n",
       "      <td>Y</td>\n",
       "      <td>Y</td>\n",
       "      <td>0</td>\n",
       "      <td>112500.0</td>\n",
       "      <td>Working</td>\n",
       "      <td>Secondary / secondary special</td>\n",
       "      <td>Married</td>\n",
       "      <td>House / apartment</td>\n",
       "      <td>59.0</td>\n",
       "      <td>3.0</td>\n",
       "      <td>2.0</td>\n",
       "      <td>0</td>\n",
       "    </tr>\n",
       "    <tr>\n",
       "      <th>1</th>\n",
       "      <td>5008808</td>\n",
       "      <td>F</td>\n",
       "      <td>N</td>\n",
       "      <td>Y</td>\n",
       "      <td>0</td>\n",
       "      <td>270000.0</td>\n",
       "      <td>Commercial associate</td>\n",
       "      <td>Secondary / secondary special</td>\n",
       "      <td>Single / not married</td>\n",
       "      <td>House / apartment</td>\n",
       "      <td>52.0</td>\n",
       "      <td>8.0</td>\n",
       "      <td>1.0</td>\n",
       "      <td>0</td>\n",
       "    </tr>\n",
       "    <tr>\n",
       "      <th>2</th>\n",
       "      <td>5008809</td>\n",
       "      <td>F</td>\n",
       "      <td>N</td>\n",
       "      <td>Y</td>\n",
       "      <td>0</td>\n",
       "      <td>270000.0</td>\n",
       "      <td>Commercial associate</td>\n",
       "      <td>Secondary / secondary special</td>\n",
       "      <td>Single / not married</td>\n",
       "      <td>House / apartment</td>\n",
       "      <td>52.0</td>\n",
       "      <td>8.0</td>\n",
       "      <td>1.0</td>\n",
       "      <td>0</td>\n",
       "    </tr>\n",
       "    <tr>\n",
       "      <th>3</th>\n",
       "      <td>5008810</td>\n",
       "      <td>F</td>\n",
       "      <td>N</td>\n",
       "      <td>Y</td>\n",
       "      <td>0</td>\n",
       "      <td>270000.0</td>\n",
       "      <td>Commercial associate</td>\n",
       "      <td>Secondary / secondary special</td>\n",
       "      <td>Single / not married</td>\n",
       "      <td>House / apartment</td>\n",
       "      <td>52.0</td>\n",
       "      <td>8.0</td>\n",
       "      <td>1.0</td>\n",
       "      <td>0</td>\n",
       "    </tr>\n",
       "    <tr>\n",
       "      <th>4</th>\n",
       "      <td>5008811</td>\n",
       "      <td>F</td>\n",
       "      <td>N</td>\n",
       "      <td>Y</td>\n",
       "      <td>0</td>\n",
       "      <td>270000.0</td>\n",
       "      <td>Commercial associate</td>\n",
       "      <td>Secondary / secondary special</td>\n",
       "      <td>Single / not married</td>\n",
       "      <td>House / apartment</td>\n",
       "      <td>52.0</td>\n",
       "      <td>8.0</td>\n",
       "      <td>1.0</td>\n",
       "      <td>0</td>\n",
       "    </tr>\n",
       "  </tbody>\n",
       "</table>\n",
       "</div>"
      ],
      "text/plain": [
       "        ID CODE_GENDER FLAG_OWN_CAR FLAG_OWN_REALTY  CNT_CHILDREN  \\\n",
       "0  5008806           M            Y               Y             0   \n",
       "1  5008808           F            N               Y             0   \n",
       "2  5008809           F            N               Y             0   \n",
       "3  5008810           F            N               Y             0   \n",
       "4  5008811           F            N               Y             0   \n",
       "\n",
       "   AMT_INCOME_TOTAL      NAME_INCOME_TYPE            NAME_EDUCATION_TYPE  \\\n",
       "0          112500.0               Working  Secondary / secondary special   \n",
       "1          270000.0  Commercial associate  Secondary / secondary special   \n",
       "2          270000.0  Commercial associate  Secondary / secondary special   \n",
       "3          270000.0  Commercial associate  Secondary / secondary special   \n",
       "4          270000.0  Commercial associate  Secondary / secondary special   \n",
       "\n",
       "     NAME_FAMILY_STATUS  NAME_HOUSING_TYPE  AGE_YEARS  YEARS_EMPLOYED  \\\n",
       "0               Married  House / apartment       59.0             3.0   \n",
       "1  Single / not married  House / apartment       52.0             8.0   \n",
       "2  Single / not married  House / apartment       52.0             8.0   \n",
       "3  Single / not married  House / apartment       52.0             8.0   \n",
       "4  Single / not married  House / apartment       52.0             8.0   \n",
       "\n",
       "   CNT_FAM_MEMBERS  STATUS  \n",
       "0              2.0       0  \n",
       "1              1.0       0  \n",
       "2              1.0       0  \n",
       "3              1.0       0  \n",
       "4              1.0       0  "
      ]
     },
     "execution_count": 106,
     "metadata": {},
     "output_type": "execute_result"
    }
   ],
   "source": [
    "# menggabungkan dua set data berdasarkan 'ID'\n",
    "final_df = pd.merge(application_df, credit_df_trans, on='ID', how='inner')\n",
    "final_df.head()"
   ]
  },
  {
   "cell_type": "code",
   "execution_count": 107,
   "id": "affdd6d6",
   "metadata": {
    "ExecuteTime": {
     "end_time": "2021-12-10T14:54:16.770911Z",
     "start_time": "2021-12-10T14:54:16.754481Z"
    }
   },
   "outputs": [
    {
     "data": {
      "text/plain": [
       "(32416, 14)"
      ]
     },
     "execution_count": 107,
     "metadata": {},
     "output_type": "execute_result"
    }
   ],
   "source": [
    "final_df.shape"
   ]
  },
  {
   "cell_type": "code",
   "execution_count": 108,
   "id": "08f05077",
   "metadata": {
    "ExecuteTime": {
     "end_time": "2021-12-10T14:54:17.662482Z",
     "start_time": "2021-12-10T14:54:17.642346Z"
    }
   },
   "outputs": [],
   "source": [
    "# menghapus kolom 'ID' karena hanya memiliki nilai unik (tidak diperlukan untuk Model ML)\n",
    "final_df.drop('ID', axis=1, inplace=True)"
   ]
  },
  {
   "cell_type": "code",
   "execution_count": 109,
   "id": "ef75b66e",
   "metadata": {
    "ExecuteTime": {
     "end_time": "2021-12-10T14:54:18.214050Z",
     "start_time": "2021-12-10T14:54:18.175226Z"
    }
   },
   "outputs": [],
   "source": [
    "# menghapus record yang duplikat\n",
    "final_df = final_df.drop_duplicates()\n",
    "final_df.reset_index(drop=True ,inplace=True)"
   ]
  },
  {
   "cell_type": "code",
   "execution_count": 110,
   "id": "8ea7d665",
   "metadata": {
    "ExecuteTime": {
     "end_time": "2021-12-10T14:54:18.610031Z",
     "start_time": "2021-12-10T14:54:18.599351Z"
    }
   },
   "outputs": [
    {
     "data": {
      "text/plain": [
       "(9888, 13)"
      ]
     },
     "execution_count": 110,
     "metadata": {},
     "output_type": "execute_result"
    }
   ],
   "source": [
    "final_df.shape"
   ]
  },
  {
   "cell_type": "code",
   "execution_count": 111,
   "id": "f9601059",
   "metadata": {
    "ExecuteTime": {
     "end_time": "2021-12-10T14:54:19.176602Z",
     "start_time": "2021-12-10T14:54:19.160431Z"
    }
   },
   "outputs": [
    {
     "data": {
      "text/plain": [
       "CODE_GENDER            0\n",
       "FLAG_OWN_CAR           0\n",
       "FLAG_OWN_REALTY        0\n",
       "CNT_CHILDREN           0\n",
       "AMT_INCOME_TOTAL       0\n",
       "NAME_INCOME_TYPE       0\n",
       "NAME_EDUCATION_TYPE    0\n",
       "NAME_FAMILY_STATUS     0\n",
       "NAME_HOUSING_TYPE      0\n",
       "AGE_YEARS              0\n",
       "YEARS_EMPLOYED         0\n",
       "CNT_FAM_MEMBERS        0\n",
       "STATUS                 0\n",
       "dtype: int64"
      ]
     },
     "execution_count": 111,
     "metadata": {},
     "output_type": "execute_result"
    }
   ],
   "source": [
    "final_df.isnull().sum()"
   ]
  },
  {
   "cell_type": "code",
   "execution_count": 112,
   "id": "dd242fd4",
   "metadata": {
    "ExecuteTime": {
     "end_time": "2021-12-10T14:54:19.966789Z",
     "start_time": "2021-12-10T14:54:19.946729Z"
    }
   },
   "outputs": [
    {
     "data": {
      "text/plain": [
       "0    78.701456\n",
       "1    21.298544\n",
       "Name: STATUS, dtype: float64"
      ]
     },
     "execution_count": 112,
     "metadata": {},
     "output_type": "execute_result"
    }
   ],
   "source": [
    "final_df['STATUS'].value_counts(normalize=True)*100"
   ]
  },
  {
   "cell_type": "code",
   "execution_count": 113,
   "id": "8e3c0999",
   "metadata": {
    "ExecuteTime": {
     "end_time": "2021-12-10T14:54:21.042462Z",
     "start_time": "2021-12-10T14:54:21.005277Z"
    }
   },
   "outputs": [
    {
     "data": {
      "text/html": [
       "<div>\n",
       "<style scoped>\n",
       "    .dataframe tbody tr th:only-of-type {\n",
       "        vertical-align: middle;\n",
       "    }\n",
       "\n",
       "    .dataframe tbody tr th {\n",
       "        vertical-align: top;\n",
       "    }\n",
       "\n",
       "    .dataframe thead th {\n",
       "        text-align: right;\n",
       "    }\n",
       "</style>\n",
       "<table border=\"1\" class=\"dataframe\">\n",
       "  <thead>\n",
       "    <tr style=\"text-align: right;\">\n",
       "      <th></th>\n",
       "      <th>CODE_GENDER</th>\n",
       "      <th>FLAG_OWN_CAR</th>\n",
       "      <th>FLAG_OWN_REALTY</th>\n",
       "      <th>CNT_CHILDREN</th>\n",
       "      <th>AMT_INCOME_TOTAL</th>\n",
       "      <th>NAME_INCOME_TYPE</th>\n",
       "      <th>NAME_EDUCATION_TYPE</th>\n",
       "      <th>NAME_FAMILY_STATUS</th>\n",
       "      <th>NAME_HOUSING_TYPE</th>\n",
       "      <th>AGE_YEARS</th>\n",
       "      <th>YEARS_EMPLOYED</th>\n",
       "      <th>CNT_FAM_MEMBERS</th>\n",
       "      <th>STATUS</th>\n",
       "    </tr>\n",
       "  </thead>\n",
       "  <tbody>\n",
       "    <tr>\n",
       "      <th>0</th>\n",
       "      <td>1</td>\n",
       "      <td>1</td>\n",
       "      <td>1</td>\n",
       "      <td>0</td>\n",
       "      <td>112500.0</td>\n",
       "      <td>4</td>\n",
       "      <td>4</td>\n",
       "      <td>1</td>\n",
       "      <td>1</td>\n",
       "      <td>59.0</td>\n",
       "      <td>3.0</td>\n",
       "      <td>2.0</td>\n",
       "      <td>0</td>\n",
       "    </tr>\n",
       "    <tr>\n",
       "      <th>1</th>\n",
       "      <td>0</td>\n",
       "      <td>0</td>\n",
       "      <td>1</td>\n",
       "      <td>0</td>\n",
       "      <td>270000.0</td>\n",
       "      <td>0</td>\n",
       "      <td>4</td>\n",
       "      <td>3</td>\n",
       "      <td>1</td>\n",
       "      <td>52.0</td>\n",
       "      <td>8.0</td>\n",
       "      <td>1.0</td>\n",
       "      <td>0</td>\n",
       "    </tr>\n",
       "    <tr>\n",
       "      <th>2</th>\n",
       "      <td>0</td>\n",
       "      <td>0</td>\n",
       "      <td>1</td>\n",
       "      <td>0</td>\n",
       "      <td>283500.0</td>\n",
       "      <td>1</td>\n",
       "      <td>1</td>\n",
       "      <td>2</td>\n",
       "      <td>1</td>\n",
       "      <td>62.0</td>\n",
       "      <td>0.0</td>\n",
       "      <td>1.0</td>\n",
       "      <td>0</td>\n",
       "    </tr>\n",
       "    <tr>\n",
       "      <th>3</th>\n",
       "      <td>1</td>\n",
       "      <td>1</td>\n",
       "      <td>1</td>\n",
       "      <td>0</td>\n",
       "      <td>270000.0</td>\n",
       "      <td>4</td>\n",
       "      <td>1</td>\n",
       "      <td>1</td>\n",
       "      <td>1</td>\n",
       "      <td>46.0</td>\n",
       "      <td>2.0</td>\n",
       "      <td>2.0</td>\n",
       "      <td>0</td>\n",
       "    </tr>\n",
       "    <tr>\n",
       "      <th>4</th>\n",
       "      <td>1</td>\n",
       "      <td>1</td>\n",
       "      <td>1</td>\n",
       "      <td>0</td>\n",
       "      <td>135000.0</td>\n",
       "      <td>0</td>\n",
       "      <td>4</td>\n",
       "      <td>1</td>\n",
       "      <td>1</td>\n",
       "      <td>49.0</td>\n",
       "      <td>3.0</td>\n",
       "      <td>2.0</td>\n",
       "      <td>0</td>\n",
       "    </tr>\n",
       "  </tbody>\n",
       "</table>\n",
       "</div>"
      ],
      "text/plain": [
       "   CODE_GENDER  FLAG_OWN_CAR  FLAG_OWN_REALTY  CNT_CHILDREN  AMT_INCOME_TOTAL  \\\n",
       "0            1             1                1             0          112500.0   \n",
       "1            0             0                1             0          270000.0   \n",
       "2            0             0                1             0          283500.0   \n",
       "3            1             1                1             0          270000.0   \n",
       "4            1             1                1             0          135000.0   \n",
       "\n",
       "   NAME_INCOME_TYPE  NAME_EDUCATION_TYPE  NAME_FAMILY_STATUS  \\\n",
       "0                 4                    4                   1   \n",
       "1                 0                    4                   3   \n",
       "2                 1                    1                   2   \n",
       "3                 4                    1                   1   \n",
       "4                 0                    4                   1   \n",
       "\n",
       "   NAME_HOUSING_TYPE  AGE_YEARS  YEARS_EMPLOYED  CNT_FAM_MEMBERS  STATUS  \n",
       "0                  1       59.0             3.0              2.0       0  \n",
       "1                  1       52.0             8.0              1.0       0  \n",
       "2                  1       62.0             0.0              1.0       0  \n",
       "3                  1       46.0             2.0              2.0       0  \n",
       "4                  1       49.0             3.0              2.0       0  "
      ]
     },
     "execution_count": 113,
     "metadata": {},
     "output_type": "execute_result"
    }
   ],
   "source": [
    "# Mengonversi semua Kolom Non-Numerik ke Numerik\n",
    "from sklearn.preprocessing import LabelEncoder\n",
    "\n",
    "for col in cat_columns:\n",
    "    if col != \"OCCUPATION_TYPE\":\n",
    "        globals()['LE_{}'.format(col)] = LabelEncoder()\n",
    "        final_df[col] = globals()['LE_{}'.format(col)].fit_transform(final_df[col])\n",
    "final_df.head()  "
   ]
  },
  {
   "cell_type": "markdown",
   "id": "75dea50d",
   "metadata": {},
   "source": [
    "#### Data Visualization"
   ]
  },
  {
   "cell_type": "code",
   "execution_count": 114,
   "id": "9f5e5d4e",
   "metadata": {
    "ExecuteTime": {
     "end_time": "2021-12-10T14:54:31.376764Z",
     "start_time": "2021-12-10T14:54:31.348609Z"
    }
   },
   "outputs": [
    {
     "data": {
      "text/html": [
       "<div>\n",
       "<style scoped>\n",
       "    .dataframe tbody tr th:only-of-type {\n",
       "        vertical-align: middle;\n",
       "    }\n",
       "\n",
       "    .dataframe tbody tr th {\n",
       "        vertical-align: top;\n",
       "    }\n",
       "\n",
       "    .dataframe thead th {\n",
       "        text-align: right;\n",
       "    }\n",
       "</style>\n",
       "<table border=\"1\" class=\"dataframe\">\n",
       "  <thead>\n",
       "    <tr style=\"text-align: right;\">\n",
       "      <th></th>\n",
       "      <th>CODE_GENDER</th>\n",
       "      <th>FLAG_OWN_CAR</th>\n",
       "      <th>FLAG_OWN_REALTY</th>\n",
       "      <th>CNT_CHILDREN</th>\n",
       "      <th>AMT_INCOME_TOTAL</th>\n",
       "      <th>NAME_INCOME_TYPE</th>\n",
       "      <th>NAME_EDUCATION_TYPE</th>\n",
       "      <th>NAME_FAMILY_STATUS</th>\n",
       "      <th>NAME_HOUSING_TYPE</th>\n",
       "      <th>AGE_YEARS</th>\n",
       "      <th>YEARS_EMPLOYED</th>\n",
       "      <th>CNT_FAM_MEMBERS</th>\n",
       "      <th>STATUS</th>\n",
       "    </tr>\n",
       "  </thead>\n",
       "  <tbody>\n",
       "    <tr>\n",
       "      <th>0</th>\n",
       "      <td>1</td>\n",
       "      <td>1</td>\n",
       "      <td>1</td>\n",
       "      <td>0</td>\n",
       "      <td>112500.0</td>\n",
       "      <td>4</td>\n",
       "      <td>4</td>\n",
       "      <td>1</td>\n",
       "      <td>1</td>\n",
       "      <td>59.0</td>\n",
       "      <td>3.0</td>\n",
       "      <td>2.0</td>\n",
       "      <td>0</td>\n",
       "    </tr>\n",
       "    <tr>\n",
       "      <th>1</th>\n",
       "      <td>0</td>\n",
       "      <td>0</td>\n",
       "      <td>1</td>\n",
       "      <td>0</td>\n",
       "      <td>270000.0</td>\n",
       "      <td>0</td>\n",
       "      <td>4</td>\n",
       "      <td>3</td>\n",
       "      <td>1</td>\n",
       "      <td>52.0</td>\n",
       "      <td>8.0</td>\n",
       "      <td>1.0</td>\n",
       "      <td>0</td>\n",
       "    </tr>\n",
       "    <tr>\n",
       "      <th>2</th>\n",
       "      <td>0</td>\n",
       "      <td>0</td>\n",
       "      <td>1</td>\n",
       "      <td>0</td>\n",
       "      <td>283500.0</td>\n",
       "      <td>1</td>\n",
       "      <td>1</td>\n",
       "      <td>2</td>\n",
       "      <td>1</td>\n",
       "      <td>62.0</td>\n",
       "      <td>0.0</td>\n",
       "      <td>1.0</td>\n",
       "      <td>0</td>\n",
       "    </tr>\n",
       "    <tr>\n",
       "      <th>3</th>\n",
       "      <td>1</td>\n",
       "      <td>1</td>\n",
       "      <td>1</td>\n",
       "      <td>0</td>\n",
       "      <td>270000.0</td>\n",
       "      <td>4</td>\n",
       "      <td>1</td>\n",
       "      <td>1</td>\n",
       "      <td>1</td>\n",
       "      <td>46.0</td>\n",
       "      <td>2.0</td>\n",
       "      <td>2.0</td>\n",
       "      <td>0</td>\n",
       "    </tr>\n",
       "    <tr>\n",
       "      <th>4</th>\n",
       "      <td>1</td>\n",
       "      <td>1</td>\n",
       "      <td>1</td>\n",
       "      <td>0</td>\n",
       "      <td>135000.0</td>\n",
       "      <td>0</td>\n",
       "      <td>4</td>\n",
       "      <td>1</td>\n",
       "      <td>1</td>\n",
       "      <td>49.0</td>\n",
       "      <td>3.0</td>\n",
       "      <td>2.0</td>\n",
       "      <td>0</td>\n",
       "    </tr>\n",
       "  </tbody>\n",
       "</table>\n",
       "</div>"
      ],
      "text/plain": [
       "   CODE_GENDER  FLAG_OWN_CAR  FLAG_OWN_REALTY  CNT_CHILDREN  AMT_INCOME_TOTAL  \\\n",
       "0            1             1                1             0          112500.0   \n",
       "1            0             0                1             0          270000.0   \n",
       "2            0             0                1             0          283500.0   \n",
       "3            1             1                1             0          270000.0   \n",
       "4            1             1                1             0          135000.0   \n",
       "\n",
       "   NAME_INCOME_TYPE  NAME_EDUCATION_TYPE  NAME_FAMILY_STATUS  \\\n",
       "0                 4                    4                   1   \n",
       "1                 0                    4                   3   \n",
       "2                 1                    1                   2   \n",
       "3                 4                    1                   1   \n",
       "4                 0                    4                   1   \n",
       "\n",
       "   NAME_HOUSING_TYPE  AGE_YEARS  YEARS_EMPLOYED  CNT_FAM_MEMBERS  STATUS  \n",
       "0                  1       59.0             3.0              2.0       0  \n",
       "1                  1       52.0             8.0              1.0       0  \n",
       "2                  1       62.0             0.0              1.0       0  \n",
       "3                  1       46.0             2.0              2.0       0  \n",
       "4                  1       49.0             3.0              2.0       0  "
      ]
     },
     "execution_count": 114,
     "metadata": {},
     "output_type": "execute_result"
    }
   ],
   "source": [
    "final_df.head()"
   ]
  },
  {
   "cell_type": "code",
   "execution_count": 115,
   "id": "df6bf029",
   "metadata": {
    "ExecuteTime": {
     "end_time": "2021-12-10T14:54:32.848474Z",
     "start_time": "2021-12-10T14:54:32.034221Z"
    }
   },
   "outputs": [
    {
     "data": {
      "image/png": "[encoded data removed]",
      "text/plain": [
       "<Figure size 576x576 with 2 Axes>"
      ]
     },
     "metadata": {
      "needs_background": "light"
     },
     "output_type": "display_data"
    }
   ],
   "source": [
    "# Grafik ini menunjukkan bahwa, tidak ada kolom (Fitur) yang sangat berkorelasi dengan 'Status'\n",
    "plt.figure(figsize = (8,8))\n",
    "sns.heatmap(final_df.corr(), annot=True)\n",
    "plt.show()"
   ]
  },
  {
   "cell_type": "code",
   "execution_count": 116,
   "id": "b660d521",
   "metadata": {
    "ExecuteTime": {
     "end_time": "2021-12-10T14:54:32.944455Z",
     "start_time": "2021-12-10T14:54:32.848474Z"
    }
   },
   "outputs": [
    {
     "data": {
      "image/png": "[encoded data removed]",
      "text/plain": [
       "<Figure size 432x288 with 1 Axes>"
      ]
     },
     "metadata": {},
     "output_type": "display_data"
    }
   ],
   "source": [
    "# Grafik ini menunjukkan bahwa, sebagian besar aplikasi diajukan oleh Female's\n",
    "plt.pie(final_df['CODE_GENDER'].value_counts(), labels=['Female', 'Male'], autopct='%1.2f%%')\n",
    "plt.title('% of Applications submitted based on Gender')\n",
    "plt.show()"
   ]
  },
  {
   "cell_type": "code",
   "execution_count": 117,
   "id": "83f8f51b",
   "metadata": {
    "ExecuteTime": {
     "end_time": "2021-12-10T14:54:33.501101Z",
     "start_time": "2021-12-10T14:54:33.425671Z"
    }
   },
   "outputs": [
    {
     "data": {
      "image/png": "[encoded data removed]",
      "text/plain": [
       "<Figure size 432x288 with 1 Axes>"
      ]
     },
     "metadata": {},
     "output_type": "display_data"
    }
   ],
   "source": [
    "# Grafik ini menunjukkan bahwa, sebagian besar aplikasi disetujui untuk Wanita\n",
    "plt.pie(final_df[final_df['STATUS']==0]['CODE_GENDER'].value_counts(), labels=['Female', 'Male'], autopct='%1.2f%%')\n",
    "plt.title('% of Applications Approved based on Gender')\n",
    "plt.show()"
   ]
  },
  {
   "cell_type": "code",
   "execution_count": 118,
   "id": "25a6328b",
   "metadata": {
    "ExecuteTime": {
     "end_time": "2021-12-10T14:54:34.034961Z",
     "start_time": "2021-12-10T14:54:33.948911Z"
    }
   },
   "outputs": [
    {
     "data": {
      "image/png": "[encoded data removed]",
      "text/plain": [
       "<Figure size 432x288 with 1 Axes>"
      ]
     },
     "metadata": {},
     "output_type": "display_data"
    }
   ],
   "source": [
    "# Grafik ini menunjukkan bahwa, mayoritas pemohon tidak memiliki mobil\n",
    "plt.pie(final_df['FLAG_OWN_CAR'].value_counts(), labels=['No', 'Yes'], autopct='%1.2f%%')\n",
    "plt.title('% of Applications submitted based on owning a Car')\n",
    "plt.show()"
   ]
  },
  {
   "cell_type": "code",
   "execution_count": 119,
   "id": "8482e6c7",
   "metadata": {
    "ExecuteTime": {
     "end_time": "2021-12-10T14:54:34.582777Z",
     "start_time": "2021-12-10T14:54:34.420052Z"
    }
   },
   "outputs": [
    {
     "data": {
      "image/png": "[encoded data removed]",
      "text/plain": [
       "<Figure size 432x288 with 1 Axes>"
      ]
     },
     "metadata": {},
     "output_type": "display_data"
    }
   ],
   "source": [
    "# Grafik ini menunjukkan bahwa, sebagian besar pemohon memiliki properti / Rumah Real Estate\n",
    "plt.pie(final_df['FLAG_OWN_REALTY'].value_counts(), labels=['Yes','No'], autopct='%1.2f%%')\n",
    "plt.title('% of Applications submitted based on owning a Real estate property')\n",
    "plt.show()"
   ]
  },
  {
   "cell_type": "code",
   "execution_count": 120,
   "id": "eaef68c9",
   "metadata": {
    "ExecuteTime": {
     "end_time": "2021-12-10T14:54:34.939676Z",
     "start_time": "2021-12-10T14:54:34.803005Z"
    }
   },
   "outputs": [
    {
     "data": {
      "image/png": "[encoded data removed]",
      "text/plain": [
       "<Figure size 576x576 with 1 Axes>"
      ]
     },
     "metadata": {},
     "output_type": "display_data"
    }
   ],
   "source": [
    "# Grafik ini menunjukkan bahwa, sebagian besar pelamar tidak memiliki anak\n",
    "plt.figure(figsize = (8,8))\n",
    "plt.pie(final_df['CNT_CHILDREN'].value_counts(), labels=final_df['CNT_CHILDREN'].value_counts().index, autopct='%1.2f%%')\n",
    "plt.title('% of Applications submitted based on Children count')\n",
    "plt.legend()\n",
    "plt.show()"
   ]
  },
  {
   "cell_type": "code",
   "execution_count": 121,
   "id": "ccca4166",
   "metadata": {
    "ExecuteTime": {
     "end_time": "2021-12-10T14:54:35.505570Z",
     "start_time": "2021-12-10T14:54:35.366773Z"
    }
   },
   "outputs": [
    {
     "data": {
      "image/png": "[encoded data removed]",
      "text/plain": [
       "<Figure size 432x288 with 1 Axes>"
      ]
     },
     "metadata": {
      "needs_background": "light"
     },
     "output_type": "display_data"
    }
   ],
   "source": [
    "# Grafik ini menunjukkan bahwa, sebagian besar pendapatan pemohon berkisar antara 100k hingga 300k\n",
    "plt.hist(final_df['AMT_INCOME_TOTAL'], bins=20)\n",
    "plt.xlabel('Total Annual Income')\n",
    "plt.title('Histogram')\n",
    "plt.show()"
   ]
  },
  {
   "cell_type": "code",
   "execution_count": 122,
   "id": "99b9ffb3",
   "metadata": {
    "ExecuteTime": {
     "end_time": "2021-12-10T14:54:36.078775Z",
     "start_time": "2021-12-10T14:54:35.920544Z"
    }
   },
   "outputs": [
    {
     "data": {
      "image/png": "[encoded data removed]",
      "text/plain": [
       "<Figure size 576x576 with 1 Axes>"
      ]
     },
     "metadata": {},
     "output_type": "display_data"
    }
   ],
   "source": [
    "# Grafik ini menunjukkan bahwa, sebagian besar pelamar bekerja secara profesional\n",
    "plt.figure(figsize = (8,8))\n",
    "plt.pie(final_df['NAME_INCOME_TYPE'].value_counts(), labels=final_df['NAME_INCOME_TYPE'].value_counts().index, autopct='%1.2f%%')\n",
    "plt.title('% of Applications submitted based on Income Type')\n",
    "plt.legend()\n",
    "plt.show()"
   ]
  },
  {
   "cell_type": "code",
   "execution_count": 123,
   "id": "16130517",
   "metadata": {
    "ExecuteTime": {
     "end_time": "2021-12-10T14:54:36.636021Z",
     "start_time": "2021-12-10T14:54:36.467524Z"
    }
   },
   "outputs": [
    {
     "data": {
      "image/png": "[encoded data removed]",
      "text/plain": [
       "<Figure size 576x576 with 1 Axes>"
      ]
     },
     "metadata": {},
     "output_type": "display_data"
    }
   ],
   "source": [
    "# Grafik ini menunjukkan bahwa, mayoritas pelamar menyelesaikan Pendidikan Menengah\n",
    "plt.figure(figsize=(8,8))\n",
    "plt.pie(final_df['NAME_EDUCATION_TYPE'].value_counts(), labels=final_df['NAME_EDUCATION_TYPE'].value_counts().index, autopct='%1.2f%%')\n",
    "plt.title('% of Applications submitted based on Education')\n",
    "plt.legend()\n",
    "plt.show()"
   ]
  },
  {
   "cell_type": "code",
   "execution_count": 124,
   "id": "2aea105f",
   "metadata": {
    "ExecuteTime": {
     "end_time": "2021-12-10T14:54:37.214033Z",
     "start_time": "2021-12-10T14:54:37.078202Z"
    }
   },
   "outputs": [
    {
     "name": "stderr",
     "output_type": "stream",
     "text": [
      "C:\\Users\\faisa\\anaconda3\\lib\\site-packages\\seaborn\\_decorators.py:36: FutureWarning: Pass the following variables as keyword args: x, y. From version 0.12, the only valid positional argument will be `data`, and passing other arguments without an explicit keyword will result in an error or misinterpretation.\n",
      "  warnings.warn(\n"
     ]
    },
    {
     "data": {
      "image/png": "[encoded data removed]",
      "text/plain": [
       "<Figure size 576x576 with 1 Axes>"
      ]
     },
     "metadata": {
      "needs_background": "light"
     },
     "output_type": "display_data"
    }
   ],
   "source": [
    "# Grafik ini menunjukkan bahwa sebagian besar pelamar sudah menikah\n",
    "plt.figure(figsize=(8,8))\n",
    "sns.barplot(final_df['NAME_FAMILY_STATUS'].value_counts().index, final_df['NAME_FAMILY_STATUS'].value_counts().values)\n",
    "plt.title('% of Applications submitted based on Family Status')\n",
    "plt.show()"
   ]
  },
  {
   "cell_type": "code",
   "execution_count": 125,
   "id": "a1e77c07",
   "metadata": {
    "ExecuteTime": {
     "end_time": "2021-12-10T14:54:37.901275Z",
     "start_time": "2021-12-10T14:54:37.766062Z"
    }
   },
   "outputs": [
    {
     "name": "stderr",
     "output_type": "stream",
     "text": [
      "C:\\Users\\faisa\\anaconda3\\lib\\site-packages\\seaborn\\_decorators.py:36: FutureWarning: Pass the following variables as keyword args: x, y. From version 0.12, the only valid positional argument will be `data`, and passing other arguments without an explicit keyword will result in an error or misinterpretation.\n",
      "  warnings.warn(\n"
     ]
    },
    {
     "data": {
      "image/png": "[encoded data removed]",
      "text/plain": [
       "<Figure size 864x360 with 1 Axes>"
      ]
     },
     "metadata": {
      "needs_background": "light"
     },
     "output_type": "display_data"
    }
   ],
   "source": [
    "# Grafik ini menunjukkan bahwa, sebagian besar pemohon tinggal di Rumah/Apartemen\n",
    "plt.figure(figsize=(12,5))\n",
    "sns.barplot(final_df['NAME_HOUSING_TYPE'].value_counts().index, final_df['NAME_HOUSING_TYPE'].value_counts().values)\n",
    "plt.title('% of Applications submitted based on Housing Type')\n",
    "plt.show()"
   ]
  },
  {
   "cell_type": "code",
   "execution_count": 126,
   "id": "4c512541",
   "metadata": {
    "ExecuteTime": {
     "end_time": "2021-12-10T14:54:38.473526Z",
     "start_time": "2021-12-10T14:54:38.336454Z"
    }
   },
   "outputs": [
    {
     "data": {
      "image/png": "[encoded data removed]",
      "text/plain": [
       "<Figure size 432x288 with 1 Axes>"
      ]
     },
     "metadata": {
      "needs_background": "light"
     },
     "output_type": "display_data"
    }
   ],
   "source": [
    "# Grafik ini menunjukkan bahwa, mayoritas pelamar berusia 25 hingga 65 tahun\n",
    "plt.hist(final_df['AGE_YEARS'], bins=20)\n",
    "plt.xlabel('Age')\n",
    "plt.title('Histogram')\n",
    "plt.show()"
   ]
  },
  {
   "cell_type": "code",
   "execution_count": 127,
   "id": "eef7ef0c",
   "metadata": {
    "ExecuteTime": {
     "end_time": "2021-12-10T14:54:39.072063Z",
     "start_time": "2021-12-10T14:54:38.902204Z"
    }
   },
   "outputs": [
    {
     "data": {
      "image/png": "[encoded data removed]",
      "text/plain": [
       "<Figure size 432x288 with 1 Axes>"
      ]
     },
     "metadata": {
      "needs_background": "light"
     },
     "output_type": "display_data"
    }
   ],
   "source": [
    "# Grafik ini menunjukkan bahwa, mayoritas pelamar Bekerja selama 0 hingga 7 tahun\n",
    "plt.hist(final_df['YEARS_EMPLOYED'], bins=20)\n",
    "plt.xlabel('No of Years Employed')\n",
    "plt.title('Histogram')\n",
    "plt.show()"
   ]
  },
  {
   "cell_type": "code",
   "execution_count": 128,
   "id": "3c49ea1c",
   "metadata": {
    "ExecuteTime": {
     "end_time": "2021-12-10T14:54:40.228417Z",
     "start_time": "2021-12-10T14:54:39.654109Z"
    }
   },
   "outputs": [
    {
     "name": "stderr",
     "output_type": "stream",
     "text": [
      "C:\\Users\\faisa\\anaconda3\\lib\\site-packages\\seaborn\\_decorators.py:36: FutureWarning: Pass the following variables as keyword args: x, y. From version 0.12, the only valid positional argument will be `data`, and passing other arguments without an explicit keyword will result in an error or misinterpretation.\n",
      "  warnings.warn(\n"
     ]
    },
    {
     "data": {
      "image/png": "[encoded data removed]",
      "text/plain": [
       "<Figure size 432x288 with 1 Axes>"
      ]
     },
     "metadata": {
      "needs_background": "light"
     },
     "output_type": "display_data"
    }
   ],
   "source": [
    "# Grafik ini menunjukkan bahwa, sebagian besar aplikasi ditolak jika Total pendapatan & tahun kerja kurang\n",
    "sns.scatterplot(final_df['YEARS_EMPLOYED'], final_df['AMT_INCOME_TOTAL'], hue=final_df['STATUS'])\n",
    "plt.title('Scatter Plot')\n",
    "plt.show()"
   ]
  },
  {
   "cell_type": "markdown",
   "id": "97f23d9d",
   "metadata": {},
   "source": [
    "### Data Preprocessing"
   ]
  },
  {
   "cell_type": "code",
   "execution_count": 129,
   "id": "cba24683",
   "metadata": {
    "ExecuteTime": {
     "end_time": "2021-12-10T14:54:41.532865Z",
     "start_time": "2021-12-10T14:54:41.505151Z"
    }
   },
   "outputs": [
    {
     "data": {
      "text/html": [
       "<div>\n",
       "<style scoped>\n",
       "    .dataframe tbody tr th:only-of-type {\n",
       "        vertical-align: middle;\n",
       "    }\n",
       "\n",
       "    .dataframe tbody tr th {\n",
       "        vertical-align: top;\n",
       "    }\n",
       "\n",
       "    .dataframe thead th {\n",
       "        text-align: right;\n",
       "    }\n",
       "</style>\n",
       "<table border=\"1\" class=\"dataframe\">\n",
       "  <thead>\n",
       "    <tr style=\"text-align: right;\">\n",
       "      <th></th>\n",
       "      <th>CODE_GENDER</th>\n",
       "      <th>FLAG_OWN_CAR</th>\n",
       "      <th>FLAG_OWN_REALTY</th>\n",
       "      <th>CNT_CHILDREN</th>\n",
       "      <th>AMT_INCOME_TOTAL</th>\n",
       "      <th>NAME_INCOME_TYPE</th>\n",
       "      <th>NAME_EDUCATION_TYPE</th>\n",
       "      <th>NAME_FAMILY_STATUS</th>\n",
       "      <th>NAME_HOUSING_TYPE</th>\n",
       "      <th>AGE_YEARS</th>\n",
       "      <th>YEARS_EMPLOYED</th>\n",
       "      <th>CNT_FAM_MEMBERS</th>\n",
       "      <th>STATUS</th>\n",
       "    </tr>\n",
       "  </thead>\n",
       "  <tbody>\n",
       "    <tr>\n",
       "      <th>0</th>\n",
       "      <td>1</td>\n",
       "      <td>1</td>\n",
       "      <td>1</td>\n",
       "      <td>0</td>\n",
       "      <td>112500.0</td>\n",
       "      <td>4</td>\n",
       "      <td>4</td>\n",
       "      <td>1</td>\n",
       "      <td>1</td>\n",
       "      <td>59.0</td>\n",
       "      <td>3.0</td>\n",
       "      <td>2.0</td>\n",
       "      <td>0</td>\n",
       "    </tr>\n",
       "    <tr>\n",
       "      <th>1</th>\n",
       "      <td>0</td>\n",
       "      <td>0</td>\n",
       "      <td>1</td>\n",
       "      <td>0</td>\n",
       "      <td>270000.0</td>\n",
       "      <td>0</td>\n",
       "      <td>4</td>\n",
       "      <td>3</td>\n",
       "      <td>1</td>\n",
       "      <td>52.0</td>\n",
       "      <td>8.0</td>\n",
       "      <td>1.0</td>\n",
       "      <td>0</td>\n",
       "    </tr>\n",
       "    <tr>\n",
       "      <th>2</th>\n",
       "      <td>0</td>\n",
       "      <td>0</td>\n",
       "      <td>1</td>\n",
       "      <td>0</td>\n",
       "      <td>283500.0</td>\n",
       "      <td>1</td>\n",
       "      <td>1</td>\n",
       "      <td>2</td>\n",
       "      <td>1</td>\n",
       "      <td>62.0</td>\n",
       "      <td>0.0</td>\n",
       "      <td>1.0</td>\n",
       "      <td>0</td>\n",
       "    </tr>\n",
       "    <tr>\n",
       "      <th>3</th>\n",
       "      <td>1</td>\n",
       "      <td>1</td>\n",
       "      <td>1</td>\n",
       "      <td>0</td>\n",
       "      <td>270000.0</td>\n",
       "      <td>4</td>\n",
       "      <td>1</td>\n",
       "      <td>1</td>\n",
       "      <td>1</td>\n",
       "      <td>46.0</td>\n",
       "      <td>2.0</td>\n",
       "      <td>2.0</td>\n",
       "      <td>0</td>\n",
       "    </tr>\n",
       "    <tr>\n",
       "      <th>4</th>\n",
       "      <td>1</td>\n",
       "      <td>1</td>\n",
       "      <td>1</td>\n",
       "      <td>0</td>\n",
       "      <td>135000.0</td>\n",
       "      <td>0</td>\n",
       "      <td>4</td>\n",
       "      <td>1</td>\n",
       "      <td>1</td>\n",
       "      <td>49.0</td>\n",
       "      <td>3.0</td>\n",
       "      <td>2.0</td>\n",
       "      <td>0</td>\n",
       "    </tr>\n",
       "  </tbody>\n",
       "</table>\n",
       "</div>"
      ],
      "text/plain": [
       "   CODE_GENDER  FLAG_OWN_CAR  FLAG_OWN_REALTY  CNT_CHILDREN  AMT_INCOME_TOTAL  \\\n",
       "0            1             1                1             0          112500.0   \n",
       "1            0             0                1             0          270000.0   \n",
       "2            0             0                1             0          283500.0   \n",
       "3            1             1                1             0          270000.0   \n",
       "4            1             1                1             0          135000.0   \n",
       "\n",
       "   NAME_INCOME_TYPE  NAME_EDUCATION_TYPE  NAME_FAMILY_STATUS  \\\n",
       "0                 4                    4                   1   \n",
       "1                 0                    4                   3   \n",
       "2                 1                    1                   2   \n",
       "3                 4                    1                   1   \n",
       "4                 0                    4                   1   \n",
       "\n",
       "   NAME_HOUSING_TYPE  AGE_YEARS  YEARS_EMPLOYED  CNT_FAM_MEMBERS  STATUS  \n",
       "0                  1       59.0             3.0              2.0       0  \n",
       "1                  1       52.0             8.0              1.0       0  \n",
       "2                  1       62.0             0.0              1.0       0  \n",
       "3                  1       46.0             2.0              2.0       0  \n",
       "4                  1       49.0             3.0              2.0       0  "
      ]
     },
     "execution_count": 129,
     "metadata": {},
     "output_type": "execute_result"
    }
   ],
   "source": [
    "final_df.head()"
   ]
  },
  {
   "cell_type": "markdown",
   "id": "8fad9c36",
   "metadata": {},
   "source": [
    "#### Memisahkan Data menjadi Feature and Label"
   ]
  },
  {
   "cell_type": "code",
   "execution_count": 130,
   "id": "16928154",
   "metadata": {
    "ExecuteTime": {
     "end_time": "2021-12-10T14:54:42.970056Z",
     "start_time": "2021-12-10T14:54:42.944183Z"
    }
   },
   "outputs": [
    {
     "data": {
      "text/plain": [
       "[]"
      ]
     },
     "execution_count": 130,
     "metadata": {},
     "output_type": "execute_result"
    }
   ],
   "source": [
    "cat_columns = final_df.columns[(final_df.dtypes =='object').values].tolist()\n",
    "cat_columns"
   ]
  },
  {
   "cell_type": "code",
   "execution_count": 131,
   "id": "499310f0",
   "metadata": {
    "ExecuteTime": {
     "end_time": "2021-12-10T14:54:44.175179Z",
     "start_time": "2021-12-10T14:54:44.163233Z"
    }
   },
   "outputs": [],
   "source": [
    "for col in cat_columns:\n",
    "    print(col , \"  : \", globals()['LE_{}'.format(col)].classes_)"
   ]
  },
  {
   "cell_type": "code",
   "execution_count": 132,
   "id": "07af7c13",
   "metadata": {
    "ExecuteTime": {
     "end_time": "2021-12-10T14:54:47.478967Z",
     "start_time": "2021-12-10T14:54:47.443607Z"
    }
   },
   "outputs": [
    {
     "data": {
      "text/html": [
       "<div>\n",
       "<style scoped>\n",
       "    .dataframe tbody tr th:only-of-type {\n",
       "        vertical-align: middle;\n",
       "    }\n",
       "\n",
       "    .dataframe tbody tr th {\n",
       "        vertical-align: top;\n",
       "    }\n",
       "\n",
       "    .dataframe thead th {\n",
       "        text-align: right;\n",
       "    }\n",
       "</style>\n",
       "<table border=\"1\" class=\"dataframe\">\n",
       "  <thead>\n",
       "    <tr style=\"text-align: right;\">\n",
       "      <th></th>\n",
       "      <th>CODE_GENDER</th>\n",
       "      <th>FLAG_OWN_CAR</th>\n",
       "      <th>FLAG_OWN_REALTY</th>\n",
       "      <th>CNT_CHILDREN</th>\n",
       "      <th>AMT_INCOME_TOTAL</th>\n",
       "      <th>NAME_INCOME_TYPE</th>\n",
       "      <th>NAME_EDUCATION_TYPE</th>\n",
       "      <th>NAME_FAMILY_STATUS</th>\n",
       "      <th>NAME_HOUSING_TYPE</th>\n",
       "      <th>AGE_YEARS</th>\n",
       "      <th>YEARS_EMPLOYED</th>\n",
       "      <th>CNT_FAM_MEMBERS</th>\n",
       "      <th>STATUS</th>\n",
       "    </tr>\n",
       "  </thead>\n",
       "  <tbody>\n",
       "    <tr>\n",
       "      <th>CODE_GENDER</th>\n",
       "      <td>1.000000</td>\n",
       "      <td>0.343799</td>\n",
       "      <td>-0.054899</td>\n",
       "      <td>0.052579</td>\n",
       "      <td>0.221146</td>\n",
       "      <td>0.085995</td>\n",
       "      <td>0.020162</td>\n",
       "      <td>-0.073962</td>\n",
       "      <td>0.047081</td>\n",
       "      <td>-0.155421</td>\n",
       "      <td>0.017756</td>\n",
       "      <td>0.078837</td>\n",
       "      <td>0.001918</td>\n",
       "    </tr>\n",
       "    <tr>\n",
       "      <th>FLAG_OWN_CAR</th>\n",
       "      <td>0.343799</td>\n",
       "      <td>1.000000</td>\n",
       "      <td>-0.000960</td>\n",
       "      <td>0.088809</td>\n",
       "      <td>0.217829</td>\n",
       "      <td>0.036883</td>\n",
       "      <td>-0.072902</td>\n",
       "      <td>-0.123162</td>\n",
       "      <td>-0.008566</td>\n",
       "      <td>-0.109582</td>\n",
       "      <td>0.057424</td>\n",
       "      <td>0.143100</td>\n",
       "      <td>-0.005322</td>\n",
       "    </tr>\n",
       "    <tr>\n",
       "      <th>FLAG_OWN_REALTY</th>\n",
       "      <td>-0.054899</td>\n",
       "      <td>-0.000960</td>\n",
       "      <td>1.000000</td>\n",
       "      <td>0.001733</td>\n",
       "      <td>0.029619</td>\n",
       "      <td>-0.036173</td>\n",
       "      <td>0.009120</td>\n",
       "      <td>-0.014341</td>\n",
       "      <td>-0.175449</td>\n",
       "      <td>0.122546</td>\n",
       "      <td>-0.025768</td>\n",
       "      <td>0.012292</td>\n",
       "      <td>-0.024576</td>\n",
       "    </tr>\n",
       "    <tr>\n",
       "      <th>CNT_CHILDREN</th>\n",
       "      <td>0.052579</td>\n",
       "      <td>0.088809</td>\n",
       "      <td>0.001733</td>\n",
       "      <td>1.000000</td>\n",
       "      <td>0.025695</td>\n",
       "      <td>0.100600</td>\n",
       "      <td>-0.040107</td>\n",
       "      <td>-0.175843</td>\n",
       "      <td>0.018021</td>\n",
       "      <td>-0.335127</td>\n",
       "      <td>0.108390</td>\n",
       "      <td>0.863814</td>\n",
       "      <td>0.002743</td>\n",
       "    </tr>\n",
       "    <tr>\n",
       "      <th>AMT_INCOME_TOTAL</th>\n",
       "      <td>0.221146</td>\n",
       "      <td>0.217829</td>\n",
       "      <td>0.029619</td>\n",
       "      <td>0.025695</td>\n",
       "      <td>1.000000</td>\n",
       "      <td>-0.049898</td>\n",
       "      <td>-0.198695</td>\n",
       "      <td>-0.014643</td>\n",
       "      <td>-0.010015</td>\n",
       "      <td>-0.098111</td>\n",
       "      <td>0.128312</td>\n",
       "      <td>0.021118</td>\n",
       "      <td>0.013607</td>\n",
       "    </tr>\n",
       "    <tr>\n",
       "      <th>NAME_INCOME_TYPE</th>\n",
       "      <td>0.085995</td>\n",
       "      <td>0.036883</td>\n",
       "      <td>-0.036173</td>\n",
       "      <td>0.100600</td>\n",
       "      <td>-0.049898</td>\n",
       "      <td>1.000000</td>\n",
       "      <td>0.067591</td>\n",
       "      <td>-0.026987</td>\n",
       "      <td>0.039900</td>\n",
       "      <td>-0.214741</td>\n",
       "      <td>0.175201</td>\n",
       "      <td>0.086646</td>\n",
       "      <td>-0.002896</td>\n",
       "    </tr>\n",
       "    <tr>\n",
       "      <th>NAME_EDUCATION_TYPE</th>\n",
       "      <td>0.020162</td>\n",
       "      <td>-0.072902</td>\n",
       "      <td>0.009120</td>\n",
       "      <td>-0.040107</td>\n",
       "      <td>-0.198695</td>\n",
       "      <td>0.067591</td>\n",
       "      <td>1.000000</td>\n",
       "      <td>0.004306</td>\n",
       "      <td>-0.040321</td>\n",
       "      <td>0.162203</td>\n",
       "      <td>-0.040172</td>\n",
       "      <td>-0.032149</td>\n",
       "      <td>-0.011945</td>\n",
       "    </tr>\n",
       "    <tr>\n",
       "      <th>NAME_FAMILY_STATUS</th>\n",
       "      <td>-0.073962</td>\n",
       "      <td>-0.123162</td>\n",
       "      <td>-0.014341</td>\n",
       "      <td>-0.175843</td>\n",
       "      <td>-0.014643</td>\n",
       "      <td>-0.026987</td>\n",
       "      <td>0.004306</td>\n",
       "      <td>1.000000</td>\n",
       "      <td>0.037724</td>\n",
       "      <td>0.077577</td>\n",
       "      <td>-0.083335</td>\n",
       "      <td>-0.590286</td>\n",
       "      <td>0.002958</td>\n",
       "    </tr>\n",
       "    <tr>\n",
       "      <th>NAME_HOUSING_TYPE</th>\n",
       "      <td>0.047081</td>\n",
       "      <td>-0.008566</td>\n",
       "      <td>-0.175449</td>\n",
       "      <td>0.018021</td>\n",
       "      <td>-0.010015</td>\n",
       "      <td>0.039900</td>\n",
       "      <td>-0.040321</td>\n",
       "      <td>0.037724</td>\n",
       "      <td>1.000000</td>\n",
       "      <td>-0.220322</td>\n",
       "      <td>-0.017278</td>\n",
       "      <td>-0.019136</td>\n",
       "      <td>0.018345</td>\n",
       "    </tr>\n",
       "    <tr>\n",
       "      <th>AGE_YEARS</th>\n",
       "      <td>-0.155421</td>\n",
       "      <td>-0.109582</td>\n",
       "      <td>0.122546</td>\n",
       "      <td>-0.335127</td>\n",
       "      <td>-0.098111</td>\n",
       "      <td>-0.214741</td>\n",
       "      <td>0.162203</td>\n",
       "      <td>0.077577</td>\n",
       "      <td>-0.220322</td>\n",
       "      <td>1.000000</td>\n",
       "      <td>-0.138212</td>\n",
       "      <td>-0.272286</td>\n",
       "      <td>-0.025796</td>\n",
       "    </tr>\n",
       "    <tr>\n",
       "      <th>YEARS_EMPLOYED</th>\n",
       "      <td>0.017756</td>\n",
       "      <td>0.057424</td>\n",
       "      <td>-0.025768</td>\n",
       "      <td>0.108390</td>\n",
       "      <td>0.128312</td>\n",
       "      <td>0.175201</td>\n",
       "      <td>-0.040172</td>\n",
       "      <td>-0.083335</td>\n",
       "      <td>-0.017278</td>\n",
       "      <td>-0.138212</td>\n",
       "      <td>1.000000</td>\n",
       "      <td>0.127579</td>\n",
       "      <td>-0.011154</td>\n",
       "    </tr>\n",
       "    <tr>\n",
       "      <th>CNT_FAM_MEMBERS</th>\n",
       "      <td>0.078837</td>\n",
       "      <td>0.143100</td>\n",
       "      <td>0.012292</td>\n",
       "      <td>0.863814</td>\n",
       "      <td>0.021118</td>\n",
       "      <td>0.086646</td>\n",
       "      <td>-0.032149</td>\n",
       "      <td>-0.590286</td>\n",
       "      <td>-0.019136</td>\n",
       "      <td>-0.272286</td>\n",
       "      <td>0.127579</td>\n",
       "      <td>1.000000</td>\n",
       "      <td>0.002875</td>\n",
       "    </tr>\n",
       "    <tr>\n",
       "      <th>STATUS</th>\n",
       "      <td>0.001918</td>\n",
       "      <td>-0.005322</td>\n",
       "      <td>-0.024576</td>\n",
       "      <td>0.002743</td>\n",
       "      <td>0.013607</td>\n",
       "      <td>-0.002896</td>\n",
       "      <td>-0.011945</td>\n",
       "      <td>0.002958</td>\n",
       "      <td>0.018345</td>\n",
       "      <td>-0.025796</td>\n",
       "      <td>-0.011154</td>\n",
       "      <td>0.002875</td>\n",
       "      <td>1.000000</td>\n",
       "    </tr>\n",
       "  </tbody>\n",
       "</table>\n",
       "</div>"
      ],
      "text/plain": [
       "                     CODE_GENDER  FLAG_OWN_CAR  FLAG_OWN_REALTY  CNT_CHILDREN  \\\n",
       "CODE_GENDER             1.000000      0.343799        -0.054899      0.052579   \n",
       "FLAG_OWN_CAR            0.343799      1.000000        -0.000960      0.088809   \n",
       "FLAG_OWN_REALTY        -0.054899     -0.000960         1.000000      0.001733   \n",
       "CNT_CHILDREN            0.052579      0.088809         0.001733      1.000000   \n",
       "AMT_INCOME_TOTAL        0.221146      0.217829         0.029619      0.025695   \n",
       "NAME_INCOME_TYPE        0.085995      0.036883        -0.036173      0.100600   \n",
       "NAME_EDUCATION_TYPE     0.020162     -0.072902         0.009120     -0.040107   \n",
       "NAME_FAMILY_STATUS     -0.073962     -0.123162        -0.014341     -0.175843   \n",
       "NAME_HOUSING_TYPE       0.047081     -0.008566        -0.175449      0.018021   \n",
       "AGE_YEARS              -0.155421     -0.109582         0.122546     -0.335127   \n",
       "YEARS_EMPLOYED          0.017756      0.057424        -0.025768      0.108390   \n",
       "CNT_FAM_MEMBERS         0.078837      0.143100         0.012292      0.863814   \n",
       "STATUS                  0.001918     -0.005322        -0.024576      0.002743   \n",
       "\n",
       "                     AMT_INCOME_TOTAL  NAME_INCOME_TYPE  NAME_EDUCATION_TYPE  \\\n",
       "CODE_GENDER                  0.221146          0.085995             0.020162   \n",
       "FLAG_OWN_CAR                 0.217829          0.036883            -0.072902   \n",
       "FLAG_OWN_REALTY              0.029619         -0.036173             0.009120   \n",
       "CNT_CHILDREN                 0.025695          0.100600            -0.040107   \n",
       "AMT_INCOME_TOTAL             1.000000         -0.049898            -0.198695   \n",
       "NAME_INCOME_TYPE            -0.049898          1.000000             0.067591   \n",
       "NAME_EDUCATION_TYPE         -0.198695          0.067591             1.000000   \n",
       "NAME_FAMILY_STATUS          -0.014643         -0.026987             0.004306   \n",
       "NAME_HOUSING_TYPE           -0.010015          0.039900            -0.040321   \n",
       "AGE_YEARS                   -0.098111         -0.214741             0.162203   \n",
       "YEARS_EMPLOYED               0.128312          0.175201            -0.040172   \n",
       "CNT_FAM_MEMBERS              0.021118          0.086646            -0.032149   \n",
       "STATUS                       0.013607         -0.002896            -0.011945   \n",
       "\n",
       "                     NAME_FAMILY_STATUS  NAME_HOUSING_TYPE  AGE_YEARS  \\\n",
       "CODE_GENDER                   -0.073962           0.047081  -0.155421   \n",
       "FLAG_OWN_CAR                  -0.123162          -0.008566  -0.109582   \n",
       "FLAG_OWN_REALTY               -0.014341          -0.175449   0.122546   \n",
       "CNT_CHILDREN                  -0.175843           0.018021  -0.335127   \n",
       "AMT_INCOME_TOTAL              -0.014643          -0.010015  -0.098111   \n",
       "NAME_INCOME_TYPE              -0.026987           0.039900  -0.214741   \n",
       "NAME_EDUCATION_TYPE            0.004306          -0.040321   0.162203   \n",
       "NAME_FAMILY_STATUS             1.000000           0.037724   0.077577   \n",
       "NAME_HOUSING_TYPE              0.037724           1.000000  -0.220322   \n",
       "AGE_YEARS                      0.077577          -0.220322   1.000000   \n",
       "YEARS_EMPLOYED                -0.083335          -0.017278  -0.138212   \n",
       "CNT_FAM_MEMBERS               -0.590286          -0.019136  -0.272286   \n",
       "STATUS                         0.002958           0.018345  -0.025796   \n",
       "\n",
       "                     YEARS_EMPLOYED  CNT_FAM_MEMBERS    STATUS  \n",
       "CODE_GENDER                0.017756         0.078837  0.001918  \n",
       "FLAG_OWN_CAR               0.057424         0.143100 -0.005322  \n",
       "FLAG_OWN_REALTY           -0.025768         0.012292 -0.024576  \n",
       "CNT_CHILDREN               0.108390         0.863814  0.002743  \n",
       "AMT_INCOME_TOTAL           0.128312         0.021118  0.013607  \n",
       "NAME_INCOME_TYPE           0.175201         0.086646 -0.002896  \n",
       "NAME_EDUCATION_TYPE       -0.040172        -0.032149 -0.011945  \n",
       "NAME_FAMILY_STATUS        -0.083335        -0.590286  0.002958  \n",
       "NAME_HOUSING_TYPE         -0.017278        -0.019136  0.018345  \n",
       "AGE_YEARS                 -0.138212        -0.272286 -0.025796  \n",
       "YEARS_EMPLOYED             1.000000         0.127579 -0.011154  \n",
       "CNT_FAM_MEMBERS            0.127579         1.000000  0.002875  \n",
       "STATUS                    -0.011154         0.002875  1.000000  "
      ]
     },
     "execution_count": 132,
     "metadata": {},
     "output_type": "execute_result"
    }
   ],
   "source": [
    "final_df.corr()"
   ]
  },
  {
   "cell_type": "code",
   "execution_count": 133,
   "id": "d5c2b0ff",
   "metadata": {
    "ExecuteTime": {
     "end_time": "2021-12-10T14:54:48.334542Z",
     "start_time": "2021-12-10T14:54:48.314491Z"
    }
   },
   "outputs": [],
   "source": [
    "features = final_df.drop(['STATUS'], axis=1)\n",
    "label = final_df['STATUS']"
   ]
  },
  {
   "cell_type": "code",
   "execution_count": 134,
   "id": "b89c60ed",
   "metadata": {
    "ExecuteTime": {
     "end_time": "2021-12-10T14:54:49.194812Z",
     "start_time": "2021-12-10T14:54:49.174733Z"
    }
   },
   "outputs": [
    {
     "data": {
      "text/html": [
       "<div>\n",
       "<style scoped>\n",
       "    .dataframe tbody tr th:only-of-type {\n",
       "        vertical-align: middle;\n",
       "    }\n",
       "\n",
       "    .dataframe tbody tr th {\n",
       "        vertical-align: top;\n",
       "    }\n",
       "\n",
       "    .dataframe thead th {\n",
       "        text-align: right;\n",
       "    }\n",
       "</style>\n",
       "<table border=\"1\" class=\"dataframe\">\n",
       "  <thead>\n",
       "    <tr style=\"text-align: right;\">\n",
       "      <th></th>\n",
       "      <th>CODE_GENDER</th>\n",
       "      <th>FLAG_OWN_CAR</th>\n",
       "      <th>FLAG_OWN_REALTY</th>\n",
       "      <th>CNT_CHILDREN</th>\n",
       "      <th>AMT_INCOME_TOTAL</th>\n",
       "      <th>NAME_INCOME_TYPE</th>\n",
       "      <th>NAME_EDUCATION_TYPE</th>\n",
       "      <th>NAME_FAMILY_STATUS</th>\n",
       "      <th>NAME_HOUSING_TYPE</th>\n",
       "      <th>AGE_YEARS</th>\n",
       "      <th>YEARS_EMPLOYED</th>\n",
       "      <th>CNT_FAM_MEMBERS</th>\n",
       "    </tr>\n",
       "  </thead>\n",
       "  <tbody>\n",
       "    <tr>\n",
       "      <th>0</th>\n",
       "      <td>1</td>\n",
       "      <td>1</td>\n",
       "      <td>1</td>\n",
       "      <td>0</td>\n",
       "      <td>112500.0</td>\n",
       "      <td>4</td>\n",
       "      <td>4</td>\n",
       "      <td>1</td>\n",
       "      <td>1</td>\n",
       "      <td>59.0</td>\n",
       "      <td>3.0</td>\n",
       "      <td>2.0</td>\n",
       "    </tr>\n",
       "    <tr>\n",
       "      <th>1</th>\n",
       "      <td>0</td>\n",
       "      <td>0</td>\n",
       "      <td>1</td>\n",
       "      <td>0</td>\n",
       "      <td>270000.0</td>\n",
       "      <td>0</td>\n",
       "      <td>4</td>\n",
       "      <td>3</td>\n",
       "      <td>1</td>\n",
       "      <td>52.0</td>\n",
       "      <td>8.0</td>\n",
       "      <td>1.0</td>\n",
       "    </tr>\n",
       "    <tr>\n",
       "      <th>2</th>\n",
       "      <td>0</td>\n",
       "      <td>0</td>\n",
       "      <td>1</td>\n",
       "      <td>0</td>\n",
       "      <td>283500.0</td>\n",
       "      <td>1</td>\n",
       "      <td>1</td>\n",
       "      <td>2</td>\n",
       "      <td>1</td>\n",
       "      <td>62.0</td>\n",
       "      <td>0.0</td>\n",
       "      <td>1.0</td>\n",
       "    </tr>\n",
       "    <tr>\n",
       "      <th>3</th>\n",
       "      <td>1</td>\n",
       "      <td>1</td>\n",
       "      <td>1</td>\n",
       "      <td>0</td>\n",
       "      <td>270000.0</td>\n",
       "      <td>4</td>\n",
       "      <td>1</td>\n",
       "      <td>1</td>\n",
       "      <td>1</td>\n",
       "      <td>46.0</td>\n",
       "      <td>2.0</td>\n",
       "      <td>2.0</td>\n",
       "    </tr>\n",
       "    <tr>\n",
       "      <th>4</th>\n",
       "      <td>1</td>\n",
       "      <td>1</td>\n",
       "      <td>1</td>\n",
       "      <td>0</td>\n",
       "      <td>135000.0</td>\n",
       "      <td>0</td>\n",
       "      <td>4</td>\n",
       "      <td>1</td>\n",
       "      <td>1</td>\n",
       "      <td>49.0</td>\n",
       "      <td>3.0</td>\n",
       "      <td>2.0</td>\n",
       "    </tr>\n",
       "  </tbody>\n",
       "</table>\n",
       "</div>"
      ],
      "text/plain": [
       "   CODE_GENDER  FLAG_OWN_CAR  FLAG_OWN_REALTY  CNT_CHILDREN  AMT_INCOME_TOTAL  \\\n",
       "0            1             1                1             0          112500.0   \n",
       "1            0             0                1             0          270000.0   \n",
       "2            0             0                1             0          283500.0   \n",
       "3            1             1                1             0          270000.0   \n",
       "4            1             1                1             0          135000.0   \n",
       "\n",
       "   NAME_INCOME_TYPE  NAME_EDUCATION_TYPE  NAME_FAMILY_STATUS  \\\n",
       "0                 4                    4                   1   \n",
       "1                 0                    4                   3   \n",
       "2                 1                    1                   2   \n",
       "3                 4                    1                   1   \n",
       "4                 0                    4                   1   \n",
       "\n",
       "   NAME_HOUSING_TYPE  AGE_YEARS  YEARS_EMPLOYED  CNT_FAM_MEMBERS  \n",
       "0                  1       59.0             3.0              2.0  \n",
       "1                  1       52.0             8.0              1.0  \n",
       "2                  1       62.0             0.0              1.0  \n",
       "3                  1       46.0             2.0              2.0  \n",
       "4                  1       49.0             3.0              2.0  "
      ]
     },
     "execution_count": 134,
     "metadata": {},
     "output_type": "execute_result"
    }
   ],
   "source": [
    "features.head()"
   ]
  },
  {
   "cell_type": "code",
   "execution_count": 135,
   "id": "d67df6d9",
   "metadata": {
    "ExecuteTime": {
     "end_time": "2021-12-10T14:54:49.930297Z",
     "start_time": "2021-12-10T14:54:49.908676Z"
    }
   },
   "outputs": [
    {
     "data": {
      "text/plain": [
       "0    0\n",
       "1    0\n",
       "2    0\n",
       "3    0\n",
       "4    0\n",
       "Name: STATUS, dtype: int32"
      ]
     },
     "execution_count": 135,
     "metadata": {},
     "output_type": "execute_result"
    }
   ],
   "source": [
    "label.head()"
   ]
  },
  {
   "cell_type": "markdown",
   "id": "1601082e",
   "metadata": {},
   "source": [
    "#### Cek Imbalanced Data"
   ]
  },
  {
   "cell_type": "code",
   "execution_count": 136,
   "id": "40123bc0",
   "metadata": {
    "ExecuteTime": {
     "end_time": "2021-12-10T14:54:53.064486Z",
     "start_time": "2021-12-10T14:54:53.012352Z"
    }
   },
   "outputs": [],
   "source": [
    "oversample = SMOTE(k_neighbors=5)\n",
    "X_smote, Y_smote = oversample.fit_resample(features, label)"
   ]
  },
  {
   "cell_type": "code",
   "execution_count": 137,
   "id": "f2ea4b81",
   "metadata": {
    "ExecuteTime": {
     "end_time": "2021-12-10T14:54:53.874710Z",
     "start_time": "2021-12-10T14:54:53.858771Z"
    }
   },
   "outputs": [
    {
     "name": "stdout",
     "output_type": "stream",
     "text": [
      "Counter({0: 7782, 1: 7782})\n"
     ]
    }
   ],
   "source": [
    "counter = Counter(Y_smote)\n",
    "print(counter)"
   ]
  },
  {
   "cell_type": "markdown",
   "id": "6887889b",
   "metadata": {},
   "source": [
    "#### Normalisasi Data"
   ]
  },
  {
   "cell_type": "code",
   "execution_count": 138,
   "id": "2ba0d3ff",
   "metadata": {
    "ExecuteTime": {
     "end_time": "2021-12-10T14:54:55.468614Z",
     "start_time": "2021-12-10T14:54:55.446631Z"
    }
   },
   "outputs": [
    {
     "name": "stdout",
     "output_type": "stream",
     "text": [
      "[[1.         1.         1.         ... 0.79166667 0.16666667 0.33333333]\n",
      " [0.         0.         1.         ... 0.64583333 0.44444444 0.        ]\n",
      " [0.         0.         1.         ... 0.85416667 0.         0.        ]\n",
      " ...\n",
      " [0.         0.         1.         ... 0.65995554 0.10514567 0.33333333]\n",
      " [0.         0.         1.         ... 0.84506117 0.         0.        ]\n",
      " [0.         0.         1.         ... 0.26177334 0.36714078 0.66666667]]\n"
     ]
    }
   ],
   "source": [
    "scaler_minmax =  MinMaxScaler()\n",
    "# transform data\n",
    "X_scaled = scaler_minmax.fit_transform(X_smote)\n",
    "print(X_scaled)"
   ]
  },
  {
   "cell_type": "markdown",
   "id": "460146d8",
   "metadata": {},
   "source": [
    "#### Split Data to Train and Test"
   ]
  },
  {
   "cell_type": "code",
   "execution_count": 139,
   "id": "ebb47f22",
   "metadata": {
    "ExecuteTime": {
     "end_time": "2021-12-10T14:54:57.528593Z",
     "start_time": "2021-12-10T14:54:57.516352Z"
    }
   },
   "outputs": [],
   "source": [
    "X_train,X_test,Y_train,Y_test = train_test_split(X_scaled, Y_smote, test_size = 0.2, random_state = 42)"
   ]
  },
  {
   "cell_type": "code",
   "execution_count": 140,
   "id": "318d5746",
   "metadata": {
    "ExecuteTime": {
     "end_time": "2021-12-10T14:54:58.504483Z",
     "start_time": "2021-12-10T14:54:58.494596Z"
    }
   },
   "outputs": [
    {
     "name": "stdout",
     "output_type": "stream",
     "text": [
      "(12451, 12)\n",
      "(3113, 12)\n"
     ]
    }
   ],
   "source": [
    "print(X_train.shape)\n",
    "print(X_test.shape)"
   ]
  },
  {
   "cell_type": "markdown",
   "id": "c88b46e2",
   "metadata": {},
   "source": [
    "## Modeling\n",
    "### Logistic Regression"
   ]
  },
  {
   "cell_type": "code",
   "execution_count": 141,
   "id": "38814067",
   "metadata": {
    "ExecuteTime": {
     "end_time": "2021-12-10T14:55:00.098155Z",
     "start_time": "2021-12-10T14:55:00.084549Z"
    }
   },
   "outputs": [],
   "source": [
    "model = LogisticRegression(solver='liblinear', random_state=4)"
   ]
  },
  {
   "cell_type": "code",
   "execution_count": 142,
   "id": "581085c5",
   "metadata": {
    "ExecuteTime": {
     "end_time": "2021-12-10T14:55:01.559651Z",
     "start_time": "2021-12-10T14:55:01.489600Z"
    }
   },
   "outputs": [
    {
     "data": {
      "text/plain": [
       "LogisticRegression(random_state=4, solver='liblinear')"
      ]
     },
     "execution_count": 142,
     "metadata": {},
     "output_type": "execute_result"
    }
   ],
   "source": [
    "model.fit(X_train, Y_train)"
   ]
  },
  {
   "cell_type": "code",
   "execution_count": null,
   "id": "b9fb243f",
   "metadata": {},
   "outputs": [],
   "source": []
  },
  {
   "cell_type": "markdown",
   "id": "4c760752",
   "metadata": {},
   "source": [
    "### Evaluating Model"
   ]
  },
  {
   "cell_type": "code",
   "execution_count": 143,
   "id": "dfccfad3",
   "metadata": {
    "ExecuteTime": {
     "end_time": "2021-12-10T14:55:05.411382Z",
     "start_time": "2021-12-10T14:55:05.390442Z"
    }
   },
   "outputs": [],
   "source": [
    "y_pred = model.predict(X_test)"
   ]
  },
  {
   "cell_type": "code",
   "execution_count": 144,
   "id": "c323401d",
   "metadata": {
    "ExecuteTime": {
     "end_time": "2021-12-10T14:55:06.249071Z",
     "start_time": "2021-12-10T14:55:06.238758Z"
    }
   },
   "outputs": [
    {
     "name": "stdout",
     "output_type": "stream",
     "text": [
      "Logistic Model Accuracy :  62.86540314808866 %\n"
     ]
    }
   ],
   "source": [
    "print('Logistic Model Accuracy : ', model.score(X_test, Y_test)*100, '%')"
   ]
  },
  {
   "cell_type": "code",
   "execution_count": 145,
   "id": "6c6a76c1",
   "metadata": {
    "ExecuteTime": {
     "end_time": "2021-12-10T14:55:07.826129Z",
     "start_time": "2021-12-10T14:55:07.786360Z"
    }
   },
   "outputs": [
    {
     "name": "stdout",
     "output_type": "stream",
     "text": [
      "[[ 957  626]\n",
      " [ 530 1000]]\n",
      "              precision    recall  f1-score   support\n",
      "\n",
      "           0       0.64      0.60      0.62      1583\n",
      "           1       0.62      0.65      0.63      1530\n",
      "\n",
      "    accuracy                           0.63      3113\n",
      "   macro avg       0.63      0.63      0.63      3113\n",
      "weighted avg       0.63      0.63      0.63      3113\n",
      "\n"
     ]
    }
   ],
   "source": [
    "print(confusion_matrix(Y_test, y_pred))\n",
    "print(classification_report(Y_test, y_pred))"
   ]
  },
  {
   "cell_type": "code",
   "execution_count": 146,
   "id": "fba5639d",
   "metadata": {
    "ExecuteTime": {
     "end_time": "2021-12-10T14:55:09.316613Z",
     "start_time": "2021-12-10T14:55:09.134705Z"
    }
   },
   "outputs": [
    {
     "data": {
      "image/png": "[encoded data removed]",
      "text/plain": [
       "<Figure size 432x288 with 1 Axes>"
      ]
     },
     "metadata": {
      "needs_background": "light"
     },
     "output_type": "display_data"
    }
   ],
   "source": [
    "prob_estimates = model.predict_proba(X_test)\n",
    "\n",
    "fpr, tpr, threshold = roc_curve(Y_test, prob_estimates[:,1])\n",
    "nilai_auc = auc(fpr,tpr)\n",
    "\n",
    "plt.plot(fpr, tpr, 'b', label=f'AUC={nilai_auc}')\n",
    "plt.plot([0,1], [0,1], 'r--', label='Random Classifier')\n",
    "\n",
    "plt.title('ROC: Reciever OPerating Characteristic')\n",
    "plt.xlabel('Fallout or False Positive Rate')\n",
    "plt.ylabel('Recal or True Positive Rate')\n",
    "plt.legend()\n",
    "plt.show()"
   ]
  },
  {
   "cell_type": "markdown",
   "id": "42f93d8c",
   "metadata": {},
   "source": [
    "### Tunning Hyperparameter"
   ]
  },
  {
   "cell_type": "code",
   "execution_count": 147,
   "id": "500049eb",
   "metadata": {
    "ExecuteTime": {
     "end_time": "2021-12-10T14:55:12.825450Z",
     "start_time": "2021-12-10T14:55:12.817599Z"
    }
   },
   "outputs": [],
   "source": [
    "#List Hyperparameters yang akan diuji\n",
    "penalty = ['l1', 'l2']\n",
    "C = np.logspace(-4,4,20)"
   ]
  },
  {
   "cell_type": "code",
   "execution_count": 148,
   "id": "f5dde7f2",
   "metadata": {
    "ExecuteTime": {
     "end_time": "2021-12-10T14:55:13.342275Z",
     "start_time": "2021-12-10T14:55:13.334600Z"
    }
   },
   "outputs": [],
   "source": [
    "#Menjadikan ke dalam bentuk dictionary\n",
    "hyperparameters = dict(penalty=penalty, C=C)"
   ]
  },
  {
   "cell_type": "code",
   "execution_count": 149,
   "id": "b976cf35",
   "metadata": {
    "ExecuteTime": {
     "end_time": "2021-12-10T14:55:14.597180Z",
     "start_time": "2021-12-10T14:55:14.589088Z"
    }
   },
   "outputs": [],
   "source": [
    "#Memasukan ke Grid Search\n",
    "#CV itu Cross Validation\n",
    "#Menggunakan 10-Fold CV\n",
    "clf = GridSearchCV(model, hyperparameters, cv=10)"
   ]
  },
  {
   "cell_type": "code",
   "execution_count": 150,
   "id": "6ea92314",
   "metadata": {
    "ExecuteTime": {
     "end_time": "2021-12-10T14:55:34.792863Z",
     "start_time": "2021-12-10T14:55:15.553922Z"
    }
   },
   "outputs": [],
   "source": [
    "#Fitting Model\n",
    "best_model = clf.fit(X_train, Y_train)"
   ]
  },
  {
   "cell_type": "code",
   "execution_count": 151,
   "id": "b1988e7d",
   "metadata": {
    "ExecuteTime": {
     "end_time": "2021-12-10T14:55:34.808150Z",
     "start_time": "2021-12-10T14:55:34.792863Z"
    }
   },
   "outputs": [
    {
     "name": "stdout",
     "output_type": "stream",
     "text": [
      "Best Penalty: l1\n",
      "Best C: 0.23357214690901212\n"
     ]
    }
   ],
   "source": [
    "#Nilai hyperparameters terbaik\n",
    "print('Best Penalty:', best_model.best_estimator_.get_params()['penalty'])\n",
    "print('Best C:', best_model.best_estimator_.get_params()['C'])"
   ]
  },
  {
   "cell_type": "code",
   "execution_count": 152,
   "id": "d1c9d114",
   "metadata": {
    "ExecuteTime": {
     "end_time": "2021-12-10T14:55:35.003557Z",
     "start_time": "2021-12-10T14:55:34.811355Z"
    }
   },
   "outputs": [
    {
     "data": {
      "image/png": "[encoded data removed]",
      "text/plain": [
       "<Figure size 432x288 with 1 Axes>"
      ]
     },
     "metadata": {
      "needs_background": "light"
     },
     "output_type": "display_data"
    }
   ],
   "source": [
    "prob_estimates = best_model.predict_proba(X_test)\n",
    "\n",
    "fpr, tpr, threshold = roc_curve(Y_test, prob_estimates[:,1])\n",
    "nilai_auc = auc(fpr,tpr)\n",
    "\n",
    "plt.plot(fpr, tpr, 'b', label=f'AUC={nilai_auc}')\n",
    "plt.plot([0,1], [0,1], 'r--', label='Random Classifier')\n",
    "\n",
    "plt.title('ROC: Reciever OPerating Characteristic')\n",
    "plt.xlabel('Fallout or False Positive Rate')\n",
    "plt.ylabel('Recal or True Positive Rate')\n",
    "plt.legend()\n",
    "plt.show()"
   ]
  },
  {
   "cell_type": "markdown",
   "id": "bae3c69a",
   "metadata": {},
   "source": [
    "### SVM"
   ]
  },
  {
   "cell_type": "code",
   "execution_count": 153,
   "id": "6080a66b",
   "metadata": {
    "ExecuteTime": {
     "end_time": "2021-12-10T14:55:44.606637Z",
     "start_time": "2021-12-10T14:55:44.589996Z"
    }
   },
   "outputs": [],
   "source": [
    "svm_model = svm.SVC(kernel='linear')"
   ]
  },
  {
   "cell_type": "code",
   "execution_count": 154,
   "id": "28ec1abe",
   "metadata": {
    "ExecuteTime": {
     "end_time": "2021-12-10T14:55:50.800411Z",
     "start_time": "2021-12-10T14:55:45.280609Z"
    }
   },
   "outputs": [
    {
     "data": {
      "text/plain": [
       "SVC(kernel='linear')"
      ]
     },
     "execution_count": 154,
     "metadata": {},
     "output_type": "execute_result"
    }
   ],
   "source": [
    "svm_model.fit(X_train, Y_train)"
   ]
  },
  {
   "cell_type": "code",
   "execution_count": 155,
   "id": "e974cf67",
   "metadata": {
    "ExecuteTime": {
     "end_time": "2021-12-10T14:55:51.669212Z",
     "start_time": "2021-12-10T14:55:50.801707Z"
    }
   },
   "outputs": [],
   "source": [
    "y_pred_svm = svm_model.predict(X_test)"
   ]
  },
  {
   "cell_type": "code",
   "execution_count": 156,
   "id": "08ababcf",
   "metadata": {
    "ExecuteTime": {
     "end_time": "2021-12-10T14:55:53.638626Z",
     "start_time": "2021-12-10T14:55:52.849179Z"
    }
   },
   "outputs": [
    {
     "name": "stdout",
     "output_type": "stream",
     "text": [
      "SVM Model Accuracy :  63.82910375843238 %\n"
     ]
    }
   ],
   "source": [
    "print('SVM Model Accuracy : ', svm_model.score(X_test, Y_test)*100, '%')"
   ]
  },
  {
   "cell_type": "code",
   "execution_count": 157,
   "id": "e8a1a557",
   "metadata": {
    "ExecuteTime": {
     "end_time": "2021-12-10T14:55:57.981119Z",
     "start_time": "2021-12-10T14:55:57.963426Z"
    }
   },
   "outputs": [
    {
     "name": "stdout",
     "output_type": "stream",
     "text": [
      "              precision    recall  f1-score   support\n",
      "\n",
      "           0       0.65      0.63      0.64      1583\n",
      "           1       0.63      0.65      0.64      1530\n",
      "\n",
      "    accuracy                           0.64      3113\n",
      "   macro avg       0.64      0.64      0.64      3113\n",
      "weighted avg       0.64      0.64      0.64      3113\n",
      "\n"
     ]
    }
   ],
   "source": [
    "print(classification_report(Y_test, y_pred_svm))"
   ]
  },
  {
   "cell_type": "markdown",
   "id": "f83537c3",
   "metadata": {},
   "source": [
    "#### Tunning Hyperparameter"
   ]
  },
  {
   "cell_type": "code",
   "execution_count": 158,
   "id": "206e0f0b",
   "metadata": {
    "ExecuteTime": {
     "end_time": "2021-12-10T14:56:01.930700Z",
     "start_time": "2021-12-10T14:56:01.916951Z"
    }
   },
   "outputs": [],
   "source": [
    "param_grid = {'C': [0.1, 1, 10, 100, 1000],\n",
    "              'gamma': [1, 0.1, 0.01, 0.001, 0.0001],\n",
    "              'kernel': ['rbf']}"
   ]
  },
  {
   "cell_type": "code",
   "execution_count": 159,
   "id": "3e352dd0",
   "metadata": {
    "ExecuteTime": {
     "end_time": "2021-12-10T14:56:02.955750Z",
     "start_time": "2021-12-10T14:56:02.949536Z"
    }
   },
   "outputs": [],
   "source": [
    "grid = GridSearchCV(svm_model, param_grid, refit = True, verbose = 3)"
   ]
  },
  {
   "cell_type": "code",
   "execution_count": 160,
   "id": "d688366e",
   "metadata": {
    "ExecuteTime": {
     "end_time": "2021-12-10T16:12:57.356946Z",
     "start_time": "2021-12-10T14:56:06.257983Z"
    }
   },
   "outputs": [
    {
     "name": "stdout",
     "output_type": "stream",
     "text": [
      "Fitting 5 folds for each of 25 candidates, totalling 125 fits\n",
      "[CV 1/5] END ........C=0.1, gamma=1, kernel=rbf;, score=0.652 total time=  48.5s\n",
      "[CV 2/5] END ........C=0.1, gamma=1, kernel=rbf;, score=0.647 total time=  48.2s\n",
      "[CV 3/5] END ........C=0.1, gamma=1, kernel=rbf;, score=0.650 total time=  49.2s\n",
      "[CV 4/5] END ........C=0.1, gamma=1, kernel=rbf;, score=0.641 total time=  49.5s\n",
      "[CV 5/5] END ........C=0.1, gamma=1, kernel=rbf;, score=0.650 total time=  52.1s\n",
      "[CV 1/5] END ......C=0.1, gamma=0.1, kernel=rbf;, score=0.642 total time=  48.3s\n",
      "[CV 2/5] END ......C=0.1, gamma=0.1, kernel=rbf;, score=0.627 total time=  51.2s\n",
      "[CV 3/5] END ......C=0.1, gamma=0.1, kernel=rbf;, score=0.650 total time=  49.2s\n",
      "[CV 4/5] END ......C=0.1, gamma=0.1, kernel=rbf;, score=0.634 total time=  53.2s\n",
      "[CV 5/5] END ......C=0.1, gamma=0.1, kernel=rbf;, score=0.630 total time=  42.0s\n",
      "[CV 1/5] END .....C=0.1, gamma=0.01, kernel=rbf;, score=0.623 total time=  44.6s\n",
      "[CV 2/5] END .....C=0.1, gamma=0.01, kernel=rbf;, score=0.626 total time=  52.2s\n",
      "[CV 3/5] END .....C=0.1, gamma=0.01, kernel=rbf;, score=0.639 total time=  51.4s\n",
      "[CV 4/5] END .....C=0.1, gamma=0.01, kernel=rbf;, score=0.627 total time=  50.0s\n",
      "[CV 5/5] END .....C=0.1, gamma=0.01, kernel=rbf;, score=0.628 total time=  49.4s\n",
      "[CV 1/5] END ....C=0.1, gamma=0.001, kernel=rbf;, score=0.502 total time=  54.1s\n",
      "[CV 2/5] END ....C=0.1, gamma=0.001, kernel=rbf;, score=0.502 total time=  53.1s\n",
      "[CV 3/5] END ....C=0.1, gamma=0.001, kernel=rbf;, score=0.502 total time=  55.4s\n",
      "[CV 4/5] END ....C=0.1, gamma=0.001, kernel=rbf;, score=0.502 total time=  53.7s\n",
      "[CV 5/5] END ....C=0.1, gamma=0.001, kernel=rbf;, score=0.502 total time=  58.0s\n",
      "[CV 1/5] END ...C=0.1, gamma=0.0001, kernel=rbf;, score=0.502 total time=  57.6s\n",
      "[CV 2/5] END ...C=0.1, gamma=0.0001, kernel=rbf;, score=0.502 total time=  55.2s\n",
      "[CV 3/5] END ...C=0.1, gamma=0.0001, kernel=rbf;, score=0.502 total time= 1.1min\n",
      "[CV 4/5] END ...C=0.1, gamma=0.0001, kernel=rbf;, score=0.502 total time= 1.1min\n",
      "[CV 5/5] END ...C=0.1, gamma=0.0001, kernel=rbf;, score=0.502 total time=  59.6s\n",
      "[CV 1/5] END ..........C=1, gamma=1, kernel=rbf;, score=0.661 total time=  45.3s\n",
      "[CV 2/5] END ..........C=1, gamma=1, kernel=rbf;, score=0.670 total time=  45.5s\n",
      "[CV 3/5] END ..........C=1, gamma=1, kernel=rbf;, score=0.680 total time=  45.9s\n",
      "[CV 4/5] END ..........C=1, gamma=1, kernel=rbf;, score=0.662 total time=  45.2s\n",
      "[CV 5/5] END ..........C=1, gamma=1, kernel=rbf;, score=0.661 total time=  45.2s\n",
      "[CV 1/5] END ........C=1, gamma=0.1, kernel=rbf;, score=0.658 total time=  47.0s\n",
      "[CV 2/5] END ........C=1, gamma=0.1, kernel=rbf;, score=0.647 total time=  46.7s\n",
      "[CV 3/5] END ........C=1, gamma=0.1, kernel=rbf;, score=0.664 total time=  47.1s\n",
      "[CV 4/5] END ........C=1, gamma=0.1, kernel=rbf;, score=0.660 total time=  46.4s\n",
      "[CV 5/5] END ........C=1, gamma=0.1, kernel=rbf;, score=0.649 total time=  47.2s\n",
      "[CV 1/5] END .......C=1, gamma=0.01, kernel=rbf;, score=0.638 total time=  49.9s\n",
      "[CV 2/5] END .......C=1, gamma=0.01, kernel=rbf;, score=0.629 total time=  49.8s\n",
      "[CV 3/5] END .......C=1, gamma=0.01, kernel=rbf;, score=0.649 total time=  49.6s\n",
      "[CV 4/5] END .......C=1, gamma=0.01, kernel=rbf;, score=0.629 total time=  49.9s\n",
      "[CV 5/5] END .......C=1, gamma=0.01, kernel=rbf;, score=0.631 total time=  50.4s\n",
      "[CV 1/5] END ......C=1, gamma=0.001, kernel=rbf;, score=0.623 total time=  54.7s\n",
      "[CV 2/5] END ......C=1, gamma=0.001, kernel=rbf;, score=0.626 total time=  53.7s\n",
      "[CV 3/5] END ......C=1, gamma=0.001, kernel=rbf;, score=0.639 total time=  54.1s\n",
      "[CV 4/5] END ......C=1, gamma=0.001, kernel=rbf;, score=0.626 total time=  53.6s\n",
      "[CV 5/5] END ......C=1, gamma=0.001, kernel=rbf;, score=0.627 total time=  54.6s\n",
      "[CV 1/5] END .....C=1, gamma=0.0001, kernel=rbf;, score=0.502 total time= 1.0min\n",
      "[CV 2/5] END .....C=1, gamma=0.0001, kernel=rbf;, score=0.502 total time=  59.1s\n",
      "[CV 3/5] END .....C=1, gamma=0.0001, kernel=rbf;, score=0.502 total time=  59.4s\n",
      "[CV 4/5] END .....C=1, gamma=0.0001, kernel=rbf;, score=0.502 total time= 1.1min\n",
      "[CV 5/5] END .....C=1, gamma=0.0001, kernel=rbf;, score=0.502 total time= 1.0min\n",
      "[CV 1/5] END .........C=10, gamma=1, kernel=rbf;, score=0.679 total time=  46.7s\n",
      "[CV 2/5] END .........C=10, gamma=1, kernel=rbf;, score=0.686 total time=  48.5s\n",
      "[CV 3/5] END .........C=10, gamma=1, kernel=rbf;, score=0.687 total time=  48.2s\n",
      "[CV 4/5] END .........C=10, gamma=1, kernel=rbf;, score=0.684 total time=  47.0s\n",
      "[CV 5/5] END .........C=10, gamma=1, kernel=rbf;, score=0.690 total time=  48.4s\n",
      "[CV 1/5] END .......C=10, gamma=0.1, kernel=rbf;, score=0.674 total time=  50.8s\n",
      "[CV 2/5] END .......C=10, gamma=0.1, kernel=rbf;, score=0.667 total time=  50.2s\n",
      "[CV 3/5] END .......C=10, gamma=0.1, kernel=rbf;, score=0.677 total time=  50.4s\n",
      "[CV 4/5] END .......C=10, gamma=0.1, kernel=rbf;, score=0.672 total time=  50.7s\n",
      "[CV 5/5] END .......C=10, gamma=0.1, kernel=rbf;, score=0.656 total time=  47.7s\n",
      "[CV 1/5] END ......C=10, gamma=0.01, kernel=rbf;, score=0.651 total time=  50.0s\n",
      "[CV 2/5] END ......C=10, gamma=0.01, kernel=rbf;, score=0.638 total time=  50.3s\n",
      "[CV 3/5] END ......C=10, gamma=0.01, kernel=rbf;, score=0.654 total time=  49.9s\n",
      "[CV 4/5] END ......C=10, gamma=0.01, kernel=rbf;, score=0.648 total time=  51.9s\n",
      "[CV 5/5] END ......C=10, gamma=0.01, kernel=rbf;, score=0.647 total time=  48.7s\n",
      "[CV 1/5] END .....C=10, gamma=0.001, kernel=rbf;, score=0.636 total time=  49.6s\n",
      "[CV 2/5] END .....C=10, gamma=0.001, kernel=rbf;, score=0.631 total time=  51.3s\n",
      "[CV 3/5] END .....C=10, gamma=0.001, kernel=rbf;, score=0.650 total time=  54.2s\n",
      "[CV 4/5] END .....C=10, gamma=0.001, kernel=rbf;, score=0.631 total time=  50.1s\n",
      "[CV 5/5] END .....C=10, gamma=0.001, kernel=rbf;, score=0.634 total time=  51.5s\n",
      "[CV 1/5] END ....C=10, gamma=0.0001, kernel=rbf;, score=0.623 total time=  55.6s\n",
      "[CV 2/5] END ....C=10, gamma=0.0001, kernel=rbf;, score=0.627 total time=  54.8s\n",
      "[CV 3/5] END ....C=10, gamma=0.0001, kernel=rbf;, score=0.639 total time=  56.6s\n",
      "[CV 4/5] END ....C=10, gamma=0.0001, kernel=rbf;, score=0.627 total time=  57.2s\n",
      "[CV 5/5] END ....C=10, gamma=0.0001, kernel=rbf;, score=0.627 total time=  56.2s\n",
      "[CV 1/5] END ........C=100, gamma=1, kernel=rbf;, score=0.679 total time=  46.6s\n",
      "[CV 2/5] END ........C=100, gamma=1, kernel=rbf;, score=0.687 total time=  47.4s\n",
      "[CV 3/5] END ........C=100, gamma=1, kernel=rbf;, score=0.687 total time=  13.8s\n",
      "[CV 4/5] END ........C=100, gamma=1, kernel=rbf;, score=0.679 total time=  12.2s\n",
      "[CV 5/5] END ........C=100, gamma=1, kernel=rbf;, score=0.690 total time=  13.1s\n",
      "[CV 1/5] END ......C=100, gamma=0.1, kernel=rbf;, score=0.673 total time=   8.3s\n",
      "[CV 2/5] END ......C=100, gamma=0.1, kernel=rbf;, score=0.685 total time=   9.7s\n",
      "[CV 3/5] END ......C=100, gamma=0.1, kernel=rbf;, score=0.692 total time=  10.1s\n",
      "[CV 4/5] END ......C=100, gamma=0.1, kernel=rbf;, score=0.686 total time=   9.3s\n",
      "[CV 5/5] END ......C=100, gamma=0.1, kernel=rbf;, score=0.674 total time=   8.4s\n",
      "[CV 1/5] END .....C=100, gamma=0.01, kernel=rbf;, score=0.654 total time=   6.9s\n",
      "[CV 2/5] END .....C=100, gamma=0.01, kernel=rbf;, score=0.650 total time=   7.2s\n",
      "[CV 3/5] END .....C=100, gamma=0.01, kernel=rbf;, score=0.665 total time=   7.2s\n",
      "[CV 4/5] END .....C=100, gamma=0.01, kernel=rbf;, score=0.657 total time=   7.4s\n",
      "[CV 5/5] END .....C=100, gamma=0.01, kernel=rbf;, score=0.652 total time=   7.0s\n",
      "[CV 1/5] END ....C=100, gamma=0.001, kernel=rbf;, score=0.644 total time=   7.2s\n",
      "[CV 2/5] END ....C=100, gamma=0.001, kernel=rbf;, score=0.639 total time=   6.7s\n",
      "[CV 3/5] END ....C=100, gamma=0.001, kernel=rbf;, score=0.652 total time=   6.8s\n",
      "[CV 4/5] END ....C=100, gamma=0.001, kernel=rbf;, score=0.641 total time=   6.6s\n",
      "[CV 5/5] END ....C=100, gamma=0.001, kernel=rbf;, score=0.643 total time=   7.0s\n",
      "[CV 1/5] END ...C=100, gamma=0.0001, kernel=rbf;, score=0.638 total time=   7.0s\n",
      "[CV 2/5] END ...C=100, gamma=0.0001, kernel=rbf;, score=0.629 total time=   7.2s\n",
      "[CV 3/5] END ...C=100, gamma=0.0001, kernel=rbf;, score=0.650 total time=   7.0s\n",
      "[CV 4/5] END ...C=100, gamma=0.0001, kernel=rbf;, score=0.631 total time=   7.0s\n",
      "[CV 5/5] END ...C=100, gamma=0.0001, kernel=rbf;, score=0.634 total time=   9.2s\n",
      "[CV 1/5] END .......C=1000, gamma=1, kernel=rbf;, score=0.674 total time=  47.2s\n"
     ]
    },
    {
     "name": "stdout",
     "output_type": "stream",
     "text": [
      "[CV 2/5] END .......C=1000, gamma=1, kernel=rbf;, score=0.671 total time=  40.6s\n",
      "[CV 3/5] END .......C=1000, gamma=1, kernel=rbf;, score=0.666 total time=  46.8s\n",
      "[CV 4/5] END .......C=1000, gamma=1, kernel=rbf;, score=0.661 total time=  37.3s\n",
      "[CV 5/5] END .......C=1000, gamma=1, kernel=rbf;, score=0.675 total time=  35.0s\n",
      "[CV 1/5] END .....C=1000, gamma=0.1, kernel=rbf;, score=0.682 total time=  17.1s\n",
      "[CV 2/5] END .....C=1000, gamma=0.1, kernel=rbf;, score=0.694 total time=  16.3s\n",
      "[CV 3/5] END .....C=1000, gamma=0.1, kernel=rbf;, score=0.700 total time=  15.5s\n",
      "[CV 4/5] END .....C=1000, gamma=0.1, kernel=rbf;, score=0.697 total time=  15.8s\n",
      "[CV 5/5] END .....C=1000, gamma=0.1, kernel=rbf;, score=0.689 total time=  20.6s\n",
      "[CV 1/5] END ....C=1000, gamma=0.01, kernel=rbf;, score=0.672 total time=   8.5s\n",
      "[CV 2/5] END ....C=1000, gamma=0.01, kernel=rbf;, score=0.674 total time=   8.3s\n",
      "[CV 3/5] END ....C=1000, gamma=0.01, kernel=rbf;, score=0.681 total time=   8.8s\n",
      "[CV 4/5] END ....C=1000, gamma=0.01, kernel=rbf;, score=0.670 total time=   8.7s\n",
      "[CV 5/5] END ....C=1000, gamma=0.01, kernel=rbf;, score=0.660 total time=   8.8s\n",
      "[CV 1/5] END ...C=1000, gamma=0.001, kernel=rbf;, score=0.652 total time=   7.3s\n",
      "[CV 2/5] END ...C=1000, gamma=0.001, kernel=rbf;, score=0.637 total time=   8.7s\n",
      "[CV 3/5] END ...C=1000, gamma=0.001, kernel=rbf;, score=0.657 total time=   8.4s\n",
      "[CV 4/5] END ...C=1000, gamma=0.001, kernel=rbf;, score=0.647 total time=   8.0s\n",
      "[CV 5/5] END ...C=1000, gamma=0.001, kernel=rbf;, score=0.646 total time=   7.3s\n",
      "[CV 1/5] END ..C=1000, gamma=0.0001, kernel=rbf;, score=0.642 total time=   6.8s\n",
      "[CV 2/5] END ..C=1000, gamma=0.0001, kernel=rbf;, score=0.642 total time=   7.1s\n",
      "[CV 3/5] END ..C=1000, gamma=0.0001, kernel=rbf;, score=0.652 total time=   6.9s\n",
      "[CV 4/5] END ..C=1000, gamma=0.0001, kernel=rbf;, score=0.637 total time=   6.9s\n",
      "[CV 5/5] END ..C=1000, gamma=0.0001, kernel=rbf;, score=0.642 total time=   6.8s\n"
     ]
    },
    {
     "data": {
      "text/plain": [
       "GridSearchCV(estimator=SVC(kernel='linear'),\n",
       "             param_grid={'C': [0.1, 1, 10, 100, 1000],\n",
       "                         'gamma': [1, 0.1, 0.01, 0.001, 0.0001],\n",
       "                         'kernel': ['rbf']},\n",
       "             verbose=3)"
      ]
     },
     "execution_count": 160,
     "metadata": {},
     "output_type": "execute_result"
    }
   ],
   "source": [
    "grid.fit(X_train, Y_train)"
   ]
  },
  {
   "cell_type": "code",
   "execution_count": 161,
   "id": "bbe8cdbc",
   "metadata": {
    "ExecuteTime": {
     "end_time": "2021-12-10T16:12:57.387565Z",
     "start_time": "2021-12-10T16:12:57.364866Z"
    }
   },
   "outputs": [
    {
     "name": "stdout",
     "output_type": "stream",
     "text": [
      "{'C': 1000, 'gamma': 0.1, 'kernel': 'rbf'}\n"
     ]
    }
   ],
   "source": [
    "print(grid.best_params_)"
   ]
  },
  {
   "cell_type": "code",
   "execution_count": 162,
   "id": "b56bcfab",
   "metadata": {
    "ExecuteTime": {
     "end_time": "2021-12-10T16:12:57.403791Z",
     "start_time": "2021-12-10T16:12:57.390495Z"
    }
   },
   "outputs": [
    {
     "name": "stdout",
     "output_type": "stream",
     "text": [
      "SVC(C=1000, gamma=0.1)\n"
     ]
    }
   ],
   "source": [
    "print(grid.best_estimator_)"
   ]
  },
  {
   "cell_type": "code",
   "execution_count": 163,
   "id": "0777dcce",
   "metadata": {
    "ExecuteTime": {
     "end_time": "2021-12-10T16:12:59.896511Z",
     "start_time": "2021-12-10T16:12:57.409340Z"
    }
   },
   "outputs": [],
   "source": [
    "grid_predictions = grid.predict(X_test)"
   ]
  },
  {
   "cell_type": "code",
   "execution_count": 166,
   "id": "4a50b893",
   "metadata": {
    "ExecuteTime": {
     "end_time": "2021-12-10T16:24:22.591649Z",
     "start_time": "2021-12-10T16:24:19.946856Z"
    }
   },
   "outputs": [
    {
     "name": "stdout",
     "output_type": "stream",
     "text": [
      "SVM Model Accuracy :  69.22582717635721 %\n"
     ]
    }
   ],
   "source": [
    "print('SVM Model Accuracy : ', grid.score(X_test, Y_test)*100, '%')"
   ]
  },
  {
   "cell_type": "code",
   "execution_count": 225,
   "id": "71599adc",
   "metadata": {
    "ExecuteTime": {
     "end_time": "2021-12-10T17:24:59.069016Z",
     "start_time": "2021-12-10T17:24:59.049042Z"
    }
   },
   "outputs": [
    {
     "name": "stdout",
     "output_type": "stream",
     "text": [
      "0.6558908045977012\n"
     ]
    }
   ],
   "source": [
    "print(metrics.f1_score(Y_test, grid_predictions))"
   ]
  },
  {
   "cell_type": "code",
   "execution_count": 228,
   "id": "be6371c8",
   "metadata": {
    "ExecuteTime": {
     "end_time": "2021-12-10T17:25:49.357578Z",
     "start_time": "2021-12-10T17:25:49.332057Z"
    }
   },
   "outputs": [
    {
     "name": "stdout",
     "output_type": "stream",
     "text": [
      "0.5967320261437908\n"
     ]
    }
   ],
   "source": [
    "print(metrics.recall_score(Y_test, grid_predictions))"
   ]
  },
  {
   "cell_type": "code",
   "execution_count": 229,
   "id": "c14df4ea",
   "metadata": {
    "ExecuteTime": {
     "end_time": "2021-12-10T17:26:08.033467Z",
     "start_time": "2021-12-10T17:26:08.023466Z"
    }
   },
   "outputs": [
    {
     "name": "stdout",
     "output_type": "stream",
     "text": [
      "0.7280701754385965\n"
     ]
    }
   ],
   "source": [
    "print(metrics.precision_score(Y_test, grid_predictions))"
   ]
  },
  {
   "cell_type": "code",
   "execution_count": 167,
   "id": "c24de76e",
   "metadata": {
    "ExecuteTime": {
     "end_time": "2021-12-10T16:24:29.019027Z",
     "start_time": "2021-12-10T16:24:29.004913Z"
    }
   },
   "outputs": [
    {
     "name": "stdout",
     "output_type": "stream",
     "text": [
      "              precision    recall  f1-score   support\n",
      "\n",
      "           0       0.67      0.78      0.72      1583\n",
      "           1       0.73      0.60      0.66      1530\n",
      "\n",
      "    accuracy                           0.69      3113\n",
      "   macro avg       0.70      0.69      0.69      3113\n",
      "weighted avg       0.70      0.69      0.69      3113\n",
      "\n"
     ]
    }
   ],
   "source": [
    "print(classification_report(Y_test, grid_predictions))"
   ]
  },
  {
   "cell_type": "code",
   "execution_count": 197,
   "id": "ffa0697e",
   "metadata": {
    "ExecuteTime": {
     "end_time": "2021-12-10T17:09:03.271289Z",
     "start_time": "2021-12-10T17:09:03.253258Z"
    }
   },
   "outputs": [],
   "source": [
    "svm_best_model = svm.SVC(kernel='rbf', gamma=0.1, C=1000, probability=True)"
   ]
  },
  {
   "cell_type": "code",
   "execution_count": 198,
   "id": "c3ea19e3",
   "metadata": {
    "ExecuteTime": {
     "end_time": "2021-12-10T17:11:35.545744Z",
     "start_time": "2021-12-10T17:09:31.444815Z"
    }
   },
   "outputs": [
    {
     "data": {
      "text/plain": [
       "SVC(C=1000, gamma=0.1, probability=True)"
      ]
     },
     "execution_count": 198,
     "metadata": {},
     "output_type": "execute_result"
    }
   ],
   "source": [
    "svm_best_model.fit(X_train, Y_train)"
   ]
  },
  {
   "cell_type": "code",
   "execution_count": 213,
   "id": "5e02bf55",
   "metadata": {
    "ExecuteTime": {
     "end_time": "2021-12-10T17:17:29.474953Z",
     "start_time": "2021-12-10T17:17:26.802317Z"
    }
   },
   "outputs": [],
   "source": [
    "y_pred_svm = svm_best_model.predict(X_test)"
   ]
  },
  {
   "cell_type": "code",
   "execution_count": 214,
   "id": "22729ddf",
   "metadata": {
    "ExecuteTime": {
     "end_time": "2021-12-10T17:17:31.752206Z",
     "start_time": "2021-12-10T17:17:31.738206Z"
    }
   },
   "outputs": [
    {
     "data": {
      "text/plain": [
       "0.6922582717635721"
      ]
     },
     "execution_count": 214,
     "metadata": {},
     "output_type": "execute_result"
    }
   ],
   "source": [
    "accuracy_score(Y_test, y_pred_svm)"
   ]
  },
  {
   "cell_type": "code",
   "execution_count": 215,
   "id": "897aa122",
   "metadata": {
    "ExecuteTime": {
     "end_time": "2021-12-10T17:17:40.049249Z",
     "start_time": "2021-12-10T17:17:37.114710Z"
    }
   },
   "outputs": [
    {
     "data": {
      "image/png": "[encoded data removed]",
      "text/plain": [
       "<Figure size 432x288 with 1 Axes>"
      ]
     },
     "metadata": {
      "needs_background": "light"
     },
     "output_type": "display_data"
    }
   ],
   "source": [
    "prob_estimates = svm_best_model.predict_proba(X_test)\n",
    "\n",
    "fpr, tpr, threshold = roc_curve(Y_test, prob_estimates[:,1])\n",
    "nilai_auc = auc(fpr,tpr)\n",
    "\n",
    "plt.plot(fpr, tpr, 'b', label=f'AUC={nilai_auc}')\n",
    "plt.plot([0,1], [0,1], 'r--', label='Random Classifier')\n",
    "\n",
    "plt.title('ROC: Reciever OPerating Characteristic')\n",
    "plt.xlabel('Fallout or False Positive Rate')\n",
    "plt.ylabel('Recal or True Positive Rate')\n",
    "plt.legend()\n",
    "plt.show()"
   ]
  },
  {
   "cell_type": "markdown",
   "id": "a33105d0",
   "metadata": {},
   "source": [
    "#### Referensi\n",
    "- Ginting(2019). DATA MINING UNTUK ANALISA PENGAJUAN KREDIT DENGAN MENGGUNAKAN METODE LOGISTIK REGRESI. Jurnal Algoritma, Logika dan Komputasi, 164 - 169.\n",
    "- N Iriadi, H Leidiyana ( 2013 ).PREDIKSI PINJAMAN KREDIT DENGAN SUPPORT VECTOR MACHINE DAN K-NEAREST NEIGHBORS PADA KOPERASI SERBA USAHA\n"
   ]
  },
  {
   "cell_type": "code",
   "execution_count": null,
   "id": "c9433d5d",
   "metadata": {},
   "outputs": [],
   "source": []
  },
  {
   "cell_type": "code",
   "execution_count": 169,
   "id": "51e27714",
   "metadata": {
    "ExecuteTime": {
     "end_time": "2021-12-10T16:26:31.212141Z",
     "start_time": "2021-12-10T16:26:31.189082Z"
    }
   },
   "outputs": [],
   "source": [
    "from sklearn.ensemble import RandomForestClassifier"
   ]
  },
  {
   "cell_type": "code",
   "execution_count": 192,
   "id": "f6e8fbc7",
   "metadata": {
    "ExecuteTime": {
     "end_time": "2021-12-10T17:06:51.212257Z",
     "start_time": "2021-12-10T17:06:51.203221Z"
    }
   },
   "outputs": [],
   "source": [
    "clf=RandomForestClassifier(n_estimators=200)"
   ]
  },
  {
   "cell_type": "code",
   "execution_count": 236,
   "id": "84d5c734",
   "metadata": {
    "ExecuteTime": {
     "end_time": "2021-12-10T17:49:50.789281Z",
     "start_time": "2021-12-10T17:49:50.768225Z"
    }
   },
   "outputs": [
    {
     "name": "stdout",
     "output_type": "stream",
     "text": [
      "RandomForestClassifier(n_estimators=200)\n"
     ]
    }
   ],
   "source": [
    "print(clf)"
   ]
  },
  {
   "cell_type": "code",
   "execution_count": 193,
   "id": "f6d84f43",
   "metadata": {
    "ExecuteTime": {
     "end_time": "2021-12-10T17:06:54.108417Z",
     "start_time": "2021-12-10T17:06:51.768926Z"
    }
   },
   "outputs": [
    {
     "data": {
      "text/plain": [
       "RandomForestClassifier(n_estimators=200)"
      ]
     },
     "execution_count": 193,
     "metadata": {},
     "output_type": "execute_result"
    }
   ],
   "source": [
    "clf.fit(X_train,Y_train)"
   ]
  },
  {
   "cell_type": "code",
   "execution_count": 216,
   "id": "e7f979a2",
   "metadata": {
    "ExecuteTime": {
     "end_time": "2021-12-10T17:17:46.146078Z",
     "start_time": "2021-12-10T17:17:45.986994Z"
    }
   },
   "outputs": [],
   "source": [
    "y_pred_rf=clf.predict(X_test)"
   ]
  },
  {
   "cell_type": "code",
   "execution_count": 218,
   "id": "c1c3df40",
   "metadata": {
    "ExecuteTime": {
     "end_time": "2021-12-10T17:17:55.136906Z",
     "start_time": "2021-12-10T17:17:55.117845Z"
    }
   },
   "outputs": [
    {
     "name": "stdout",
     "output_type": "stream",
     "text": [
      "Accuracy: 0.7173144876325088\n"
     ]
    }
   ],
   "source": [
    "from sklearn import metrics\n",
    "print(\"Accuracy:\",metrics.accuracy_score(Y_test, y_pred_rf))"
   ]
  },
  {
   "cell_type": "code",
   "execution_count": 230,
   "id": "1fa8bd4b",
   "metadata": {
    "ExecuteTime": {
     "end_time": "2021-12-10T17:27:25.401531Z",
     "start_time": "2021-12-10T17:27:25.382186Z"
    }
   },
   "outputs": [
    {
     "name": "stdout",
     "output_type": "stream",
     "text": [
      "0.7060788243152972\n"
     ]
    }
   ],
   "source": [
    "print(metrics.f1_score(Y_test, y_pred_rf))"
   ]
  },
  {
   "cell_type": "code",
   "execution_count": 231,
   "id": "8043a89f",
   "metadata": {
    "ExecuteTime": {
     "end_time": "2021-12-10T17:27:26.465557Z",
     "start_time": "2021-12-10T17:27:26.448544Z"
    }
   },
   "outputs": [
    {
     "name": "stdout",
     "output_type": "stream",
     "text": [
      "0.6908496732026144\n"
     ]
    }
   ],
   "source": [
    "print(metrics.recall_score(Y_test, y_pred_rf))"
   ]
  },
  {
   "cell_type": "code",
   "execution_count": 232,
   "id": "226d50f2",
   "metadata": {
    "ExecuteTime": {
     "end_time": "2021-12-10T17:27:28.016187Z",
     "start_time": "2021-12-10T17:27:27.999090Z"
    }
   },
   "outputs": [
    {
     "name": "stdout",
     "output_type": "stream",
     "text": [
      "0.7219945355191257\n"
     ]
    }
   ],
   "source": [
    "print(metrics.precision_score(Y_test, y_pred_rf))"
   ]
  },
  {
   "cell_type": "code",
   "execution_count": 219,
   "id": "8f3b3d0a",
   "metadata": {
    "ExecuteTime": {
     "end_time": "2021-12-10T17:18:19.909931Z",
     "start_time": "2021-12-10T17:18:19.886930Z"
    }
   },
   "outputs": [
    {
     "name": "stdout",
     "output_type": "stream",
     "text": [
      "              precision    recall  f1-score   support\n",
      "\n",
      "           0       0.71      0.74      0.73      1583\n",
      "           1       0.72      0.69      0.71      1530\n",
      "\n",
      "    accuracy                           0.72      3113\n",
      "   macro avg       0.72      0.72      0.72      3113\n",
      "weighted avg       0.72      0.72      0.72      3113\n",
      "\n"
     ]
    }
   ],
   "source": [
    "print(classification_report(Y_test, y_pred_rf))"
   ]
  },
  {
   "cell_type": "code",
   "execution_count": 204,
   "id": "6e17d371",
   "metadata": {
    "ExecuteTime": {
     "end_time": "2021-12-10T17:13:59.309797Z",
     "start_time": "2021-12-10T17:13:58.969651Z"
    }
   },
   "outputs": [
    {
     "data": {
      "image/png": "[encoded data removed]",
      "text/plain": [
       "<Figure size 432x288 with 1 Axes>"
      ]
     },
     "metadata": {
      "needs_background": "light"
     },
     "output_type": "display_data"
    }
   ],
   "source": [
    "prob_estimates = clf.predict_proba(X_test)\n",
    "\n",
    "fpr, tpr, threshold = roc_curve(Y_test, prob_estimates[:,1])\n",
    "nilai_auc = auc(fpr,tpr)\n",
    "\n",
    "plt.plot(fpr, tpr, 'b', label=f'AUC={nilai_auc}')\n",
    "plt.plot([0,1], [0,1], 'r--', label='Random Classifier')\n",
    "\n",
    "plt.title('ROC: Reciever OPerating Characteristic')\n",
    "plt.xlabel('Fallout or False Positive Rate')\n",
    "plt.ylabel('Recal or True Positive Rate')\n",
    "plt.legend()\n",
    "plt.show()"
   ]
  },
  {
   "cell_type": "code",
   "execution_count": 205,
   "id": "9acb1b03",
   "metadata": {
    "ExecuteTime": {
     "end_time": "2021-12-10T17:14:19.135153Z",
     "start_time": "2021-12-10T17:14:18.967808Z"
    }
   },
   "outputs": [],
   "source": [
    "from xgboost import XGBClassifier"
   ]
  },
  {
   "cell_type": "code",
   "execution_count": 206,
   "id": "4de28dee",
   "metadata": {
    "ExecuteTime": {
     "end_time": "2021-12-10T17:14:35.173672Z",
     "start_time": "2021-12-10T17:14:35.164596Z"
    }
   },
   "outputs": [],
   "source": [
    "model = XGBClassifier()"
   ]
  },
  {
   "cell_type": "code",
   "execution_count": 207,
   "id": "ffd6fb48",
   "metadata": {
    "ExecuteTime": {
     "end_time": "2021-12-10T17:14:53.180973Z",
     "start_time": "2021-12-10T17:14:52.688454Z"
    }
   },
   "outputs": [
    {
     "name": "stderr",
     "output_type": "stream",
     "text": [
      "C:\\Users\\faisa\\anaconda3\\lib\\site-packages\\xgboost\\sklearn.py:1224: UserWarning: The use of label encoder in XGBClassifier is deprecated and will be removed in a future release. To remove this warning, do the following: 1) Pass option use_label_encoder=False when constructing XGBClassifier object; and 2) Encode your labels (y) as integers starting with 0, i.e. 0, 1, 2, ..., [num_class - 1].\n",
      "  warnings.warn(label_encoder_deprecation_msg, UserWarning)\n"
     ]
    },
    {
     "name": "stdout",
     "output_type": "stream",
     "text": [
      "[00:14:52] WARNING: C:/Users/Administrator/workspace/xgboost-win64_release_1.5.1/src/learner.cc:1115: Starting in XGBoost 1.3.0, the default evaluation metric used with the objective 'binary:logistic' was changed from 'error' to 'logloss'. Explicitly set eval_metric if you'd like to restore the old behavior.\n"
     ]
    },
    {
     "data": {
      "text/plain": [
       "XGBClassifier(base_score=0.5, booster='gbtree', colsample_bylevel=1,\n",
       "              colsample_bynode=1, colsample_bytree=1, enable_categorical=False,\n",
       "              gamma=0, gpu_id=-1, importance_type=None,\n",
       "              interaction_constraints='', learning_rate=0.300000012,\n",
       "              max_delta_step=0, max_depth=6, min_child_weight=1, missing=nan,\n",
       "              monotone_constraints='()', n_estimators=100, n_jobs=12,\n",
       "              num_parallel_tree=1, predictor='auto', random_state=0,\n",
       "              reg_alpha=0, reg_lambda=1, scale_pos_weight=1, subsample=1,\n",
       "              tree_method='exact', validate_parameters=1, verbosity=None)"
      ]
     },
     "execution_count": 207,
     "metadata": {},
     "output_type": "execute_result"
    }
   ],
   "source": [
    "model.fit(X_train, Y_train)"
   ]
  },
  {
   "cell_type": "code",
   "execution_count": 208,
   "id": "cb5b06f2",
   "metadata": {
    "ExecuteTime": {
     "end_time": "2021-12-10T17:15:15.298089Z",
     "start_time": "2021-12-10T17:15:15.283130Z"
    }
   },
   "outputs": [
    {
     "name": "stdout",
     "output_type": "stream",
     "text": [
      "XGBClassifier(base_score=0.5, booster='gbtree', colsample_bylevel=1,\n",
      "              colsample_bynode=1, colsample_bytree=1, enable_categorical=False,\n",
      "              gamma=0, gpu_id=-1, importance_type=None,\n",
      "              interaction_constraints='', learning_rate=0.300000012,\n",
      "              max_delta_step=0, max_depth=6, min_child_weight=1, missing=nan,\n",
      "              monotone_constraints='()', n_estimators=100, n_jobs=12,\n",
      "              num_parallel_tree=1, predictor='auto', random_state=0,\n",
      "              reg_alpha=0, reg_lambda=1, scale_pos_weight=1, subsample=1,\n",
      "              tree_method='exact', validate_parameters=1, verbosity=None)\n"
     ]
    }
   ],
   "source": [
    "print(model)"
   ]
  },
  {
   "cell_type": "code",
   "execution_count": 220,
   "id": "2e151232",
   "metadata": {
    "ExecuteTime": {
     "end_time": "2021-12-10T17:18:35.888015Z",
     "start_time": "2021-12-10T17:18:35.872637Z"
    }
   },
   "outputs": [],
   "source": [
    "y_pred_xgb = model.predict(X_test)\n",
    "predictions = [round(value) for value in y_pred]"
   ]
  },
  {
   "cell_type": "code",
   "execution_count": 221,
   "id": "4af7e1ba",
   "metadata": {
    "ExecuteTime": {
     "end_time": "2021-12-10T17:18:37.312960Z",
     "start_time": "2021-12-10T17:18:37.301960Z"
    }
   },
   "outputs": [
    {
     "name": "stdout",
     "output_type": "stream",
     "text": [
      "Accuracy: 82.69%\n"
     ]
    }
   ],
   "source": [
    "# evaluate predictions\n",
    "accuracy = accuracy_score(Y_test, predictions)\n",
    "print(\"Accuracy: %.2f%%\" % (accuracy * 100.0))"
   ]
  },
  {
   "cell_type": "code",
   "execution_count": 233,
   "id": "3b4c4e33",
   "metadata": {
    "ExecuteTime": {
     "end_time": "2021-12-10T17:29:00.652583Z",
     "start_time": "2021-12-10T17:29:00.638584Z"
    }
   },
   "outputs": [
    {
     "name": "stdout",
     "output_type": "stream",
     "text": [
      "0.800886590321389\n"
     ]
    }
   ],
   "source": [
    "print(metrics.f1_score(Y_test, y_pred_xgb))"
   ]
  },
  {
   "cell_type": "code",
   "execution_count": 234,
   "id": "5e93e123",
   "metadata": {
    "ExecuteTime": {
     "end_time": "2021-12-10T17:29:01.618350Z",
     "start_time": "2021-12-10T17:29:01.604493Z"
    }
   },
   "outputs": [
    {
     "name": "stdout",
     "output_type": "stream",
     "text": [
      "0.7084967320261438\n"
     ]
    }
   ],
   "source": [
    "print(metrics.recall_score(Y_test, y_pred_xgb))"
   ]
  },
  {
   "cell_type": "code",
   "execution_count": 235,
   "id": "11d8662b",
   "metadata": {
    "ExecuteTime": {
     "end_time": "2021-12-10T17:29:02.792885Z",
     "start_time": "2021-12-10T17:29:02.781919Z"
    }
   },
   "outputs": [
    {
     "name": "stdout",
     "output_type": "stream",
     "text": [
      "0.9209855564995751\n"
     ]
    }
   ],
   "source": [
    "print(metrics.precision_score(Y_test, y_pred_xgb))"
   ]
  },
  {
   "cell_type": "code",
   "execution_count": 222,
   "id": "73f73d1f",
   "metadata": {
    "ExecuteTime": {
     "end_time": "2021-12-10T17:18:44.957628Z",
     "start_time": "2021-12-10T17:18:44.930247Z"
    }
   },
   "outputs": [
    {
     "name": "stdout",
     "output_type": "stream",
     "text": [
      "              precision    recall  f1-score   support\n",
      "\n",
      "           0       0.77      0.94      0.85      1583\n",
      "           1       0.92      0.71      0.80      1530\n",
      "\n",
      "    accuracy                           0.83      3113\n",
      "   macro avg       0.85      0.82      0.82      3113\n",
      "weighted avg       0.84      0.83      0.82      3113\n",
      "\n"
     ]
    }
   ],
   "source": [
    "print(classification_report(Y_test, predictions))"
   ]
  },
  {
   "cell_type": "code",
   "execution_count": 223,
   "id": "1525a3b9",
   "metadata": {
    "ExecuteTime": {
     "end_time": "2021-12-10T17:19:03.809819Z",
     "start_time": "2021-12-10T17:19:03.670207Z"
    }
   },
   "outputs": [
    {
     "data": {
      "image/png": "[encoded data removed]",
      "text/plain": [
       "<Figure size 432x288 with 1 Axes>"
      ]
     },
     "metadata": {
      "needs_background": "light"
     },
     "output_type": "display_data"
    }
   ],
   "source": [
    "prob_estimates = model.predict_proba(X_test)\n",
    "\n",
    "fpr, tpr, threshold = roc_curve(Y_test, prob_estimates[:,1])\n",
    "nilai_auc = auc(fpr,tpr)\n",
    "\n",
    "plt.plot(fpr, tpr, 'b', label=f'AUC={nilai_auc}')\n",
    "plt.plot([0,1], [0,1], 'r--', label='Random Classifier')\n",
    "\n",
    "plt.title('ROC: Reciever OPerating Characteristic')\n",
    "plt.xlabel('Fallout or False Positive Rate')\n",
    "plt.ylabel('Recal or True Positive Rate')\n",
    "plt.legend()\n",
    "plt.show()"
   ]
  },
  {
   "cell_type": "code",
   "execution_count": null,
   "id": "6eaaa91a",
   "metadata": {},
   "outputs": [],
   "source": []
  }
 ],
 "metadata": {
  "kernelspec": {
   "display_name": "Python 3 (ipykernel)",
   "language": "python",
   "name": "python3"
  },
  "language_info": {
   "codemirror_mode": {
    "name": "ipython",
    "version": 3
   },
   "file_extension": ".py",
   "mimetype": "text/x-python",
   "name": "python",
   "nbconvert_exporter": "python",
   "pygments_lexer": "ipython3",
   "version": "3.9.7"
  },
  "latex_envs": {
   "LaTeX_envs_menu_present": true,
   "autoclose": false,
   "autocomplete": true,
   "bibliofile": "biblio.bib",
   "cite_by": "apalike",
   "current_citInitial": 1,
   "eqLabelWithNumbers": true,
   "eqNumInitial": 1,
   "hotkeys": {
    "equation": "Ctrl-E",
    "itemize": "Ctrl-I"
   },
   "labels_anchors": false,
   "latex_user_defs": false,
   "report_style_numbering": false,
   "user_envs_cfg": false
  },
  "toc": {
   "base_numbering": 1,
   "nav_menu": {},
   "number_sections": true,
   "sideBar": true,
   "skip_h1_title": false,
   "title_cell": "Table of Contents",
   "title_sidebar": "Contents",
   "toc_cell": false,
   "toc_position": {},
   "toc_section_display": true,
   "toc_window_display": false
  }
 },
 "nbformat": 4,
 "nbformat_minor": 5
}
