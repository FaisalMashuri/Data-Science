{
 "cells": [
  {
   "cell_type": "markdown",
   "id": "afd933bc",
   "metadata": {},
   "source": [
    "# Logistic Regrssion dan Implementasi Kedalam Python"
   ]
  },
  {
   "cell_type": "markdown",
   "id": "954b5b7c",
   "metadata": {},
   "source": [
    "**Logistic Regression** merupakan sebuah model Statictik untuk memprediksi *binary class* ( 0 vs 1 ). Model ini digunakan ketika variabel dependen ( target ) adalah kategoris."
   ]
  },
  {
   "cell_type": "markdown",
   "id": "fcaf0371",
   "metadata": {},
   "source": [
    "Logistic Regression menentukan prediksi bobot terbaik *b0,b1,...,br* sedemikian rupa sehingga fungsi(x) sedekat mungkin dengan semua respons sebenarnya. Untuk mendapatkan bobot terbaik, biasanya kita bisa memaksimalkan fungsi **likelihood(LLF)** untuk semua pengamatan, metode ini disebut dengan **maximum likelihood estimation** dan di representasikan dengan persamaan  $LLF = Σᵢ(𝑦ᵢ log(𝑝(𝐱ᵢ)) + (1 − 𝑦ᵢ) log(1 − 𝑝(𝐱ᵢ)))$"
   ]
  },
  {
   "cell_type": "markdown",
   "id": "8fe9b2e4",
   "metadata": {},
   "source": [
    "**Contoh Penggunaan Logistic Regression**\n",
    "- memprediksi apakah sebuah email termasuk kedalam spam (1) atau bukan (0)\n",
    "- Apakah tumor ganas (1) atau bukan (0)"
   ]
  },
  {
   "cell_type": "markdown",
   "id": "3983a95e",
   "metadata": {},
   "source": [
    "**Rumus**\n",
    "- Multiple Linear Regression <br>\n",
    "$y=\\alpha + \\beta 1X1 + ... + \\beta nXn$ <br>\n",
    "$g(X)=\\alpha + \\beta X$\n",
    "\n",
    "\n",
    "- Logistic Regression<br>\n",
    "$g(X) = sigmoid(\\alpha + \\beta X)$ <br>\n",
    "$sigmoid(x) = \\frac{1}{1+e^{-x}}$"
   ]
  },
  {
   "cell_type": "markdown",
   "id": "b35b0108",
   "metadata": {},
   "source": [
    "![title](img/logistic_regression.jpg)"
   ]
  },
  {
   "cell_type": "markdown",
   "id": "9f582b9b",
   "metadata": {},
   "source": [
    "# Implementasi Logistic Regression Dengan Python"
   ]
  },
  {
   "cell_type": "markdown",
   "id": "93e0c9d1",
   "metadata": {},
   "source": [
    "Contoh pertama terkait dengan *single-variate binary classification problem*. Ada beberapa langkah umum yang harus kita ambil saat menyiapkan model klasifikasi.\n",
    "\n",
    "**Step 1:** Import *Packages, function and class* yang dibutuhkan"
   ]
  },
  {
   "cell_type": "code",
   "execution_count": 4,
   "id": "e8c4be78",
   "metadata": {},
   "outputs": [],
   "source": [
    "import numpy as np\n",
    "import matplotlib.pyplot as plt\n",
    "from sklearn.linear_model import LogisticRegression\n",
    "from sklearn.metrics import classification_report, confusion_matrix"
   ]
  },
  {
   "cell_type": "markdown",
   "id": "a3a02cc1",
   "metadata": {},
   "source": [
    "**Step 2:** Buat Data sample, mari kita buat array untuk input(x) dan output(y):"
   ]
  },
  {
   "cell_type": "markdown",
   "id": "8c60c10b",
   "metadata": {},
   "source": [
    "input dan output harus berupa array Numpy ( instance kelas numpy.ndarray ) atau objek serupa numpy.arange() untuk membuat array nilai yang berurutan dan berjarak sama dalam rentang tertentu."
   ]
  },
  {
   "cell_type": "code",
   "execution_count": 5,
   "id": "78cd6e89",
   "metadata": {},
   "outputs": [],
   "source": [
    "x = np.arange(10).reshape(-1,1)\n",
    "\"\"\"\n",
    "array x harus berbentuk 2 dimensi, dengan reshape dan argumen -1\n",
    "untuk mendapatkan baris sebanyak yang diperlukan , dan argumen 1\n",
    "untuk mendapatkan satu kolom\n",
    "\"\"\"\n",
    "y = np.array([0,0,0,0,1,1,1,1,1,1])"
   ]
  },
  {
   "cell_type": "code",
   "execution_count": 9,
   "id": "7244dd97",
   "metadata": {},
   "outputs": [
    {
     "name": "stdout",
     "output_type": "stream",
     "text": [
      "[[0]\n",
      " [1]\n",
      " [2]\n",
      " [3]\n",
      " [4]\n",
      " [5]\n",
      " [6]\n",
      " [7]\n",
      " [8]\n",
      " [9]] [0 0 0 0 1 1 1 1 1 1]\n"
     ]
    }
   ],
   "source": [
    "print(x,y)"
   ]
  },
  {
   "cell_type": "markdown",
   "id": "7dfa46ee",
   "metadata": {},
   "source": [
    "x memiliki dua dimensi\n",
    "- satu kolom: untuk masukan\n",
    "- sepuluh baris : masing-masing sesuai dengan satu pengamatan\n",
    "\n",
    "y adalah array satu dimensi dengan 10 elemen. berisi nilai 0 dan 1 karena ini adalah klasifikasi biner.\n",
    "\n",
    "**Step 3:** Membuat Model dan Melatihnya\n",
    "Membuat dan menentukan model klasifikasi, kita akan membuatnya dengan instance LogisticRegression:"
   ]
  },
  {
   "cell_type": "code",
   "execution_count": 10,
   "id": "870d8451",
   "metadata": {},
   "outputs": [],
   "source": [
    "model = LogisticRegression(solver='liblinear', random_state=0)"
   ]
  },
  {
   "cell_type": "markdown",
   "id": "727438cf",
   "metadata": {},
   "source": [
    "LogisticRegression memiliki beberapa parameter optional yang menentukan perilaku dan pendekatan model:\n",
    "\n",
    "- **penalty** : merupakan String('l2' secara default) yang memutuskan apakah ada regularisasi dan pendekatan yang mana yang digunakan. Opsi lainnya adalah 'l1', 'elasticnet', dan 'none'\n",
    "- **dual** : merupakan *Boolean*(False secara default) yang memutuskan apakah akan ada formulasi primal ( bila False ) atau ganda ( bila True ).\n",
    "- **tol** : floating-point (0,0001 secara default) yang mendefinisikan toleransi untuk menghentikan prosedur..\n",
    "- **C** : floating-point positif (1.0 secara default) yang mendefinisikan kekuatan relatif dari regularisasi. Nilai yang lebih kecil menunjukkan regularisasi yang lebih kuat.\n",
    "- **fit_intercept** : Boolean (True secara default) yang memutuskan apakah akan menghitung intersep (bila Benar) atau menganggapnya sama dengan nol (bila Salah).\n",
    "- **intersept_scaling** adalah angka floating_point(1.0 secara default) yang mendefinisikan skala intersep.\n",
    "- **class_weight** : adalah kamus, 'balanced' atau None(default) yang mendefinisikan bobot yang terkait dengan setiap kelas. Bila Tidak Ada, semua kelas memiliki bobot satu.\n",
    "- **random_state** : bilangan bulat, turunan daru numpy.RandomState, atau None)secara default) yang menentukan generator nomor acak pseudo-acak yang akan digunakan.\n",
    "- **solver** : adalah string ('liblinear' secara default) yang memutuskan solver apa yang akan digunakan untuk menyesuaikan model. Pilihan lainnya adalah 'newton-cg', 'lbfgs', 'sag', dan 'saga'.\n",
    "- **max_iter** : adalah bilangan bulat (100 secara default) yang menentukan jumlah maksimum iterasi oleh solver selama pemasangan model.\n",
    "\n",
    "- **multi_class** : adalah string ('ovr' secara default) yang memutuskan pendekatan yang digunakan untuk menangani beberapa kelas. Pilihan lainnya adalah 'multinomial' dan 'auto'.\n",
    "\n",
    "- **verbose** : adalah bilangan bulat non-negatif (0 secara default) yang mendefinisikan verbositas untuk pemecah 'liblinear' dan 'lbfgs'.\n",
    "\n",
    "- **warm_start** : adalah Boolean (False secara default) yang memutuskan apakah akan menggunakan kembali solusi yang diperoleh sebelumnya.\n",
    "\n",
    "- **n_jobs** : adalah bilangan bulat atau None (default) yang menentukan jumlah proses paralel yang akan digunakan. None biasanya berarti menggunakan satu inti, sedangkan -1 berarti menggunakan semua inti yang tersedia.\n",
    "\n",
    "- **l1_ratio** : adalah angka floating-point antara nol dan satu atau None (default). Ini mendefinisikan kepentingan relatif dari bagian L1 dalam regularisasi jaring elastis.\n",
    "\n",
    "\n",
    "Anda harus hati-hati mencocokkan solver dan metode regularisasi karena beberapa alasan:\n",
    "- 'liblinear' solver tidak berfungsi tanpa regularisasi.\n",
    "- 'newton-cg', 'sag', 'saga', dan 'lbfgs' tidak mendukung regularisasi L1.\n",
    "- 'saga' adalah satu-satunya pemecah yang mendukung regularisasi jaring elastis.\n",
    "\n",
    "Setelah model dibuat, kita perlu menyesuaikan(melataih) model tersebut. Model fitting adalah proses menentukan koefisien 𝑏₀, 𝑏₁, …, 𝑏ᵣ yang sesuai dengan best value of the cost function. Kita akan melatih model dengan .fit():"
   ]
  },
  {
   "cell_type": "code",
   "execution_count": 11,
   "id": "3891c8e4",
   "metadata": {},
   "outputs": [
    {
     "data": {
      "text/plain": [
       "LogisticRegression(random_state=0, solver='liblinear')"
      ]
     },
     "execution_count": 11,
     "metadata": {},
     "output_type": "execute_result"
    }
   ],
   "source": [
    "model.fit(x,y)"
   ]
  },
  {
   "cell_type": "code",
   "execution_count": 13,
   "id": "091fe1a6",
   "metadata": {},
   "outputs": [
    {
     "data": {
      "text/plain": [
       "array([0, 1])"
      ]
     },
     "execution_count": 13,
     "metadata": {},
     "output_type": "execute_result"
    }
   ],
   "source": [
    "model.classes_"
   ]
  },
  {
   "cell_type": "markdown",
   "id": "432f9097",
   "metadata": {},
   "source": [
    "Ini adalah contoh klasifikasi biner dan y bisa menjadi 0 atau 1\n",
    "\n",
    "Kita juga bisamendapatkan nilai slope *$b_{1}$* dan *intercept $b_{0}$* dari fungsi linear f"
   ]
  },
  {
   "cell_type": "code",
   "execution_count": 14,
   "id": "3f407edb",
   "metadata": {},
   "outputs": [
    {
     "name": "stdout",
     "output_type": "stream",
     "text": [
      "[-1.04608067] [[0.51491375]]\n"
     ]
    }
   ],
   "source": [
    "print(model.intercept_, model.coef_)"
   ]
  },
  {
   "cell_type": "markdown",
   "id": "8f57d5ee",
   "metadata": {},
   "source": [
    "$b_{0}$ : array satu dimensi<br>\n",
    "$b_{1}$ 0: array dua dimensi\n",
    "\n",
    "**Step 4:** Evaluasi Model<br>\n",
    "Setelah model ditentukan, kita dapat memeriksa performa dengan *.predic_proba()* yang akan mengembalikan matriks probabilitas bahwa keluaran yang diprediksi sama dengan nol atau satu:"
   ]
  },
  {
   "cell_type": "code",
   "execution_count": 15,
   "id": "89c1bd5a",
   "metadata": {},
   "outputs": [
    {
     "data": {
      "text/plain": [
       "array([[0.74002157, 0.25997843],\n",
       "       [0.62975524, 0.37024476],\n",
       "       [0.5040632 , 0.4959368 ],\n",
       "       [0.37785549, 0.62214451],\n",
       "       [0.26628093, 0.73371907],\n",
       "       [0.17821501, 0.82178499],\n",
       "       [0.11472079, 0.88527921],\n",
       "       [0.07186982, 0.92813018],\n",
       "       [0.04422513, 0.95577487],\n",
       "       [0.02690569, 0.97309431]])"
      ]
     },
     "execution_count": 15,
     "metadata": {},
     "output_type": "execute_result"
    }
   ],
   "source": [
    "model.predict_proba(x)"
   ]
  },
  {
   "cell_type": "markdown",
   "id": "f2313672",
   "metadata": {},
   "source": [
    "Dalam Matriks diatas = setiap baris sesuai dengan satu pengamatan\n",
    "- Kolom pertama : probabilitas keluaran yang diprediksi menjadi nol, yaitu 1 -p(x)\n",
    "- Kolom kedua : probabilitas yang outputnya satu, atau p(x)"
   ]
  },
  {
   "cell_type": "code",
   "execution_count": 16,
   "id": "e88ff561",
   "metadata": {},
   "outputs": [
    {
     "data": {
      "text/plain": [
       "array([0, 0, 0, 1, 1, 1, 1, 1, 1, 1])"
      ]
     },
     "execution_count": 16,
     "metadata": {},
     "output_type": "execute_result"
    }
   ],
   "source": [
    "\"\"\"Mendapatkan nilai prediksi aktual, berdasarkan matriks probabilitas \n",
    "dan nilai p(x)\n",
    "\"\"\" \n",
    "model.predict(x)"
   ]
  },
  {
   "cell_type": "markdown",
   "id": "db0c0ed9",
   "metadata": {},
   "source": [
    "Jika kita memiliki sembilan dari sepuluh observasi yang dikasifikasikan dengan benar, maka akurasi model kita sama dengan 9/10 = 0.9"
   ]
  },
  {
   "cell_type": "code",
   "execution_count": 17,
   "id": "db9bdd72",
   "metadata": {},
   "outputs": [
    {
     "data": {
      "text/plain": [
       "0.9"
      ]
     },
     "execution_count": 17,
     "metadata": {},
     "output_type": "execute_result"
    }
   ],
   "source": [
    "# mengambil i dan o sebagai argumen dan mengembalikan rasio jumlah prediksi yang benar dengan jumlah observasi\n",
    "model.score(x,y)"
   ]
  },
  {
   "cell_type": "markdown",
   "id": "e3dbd70f",
   "metadata": {},
   "source": [
    "Kita bisa mendapatkan lebih banyak informasi tentang keakuratan model dengan confusion matrix. Untuk membuat confusion matrix, kita bisa menggunakan confusion_matrix() dan memberikan actual dan predicted outputs sebagai argumen:"
   ]
  },
  {
   "cell_type": "code",
   "execution_count": 18,
   "id": "f0494d3b",
   "metadata": {},
   "outputs": [
    {
     "data": {
      "text/plain": [
       "array([[3, 1],\n",
       "       [0, 6]], dtype=int64)"
      ]
     },
     "execution_count": 18,
     "metadata": {},
     "output_type": "execute_result"
    }
   ],
   "source": [
    "confusion_matrix(y, model.predict(x))"
   ]
  },
  {
   "cell_type": "markdown",
   "id": "eef80ee7",
   "metadata": {},
   "source": [
    "Matriks yang diperoleh menunjukkan hal berikut:\n",
    "\n",
    "- Tiga prediksi negatif yang benar: Tiga pengamatan pertama adalah nol yang diprediksi dengan benar.\n",
    "\n",
    "- Tidak ada prediksi negatif palsu: Ini adalah prediksi yang salah sebagai nol.\n",
    "\n",
    "- Satu prediksi positif palsu: Pengamatan keempat adalah nol yang salah diprediksi sebagai satu.\n",
    "\n",
    "- Enam prediksi positif yang benar: Enam pengamatan terakhir adalah yang diprediksi dengan benar.\n",
    "\n",
    "Memvisualisasikan confusion matrix dengan .imshow() dari matplotlib, yang menerima confusion matrix sebagai argumen:"
   ]
  },
  {
   "cell_type": "code",
   "execution_count": 19,
   "id": "998d24f7",
   "metadata": {},
   "outputs": [
    {
     "data": {
      "image/png": "[encoded data removed]",
      "text/plain": [
       "<Figure size 576x576 with 1 Axes>"
      ]
     },
     "metadata": {
      "needs_background": "light"
     },
     "output_type": "display_data"
    }
   ],
   "source": [
    "\n",
    "cm = confusion_matrix(y, model.predict(x))\n",
    "\n",
    "fig, ax = plt.subplots(figsize=(8,8))\n",
    "\n",
    "ax.imshow(cm)\n",
    "ax.grid(False)\n",
    "ax.xaxis.set(ticks=(0,1), ticklabels=('Predicted 0s', 'Predicted 1s'))\n",
    "ax.yaxis.set(ticks=(0,1), ticklabels=('Actual 0s', 'Actual 1s'))\n",
    "ax.set_ylim(1.5, -0.5)\n",
    "\n",
    "for i in range(2):\n",
    "    for j in range(2):\n",
    "        ax.text(j, i, cm[i, j], ha='center', va='center', color='red')\n",
    "\n",
    "plt.show()"
   ]
  },
  {
   "cell_type": "markdown",
   "id": "5b5575cf",
   "metadata": {},
   "source": [
    "Pada gambar ini, warna berbeda mwakili angka berbeda dan warna serupa mewakili angka serupa. Heatmaps adalah cara yang bagus u/ mempresentasikan matriks."
   ]
  },
  {
   "cell_type": "code",
   "execution_count": 20,
   "id": "8436731e",
   "metadata": {},
   "outputs": [
    {
     "name": "stdout",
     "output_type": "stream",
     "text": [
      "              precision    recall  f1-score   support\n",
      "\n",
      "           0       1.00      0.75      0.86         4\n",
      "           1       0.86      1.00      0.92         6\n",
      "\n",
      "    accuracy                           0.90        10\n",
      "   macro avg       0.93      0.88      0.89        10\n",
      "weighted avg       0.91      0.90      0.90        10\n",
      "\n"
     ]
    }
   ],
   "source": [
    "\n",
    "# Mendapatkan laporan yang lebih komprehensif ttg klasifikasi dengan classification_report():\n",
    "print(classification_report(y, model.predict(x)))"
   ]
  },
  {
   "cell_type": "markdown",
   "id": "2a4e9563",
   "metadata": {},
   "source": [
    "## Improve model"
   ]
  },
  {
   "cell_type": "markdown",
   "id": "cd35a4fa",
   "metadata": {},
   "source": [
    "\n",
    "KIta dapat meningkatkan model dengan mengatur parameter yang berbeda. Misalnya, mari bekerja dengan regularization strength C sama dengan 10,0 dari nilai default 1,0:"
   ]
  },
  {
   "cell_type": "code",
   "execution_count": 21,
   "id": "0b824e3a",
   "metadata": {},
   "outputs": [
    {
     "data": {
      "text/plain": [
       "LogisticRegression(C=10.0, random_state=0, solver='liblinear')"
      ]
     },
     "execution_count": 21,
     "metadata": {},
     "output_type": "execute_result"
    }
   ],
   "source": [
    "model = LogisticRegression(solver='liblinear', C=10.0, random_state=0)\n",
    "model.fit(x, y)"
   ]
  },
  {
   "cell_type": "code",
   "execution_count": 22,
   "id": "ffb56102",
   "metadata": {},
   "outputs": [
    {
     "name": "stdout",
     "output_type": "stream",
     "text": [
      "[-3.51335372] [[1.12066084]]\n"
     ]
    }
   ],
   "source": [
    "print(model.intercept_, model.coef_)"
   ]
  },
  {
   "cell_type": "code",
   "execution_count": 23,
   "id": "b7bb26c8",
   "metadata": {},
   "outputs": [
    {
     "name": "stdout",
     "output_type": "stream",
     "text": [
      "[[0.97106534 0.02893466]\n",
      " [0.9162684  0.0837316 ]\n",
      " [0.7810904  0.2189096 ]\n",
      " [0.53777071 0.46222929]\n",
      " [0.27502212 0.72497788]\n",
      " [0.11007743 0.88992257]\n",
      " [0.03876835 0.96123165]\n",
      " [0.01298011 0.98701989]\n",
      " [0.0042697  0.9957303 ]\n",
      " [0.00139621 0.99860379]]\n"
     ]
    }
   ],
   "source": [
    "print(model.predict_proba(x))"
   ]
  },
  {
   "cell_type": "code",
   "execution_count": 24,
   "id": "c360b549",
   "metadata": {},
   "outputs": [
    {
     "name": "stdout",
     "output_type": "stream",
     "text": [
      "[0 0 0 0 1 1 1 1 1 1]\n"
     ]
    }
   ],
   "source": [
    "print(model.predict(x))"
   ]
  },
  {
   "cell_type": "markdown",
   "id": "d6446e08",
   "metadata": {},
   "source": [
    "coefficient 𝑏₁ and the intercept 𝑏₀ lebih besar, karena nilai C yang lebih besar berarti regularisasi yang lebih lemah, atau penalti yang lebih lemah terkait dnegan nilai 𝑏₀ dan 𝑏₁ yang tinggi.\n",
    "\n",
    "nilai 𝑏₀ dan 𝑏₁ yang berbeda menyiratkan perubahan logit f(x), nilai probabilitas p(x) yang berbeda, bentuk garis regresi yang berbeda dan kemungkinan perubahan dalam hasil prediksi dan kinerja klasifikasi lainnya.\n",
    "\n",
    "nilai batas x yang mana p(x) =0,5 dan f(x)=0 sekarang berada diatas 3."
   ]
  },
  {
   "cell_type": "code",
   "execution_count": 25,
   "id": "dcdf45c5",
   "metadata": {},
   "outputs": [
    {
     "data": {
      "text/plain": [
       "1.0"
      ]
     },
     "execution_count": 25,
     "metadata": {},
     "output_type": "execute_result"
    }
   ],
   "source": [
    "model.score(x,y)"
   ]
  },
  {
   "cell_type": "code",
   "execution_count": 26,
   "id": "a37e22b5",
   "metadata": {},
   "outputs": [
    {
     "data": {
      "text/plain": [
       "array([[4, 0],\n",
       "       [0, 6]], dtype=int64)"
      ]
     },
     "execution_count": 26,
     "metadata": {},
     "output_type": "execute_result"
    }
   ],
   "source": [
    "confusion_matrix(y, model.predict(x))"
   ]
  },
  {
   "cell_type": "code",
   "execution_count": 27,
   "id": "7fdf3613",
   "metadata": {},
   "outputs": [
    {
     "name": "stdout",
     "output_type": "stream",
     "text": [
      "              precision    recall  f1-score   support\n",
      "\n",
      "           0       1.00      1.00      1.00         4\n",
      "           1       1.00      1.00      1.00         6\n",
      "\n",
      "    accuracy                           1.00        10\n",
      "   macro avg       1.00      1.00      1.00        10\n",
      "weighted avg       1.00      1.00      1.00        10\n",
      "\n"
     ]
    }
   ],
   "source": [
    "print(classification_report(y, model.predict(x)))"
   ]
  },
  {
   "cell_type": "markdown",
   "id": "2d8df793",
   "metadata": {},
   "source": [
    "# Contoh Kasus\n",
    "\n",
    "## Klasifikasi Email Spam"
   ]
  },
  {
   "cell_type": "code",
   "execution_count": 36,
   "id": "c542fb85",
   "metadata": {},
   "outputs": [],
   "source": [
    "import requests,zipfile,io"
   ]
  },
  {
   "cell_type": "markdown",
   "id": "7cead2f6",
   "metadata": {},
   "source": [
    "### Download Dataset\n",
    "Dataset bisa download pada link berikut 'https://archive.ics.uci.edu/ml/machine-learning-databases/00228/smsspamcollection.zip'"
   ]
  },
  {
   "cell_type": "code",
   "execution_count": 39,
   "id": "1a6a41f7",
   "metadata": {},
   "outputs": [
    {
     "data": {
      "text/html": [
       "<div>\n",
       "<style scoped>\n",
       "    .dataframe tbody tr th:only-of-type {\n",
       "        vertical-align: middle;\n",
       "    }\n",
       "\n",
       "    .dataframe tbody tr th {\n",
       "        vertical-align: top;\n",
       "    }\n",
       "\n",
       "    .dataframe thead th {\n",
       "        text-align: right;\n",
       "    }\n",
       "</style>\n",
       "<table border=\"1\" class=\"dataframe\">\n",
       "  <thead>\n",
       "    <tr style=\"text-align: right;\">\n",
       "      <th></th>\n",
       "      <th>label</th>\n",
       "      <th>sms</th>\n",
       "    </tr>\n",
       "  </thead>\n",
       "  <tbody>\n",
       "    <tr>\n",
       "      <th>0</th>\n",
       "      <td>ham</td>\n",
       "      <td>Go until jurong point, crazy.. Available only ...</td>\n",
       "    </tr>\n",
       "    <tr>\n",
       "      <th>1</th>\n",
       "      <td>ham</td>\n",
       "      <td>Ok lar... Joking wif u oni...</td>\n",
       "    </tr>\n",
       "    <tr>\n",
       "      <th>2</th>\n",
       "      <td>spam</td>\n",
       "      <td>Free entry in 2 a wkly comp to win FA Cup fina...</td>\n",
       "    </tr>\n",
       "    <tr>\n",
       "      <th>3</th>\n",
       "      <td>ham</td>\n",
       "      <td>U dun say so early hor... U c already then say...</td>\n",
       "    </tr>\n",
       "    <tr>\n",
       "      <th>4</th>\n",
       "      <td>ham</td>\n",
       "      <td>Nah I don't think he goes to usf, he lives aro...</td>\n",
       "    </tr>\n",
       "  </tbody>\n",
       "</table>\n",
       "</div>"
      ],
      "text/plain": [
       "  label                                                sms\n",
       "0   ham  Go until jurong point, crazy.. Available only ...\n",
       "1   ham                      Ok lar... Joking wif u oni...\n",
       "2  spam  Free entry in 2 a wkly comp to win FA Cup fina...\n",
       "3   ham  U dun say so early hor... U c already then say...\n",
       "4   ham  Nah I don't think he goes to usf, he lives aro..."
      ]
     },
     "execution_count": 39,
     "metadata": {},
     "output_type": "execute_result"
    }
   ],
   "source": [
    "import pandas as pd\n",
    "df = pd.read_csv('./Data/SMSSpamCollection.csv', sep='\\t', header=None, names=['label', 'sms'])\n",
    "df.head()"
   ]
  },
  {
   "cell_type": "markdown",
   "id": "e582ce0d",
   "metadata": {},
   "source": [
    "karena file dataset yang kita gunakan berekstensi csv, maka disini kita menggunakan *pd.read_csv()* dan untuk parameternya:\n",
    "- **sep** : untuk mendefinisikan separator, karena dataset SMS ini menggunakan separator tab maka disini kita isi dengan \"\\t\"\n",
    "- **header** : karena dataset ini tidak mengandung header maka kita set header=None\n",
    "- **names** : untuk penaaman kolom, disini kita beri nama label dan sms\n",
    "\n",
    "di tabel diatas terlihat bahwa dataframe kita memiliki dua kolom yaitu label dan sms, dimana kolom sms ini akan menampung sekumpulan teks sms yang akan kita jadikan nilai feature. Sedangkan nilai label berisi klasifikasi dari tiap teks smsnya, disini terdapat dua label ( ham, spam ). teks sms yang **tidak dikategorikan spam** mendapat label **ham** dan teks sms **yang dikategorikan spam** mendapat label **spam**.\n"
   ]
  },
  {
   "cell_type": "code",
   "execution_count": 40,
   "id": "352380d2",
   "metadata": {},
   "outputs": [
    {
     "data": {
      "text/plain": [
       "ham     4825\n",
       "spam     747\n",
       "Name: label, dtype: int64"
      ]
     },
     "execution_count": 40,
     "metadata": {},
     "output_type": "execute_result"
    }
   ],
   "source": [
    "df['label'].value_counts()\n"
   ]
  },
  {
   "cell_type": "markdown",
   "id": "db93712d",
   "metadata": {},
   "source": [
    "perintah diatas digunakan untuk melihat berapa banyak data dari masing masing label, dan ditunjukan bahwa sms yang mendapat *label ham* sebanyak 4825 dan teks sms yang *berlabel spam* sebanyak 747.\n",
    "\n",
    "Terdapat perbedaan yang sangat jauh antara data ham dan spam, kondisi seperti ini dikenal juga dengan istilah **Imbalance Dataset**. Untuk menangani kasus tersebut terdapat beberapa metode yang bisa kita gunakan salah satunya adalah metode **SMOTE**, namun pada kali ini kita tidak akan menangani kondisi tersebut"
   ]
  },
  {
   "cell_type": "markdown",
   "id": "ffe0c4ce",
   "metadata": {},
   "source": [
    "## Training & Testing Dataset"
   ]
  },
  {
   "cell_type": "markdown",
   "id": "518e66bc",
   "metadata": {},
   "source": [
    "Sebelum Melakukan training, kita perlu split data terlebih dahulu menjadi data train dan data test.\n",
    "\n",
    "Sebelum kita split data, kita akan mendefinisikan input dan juga labelnya, dengan cara berikut :\n",
    "\n",
    "**Step 1:** import LabelBinarizer<br>\n",
    "**Step 2:** Ambil semua nilai pada kolom \"sms\" dan simpan kedalam variable X, variabel ini akan menjadi data input kita<br>\n",
    "**Step 3:** Ambil semua nilai dari kolom \"label\" dan simpan kedalam variable y, variable ini akan menjadi variabel yang berisi nilai label dari sms<br>\n",
    "**Step 4:** Buat instance dari class LabelBinarizer<br>\n",
    "**Step 5:** Lalu kita ubah nilai y dari \"ham dan \"spam\" menjadi 0 dan 1 dengan menggunakan fungsi fit_transform, output dari LabelBinarizer akan menjadi multi dimensional array dan disini kita akan mengkonversikan kembali menjadi array satu dimensi dengan fungsi ravel() untuk mem-flatten dan hasil dari flatten tersbut yang kita tampung kedalam variabel y<br>"
   ]
  },
  {
   "cell_type": "code",
   "execution_count": 47,
   "id": "8c01afd9",
   "metadata": {},
   "outputs": [
    {
     "data": {
      "text/plain": [
       "array(['ham', 'spam'], dtype='<U4')"
      ]
     },
     "execution_count": 47,
     "metadata": {},
     "output_type": "execute_result"
    }
   ],
   "source": [
    "from sklearn.preprocessing import LabelBinarizer\n",
    "\n",
    "X = df['sms'].values\n",
    "y = df['label'].values\n",
    "\n",
    "lb = LabelBinarizer()\n",
    "y = lb.fit_transform(y).ravel()\n",
    "lb.classes_"
   ]
  },
  {
   "cell_type": "markdown",
   "id": "5bb2ad9b",
   "metadata": {},
   "source": [
    "Dari ouput diatas kelas \"ham\" akan dianggap 0 dan kelas \"spam\" akan dianggap 1\n",
    "\n",
    "<br>\n",
    "Setelah membuat data input dan juga labelnya, maka selanjutnya kita akan membagi data tersebut menjadi data train dan data test dengan cara berikut :\n",
    "\n",
    "**Step 1:** import train_test_split dari package sklearn.model_selection<br>\n",
    "**Step 2:** Lalu kita gunakan method train_test_split dengan parameter berikut :\n",
    "- *X* : merupakan data input\n",
    "- *y* merupakan label\n",
    "- *test_size* : merupakan ukuran berapa kita akan membagi data tersebut menjadi data train dan test, disini kita mendefinisikan sebanyak 0.25 yang artinya data tersebut akan dibagi menjadi 75% data train dan 25% data test\n",
    "- *random_state*: merupakan menentukan generator nomor acak pseudo-acak yang akan digunakan. <br>\n",
    "\n",
    "Setelah itu simpan kedalam variabel X_train, X_test, y_train, y_test"
   ]
  },
  {
   "cell_type": "code",
   "execution_count": 45,
   "id": "fbf3bd03",
   "metadata": {},
   "outputs": [
    {
     "name": "stdout",
     "output_type": "stream",
     "text": [
      "['Its going good...no problem..but still need little experience to understand american customer voice...'\n",
      " 'U have a secret admirer. REVEAL who thinks U R So special. Call 09065174042. To opt out Reply REVEAL STOP. 1.50 per msg recd. Cust care 07821230901'\n",
      " 'Ok...' ...\n",
      " \"For ur chance to win a £250 cash every wk TXT: ACTION to 80608. T's&C's www.movietrivia.tv custcare 08712405022, 1x150p/wk\"\n",
      " 'R U &SAM P IN EACHOTHER. IF WE MEET WE CAN GO 2 MY HOUSE'\n",
      " 'Mm feeling sleepy. today itself i shall get that dear'] \n",
      "\n",
      "[0 1 0 ... 1 0 0]\n"
     ]
    }
   ],
   "source": [
    "from sklearn.model_selection import train_test_split\n",
    "\n",
    "X_train, X_test, y_train, y_test = train_test_split(X, y, test_size=0.25, random_state=0)\n",
    "\n",
    "print(X_train, '\\n')\n",
    "print(y_train)"
   ]
  },
  {
   "cell_type": "markdown",
   "id": "000ef911",
   "metadata": {},
   "source": [
    "### Feature Extraction dengan TF-IDF"
   ]
  },
  {
   "cell_type": "code",
   "execution_count": 56,
   "id": "51c3c10f",
   "metadata": {},
   "outputs": [],
   "source": [
    "from sklearn.feature_extraction.text import TfidfVectorizer\n",
    "\n",
    "vectorizer = TfidfVectorizer(stop_words=\"english\")\n",
    "X_train_tfidf = vectorizer.fit_transform(X_train)\n",
    "X_test_tfidf = vectorizer.transform(X_test)\n"
   ]
  },
  {
   "cell_type": "code",
   "execution_count": 57,
   "id": "517df203",
   "metadata": {},
   "outputs": [
    {
     "name": "stdout",
     "output_type": "stream",
     "text": [
      "  (0, 6903)\t0.3591386422223876\n",
      "  (0, 2006)\t0.2898082580285881\n",
      "  (0, 900)\t0.4114867709157148\n",
      "  (0, 6739)\t0.3546359942830148\n",
      "  (0, 2554)\t0.3825278811525034\n",
      "  (0, 3926)\t0.3126721340000456\n",
      "  (0, 4453)\t0.2297719954323795\n",
      "  (0, 5123)\t0.308974289326673\n",
      "  (0, 3007)\t0.21421364306658514\n",
      "  (0, 2997)\t0.23173982975834367\n",
      "  (1, 36)\t0.28902673040368515\n",
      "  (1, 1548)\t0.18167737976542422\n",
      "  (1, 2003)\t0.2711077935907125\n",
      "  (1, 5301)\t0.2711077935907125\n",
      "  (1, 4358)\t0.17341410292348694\n",
      "  (1, 532)\t0.20186022353306565\n",
      "  (1, 6131)\t0.16142609035094446\n",
      "  (1, 5394)\t0.16464655071448758\n",
      "  (1, 4677)\t0.24039776602646504\n",
      "  (1, 216)\t0.28902673040368515\n",
      "  (1, 6013)\t0.20089911182610476\n",
      "  (1, 6472)\t0.24039776602646504\n",
      "  (1, 5441)\t0.5009783758205715\n",
      "  (1, 799)\t0.25048918791028574\n",
      "  (1, 5642)\t0.24344998442301355\n",
      "  :\t:\n",
      "  (4176, 343)\t0.2811068572055718\n",
      "  (4176, 107)\t0.29968668460649284\n",
      "  (4176, 2004)\t0.25589560236817055\n",
      "  (4176, 4350)\t0.29968668460649284\n",
      "  (4176, 637)\t0.29968668460649284\n",
      "  (4176, 7114)\t0.4512018097459442\n",
      "  (4176, 365)\t0.2388005587702937\n",
      "  (4176, 1612)\t0.21138425595332702\n",
      "  (4176, 779)\t0.2811068572055718\n",
      "  (4176, 7195)\t0.17892283441772988\n",
      "  (4176, 1569)\t0.18895085073406012\n",
      "  (4176, 7083)\t0.19523751585154273\n",
      "  (4176, 6684)\t0.22114159453800114\n",
      "  (4176, 6693)\t0.16491299289150899\n",
      "  (4176, 6792)\t0.1407604617250961\n",
      "  (4177, 2362)\t0.6158854885899457\n",
      "  (4177, 5565)\t0.5506066649743346\n",
      "  (4177, 4177)\t0.3636187667918345\n",
      "  (4177, 3319)\t0.43046342221720785\n",
      "  (4178, 5883)\t0.548491137555895\n",
      "  (4178, 4279)\t0.4530624713751054\n",
      "  (4178, 5720)\t0.3963527249882828\n",
      "  (4178, 6555)\t0.2897850627168302\n",
      "  (4178, 2641)\t0.3993042639531407\n",
      "  (4178, 2068)\t0.3055766821331892\n"
     ]
    }
   ],
   "source": [
    "print(X_train_tfidf)"
   ]
  },
  {
   "cell_type": "markdown",
   "id": "b00ee4e8",
   "metadata": {},
   "source": [
    "### Binary Classification dengan Logistic Regression"
   ]
  },
  {
   "cell_type": "code",
   "execution_count": 59,
   "id": "6900c523",
   "metadata": {},
   "outputs": [
    {
     "data": {
      "text/plain": [
       "LogisticRegression()"
      ]
     },
     "execution_count": 59,
     "metadata": {},
     "output_type": "execute_result"
    }
   ],
   "source": [
    "from sklearn.linear_model import LogisticRegression\n",
    "\n",
    "model = LogisticRegression()\n",
    "model.fit(X_train_tfidf, y_train)"
   ]
  },
  {
   "cell_type": "code",
   "execution_count": 60,
   "id": "d168361c",
   "metadata": {},
   "outputs": [],
   "source": [
    "y_pred = model.predict(X_test_tfidf)"
   ]
  },
  {
   "cell_type": "code",
   "execution_count": 62,
   "id": "58287f7c",
   "metadata": {},
   "outputs": [
    {
     "name": "stdout",
     "output_type": "stream",
     "text": [
      "Pred: 0 - SMS: Storming msg: Wen u lift d phne, u say \"HELLO\" Do u knw wt is d real meaning of HELLO?? . . . It's d name of a girl..! . . . Yes.. And u knw who is dat girl?? \"Margaret Hello\" She is d girlfrnd f Grahmbell who invnted telphone... . . . . Moral:One can 4get d name of a person, bt not his girlfrnd... G o o d n i g h t . . .@\n",
      "Pred: 0 - SMS: <Forwarded from 448712404000>Please CALL 08712404000 immediately as there is an urgent message waiting for you.\n",
      "Pred: 0 - SMS: And also I've sorta blown him off a couple times recently so id rather not text him out of the blue looking for weed\n",
      "Pred: 0 - SMS: Sir Goodmorning, Once free call me.\n",
      "Pred: 0 - SMS: All will come alive.better correct any good looking figure there itself..\n"
     ]
    }
   ],
   "source": [
    "for pred, sms in zip(y_pred[:5], X_test[:5]):\n",
    "    print(f'Pred: {pred} - SMS: {sms}')"
   ]
  },
  {
   "cell_type": "markdown",
   "id": "9d93df87",
   "metadata": {},
   "source": [
    "### Metriks Evaluasi pada Binary Classification\n",
    "- Confusion matrix\n",
    "- Accuracy\n",
    "- Precission & Recall\n",
    "- F1 Score\n",
    "- ROC\n",
    "<br>\n",
    "\n",
    "\n",
    "**Confusion Matrix**\n",
    "![title](img/conf_metrics.png)\n",
    "- True Positive (TP): data yang diklasifikasikan dengan tepat sebagai keluaran positif dan benar\n",
    "- False Negatif (FN) adalah data yang diklasifikasikan dengan kurang tepat\n",
    "- False Positif (FP) adalah data yang diklasifikasikan kurang tepat apabila keluaran berupa positif atau benar\n",
    "- True Negatif (TN) adalah data yang diklasifikasikan dengan tepat sebagaimana keluaran negatif atau salah.\n",
    "\n",
    "Confusion Matrix seringkali juga dikenal sebgai error matirx"
   ]
  },
  {
   "cell_type": "code",
   "execution_count": 64,
   "id": "b8d7bbd1",
   "metadata": {},
   "outputs": [
    {
     "data": {
      "text/plain": [
       "array([[1207,    1],\n",
       "       [  48,  137]], dtype=int64)"
      ]
     },
     "execution_count": 64,
     "metadata": {},
     "output_type": "execute_result"
    }
   ],
   "source": [
    "from sklearn.metrics import confusion_matrix\n",
    "\n",
    "matrix = confusion_matrix(y_test, y_pred)\n",
    "matrix"
   ]
  },
  {
   "cell_type": "code",
   "execution_count": 66,
   "id": "a9a65761",
   "metadata": {},
   "outputs": [
    {
     "name": "stdout",
     "output_type": "stream",
     "text": [
      "TN: 1207\n",
      "FP: 1\n",
      "FN: 48\n",
      "TP: 137\n"
     ]
    }
   ],
   "source": [
    "tn, fp, fn, tp = matrix.ravel()\n",
    "\n",
    "print(f'TN: {tn}')\n",
    "print(f'FP: {fp}')\n",
    "print(f'FN: {fn}')\n",
    "print(f'TP: {tp}')"
   ]
  },
  {
   "cell_type": "code",
   "execution_count": 68,
   "id": "425249bc",
   "metadata": {},
   "outputs": [
    {
     "data": {
      "image/png": "[encoded data removed]",
      "text/plain": [
       "<Figure size 288x288 with 2 Axes>"
      ]
     },
     "metadata": {
      "needs_background": "light"
     },
     "output_type": "display_data"
    }
   ],
   "source": [
    "import matplotlib.pyplot as plt\n",
    "\n",
    "plt.matshow(matrix)\n",
    "plt.colorbar()\n",
    "\n",
    "plt.title(\"Confusion Matrix\")\n",
    "plt.ylabel('True label')\n",
    "plt.xlabel(\"predicted label\")\n",
    "plt.show()"
   ]
  },
  {
   "cell_type": "markdown",
   "id": "a0193953",
   "metadata": {},
   "source": [
    "**Accuracy**\n",
    "Penjelasan mengenai metric accuracy telah disinggung sebelumnya pada awal pembahan classification metric. Secara gampang, accuracy adalah seberapa akurat model mengklasifikasikan dengan benar. Secara matematis metric ini dapat diperoleh dengan rumus di bawah ini.\n",
    "![title](img/accuracy.png)"
   ]
  },
  {
   "cell_type": "code",
   "execution_count": 69,
   "id": "935ff3ea",
   "metadata": {},
   "outputs": [
    {
     "data": {
      "text/plain": [
       "0.964824120603015"
      ]
     },
     "execution_count": 69,
     "metadata": {},
     "output_type": "execute_result"
    }
   ],
   "source": [
    "from sklearn.metrics import accuracy_score\n",
    "\n",
    "accuracy_score(y_test,y_pred)"
   ]
  },
  {
   "cell_type": "markdown",
   "id": "dfcffe64",
   "metadata": {},
   "source": [
    "**Precision**<br>\n",
    "Precision adalah suatu metric yang menggambarkan akurasi data yang diminta dengan hasil prediksi yang diberikan oleh model. Secara matematis nilai precision dapat diperoleh dengan menggunakan cara di bawah ini.\n",
    "![title](img/precision.png)"
   ]
  },
  {
   "cell_type": "code",
   "execution_count": 70,
   "id": "9651dc6a",
   "metadata": {},
   "outputs": [
    {
     "data": {
      "text/plain": [
       "0.9927536231884058"
      ]
     },
     "execution_count": 70,
     "metadata": {},
     "output_type": "execute_result"
    }
   ],
   "source": [
    "from sklearn.metrics import precision_score\n",
    "precision_score(y_test, y_pred)"
   ]
  },
  {
   "cell_type": "markdown",
   "id": "d92542a7",
   "metadata": {},
   "source": [
    "**Recal or True Positive Rate(TPR) or Sensivity**<br>\n",
    "Recall adalah suatu metric yang menggambarkan akurasi hasil prediksi dari model yang dibandingkan dengan keseluruhan jumlah ground truth dari data kelas tersebut. Nilai recall dapat diperoleh dengan cara di bawah ini.\n",
    "![title](img/recal.png)"
   ]
  },
  {
   "cell_type": "code",
   "execution_count": 71,
   "id": "8163b020",
   "metadata": {},
   "outputs": [
    {
     "data": {
      "text/plain": [
       "0.7405405405405405"
      ]
     },
     "execution_count": 71,
     "metadata": {},
     "output_type": "execute_result"
    }
   ],
   "source": [
    "from sklearn.metrics import recall_score\n",
    "recall_score(y_test, y_pred)"
   ]
  },
  {
   "cell_type": "markdown",
   "id": "7b27aaa6",
   "metadata": {},
   "source": [
    "**F1-Score**<br>\n",
    "F-1 Score atau bisa disebut juga dengan F-1 Measurement adalah metrics yang menggambarkan perbandingan rata-rata precision dan recall yang harmonik. Metrics ini penting untuk mengetahui keharmonisan dari kedua metric tersebut. Hal ini karena jika nilai precision besar tetapi nilai recall kecil, prediksi dari model akurat tetapi tidak mencakup seluruh kemungkinan ground truth yang ada. Di lain sisi, apabila nilai recall tinggi tetapi tidak diikuti dengan nilai precision yang baik, prediksi dari model mencakup seluruh kemungkinan ground truth tetapi tidak diikuti dengan prediksi yang benar. Oleh karena itu, metric F-1 Score dapat menjadi faktor penentu keseimbangan antara kedua metric tersebut. Nilai F-1 Score dapat diperoleh dengan cara seperti di bawah ini.\n",
    "![title](img/f1-score.png)"
   ]
  },
  {
   "cell_type": "code",
   "execution_count": 72,
   "id": "b2c71925",
   "metadata": {},
   "outputs": [
    {
     "data": {
      "text/plain": [
       "0.8482972136222909"
      ]
     },
     "execution_count": 72,
     "metadata": {},
     "output_type": "execute_result"
    }
   ],
   "source": [
    "from sklearn.metrics import f1_score\n",
    "f1_score(y_test,y_pred)"
   ]
  },
  {
   "cell_type": "markdown",
   "id": "bc68cec1",
   "metadata": {},
   "source": [
    "**Receiver Operator Curve (ROC)**<br>\n",
    "Kita telah membahas beberapa macam metrics yang biasa digunakan pada kasus klasifikasi. Terdapat beberapa kasus yang mana kita ingin menentukan batas atau threshold kondisi hasil prediksi suatu model dapat diklasifikasikan sebagai kelas positif. Perbedaan nilai threshold menyebabkan tiap nilai threshold memiliki nilai metricnya sendiri. Oleh karena itu, kita harus mempertimbangkan performa pada nilai threshold yang berbeda. Metode yang dapat kita gunakan untuk melihat performa pada nilai threshold yang berbeda adalah AUC ROC Curve.\n",
    "![title](img/roc.jpg)\n",
    "ROC memiliki kepanjangan Receiver Operator Curve (ROC) dan AUC adalah Area Under Curve (AUC). Dengan ROC kita dapat melakukan visualisasi grafik True Positif Rate (Recall) vs False Positive Rate (FPR/Fallout) dengan nilai threshold yang bervariasi. Secara umum apabila nilai prediksi kita lebih dari 0.5 akan diklasifikasikan sebagai kelas positif. Tetapi terkadang kita ingin hanya nilai prediksi diatas 0.7 yang dikategorikan sebagai positif. Dengan ROC kita dapat melihat seluruh kemungkinan dari beberapa nilai threshold dan dapat memilih nilai threshold yang menghasilkan hasil paling baik.\n",
    "![title](img/roc_formula.png)\n"
   ]
  },
  {
   "cell_type": "code",
   "execution_count": 73,
   "id": "07cfd736",
   "metadata": {},
   "outputs": [
    {
     "data": {
      "image/png": "[encoded data removed]",
      "text/plain": [
       "<Figure size 432x288 with 1 Axes>"
      ]
     },
     "metadata": {
      "needs_background": "light"
     },
     "output_type": "display_data"
    }
   ],
   "source": [
    "from sklearn.metrics import roc_curve, auc\n",
    "prob_estimates = model.predict_proba(X_test_tfidf)\n",
    "\n",
    "fpr, tpr, threshold = roc_curve(y_test, prob_estimates[:,1])\n",
    "nilai_auc = auc(fpr,tpr)\n",
    "\n",
    "plt.plot(fpr, tpr, 'b', label=f'AUC={nilai_auc}')\n",
    "plt.plot([0,1], [0,1], 'r--', label='Random Classifier')\n",
    "\n",
    "plt.title('ROC: Reciever OPerating Characteristic')\n",
    "plt.xlabel('Fallout or False Positive Rate')\n",
    "plt.ylabel('REcal or True Positive Rate')\n",
    "plt.legend()\n",
    "plt.show()"
   ]
  },
  {
   "cell_type": "code",
   "execution_count": null,
   "id": "4eb20c91",
   "metadata": {},
   "outputs": [],
   "source": []
  }
 ],
 "metadata": {
  "kernelspec": {
   "display_name": "Python 3",
   "language": "python",
   "name": "python3"
  },
  "language_info": {
   "codemirror_mode": {
    "name": "ipython",
    "version": 3
   },
   "file_extension": ".py",
   "mimetype": "text/x-python",
   "name": "python",
   "nbconvert_exporter": "python",
   "pygments_lexer": "ipython3",
   "version": "3.8.8"
  }
 },
 "nbformat": 4,
 "nbformat_minor": 5
}
